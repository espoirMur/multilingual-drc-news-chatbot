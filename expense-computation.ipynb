{
 "cells": [
  {
   "cell_type": "code",
   "execution_count": 1,
   "metadata": {},
   "outputs": [],
   "source": [
    "import pandas as pd"
   ]
  },
  {
   "cell_type": "code",
   "execution_count": 5,
   "metadata": {},
   "outputs": [],
   "source": [
    "data = pd.read_clipboard(header=0)"
   ]
  },
  {
   "cell_type": "code",
   "execution_count": 6,
   "metadata": {},
   "outputs": [
    {
     "data": {
      "text/html": [
       "<div>\n",
       "<style scoped>\n",
       "    .dataframe tbody tr th:only-of-type {\n",
       "        vertical-align: middle;\n",
       "    }\n",
       "\n",
       "    .dataframe tbody tr th {\n",
       "        vertical-align: top;\n",
       "    }\n",
       "\n",
       "    .dataframe thead th {\n",
       "        text-align: right;\n",
       "    }\n",
       "</style>\n",
       "<table border=\"1\" class=\"dataframe\">\n",
       "  <thead>\n",
       "    <tr style=\"text-align: right;\">\n",
       "      <th></th>\n",
       "      <th>Designations</th>\n",
       "      <th>Amount</th>\n",
       "      <th>Checked</th>\n",
       "      <th>Remainder</th>\n",
       "      <th>Categories</th>\n",
       "      <th>Information</th>\n",
       "      <th>Send to UK</th>\n",
       "      <th>Urgent level</th>\n",
       "    </tr>\n",
       "  </thead>\n",
       "  <tbody>\n",
       "    <tr>\n",
       "      <th>0</th>\n",
       "      <td>EuroTrip</td>\n",
       "      <td>100</td>\n",
       "      <td>0.0</td>\n",
       "      <td>100.0</td>\n",
       "      <td>Money To UK</td>\n",
       "      <td>Compte UK</td>\n",
       "      <td>1.0</td>\n",
       "      <td>A</td>\n",
       "    </tr>\n",
       "    <tr>\n",
       "      <th>1</th>\n",
       "      <td>Tresor support A</td>\n",
       "      <td>80</td>\n",
       "      <td>0.0</td>\n",
       "      <td>80.0</td>\n",
       "      <td>Investement</td>\n",
       "      <td>Contact dany Luc , et nick ils te font 240 + 8...</td>\n",
       "      <td>NaN</td>\n",
       "      <td>A</td>\n",
       "    </tr>\n",
       "    <tr>\n",
       "      <th>2</th>\n",
       "      <td>Jacob A</td>\n",
       "      <td>250</td>\n",
       "      <td>0.0</td>\n",
       "      <td>250.0</td>\n",
       "      <td>Geek Corner</td>\n",
       "      <td>contact un gard Jacob.. dit lui de te signer u...</td>\n",
       "      <td>NaN</td>\n",
       "      <td>A</td>\n",
       "    </tr>\n",
       "    <tr>\n",
       "      <th>3</th>\n",
       "      <td>Geek Corner/internet A</td>\n",
       "      <td>600</td>\n",
       "      <td>0.0</td>\n",
       "      <td>600.0</td>\n",
       "      <td>Geek Corner</td>\n",
       "      <td>Contact un grad qui s'appele mwafrika, il va t...</td>\n",
       "      <td>NaN</td>\n",
       "      <td>A</td>\n",
       "    </tr>\n",
       "    <tr>\n",
       "      <th>4</th>\n",
       "      <td>Edith</td>\n",
       "      <td>100</td>\n",
       "      <td>0.0</td>\n",
       "      <td>100.0</td>\n",
       "      <td>Giving Birth</td>\n",
       "      <td>direct a elle</td>\n",
       "      <td>NaN</td>\n",
       "      <td>A</td>\n",
       "    </tr>\n",
       "  </tbody>\n",
       "</table>\n",
       "</div>"
      ],
      "text/plain": [
       "            Designations   Amount   Checked  Remainder    Categories  \\\n",
       "0                EuroTrip      100      0.0      100.0   Money To UK   \n",
       "1        Tresor support A       80      0.0       80.0   Investement   \n",
       "2                 Jacob A      250      0.0      250.0   Geek Corner   \n",
       "3  Geek Corner/internet A      600      0.0      600.0   Geek Corner   \n",
       "4                   Edith      100      0.0      100.0  Giving Birth   \n",
       "\n",
       "                                        Information   Send to UK Urgent level  \n",
       "0                                          Compte UK         1.0            A  \n",
       "1  Contact dany Luc , et nick ils te font 240 + 8...         NaN            A  \n",
       "2  contact un gard Jacob.. dit lui de te signer u...         NaN            A  \n",
       "3  Contact un grad qui s'appele mwafrika, il va t...         NaN            A  \n",
       "4                                      direct a elle         NaN            A  "
      ]
     },
     "execution_count": 6,
     "metadata": {},
     "output_type": "execute_result"
    }
   ],
   "source": [
    "data.head()"
   ]
  },
  {
   "cell_type": "code",
   "execution_count": 7,
   "metadata": {},
   "outputs": [
    {
     "data": {
      "text/plain": [
       "Index(['Designations ', 'Amount ', 'Checked', 'Remainder', 'Categories',\n",
       "       'Information ', 'Send to UK', 'Urgent level'],\n",
       "      dtype='object')"
      ]
     },
     "execution_count": 7,
     "metadata": {},
     "output_type": "execute_result"
    }
   ],
   "source": [
    "data.columns"
   ]
  },
  {
   "cell_type": "code",
   "execution_count": 11,
   "metadata": {},
   "outputs": [],
   "source": [
    "data['Send to UK'] = data['Send to UK'].fillna(0).astype(int).replace({0: 'No', 1: 'Yes'})"
   ]
  },
  {
   "cell_type": "code",
   "execution_count": 15,
   "metadata": {},
   "outputs": [],
   "source": [
    "send_to_uk = data.groupby('Send to UK').get_group('Yes')"
   ]
  },
  {
   "cell_type": "code",
   "execution_count": 16,
   "metadata": {},
   "outputs": [
    {
     "data": {
      "text/plain": [
       "580"
      ]
     },
     "execution_count": 16,
     "metadata": {},
     "output_type": "execute_result"
    }
   ],
   "source": [
    "send_to_uk.groupby('Send to UK').get_group('Yes')['Amount '].sum()"
   ]
  },
  {
   "cell_type": "code",
   "execution_count": 19,
   "metadata": {},
   "outputs": [
    {
     "name": "stderr",
     "output_type": "stream",
     "text": [
      "/Users/es.py/Library/Caches/pypoetry/virtualenvs/deep-learning-nlp-stuff/lib/python3.7/site-packages/pandas/core/indexing.py:1817: SettingWithCopyWarning: \n",
      "A value is trying to be set on a copy of a slice from a DataFrame.\n",
      "Try using .loc[row_indexer,col_indexer] = value instead\n",
      "\n",
      "See the caveats in the documentation: https://pandas.pydata.org/pandas-docs/stable/user_guide/indexing.html#returning-a-view-versus-a-copy\n",
      "  self._setitem_single_column(loc, value, pi)\n"
     ]
    }
   ],
   "source": [
    "send_to_uk.loc[21, 'Amount '] = 0"
   ]
  },
  {
   "cell_type": "code",
   "execution_count": 20,
   "metadata": {},
   "outputs": [
    {
     "data": {
      "text/plain": [
       "495"
      ]
     },
     "execution_count": 20,
     "metadata": {},
     "output_type": "execute_result"
    }
   ],
   "source": [
    "send_to_uk.groupby('Send to UK').get_group('Yes')['Amount '].sum()"
   ]
  },
  {
   "cell_type": "code",
   "execution_count": 21,
   "metadata": {},
   "outputs": [
    {
     "data": {
      "text/html": [
       "<div>\n",
       "<style scoped>\n",
       "    .dataframe tbody tr th:only-of-type {\n",
       "        vertical-align: middle;\n",
       "    }\n",
       "\n",
       "    .dataframe tbody tr th {\n",
       "        vertical-align: top;\n",
       "    }\n",
       "\n",
       "    .dataframe thead th {\n",
       "        text-align: right;\n",
       "    }\n",
       "</style>\n",
       "<table border=\"1\" class=\"dataframe\">\n",
       "  <thead>\n",
       "    <tr style=\"text-align: right;\">\n",
       "      <th></th>\n",
       "      <th>Designations</th>\n",
       "      <th>Amount</th>\n",
       "      <th>Checked</th>\n",
       "      <th>Remainder</th>\n",
       "      <th>Categories</th>\n",
       "      <th>Information</th>\n",
       "      <th>Send to UK</th>\n",
       "      <th>Urgent level</th>\n",
       "    </tr>\n",
       "  </thead>\n",
       "  <tbody>\n",
       "    <tr>\n",
       "      <th>0</th>\n",
       "      <td>EuroTrip</td>\n",
       "      <td>100</td>\n",
       "      <td>0.0</td>\n",
       "      <td>100.0</td>\n",
       "      <td>Money To UK</td>\n",
       "      <td>Compte UK</td>\n",
       "      <td>Yes</td>\n",
       "      <td>A</td>\n",
       "    </tr>\n",
       "    <tr>\n",
       "      <th>9</th>\n",
       "      <td>Divin</td>\n",
       "      <td>150</td>\n",
       "      <td>0.0</td>\n",
       "      <td>150.0</td>\n",
       "      <td>Wedding</td>\n",
       "      <td>Envoie a mon compte UK</td>\n",
       "      <td>Yes</td>\n",
       "      <td>A</td>\n",
       "    </tr>\n",
       "    <tr>\n",
       "      <th>16</th>\n",
       "      <td>Papy Chelsea Shirt</td>\n",
       "      <td>100</td>\n",
       "      <td>0.0</td>\n",
       "      <td>100.0</td>\n",
       "      <td>Chill</td>\n",
       "      <td>Envoie mon compte UK</td>\n",
       "      <td>Yes</td>\n",
       "      <td>A</td>\n",
       "    </tr>\n",
       "    <tr>\n",
       "      <th>21</th>\n",
       "      <td>Budgeting App</td>\n",
       "      <td>0</td>\n",
       "      <td>0.0</td>\n",
       "      <td>85.0</td>\n",
       "      <td>Subscription</td>\n",
       "      <td>send UK</td>\n",
       "      <td>Yes</td>\n",
       "      <td>A</td>\n",
       "    </tr>\n",
       "    <tr>\n",
       "      <th>22</th>\n",
       "      <td>TV</td>\n",
       "      <td>85</td>\n",
       "      <td>0.0</td>\n",
       "      <td>85.0</td>\n",
       "      <td>Subscription</td>\n",
       "      <td>send uk</td>\n",
       "      <td>Yes</td>\n",
       "      <td>B</td>\n",
       "    </tr>\n",
       "    <tr>\n",
       "      <th>23</th>\n",
       "      <td>My US</td>\n",
       "      <td>60</td>\n",
       "      <td>0.0</td>\n",
       "      <td>60.0</td>\n",
       "      <td>Subscription</td>\n",
       "      <td>send UK</td>\n",
       "      <td>Yes</td>\n",
       "      <td>B</td>\n",
       "    </tr>\n",
       "  </tbody>\n",
       "</table>\n",
       "</div>"
      ],
      "text/plain": [
       "         Designations   Amount   Checked  Remainder    Categories  \\\n",
       "0             EuroTrip      100      0.0      100.0   Money To UK   \n",
       "9                Divin      150      0.0      150.0       Wedding   \n",
       "16  Papy Chelsea Shirt      100      0.0      100.0         Chill   \n",
       "21       Budgeting App        0      0.0       85.0  Subscription   \n",
       "22                  TV       85      0.0       85.0  Subscription   \n",
       "23               My US       60      0.0       60.0  Subscription   \n",
       "\n",
       "              Information  Send to UK Urgent level  \n",
       "0                Compte UK        Yes            A  \n",
       "9   Envoie a mon compte UK        Yes            A  \n",
       "16    Envoie mon compte UK        Yes            A  \n",
       "21                 send UK        Yes            A  \n",
       "22                 send uk        Yes            B  \n",
       "23                 send UK        Yes            B  "
      ]
     },
     "execution_count": 21,
     "metadata": {},
     "output_type": "execute_result"
    }
   ],
   "source": [
    "send_to_uk"
   ]
  },
  {
   "cell_type": "code",
   "execution_count": 22,
   "metadata": {},
   "outputs": [
    {
     "name": "stderr",
     "output_type": "stream",
     "text": [
      "/Users/es.py/Library/Caches/pypoetry/virtualenvs/deep-learning-nlp-stuff/lib/python3.7/site-packages/pandas/core/indexing.py:1817: SettingWithCopyWarning: \n",
      "A value is trying to be set on a copy of a slice from a DataFrame.\n",
      "Try using .loc[row_indexer,col_indexer] = value instead\n",
      "\n",
      "See the caveats in the documentation: https://pandas.pydata.org/pandas-docs/stable/user_guide/indexing.html#returning-a-view-versus-a-copy\n",
      "  self._setitem_single_column(loc, value, pi)\n"
     ]
    }
   ],
   "source": [
    "send_to_uk.loc[0, 'Amount '] = 0"
   ]
  },
  {
   "cell_type": "code",
   "execution_count": 23,
   "metadata": {},
   "outputs": [
    {
     "data": {
      "text/html": [
       "<div>\n",
       "<style scoped>\n",
       "    .dataframe tbody tr th:only-of-type {\n",
       "        vertical-align: middle;\n",
       "    }\n",
       "\n",
       "    .dataframe tbody tr th {\n",
       "        vertical-align: top;\n",
       "    }\n",
       "\n",
       "    .dataframe thead th {\n",
       "        text-align: right;\n",
       "    }\n",
       "</style>\n",
       "<table border=\"1\" class=\"dataframe\">\n",
       "  <thead>\n",
       "    <tr style=\"text-align: right;\">\n",
       "      <th></th>\n",
       "      <th>Designations</th>\n",
       "      <th>Amount</th>\n",
       "      <th>Checked</th>\n",
       "      <th>Remainder</th>\n",
       "      <th>Categories</th>\n",
       "      <th>Information</th>\n",
       "      <th>Send to UK</th>\n",
       "      <th>Urgent level</th>\n",
       "    </tr>\n",
       "  </thead>\n",
       "  <tbody>\n",
       "    <tr>\n",
       "      <th>0</th>\n",
       "      <td>EuroTrip</td>\n",
       "      <td>0</td>\n",
       "      <td>0.0</td>\n",
       "      <td>100.0</td>\n",
       "      <td>Money To UK</td>\n",
       "      <td>Compte UK</td>\n",
       "      <td>Yes</td>\n",
       "      <td>A</td>\n",
       "    </tr>\n",
       "    <tr>\n",
       "      <th>9</th>\n",
       "      <td>Divin</td>\n",
       "      <td>150</td>\n",
       "      <td>0.0</td>\n",
       "      <td>150.0</td>\n",
       "      <td>Wedding</td>\n",
       "      <td>Envoie a mon compte UK</td>\n",
       "      <td>Yes</td>\n",
       "      <td>A</td>\n",
       "    </tr>\n",
       "    <tr>\n",
       "      <th>16</th>\n",
       "      <td>Papy Chelsea Shirt</td>\n",
       "      <td>100</td>\n",
       "      <td>0.0</td>\n",
       "      <td>100.0</td>\n",
       "      <td>Chill</td>\n",
       "      <td>Envoie mon compte UK</td>\n",
       "      <td>Yes</td>\n",
       "      <td>A</td>\n",
       "    </tr>\n",
       "    <tr>\n",
       "      <th>21</th>\n",
       "      <td>Budgeting App</td>\n",
       "      <td>0</td>\n",
       "      <td>0.0</td>\n",
       "      <td>85.0</td>\n",
       "      <td>Subscription</td>\n",
       "      <td>send UK</td>\n",
       "      <td>Yes</td>\n",
       "      <td>A</td>\n",
       "    </tr>\n",
       "    <tr>\n",
       "      <th>22</th>\n",
       "      <td>TV</td>\n",
       "      <td>85</td>\n",
       "      <td>0.0</td>\n",
       "      <td>85.0</td>\n",
       "      <td>Subscription</td>\n",
       "      <td>send uk</td>\n",
       "      <td>Yes</td>\n",
       "      <td>B</td>\n",
       "    </tr>\n",
       "    <tr>\n",
       "      <th>23</th>\n",
       "      <td>My US</td>\n",
       "      <td>60</td>\n",
       "      <td>0.0</td>\n",
       "      <td>60.0</td>\n",
       "      <td>Subscription</td>\n",
       "      <td>send UK</td>\n",
       "      <td>Yes</td>\n",
       "      <td>B</td>\n",
       "    </tr>\n",
       "  </tbody>\n",
       "</table>\n",
       "</div>"
      ],
      "text/plain": [
       "         Designations   Amount   Checked  Remainder    Categories  \\\n",
       "0             EuroTrip        0      0.0      100.0   Money To UK   \n",
       "9                Divin      150      0.0      150.0       Wedding   \n",
       "16  Papy Chelsea Shirt      100      0.0      100.0         Chill   \n",
       "21       Budgeting App        0      0.0       85.0  Subscription   \n",
       "22                  TV       85      0.0       85.0  Subscription   \n",
       "23               My US       60      0.0       60.0  Subscription   \n",
       "\n",
       "              Information  Send to UK Urgent level  \n",
       "0                Compte UK        Yes            A  \n",
       "9   Envoie a mon compte UK        Yes            A  \n",
       "16    Envoie mon compte UK        Yes            A  \n",
       "21                 send UK        Yes            A  \n",
       "22                 send uk        Yes            B  \n",
       "23                 send UK        Yes            B  "
      ]
     },
     "execution_count": 23,
     "metadata": {},
     "output_type": "execute_result"
    }
   ],
   "source": [
    "send_to_uk"
   ]
  },
  {
   "cell_type": "code",
   "execution_count": 24,
   "metadata": {},
   "outputs": [
    {
     "data": {
      "text/plain": [
       "395"
      ]
     },
     "execution_count": 24,
     "metadata": {},
     "output_type": "execute_result"
    }
   ],
   "source": [
    "send_to_uk.groupby('Send to UK').get_group('Yes')['Amount '].sum()"
   ]
  },
  {
   "cell_type": "code",
   "execution_count": null,
   "metadata": {},
   "outputs": [],
   "source": []
  }
 ],
 "metadata": {
  "interpreter": {
   "hash": "02a6cbba0f91165ef6b1ab953f4c4c0361c6f2cc813319ac59661fad149918b6"
  },
  "kernelspec": {
   "display_name": "Python 3.7.5 ('deep-learning-nlp-stuff')",
   "language": "python",
   "name": "python3"
  },
  "language_info": {
   "codemirror_mode": {
    "name": "ipython",
    "version": 3
   },
   "file_extension": ".py",
   "mimetype": "text/x-python",
   "name": "python",
   "nbconvert_exporter": "python",
   "pygments_lexer": "ipython3",
   "version": "3.7.5"
  },
  "orig_nbformat": 4
 },
 "nbformat": 4,
 "nbformat_minor": 2
}
