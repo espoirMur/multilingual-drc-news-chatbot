{
 "cells": [
  {
   "cell_type": "code",
   "execution_count": 1,
   "metadata": {},
   "outputs": [],
   "source": [
    "from pathlib import Path"
   ]
  },
  {
   "cell_type": "code",
   "execution_count": 7,
   "metadata": {},
   "outputs": [],
   "source": [
    "train_path = Path(\"data/processed/french-qa/fquad-with-multi-context/train/\")\n",
    "validation_path = Path(\"data/processed/french-qa/fquad-with-multi-context/valid\")"
   ]
  },
  {
   "cell_type": "code",
   "execution_count": 3,
   "metadata": {},
   "outputs": [
    {
     "data": {
      "text/plain": [
       "True"
      ]
     },
     "execution_count": 3,
     "metadata": {},
     "output_type": "execute_result"
    }
   ],
   "source": [
    "train_path.exists()"
   ]
  },
  {
   "cell_type": "code",
   "execution_count": 4,
   "metadata": {},
   "outputs": [],
   "source": [
    "from src.data.torch_datasets import Dataset"
   ]
  },
  {
   "cell_type": "code",
   "execution_count": 8,
   "metadata": {},
   "outputs": [],
   "source": [
    "train_dataset = Dataset(train_path, n_context=10)\n",
    "validation_dataest = Dataset(validation_path, n_context=10)"
   ]
  },
  {
   "cell_type": "code",
   "execution_count": 11,
   "metadata": {},
   "outputs": [
    {
     "data": {
      "text/plain": [
       "'845f490c-eca5-4656-8a68-74e67e51c9c2'"
      ]
     },
     "execution_count": 11,
     "metadata": {},
     "output_type": "execute_result"
    }
   ],
   "source": [
    "train_dataset.text_files[0].stem"
   ]
  },
  {
   "cell_type": "code",
   "execution_count": 9,
   "metadata": {},
   "outputs": [
    {
     "data": {
      "text/plain": [
       "3188"
      ]
     },
     "execution_count": 9,
     "metadata": {},
     "output_type": "execute_result"
    }
   ],
   "source": [
    "validation_dataest.__len__()"
   ]
  },
  {
   "cell_type": "code",
   "execution_count": 12,
   "metadata": {},
   "outputs": [
    {
     "data": {
      "text/plain": [
       "{'question': 'En quelle année le Celtic se professionnalise-t-il ?',\n",
       " 'answer': '1897',\n",
       " 'contexts': [{'title': 'celtic-football-club',\n",
       "   'content': \"En 1897, le club se professionnalise, devient une société à responsabilité limitée et fait l'acquisition du Celtic Park. Les dirigeants nomment un entraîneur appointé, Willie Maley, qui n'hésite pas à recruter en Angleterre. Le Celtic remporte le championnat en 1898, puis la Coupe en 1899 et 1900. Mais cette politique coûte cher, et le club décide de changer de projet en attirant de jeunes joueurs, auxquels Malley pourra faire pratiquer son jeu fait de passes, vif et offensif.\"},\n",
       "  {'title': 'IUP (homonymie)',\n",
       "   'content': \" institut universitaire professionnalise, une composante d'une universite francaise, ayant existe du debut des annees 1990 au milieu des annees 2000, qui assurait une formation a caractere technologique et professionnel ;\"},\n",
       "  {'title': 'Jean-Pierre Aïfa',\n",
       "   'content': \"En janvier 2012, il est elu president de la Federation des societes de courses. Il souhaite mettre son mandat au service du monde hippique pour le professionnaliser. Il declare meme qu'il « est la\\xa0pour faire gagner le monde du cheval\\xa0» et que «\\xa02012 est une annee de transition, pas de laxisme\\xa0».\"},\n",
       "  {'title': 'Anthony Stokes',\n",
       "   'content': \"En , il signe un contrat de 3 ans au club ecossais de Hibernian FC. Une annee plus tard, il signe au Celtic Glasgow pour quatre saisons. Le , il est prete a Hibernian. A l'issue de la saison 2015-16, il est libere par Celtic. \"},\n",
       "  {'title': \"Cellule d'aide psychologique\",\n",
       "   'content': \"En France, a la suite des attentats des annees 1990, il existe un dispositif particulier et professionnalise intervenant lors des catastrophes collectives ou des evenements a fort impact traumatique : les cellules d'urgence medico-psychologique (CUMP) qui interviennent dans le cadre des SAMU.\"},\n",
       "  {'title': 'Agher',\n",
       "   'content': \"Le club local d'Agher est le Park Celtic Summerhill. Forme a l'origine dans les annees 1980 sous le nom de Agher Park FC, avec une seule equipe jouant dans la Meath and District League, le club est passe a 12 equipes en 1995. Agher Park FC a fusionne en 2009 avec un autre club local Summerhill Celtic pour devenir Park Celtic Summerhill.\"},\n",
       "  {'title': 'Shavlik Randolph',\n",
       "   'content': 'Le , il signe un premier contrat de 10 jours avec les Celtics de Boston. Le , il signe un second contrat de 10 jours avec les Celtics. Le , il est engage pour le reste de la saison. Le , il est coupe par les Celtics.'},\n",
       "  {'title': 'Saison 2013-2014 des Celtics de Boston',\n",
       "   'content': \"Un des transferts les plus mediatiques de ces dernieres annees est annonce le  mais ne sera officialise qu'en juillet a la fin du moratoire des transferts. Les Celtics apres avoir vu partir Doc Rivers, laissent partir le duo emblematique des Celtics Kevin Garnett et Paul Pierce avec Jason Terry qui les accompagne vers les Nets de Brooklyn.\"},\n",
       "  {'title': 'Ben Pepper',\n",
       "   'content': \"Ben Pepper commence sa carriere en NBL avec les Newcastle Falcons. Il est selectionne par les Celtics de Boston au  lors de la draft 1997, l'un des quatre joueurs selectionnes cette annee-la avec Chris Anstey, C.J. Bruton et Paul Rogers. Cependant, il ne signera jamais avec les Celtics et effectue sa carriere en NBL, jouant avec sept equipes en NBL.\"},\n",
       "  {'title': 'NBA All-Star Game 2017',\n",
       "   'content': \"Brad Stevens, entraineur des Celtics de Boston, sera l'entraineur de la conference Est. Alors que les Cavaliers de Cleveland ont le meilleur bilan de la conference Est, l'entraineur des Cavaliers, Tyronn Lue, est ineligible pour entrainer durant le All-Star Game 2017 puisqu'il etait l'entraineur en 2016. Cela signifie que l'entraineur avec le deuxieme meilleur bilan de la conference Est recoit l'honneur d'etre nomme, qui est cette annee celui des Celtics.\"},\n",
       "  {'title': 'Andrew Toney',\n",
       "   'content': 'Andrew Toney (ne le  a Birmingham, Alabama) est un ancien joueur americain de basket-ball de NBA qui evolua avec les 76ers de Philadelphie de 1980 a 1988. Il fut surnomme le \"Boston Strangler\" par les journalistes de Boston, Massachusetts lors de la rivalite entre les 76ers et les Celtics de Boston du debut des annees 1980 a cause de ses capacites a dominer les matchs contre les Celtics.'}],\n",
       " 'id': '845f490c-eca5-4656-8a68-74e67e51c9c2'}"
      ]
     },
     "execution_count": 12,
     "metadata": {},
     "output_type": "execute_result"
    }
   ],
   "source": [
    "train_dataset.get_example(f\"845f490c-eca5-4656-8a68-74e67e51c9c2.json\")"
   ]
  },
  {
   "cell_type": "code",
   "execution_count": null,
   "metadata": {},
   "outputs": [],
   "source": []
  }
 ],
 "metadata": {
  "kernelspec": {
   "display_name": "Python 3.9.7 ('.venv': poetry)",
   "language": "python",
   "name": "python3"
  },
  "language_info": {
   "codemirror_mode": {
    "name": "ipython",
    "version": 3
   },
   "file_extension": ".py",
   "mimetype": "text/x-python",
   "name": "python",
   "nbconvert_exporter": "python",
   "pygments_lexer": "ipython3",
   "version": "3.9.7"
  },
  "orig_nbformat": 4,
  "vscode": {
   "interpreter": {
    "hash": "50564bffa96c4f0280efc21e7470b61a5f652c3578a22d02e8082b75e8f36597"
   }
  }
 },
 "nbformat": 4,
 "nbformat_minor": 2
}
