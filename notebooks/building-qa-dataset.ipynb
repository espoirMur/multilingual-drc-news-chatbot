{
 "cells": [
  {
   "cell_type": "markdown",
   "metadata": {},
   "source": [
    "### Building Question answering system\n",
    "\n",
    "For  this work , we will build our question answering system , we will leverage the [deepset framework]() to build the components of our system.\n",
    "\n",
    "Here are the followign components of our system:\n",
    "-  The index store \n",
    "- The document store \n",
    "- The search pipeline with a Retrieval and a Reader model.\n",
    "\n",
    "We will be leveraging the tutorials provided by deepstack to build our system."
   ]
  },
  {
   "cell_type": "markdown",
   "metadata": {},
   "source": [
    "For this work we will leverage [this  tutorial:](https://github.com/deepset-ai/haystack/blob/master/tutorials/Tutorial6_Better_Retrieval_via_DPR.ipynb) "
   ]
  },
  {
   "cell_type": "markdown",
   "metadata": {},
   "source": [
    "### Building the dense passage retrieval\n",
    "\n",
    "To build the dataset for the dense passage retrieval , we will be using the approach suggested by [this tutorial](https://huggingface.co/etalab-ia/dpr-question_encoder-fr_qa-camembert) which use the cambert model .\n",
    "\n",
    "For each question , we have a single positive context , the paragraph where the answer to the question is located and n hard negavives contexts that are the the top - k canditates taht does not contain the answer, to the question. to retrieve the negative context they will use the bm25 retrieval model.\n",
    "\n",
    "Before training the retrieval model we will have to build the document store and save the document as units of retrieval to the store."
   ]
  },
  {
   "cell_type": "code",
   "execution_count": null,
   "metadata": {},
   "outputs": [],
   "source": []
  },
  {
   "cell_type": "markdown",
   "metadata": {},
   "source": [
    "### Building the dataset"
   ]
  },
  {
   "cell_type": "code",
   "execution_count": 1,
   "metadata": {},
   "outputs": [],
   "source": [
    "import pandas as pd\n",
    "import numpy as np"
   ]
  },
  {
   "cell_type": "code",
   "execution_count": 3,
   "metadata": {},
   "outputs": [],
   "source": [
    "from pathlib import Path\n",
    "DATA_PATH = Path.cwd().joinpath(\"data\")\n",
    "assert DATA_PATH.exists(), \"the data path does not exist\"\n",
    "TEXT_DATA_FOLDER = DATA_PATH.joinpath(\"corpus\", \"drc-news-txt\")\n",
    "assert TEXT_DATA_FOLDER.exists(), \"the text data folder does not exist\""
   ]
  },
  {
   "cell_type": "code",
   "execution_count": 4,
   "metadata": {},
   "outputs": [],
   "source": [
    "data_file_path = DATA_PATH.joinpath(\"corpus\", \"raw\", 'drc-news-raws.csv')"
   ]
  },
  {
   "cell_type": "code",
   "execution_count": 5,
   "metadata": {},
   "outputs": [],
   "source": [
    "data = pd.read_csv(data_file_path, names=[\"content\", \"posted_at\"])"
   ]
  },
  {
   "cell_type": "code",
   "execution_count": 6,
   "metadata": {},
   "outputs": [
    {
     "data": {
      "text/plain": [
       "(140638, 2)"
      ]
     },
     "execution_count": 6,
     "metadata": {},
     "output_type": "execute_result"
    }
   ],
   "source": [
    "data.shape"
   ]
  },
  {
   "cell_type": "code",
   "execution_count": 7,
   "metadata": {},
   "outputs": [
    {
     "data": {
      "text/html": [
       "<div>\n",
       "<style scoped>\n",
       "    .dataframe tbody tr th:only-of-type {\n",
       "        vertical-align: middle;\n",
       "    }\n",
       "\n",
       "    .dataframe tbody tr th {\n",
       "        vertical-align: top;\n",
       "    }\n",
       "\n",
       "    .dataframe thead th {\n",
       "        text-align: right;\n",
       "    }\n",
       "</style>\n",
       "<table border=\"1\" class=\"dataframe\">\n",
       "  <thead>\n",
       "    <tr style=\"text-align: right;\">\n",
       "      <th></th>\n",
       "      <th>content</th>\n",
       "      <th>posted_at</th>\n",
       "    </tr>\n",
       "  </thead>\n",
       "  <tbody>\n",
       "    <tr>\n",
       "      <th>0</th>\n",
       "      <td>Les membres de la Commission tarifaire viennen...</td>\n",
       "      <td>2022-09-05 00:00:00</td>\n",
       "    </tr>\n",
       "    <tr>\n",
       "      <th>1</th>\n",
       "      <td>Les membres de la Commission tarifaire so...</td>\n",
       "      <td>2022-04-05 00:00:00</td>\n",
       "    </tr>\n",
       "    <tr>\n",
       "      <th>2</th>\n",
       "      <td>Vodacom Congo vient de signer un partenariat a...</td>\n",
       "      <td>2022-04-23 00:00:00</td>\n",
       "    </tr>\n",
       "    <tr>\n",
       "      <th>3</th>\n",
       "      <td>Le sélectionneur des Léopards de la RDC, Hectó...</td>\n",
       "      <td>2022-03-05 00:00:00</td>\n",
       "    </tr>\n",
       "    <tr>\n",
       "      <th>4</th>\n",
       "      <td>Le protocole d’accord était déjà signé entre l...</td>\n",
       "      <td>2022-11-05 00:00:00</td>\n",
       "    </tr>\n",
       "  </tbody>\n",
       "</table>\n",
       "</div>"
      ],
      "text/plain": [
       "                                             content            posted_at\n",
       "0  Les membres de la Commission tarifaire viennen...  2022-09-05 00:00:00\n",
       "1       Les membres de la Commission tarifaire so...  2022-04-05 00:00:00\n",
       "2  Vodacom Congo vient de signer un partenariat a...  2022-04-23 00:00:00\n",
       "3  Le sélectionneur des Léopards de la RDC, Hectó...  2022-03-05 00:00:00\n",
       "4  Le protocole d’accord était déjà signé entre l...  2022-11-05 00:00:00"
      ]
     },
     "execution_count": 7,
     "metadata": {},
     "output_type": "execute_result"
    }
   ],
   "source": [
    "data = data.fillna(value=\"\")\n",
    "data.head()"
   ]
  },
  {
   "cell_type": "code",
   "execution_count": 8,
   "metadata": {},
   "outputs": [
    {
     "name": "stderr",
     "output_type": "stream",
     "text": [
      "/Users/es.py/Projects/Personal/multilingual-drc-news-chatbot/.venv/lib/python3.9/site-packages/tqdm/auto.py:22: TqdmWarning: IProgress not found. Please update jupyter and ipywidgets. See https://ipywidgets.readthedocs.io/en/stable/user_install.html\n",
      "  from .autonotebook import tqdm as notebook_tqdm\n",
      "INFO - haystack.modeling.model.optimization -  apex not found, won't use it. See https://nvidia.github.io/apex/\n",
      "ERROR - root -  Failed to import 'magic' (from 'python-magic' and 'python-magic-bin' on Windows). FileTypeClassifier will not perform mimetype detection on extensionless files. Please make sure the necessary OS libraries are installed if you need this functionality.\n",
      "WARNING - haystack -  Object '__file__' is imported through a deprecated path. Please check out the docs for the new import path.\n",
      "WARNING - haystack -  Object '__file__' is imported through a deprecated path. Please check out the docs for the new import path.\n",
      "WARNING - haystack -  Object '__file__' is imported through a deprecated path. Please check out the docs for the new import path.\n",
      "WARNING - haystack -  Object '__file__' is imported through a deprecated path. Please check out the docs for the new import path.\n",
      "WARNING - haystack -  Object '__file__' is imported through a deprecated path. Please check out the docs for the new import path.\n",
      "WARNING - haystack -  Object '__file__' is imported through a deprecated path. Please check out the docs for the new import path.\n",
      "WARNING - haystack -  Object '__file__' is imported through a deprecated path. Please check out the docs for the new import path.\n",
      "WARNING - haystack -  Object '__file__' is imported through a deprecated path. Please check out the docs for the new import path.\n",
      "WARNING - haystack -  Object '__file__' is imported through a deprecated path. Please check out the docs for the new import path.\n",
      "WARNING - haystack -  Object '__file__' is imported through a deprecated path. Please check out the docs for the new import path.\n",
      "WARNING - haystack -  Object '__file__' is imported through a deprecated path. Please check out the docs for the new import path.\n",
      "WARNING - haystack -  Object '__file__' is imported through a deprecated path. Please check out the docs for the new import path.\n",
      "WARNING - haystack -  Object '__file__' is imported through a deprecated path. Please check out the docs for the new import path.\n",
      "WARNING - haystack -  Object '__file__' is imported through a deprecated path. Please check out the docs for the new import path.\n",
      "WARNING - haystack -  Object '__file__' is imported through a deprecated path. Please check out the docs for the new import path.\n",
      "WARNING - haystack -  Object '__file__' is imported through a deprecated path. Please check out the docs for the new import path.\n",
      "WARNING - haystack -  Object '__file__' is imported through a deprecated path. Please check out the docs for the new import path.\n",
      "WARNING - haystack -  Object '__file__' is imported through a deprecated path. Please check out the docs for the new import path.\n",
      "WARNING - haystack -  Object '__file__' is imported through a deprecated path. Please check out the docs for the new import path.\n",
      "WARNING - haystack -  Object '__file__' is imported through a deprecated path. Please check out the docs for the new import path.\n",
      "WARNING - haystack -  Object '__file__' is imported through a deprecated path. Please check out the docs for the new import path.\n",
      "WARNING - haystack -  Object '__file__' is imported through a deprecated path. Please check out the docs for the new import path.\n",
      "WARNING - haystack -  Object '__file__' is imported through a deprecated path. Please check out the docs for the new import path.\n",
      "WARNING - haystack -  Object '__file__' is imported through a deprecated path. Please check out the docs for the new import path.\n",
      "WARNING - haystack -  Object '__file__' is imported through a deprecated path. Please check out the docs for the new import path.\n",
      "WARNING - haystack -  Object '__file__' is imported through a deprecated path. Please check out the docs for the new import path.\n",
      "WARNING - haystack -  Object '__file__' is imported through a deprecated path. Please check out the docs for the new import path.\n",
      "WARNING - haystack -  Object '__file__' is imported through a deprecated path. Please check out the docs for the new import path.\n",
      "WARNING - haystack -  Object '__file__' is imported through a deprecated path. Please check out the docs for the new import path.\n",
      "WARNING - haystack -  Object '__file__' is imported through a deprecated path. Please check out the docs for the new import path.\n",
      "WARNING - haystack -  Object '__file__' is imported through a deprecated path. Please check out the docs for the new import path.\n"
     ]
    }
   ],
   "source": [
    "from haystack.nodes import TextConverter"
   ]
  },
  {
   "cell_type": "code",
   "execution_count": 11,
   "metadata": {},
   "outputs": [],
   "source": [
    "from haystack.schema import Document\n",
    "from secrets import token_hex\n",
    "\n",
    "# @Todo: this is not working now , it was supposed to save the document to dataframe\n",
    "def get_document_from_text(row):\n",
    "    \"\"\"numpy row with the text and the date of the post\n",
    "\n",
    "    Args:\n",
    "        row (_type_): _description_\n",
    "\n",
    "    Returns:\n",
    "        _type_: _description_\n",
    "    \"\"\"\n",
    "    text = row[0].replace(u'\\xa0', u' ')\n",
    "    for paragraph in text.split(\"   \"):\n",
    "        if not paragraph.strip():  # skip empty paragraphs\n",
    "            continue\n",
    "        return Document(content=paragraph, meta={\"posted_at\":row[1] if row[1] else \"\" })"
   ]
  },
  {
   "cell_type": "code",
   "execution_count": 10,
   "metadata": {},
   "outputs": [],
   "source": []
  },
  {
   "cell_type": "code",
   "execution_count": 12,
   "metadata": {},
   "outputs": [],
   "source": [
    "from haystack.nodes import TextConverter, PDFToTextConverter, DocxToTextConverter, PreProcessor\n",
    "from haystack.utils import convert_files_to_docs"
   ]
  },
  {
   "cell_type": "code",
   "execution_count": 1,
   "metadata": {},
   "outputs": [],
   "source": [
    "\n",
    "# in the final version , split in  a training and validation set."
   ]
  },
  {
   "cell_type": "code",
   "execution_count": 13,
   "metadata": {},
   "outputs": [],
   "source": [
    "all_docs = data.sample(200).apply(get_document_from_text, axis=\"columns\")"
   ]
  },
  {
   "cell_type": "code",
   "execution_count": 14,
   "metadata": {},
   "outputs": [
    {
     "data": {
      "text/plain": [
       "(200,)"
      ]
     },
     "execution_count": 14,
     "metadata": {},
     "output_type": "execute_result"
    }
   ],
   "source": [
    "all_docs.shape"
   ]
  },
  {
   "cell_type": "code",
   "execution_count": 16,
   "metadata": {},
   "outputs": [
    {
     "ename": "AttributeError",
     "evalue": "'list' object has no attribute 'dropna'",
     "output_type": "error",
     "traceback": [
      "\u001b[0;31m---------------------------------------------------------------------------\u001b[0m",
      "\u001b[0;31mAttributeError\u001b[0m                            Traceback (most recent call last)",
      "\u001b[0;32m/var/folders/5_/n81dq93n79l30d_c34cfqxpr0000gn/T/ipykernel_54814/2507528461.py\u001b[0m in \u001b[0;36m<cell line: 1>\u001b[0;34m()\u001b[0m\n\u001b[0;32m----> 1\u001b[0;31m \u001b[0mall_docs\u001b[0m \u001b[0;34m=\u001b[0m \u001b[0mall_docs\u001b[0m\u001b[0;34m.\u001b[0m\u001b[0mdropna\u001b[0m\u001b[0;34m(\u001b[0m\u001b[0;34m)\u001b[0m\u001b[0;34m.\u001b[0m\u001b[0mto_list\u001b[0m\u001b[0;34m(\u001b[0m\u001b[0;34m)\u001b[0m\u001b[0;34m\u001b[0m\u001b[0;34m\u001b[0m\u001b[0m\n\u001b[0m\u001b[1;32m      2\u001b[0m \u001b[0mall_docs\u001b[0m\u001b[0;34m.\u001b[0m\u001b[0mshape\u001b[0m\u001b[0;34m\u001b[0m\u001b[0;34m\u001b[0m\u001b[0m\n",
      "\u001b[0;31mAttributeError\u001b[0m: 'list' object has no attribute 'dropna'"
     ]
    }
   ],
   "source": [
    "all_docs = all_docs.dropna().to_list()"
   ]
  },
  {
   "cell_type": "code",
   "execution_count": 17,
   "metadata": {},
   "outputs": [],
   "source": [
    "from haystack.errors import HaystackError\n",
    "from haystack.schema import Document\n",
    "from typing import List, Optional, Generator, Set, Union\n",
    "from copy import deepcopy\n",
    "from haystack.nodes import PreProcessor\n",
    "\n",
    "class CustomPreProcessor(PreProcessor):\n",
    "    def __init__(self, custom_preprocessor=None, **kwargs):\n",
    "        super().__init__(**kwargs)\n",
    "        self.custom_preprocessor = custom_preprocessor\n",
    "    def clean(\n",
    "        self,\n",
    "        document: Union[dict, Document],\n",
    "        clean_whitespace: bool,\n",
    "        clean_header_footer: bool,\n",
    "        clean_empty_lines: bool,\n",
    "        remove_substrings: List[str],\n",
    "        id_hash_keys: Optional[List[str]] = None,\n",
    "    ) -> Document:\n",
    "        \"\"\"\n",
    "        \n",
    "        Perform document cleaning on a single document and return a single document. This method will deal with whitespaces, headers, footers\n",
    "        and empty lines. Its exact functionality is defined by the parameters passed into PreProcessor.__init__().\n",
    "        \"\"\"\n",
    "        if id_hash_keys is None:\n",
    "            id_hash_keys = self.id_hash_keys\n",
    "\n",
    "        if isinstance(document, dict):\n",
    "            document = Document.from_dict(document, id_hash_keys=id_hash_keys)\n",
    "\n",
    "        # Mainly needed for type checking\n",
    "        if not isinstance(document, Document):\n",
    "            raise HaystackError(\"Document must not be of type 'dict' but of type 'Document'.\")\n",
    "        text = document.content\n",
    "        text = self.custom_preprocessor(text)\n",
    "        if clean_header_footer:\n",
    "            text = self._find_and_remove_header_footer(\n",
    "                text, n_chars=300, n_first_pages_to_ignore=1, n_last_pages_to_ignore=1\n",
    "            )\n",
    "\n",
    "        if clean_whitespace:\n",
    "            lines = text.splitlines()\n",
    "\n",
    "            cleaned_lines = []\n",
    "            for line in lines:\n",
    "                line = line.strip()\n",
    "                cleaned_lines.append(line)\n",
    "            text = \"\\n\".join(cleaned_lines)\n",
    "\n",
    "        if clean_empty_lines:\n",
    "            text = re.sub(r\"\\n\\n+\", \"\\n\\n\", text)\n",
    "\n",
    "        for substring in remove_substrings:\n",
    "            text = text.replace(substring, \"\")\n",
    "\n",
    "        if text != document.content:\n",
    "            document = deepcopy(document)\n",
    "            document.content = text\n",
    "\n",
    "        return document\n",
    "    \n",
    "    "
   ]
  },
  {
   "cell_type": "code",
   "execution_count": 18,
   "metadata": {},
   "outputs": [],
   "source": [
    "import re\n",
    "from gensim.utils import deaccent\n",
    "from unicodedata import normalize as unicode_normalize"
   ]
  },
  {
   "cell_type": "code",
   "execution_count": 19,
   "metadata": {},
   "outputs": [],
   "source": [
    "def replace_point(document):\n",
    "    \"\"\"replace the point with the wwt.www with space point before tokenizing the document .\n",
    "    TOdos : this may have a a downside when the point is in the middle of a words\n",
    "    Args:\n",
    "        document (_type_): _description_\n",
    "    \"\"\"\n",
    "    result = re.sub(r\"(\\S)\\.(\\S)\", r\"\\1 . \\2\", document)\n",
    "    return result\n",
    "\n",
    "def replace_website_name(document):\n",
    "    \"\"\"sometimes the doucment has the name politico.cd or 7sur7.cd or actualite.cd, we would like to replace them by the \n",
    "    actual name of the website. before proper cleaning\n",
    "\n",
    "    Args:\n",
    "        document (_type_): _description_\n",
    "    \"\"\"\n",
    "    # @TODO : not sure if this will work but , way better replace by the first line of match.\n",
    "    \n",
    "    result = re.sub(r\"7SUR7.CD|politico.cd|actualite.cd|mediacongo.net\", r\"SITE_WEB\", document, flags=re.IGNORECASE)\n",
    "    return result\n",
    "\n",
    "def remove_accents(document):\n",
    "    input_without_accent = deaccent(document)\n",
    "    return input_without_accent\n",
    "\n",
    "def pre_clean_document(document):\n",
    "    \"\"\"pre clean the document by removing the accents and replacing the point with the wwt.www with space point before tokenizing the document .\n",
    "    TOdos : this may have a a downside when the point is in the middle of a words\n",
    "    and any other side of cleaning that we want to do .\n",
    "    Args:\n",
    "        document (_type_): _description_\n",
    "    \"\"\"\n",
    "    result = remove_accents(document)\n",
    "    result =  replace_website_name(result)\n",
    "    result = replace_point(result)\n",
    "    result = re.sub(r\"This post has already been read \\d+ times!\", \"\", result) # remove unwanted text\n",
    "    result = unicode_normalize(\"NFKD\", result)\n",
    "    return result"
   ]
  },
  {
   "cell_type": "code",
   "execution_count": 20,
   "metadata": {},
   "outputs": [],
   "source": [
    "text_doc = \"\"\"\n",
    "Une motion de defiance a ete deposee au cabinet de la presidente de l'Assemblee provinciale du Maniema contre le vice-gouverneur Jean-Pierre Amadi, le mardi 30 mars dernier.16 parmi les 17 deputes provinciaux presents a Kindu, chef-lieu de la province du Maniema, ont appose leurs signatures sur ladite motion depuis le 27 mars 2021.Selon ce document consulte par 7SUR7.CD, Jean-Pierre Amadi Lubenga est reproche de plusieurs griefs dont le « refus d'obtemperer aux instructions de la hierarchie » pendant qu'il etait gouverneur de province a l'interim et le detournement des deniers publics.\n",
    "comme signale a politico.cd sur notre site POLITICO.CD et puis ensuite sur actualite.cd et sur notre site mediacongo.net\n",
    "\"\"\""
   ]
  },
  {
   "cell_type": "code",
   "execution_count": 21,
   "metadata": {},
   "outputs": [
    {
     "data": {
      "text/plain": [
       "\"\\nUne motion de defiance a ete deposee au cabinet de la presidente de l'Assemblee provinciale du Maniema contre le vice-gouverneur Jean-Pierre Amadi, le mardi 30 mars dernier.16 parmi les 17 deputes provinciaux presents a Kindu, chef-lieu de la province du Maniema, ont appose leurs signatures sur ladite motion depuis le 27 mars 2021.Selon ce document consulte par SITE_WEB, Jean-Pierre Amadi Lubenga est reproche de plusieurs griefs dont le « refus d'obtemperer aux instructions de la hierarchie » pendant qu'il etait gouverneur de province a l'interim et le detournement des deniers publics.\\ncomme signale a SITE_WEB sur notre site SITE_WEB et puis ensuite sur SITE_WEB et sur notre site SITE_WEB\\n\""
      ]
     },
     "execution_count": 21,
     "metadata": {},
     "output_type": "execute_result"
    }
   ],
   "source": [
    "replace_website_name(text_doc)"
   ]
  },
  {
   "cell_type": "code",
   "execution_count": 22,
   "metadata": {},
   "outputs": [
    {
     "name": "stderr",
     "output_type": "stream",
     "text": [
      " 21%|██        | 42/200 [00:00<00:00, 408.18docs/s]WARNING - haystack.nodes.preprocessor.preprocessor -  One or more sentence found with word count higher than the split length.\n",
      "100%|██████████| 200/200 [00:00<00:00, 438.67docs/s]"
     ]
    },
    {
     "name": "stdout",
     "output_type": "stream",
     "text": [
      "n_files_input: 200\n",
      "n_docs_output: 491\n"
     ]
    },
    {
     "name": "stderr",
     "output_type": "stream",
     "text": [
      "\n"
     ]
    }
   ],
   "source": [
    "preprocessor = CustomPreProcessor(\n",
    "    clean_empty_lines=True,\n",
    "    clean_whitespace=True,\n",
    "    clean_header_footer=False,\n",
    "    split_by=\"word\",\n",
    "    split_length=200,\n",
    "    split_respect_sentence_boundary=True,\n",
    "    language=\"fr\",\n",
    "    custom_preprocessor=pre_clean_document,\n",
    ")\n",
    "\n",
    "\n",
    "docs = preprocessor.process(all_docs)\n",
    "\n",
    "print(f\"n_files_input: {len(all_docs)}\\nn_docs_output: {len(docs)}\")"
   ]
  },
  {
   "cell_type": "code",
   "execution_count": 23,
   "metadata": {},
   "outputs": [
    {
     "data": {
      "text/plain": [
       "<Document: {'content': '« Je lui (Sophie Wilmes) ai dit que le conflit entre Kabila et Tshisekedi c’est pour distraire et les congolais et la communaute internationale parce qu’il y avait 3 crises majeures : la crise de legitimite, la crise sociale et la crise budgetaire et la crise sur les menaces de balkanisation. Des querelles qui vont dans le sens de dire que la coalition ne marche pas parce que les militants ne savent pas exactement ce que monsieur Kabila et monsieur Tshisekedi ont signe comme deal et nous pensons que pour nous tout ca c’est du mascara. C’est quelque chose bien entretenue entre Tshisekedi et Kabila et qu’ils cachent aux militants, pour eux ils sont besoin de l’un de l’autre pour continuer leur deal. Nous avons dit que ceux qui pensent que Tshisekedi et Kabila vont se separer, ils ont tort. Ces deux-la vont marcher a l’equilibre instable provoquant des crises pour que le peuple ne se dessaisisse des questions brulantes aujourd’hui », a dit a SITE_WEB Martin Fayulu.', 'content_type': 'text', 'score': None, 'meta': {'posted_at': '', '_split_id': 0}, 'embedding': None, 'id': '356aaeeed09151c15fa24d9545032b37'}>"
      ]
     },
     "execution_count": 23,
     "metadata": {},
     "output_type": "execute_result"
    }
   ],
   "source": [
    "docs[0]"
   ]
  },
  {
   "cell_type": "code",
   "execution_count": 24,
   "metadata": {},
   "outputs": [],
   "source": [
    "from haystack.document_stores import ElasticsearchDocumentStore\n",
    "\n"
   ]
  },
  {
   "cell_type": "code",
   "execution_count": 25,
   "metadata": {},
   "outputs": [
    {
     "name": "stderr",
     "output_type": "stream",
     "text": [
      "/Users/es.py/Projects/Personal/multilingual-drc-news-chatbot/.venv/lib/python3.9/site-packages/elasticsearch/connection/base.py:190: ElasticsearchDeprecationWarning: Elasticsearch built-in security features are not enabled. Without authentication, your cluster could be accessible to anyone. See https://www.elastic.co/guide/en/elasticsearch/reference/7.16/security-minimal-setup.html to enable security.\n",
      "  warnings.warn(message, category=ElasticsearchDeprecationWarning)\n",
      "INFO - haystack.document_stores.elasticsearch -  Index 'drc-news' deleted.\n",
      "INFO - haystack.document_stores.elasticsearch -  Index 'label' deleted.\n"
     ]
    }
   ],
   "source": [
    "document_store = ElasticsearchDocumentStore(index=\"drc-news\", recreate_index=True, analyzer=\"french\")"
   ]
  },
  {
   "cell_type": "code",
   "execution_count": 26,
   "metadata": {},
   "outputs": [],
   "source": [
    "document_store.write_documents(docs)"
   ]
  },
  {
   "cell_type": "markdown",
   "metadata": {},
   "source": [
    "### Retrieval\n",
    "\n",
    "With the document store in place , the document store has all the document in it , let build a retriever model that use BM25 to retrieve the document."
   ]
  },
  {
   "cell_type": "code",
   "execution_count": 27,
   "metadata": {},
   "outputs": [],
   "source": [
    "custom_query_template = \"\"\"\n",
    "{\n",
    "  \"query\": {\n",
    "    \"boosting\": {\n",
    "      \"positive\": {\n",
    "        \"match\": {\n",
    "          \"content\": ${query}\n",
    "        }\n",
    "      },\n",
    "      \"negative\": {\n",
    "        \"match\": {\n",
    "          \"content\": ${name_to_not_match}\n",
    "        }\n",
    "      },\n",
    "      \"negative_boost\": 0.5\n",
    "    }\n",
    "  }\n",
    "}\n",
    "\"\"\""
   ]
  },
  {
   "cell_type": "code",
   "execution_count": null,
   "metadata": {},
   "outputs": [],
   "source": []
  },
  {
   "cell_type": "code",
   "execution_count": 28,
   "metadata": {},
   "outputs": [],
   "source": [
    "from haystack.nodes import BM25Retriever"
   ]
  },
  {
   "cell_type": "code",
   "execution_count": 29,
   "metadata": {},
   "outputs": [],
   "source": [
    "bm25_retriever = BM25Retriever(document_store=document_store, all_terms_must_match=True, custom_query=custom_query_template)\n",
    "bm25_retriever_positive = BM25Retriever(document_store=document_store, all_terms_must_match=True)"
   ]
  },
  {
   "cell_type": "code",
   "execution_count": 30,
   "metadata": {},
   "outputs": [],
   "source": [
    "question = \"le president de la Republique democratique du congo?\"\n",
    "answer = \"Felix Tshisekedi\""
   ]
  },
  {
   "cell_type": "code",
   "execution_count": 31,
   "metadata": {},
   "outputs": [],
   "source": [
    "def get_hard_negative_context(\n",
    "    retriever: BM25Retriever, question: str, answer: str, n_ctxs: int = 10\n",
    "):\n",
    "    \"\"\"\n",
    "    given the question and the answer query the Elastic search document store and return the hard negative context to the question\n",
    "    \"\"\"\n",
    "\n",
    "    documents = bm25_retriever.retrieve(query=question, top_k=10, filters={\"name_to_not_match\": answer})\n",
    "    return documents"
   ]
  },
  {
   "cell_type": "code",
   "execution_count": 32,
   "metadata": {},
   "outputs": [
    {
     "data": {
      "text/plain": [
       "[<Document: {'content': 'L’Envoye special Said Djinnit et le Secretaire executif de la CIRGL, le professeur Ntumba Luaba ont ete recus en audience par le president Joseph Kabila le jeudi dernier a Kinshasa. Au menu des discussions, la situation dans la region et en RDC et la Conference sur les investissements du secteur prive dans la region des Grands Lacs . Said Djinnit, l’Envoye special du Secretaire general des Nations Unies pour la region des Grands Lacs, a ete recu le jeudi dernier, avec le Secretaire executif de la Conference Internationale sur la Region des Grands Lacs (CIRGL) par le president de la Republique Democratique du Congo, Joseph Kabila . L’entretien a porte, selon la Mission de l’Organisation des Nations unies pour la stabilisation en Republique democratique du Congo (MONUSCO), sur la situation dans la region, y compris les efforts en cours en vue de la neutralisation de toutes les forces negatives operant a l’Est de la RDC . L’Envoye special Djinnit a exprime le soutien des Nations Unies au processus de rapatriement des elements des FDLR presentement accueillis dans differents camps de transit en RDC.', 'content_type': 'text', 'score': 0.731644802615988, 'meta': {'posted_at': '', '_split_id': 0}, 'embedding': None, 'id': '677793f05cd794c8322816324464803d'}>,\n",
       " <Document: {'content': 'Je tiens a remercier mon Representant special pour la Republique democratique du Congo et Chef de la MONUSCO, Martin Kobler, mon Envoye special pour la region des Grands Lacs, Said Djinnit, et leurs collaborateurs, ainsi que les organismes, fonds et programmes des Nations Unies, les autres organisations internationales et regionales et les pays fournisseurs de contingents et de personnel de police, de leur participation active a l’action menee dans l’est de la Republique democratique du Congo et dans la region des Grands Lacs.', 'content_type': 'text', 'score': 0.712159710953254, 'meta': {'posted_at': '', '_split_id': 51}, 'embedding': None, 'id': 'ec098d62ac6752281cc3c1576096b0bc'}>,\n",
       " <Document: {'content': 'Dans une declaration publiee le 2 janvier, le Gouvernement de la Republique democratique du Congo a note que puisque 26 % seulement des quelque 1 400 elements des FDLR dans le pays se sont rendus, les operations militaires devenaient inevitables. La Conference internationale sur la region des Grands Lacs, la SADC et les partenaires internationaux sont parvenus a la meme conclusion. L’Afrique du Sud et la Republique-Unie de Tanzanie ont confirme leur soutien entier aux operations militaires contre les FDLR dans des declarations separees publiees les 9 et 13 janvier, respectivement. 27. Des progres limites ont ete enregistres en ce qui concerne l’application des Declarations de Nairobi. Le Coordonnateur du Mouvement du 23 mars (M23), Rene Abandi, a demissionne le 12 janvier en accusant le Gouvernement de la Republique democratique du Congo d’avoir viole l’accord. A la fin de la periode consideree, 182 des quelque 1 678 ex-elements du M23 ont ete rapatries de leur plein gre en Republique democratique du Congo.', 'content_type': 'text', 'score': 0.7114600570328351, 'meta': {'posted_at': '', '_split_id': 22}, 'embedding': None, 'id': 'a30110c33b8462e9e39704a0d74e17de'}>,\n",
       " <Document: {'content': 'Le 11 fevrier, il a ete accuse de dix infractions penales, notamment de menace contre la securite interieure de l’Etat. Le 28 janvier, la Cour supreme de justice de Kinshasa s’est declaree competente pour se prononcer sur le bien-fonde d’une plainte en diffamation contre le President du parti d’opposition Union pour la nation congolaise, Vital Kamerhe. La decision de le juger, vue par ses partisans comme une tentative deliberee de l’empecher de se presenter a l’election presidentielle de 2016, a provoque plusieurs manifestations spontanees a Bukavu (Sud-Kivu). 10. Le 12 fevrier, la Commission nationale electorale independante a publie un calendrier electoral general selon lequel les elections locales et provinciales se tiendront le 25 octobre 2015 et les elections presidentielle et legislatives le 27 novembre 2016. Cette mesure a ete bien accueillie par les parties prenantes nationales et les partenaires internationaux, qui y ont vu un pas important vers la tenue d’elections en temps voulu, mais certains partis d’opposition ont mis en doute sa faisabilite . B. Progres dans la tenue des engagements pris par la Republique democratique du Congo au titre de l’Accord-cadre pour la paix, la securite et la cooperation pour la Republique democratique du Congo et la region\\nDecentralisation\\n11.', 'content_type': 'text', 'score': 0.7032261746512476, 'meta': {'posted_at': '', '_split_id': 10}, 'embedding': None, 'id': '3a92968b1705a856c1a50fdc0846dbac'}>,\n",
       " <Document: {'content': 'Comme a l’accoutumee, le rapport du Secretaire general de l’ONU fera l’objet de toutes sortes d’analyses et de reactions, surtout au sein de la classe politique congolaise ou chaque camp tentera d’interpreter ce rapport a sa maniere, en tenant de tirer la couverture de son cote. C’est de bonne guerre en politique. Mais, il faudra tirer des lecons qui s’imposent pour rectifier le tir en cas de necessite et, bien entendu, corriger ce qu’il faut corriger. M. M . RAPPORT DU SECRETAIRE GENERAL SUR LA MISSION DE L’ORGANISATION DES NATIONS UNIES POUR LA STABILISATION EN RDC\\nI. Introduction\\n1. Le present rapport, soumis en application du paragraphe 39 de la resolution 2147 (2014) du Conseil de securite, porte sur les principaux faits nouveaux survenus depuis mes rapports du 30 decembre 2014 (S/2014/956 et S/2014/957), notamment en ce qui concerne la tenue des engagements pris par le Republique democratique du Congo dans l’Accord-cadre pour la paix, la securite et la cooperation pour la Republique democratique du Congo et la region et les progres accomplis par la Mission de l’Organisation des Nations Unies pour la stabilisation en Republique democratique du Congo (MONUSCO) dans l’execution de son mandat . II.', 'content_type': 'text', 'score': 0.7001947419295291, 'meta': {'posted_at': '', '_split_id': 4}, 'embedding': None, 'id': 'a7bd3d083e78549fd947f082495e0725'}>,\n",
       " <Document: {'content': 'La confirmation de l’information par les leaders des deux  grands ensembles est venue rassurer ceux qui craignaient que les predictions de guerre civile ou des interventions etrangeres ne viennent, une fois de plus, perturber la longue et penible marche des Congolais vers la sortie de la pauvrete. L’election des candidats presentes par la coalition a la tete de l’Assemblee nationale, ainsi que la nomination, par le President de la Republique, du Premier Ministre presente par le FCC ont ete recues comme une victoire par les partisans de deux composantes de la coalition et comme une occurrence rassurante pour les observateurs et autres amis de la paix en RD Congo . Depuis les rencontres entre le President de la Republique, autorite morale du CACH et son predecesseur, auteur intellectuel et inspirateur politique du FCC, viennent confirmer a la face du monde la volonte des elites politiques congolaises de tout mettre en œuvre pour maintenir la paix cherement acquise, consolider la democratie et enfin relancer la construction du pays . Il faut pourtant constater que certains signes moins rassurants, pour ne pas dire carrement inquietants, viennent assombrir les relations entre les deux organisations de la coalition.', 'content_type': 'text', 'score': 0.696947890258954, 'meta': {'posted_at': '', '_split_id': 1}, 'embedding': None, 'id': '21f1971c60de426a323cd9b810c19a72'}>,\n",
       " <Document: {'content': 'Dans une declaration publiee le 21 janvier, la MONUSCO a demande a tous les acteurs politiques a s’abstenir de toute violence et aux forces nationales de securite de respecter le principe de proportionnalite du recours a la force. Le 22 janvier, j’ai demande a toutes les parties de reprendre le dialogue politique sur les questions electorales dans un esprit d’ouverture, pacifiquement et dans les instances appropriees. Le meme jour, le Conseil de securite et l’equipe des envoyes et representants speciaux se sont fait l’echo de cet appel. 7. Le 22 janvier, le Senat a adopte le projet de loi sans la disposition sur le recensement de la population. Les protestations ont diminue dans l’ensemble du pays apres que le President de l’Assemblee nationale, Aubin Minaku, a annonce le 24 janvier qu’il avait ete convenu de supprimer la disposition controversee. Le texte revise de la loi electorale a ete adopte par les deux chambres du Parlement le 25 janvier et promulgue par le President de la Republique democratique du Congo le 12 fevrier. 8.', 'content_type': 'text', 'score': 0.6928961407947968, 'meta': {'posted_at': '', '_split_id': 8}, 'embedding': None, 'id': '72042b712842e889422cc088cfb82c3a'}>,\n",
       " <Document: {'content': 'Je crains que l’absence de progres en ce qui concerne tant le reglement du probleme des FDLR que l’application integrale de la Declaration des engagements pris par le Mouvement du 23 mars a la conclusion du Dialogue de Kampala ne fragilise encore davantage les relations regionales et ne decourage les signataires d’honorer les engagements qu’ils ont pris au titre de l’Accord-cadre pour la paix, la securite et la cooperation pour la Republique democratique du Congo et la region. J’invite instamment toutes les parties prenantes a cooperer avec mon Envoye special pour la region des Grands Lacs, Said Djinnit, en vue de relancer le processus entame et a s’engager de nouveau a mettre definitivement fin au conflit destabilisateur dont la region est le theatre. 60. Les FDLR continuent de compromettre la stabilite dans l’est de la Republique democratique du Congo et le reste de la region.', 'content_type': 'text', 'score': 0.6913110165807411, 'meta': {'posted_at': '', '_split_id': 46}, 'embedding': None, 'id': '7ccbb6f143768a3255bef680a7047470'}>,\n",
       " <Document: {'content': \"Le ministre congolais de l'Industrie, Julien Paluku Kahongya, est arrive ce mercredi 30 septembre a Gemena, chef-lieu de la province du Sud-Ubangi en provenance de Kinshasa, pour mettre en place « la 6ieme zone industrielle dans l'espace Equateur » qui reunit les provinces de l'Equateur, la Tshuapa, la Mongala, le Nord-Ubangi et le Sud-Ubangi . En tete d'une delegation composee des membres de son cabinet, du directeur general de l'Agence des Zones Economiques Speciales et du directeur general du Fonds pour la Promotion de l'Industrie, ce membre du gouvernement Sylvestre Ilunga dit venir dans cette partie du pays pour materialiser la vision du president de la Republique . D'apres lui, cette vision vise a peaufiner les « strategies du developpement » de la Republique Democratique du Congo qui subdivisent le pays en 6 zones industrielles notamment Kinshasa, l'espace Katanga, l'espace Kasai, l'espace Kivu, l'ex-province Orientale et enfin l'espace Equateur . « La politique du developpement de ce pays va etre basee dans ces zones la. Parce que nous importons pour le tiers de notre budget des produits qui nous viennent de l'exterieur.\", 'content_type': 'text', 'score': 0.6864049353039519, 'meta': {'posted_at': '', '_split_id': 0}, 'embedding': None, 'id': '5a5fab8fba66aa9a1a350dafea0a3a87'}>,\n",
       " <Document: {'content': 'Le principal risque de deterioration de la situation economique reside dans la diminution des entrees d’investissements directs etrangers, pour cause d’instabilite politique, et la baisse des cours du cuivre et du cobalt, qui representent environ 98 % des exportations de marchandises et 44 % du produit interieur brut nominal. Le 31 decembre 2014, le President de la Republique democratique du Congo a promulgue la loi de finances pour 2015 etablissant un budget de 9,07 milliards de dollars, soit une augmentation de 2 % par rapport au budget de 2014 . F. Evolution de la situation regionale\\n26. Les relations entre pays de la region demeurent tendues a propos de la question des FDLR et de l’application des Declarations de Nairobi du 12 decembre 2013. Le delai fixe par la Conference internationale sur la region des Grands Lacs et la Communaute de developpement de l’Afrique australe (SADC) et approuve par le Conseil de securite pour le desarmement volontaire des FDLR est venu a expiration le 2 janvier.', 'content_type': 'text', 'score': 0.6831026528788366, 'meta': {'posted_at': '', '_split_id': 21}, 'embedding': None, 'id': '14261e3ce0eab84f35561071a8df0e1b'}>]"
      ]
     },
     "execution_count": 32,
     "metadata": {},
     "output_type": "execute_result"
    }
   ],
   "source": [
    "get_hard_negative_context(bm25_retriever, question, answer)"
   ]
  },
  {
   "cell_type": "code",
   "execution_count": null,
   "metadata": {},
   "outputs": [],
   "source": []
  },
  {
   "cell_type": "markdown",
   "metadata": {},
   "source": [
    "Next is to build the dense passage retrieval dataset , for each sentence we will find the name entities and mask them and query the database to find hard negative."
   ]
  },
  {
   "cell_type": "markdown",
   "metadata": {},
   "source": [
    "### Building the Reader Dataset\n",
    "\n",
    "Adding the documents to the retriever store , the next step will be to build the dense passage retrieval dataset.\n",
    "\n",
    "We will consider each paragraph as the answer, and we will generate differents question in the paragraph by masking the name entities which yield to a better score.\n",
    "\n",
    "Once we have a question and the paragraph answer , we will retrieve the negative context with the code we wrote above."
   ]
  },
  {
   "cell_type": "markdown",
   "metadata": {},
   "source": [
    "#### NER on the Text"
   ]
  },
  {
   "cell_type": "code",
   "execution_count": 33,
   "metadata": {},
   "outputs": [],
   "source": [
    "from transformers import AutoTokenizer, AutoModelForTokenClassification\n",
    "\n",
    "\n",
    "# this model is good but it is not classifiying roles exactly., we need to improve that. confusing ministre and ministere\n",
    "tokenizer = AutoTokenizer.from_pretrained(\"Jean-Baptiste/camembert-ner-with-dates\")\n",
    "model = AutoModelForTokenClassification.from_pretrained(\"Jean-Baptiste/camembert-ner-with-dates\")"
   ]
  },
  {
   "cell_type": "code",
   "execution_count": 34,
   "metadata": {},
   "outputs": [],
   "source": [
    "from transformers import pipeline"
   ]
  },
  {
   "cell_type": "code",
   "execution_count": 35,
   "metadata": {},
   "outputs": [],
   "source": [
    "transformer_ner_pipeline = pipeline('ner', model=model, tokenizer=tokenizer, aggregation_strategy=\"simple\")"
   ]
  },
  {
   "cell_type": "code",
   "execution_count": 36,
   "metadata": {},
   "outputs": [],
   "source": [
    "from tqdm import tqdm\n",
    "import json"
   ]
  },
  {
   "cell_type": "code",
   "execution_count": 43,
   "metadata": {},
   "outputs": [],
   "source": [
    "import spacy\n",
    "\n",
    "spacy_pipeline = spacy.load(\"fr_dep_news_trf\")\n",
    "\n"
   ]
  },
  {
   "cell_type": "code",
   "execution_count": 37,
   "metadata": {},
   "outputs": [],
   "source": [
    "\n",
    "random_id = np.random.randint(0, len(docs))\n",
    "sample_document = docs[random_id]"
   ]
  },
  {
   "cell_type": "code",
   "execution_count": 38,
   "metadata": {},
   "outputs": [
    {
     "data": {
      "text/plain": [
       "<Document: {'content': 'Il cite notamment : la neutralisation de plusieurs centaines de miliciensla reddition de nombreux elements de ces groupes armes , la recuperation d’armes et des munitions par les forces armees de la Republique , le demantelement de plusieurs reseaux de trafics illicites d’armes et munitions, des minerais, et de ravitaillement des groupes armes dans divers produits ; la recuperation de nombreuses localites de l’Est du pays qui etaient jadis coupees par des rebelles ; la liberation de nombreux otages autrefois detenus par les groupes armes dont les ADF ; la reouverture de certains axes routiers importants qui etait jadis sous le controle des forces negatives ; la reduction sensible des incursions contre la population civile.', 'content_type': 'text', 'score': None, 'meta': {'posted_at': '', '_split_id': 1}, 'embedding': None, 'id': 'e8e3bc1ebb40be8804720542badbb57a'}>"
      ]
     },
     "execution_count": 38,
     "metadata": {},
     "output_type": "execute_result"
    }
   ],
   "source": [
    "sample_document"
   ]
  },
  {
   "cell_type": "code",
   "execution_count": 40,
   "metadata": {},
   "outputs": [],
   "source": [
    "from src.data.corpus_builder_utils import DocumentContext, AllCorpusBuilder, Sentence"
   ]
  },
  {
   "cell_type": "code",
   "execution_count": 44,
   "metadata": {},
   "outputs": [
    {
     "name": "stderr",
     "output_type": "stream",
     "text": [
      "/Users/es.py/Projects/Personal/multilingual-drc-news-chatbot/.venv/lib/python3.9/site-packages/torch/autocast_mode.py:162: UserWarning: User provided device_type of 'cuda', but CUDA is not available. Disabling\n",
      "  warnings.warn('User provided device_type of \\'cuda\\', but CUDA is not available. Disabling')\n"
     ]
    }
   ],
   "source": [
    "sample_document_context = DocumentContext(sample_document.content, \n",
    "                                          spacy_pipeline=spacy_pipeline,\n",
    "                                          ner_pipeline=transformer_ner_pipeline,\n",
    "                                          bm25_retriever_positive=bm25_retriever_positive,)"
   ]
  },
  {
   "cell_type": "code",
   "execution_count": 40,
   "metadata": {},
   "outputs": [],
   "source": [
    "sample_document_context.generate_sentences()"
   ]
  },
  {
   "cell_type": "code",
   "execution_count": 41,
   "metadata": {},
   "outputs": [],
   "source": [
    "BASE_QA_PATH = DATA_PATH.joinpath(\"processed\", \"DRC-News-UQA\")\n",
    "assert BASE_QA_PATH.exists()"
   ]
  },
  {
   "cell_type": "code",
   "execution_count": 45,
   "metadata": {},
   "outputs": [],
   "source": [
    "corpus_builder = AllCorpusBuilder(\n",
    "    ner_pipeline=spacy_pipeline,\n",
    "    transformer_pipeline=transformer_ner_pipeline,\n",
    "    retriever=bm25_retriever_positive,\n",
    "    all_docs=all_docs,\n",
    "    base_folder=BASE_QA_PATH,\n",
    "    corpus_name=\"drc-news-uqa-small-dev.json\"\n",
    ")"
   ]
  },
  {
   "cell_type": "code",
   "execution_count": 46,
   "metadata": {},
   "outputs": [
    {
     "name": "stderr",
     "output_type": "stream",
     "text": [
      "generating dataset:   0%|          | 0/200 [00:00<?, ?it/s]/Users/es.py/Projects/Personal/multilingual-drc-news-chatbot/.venv/lib/python3.9/site-packages/elasticsearch/connection/base.py:190: ElasticsearchDeprecationWarning: Elasticsearch built-in security features are not enabled. Without authentication, your cluster could be accessible to anyone. See https://www.elastic.co/guide/en/elasticsearch/reference/7.16/security-minimal-setup.html to enable security.\n",
      "  warnings.warn(message, category=ElasticsearchDeprecationWarning)\n",
      "generating dataset: 100%|██████████| 200/200 [11:56<00:00,  3.58s/it]\n"
     ]
    }
   ],
   "source": [
    "corpus_builder.build_corpus()"
   ]
  },
  {
   "cell_type": "code",
   "execution_count": null,
   "metadata": {},
   "outputs": [],
   "source": []
  },
  {
   "cell_type": "code",
   "execution_count": 47,
   "metadata": {},
   "outputs": [
    {
     "name": "stdout",
     "output_type": "stream",
     "text": [
      "Wrote 773 records to /Users/es.py/Projects/Personal/multilingual-drc-news-chatbot/data/processed/DRC-News-UQA/drc-news-uqa-small-dev.json\n"
     ]
    }
   ],
   "source": [
    "corpus_builder.combine_all_file_to_one()"
   ]
  },
  {
   "cell_type": "markdown",
   "metadata": {},
   "source": [
    "We all the utilities function we can go 2 ways from this: \n",
    "- train a dense passage retriever\n",
    "- train a reader , leveraging our BM25 model and using the paper from the [span selection pretraining.](https://github.com/IBM/span-selection-pretraining/blob/master/sspt/sspt_gen_async.py)"
   ]
  },
  {
   "cell_type": "markdown",
   "metadata": {},
   "source": []
  },
  {
   "cell_type": "markdown",
   "metadata": {},
   "source": [
    "#### Implementation of the Training\n",
    "\n",
    "Retriever details \n",
    "\n",
    "For the retriever we will use the BM25 to retrieve for each question the positive context and the negative context.\n",
    "\n",
    "The postive context are the paragraphs where the asnwer is located and the hard negative context are the context that does not contain the answer.\n",
    "\n",
    "We will use only positive answer to train our model, for the dense passage retrieval fine tunning we will use the positive and negative context."
   ]
  },
  {
   "cell_type": "code",
   "execution_count": null,
   "metadata": {},
   "outputs": [],
   "source": []
  },
  {
   "cell_type": "code",
   "execution_count": null,
   "metadata": {},
   "outputs": [],
   "source": []
  }
 ],
 "metadata": {
  "kernelspec": {
   "display_name": "Python 3.9.7 ('.venv': poetry)",
   "language": "python",
   "name": "python3"
  },
  "language_info": {
   "codemirror_mode": {
    "name": "ipython",
    "version": 3
   },
   "file_extension": ".py",
   "mimetype": "text/x-python",
   "name": "python",
   "nbconvert_exporter": "python",
   "pygments_lexer": "ipython3",
   "version": "3.9.7"
  },
  "toc": {
   "base_numbering": 1,
   "nav_menu": {},
   "number_sections": true,
   "sideBar": true,
   "skip_h1_title": false,
   "title_cell": "Table of Contents",
   "title_sidebar": "Contents",
   "toc_cell": false,
   "toc_position": {},
   "toc_section_display": true,
   "toc_window_display": true
  },
  "vscode": {
   "interpreter": {
    "hash": "6e18561f9b3508842a7e27c31e07753b72154ec003d59bf44fbebcfef9c0c06c"
   }
  }
 },
 "nbformat": 4,
 "nbformat_minor": 2
}
