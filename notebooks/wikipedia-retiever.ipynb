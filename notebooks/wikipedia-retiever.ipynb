{
 "cells": [
  {
   "cell_type": "markdown",
   "metadata": {},
   "source": [
    "In this notebook we will index the french dump version of the wikipedia dataset, and use with the retrieval for our qa/system"
   ]
  },
  {
   "cell_type": "code",
   "execution_count": 40,
   "metadata": {},
   "outputs": [],
   "source": [
    "import numpy as np\n",
    "from haystack.utils import clean_wiki_text, convert_files_to_docs, fetch_archive_from_http, print_answers"
   ]
  },
  {
   "cell_type": "code",
   "execution_count": 2,
   "metadata": {},
   "outputs": [],
   "source": [
    "from datasets import load_dataset"
   ]
  },
  {
   "cell_type": "code",
   "execution_count": 3,
   "metadata": {},
   "outputs": [
    {
     "name": "stderr",
     "output_type": "stream",
     "text": [
      "WARNING - datasets.load -  Using the latest cached version of the module from /Users/es.py/.cache/huggingface/modules/datasets_modules/datasets/wikipedia/aa542ed919df55cc5d3347f42dd4521d05ca68751f50dbc32bae2a7f1e167559 (last modified on Wed Jul 13 11:01:44 2022) since it couldn't be found locally at wikipedia., or remotely on the Hugging Face Hub.\n",
      "WARNING - datasets.builder -  Reusing dataset wikipedia (/Users/es.py/.cache/huggingface/datasets/wikipedia/20220301.fr/2.0.0/aa542ed919df55cc5d3347f42dd4521d05ca68751f50dbc32bae2a7f1e167559)\n"
     ]
    }
   ],
   "source": [
    "wiki_corpus = load_dataset(\"wikipedia\", \"20220301.fr\", split=\"train\")"
   ]
  },
  {
   "cell_type": "code",
   "execution_count": 4,
   "metadata": {},
   "outputs": [
    {
     "name": "stderr",
     "output_type": "stream",
     "text": [
      "WARNING - datasets.arrow_dataset -  Loading cached shuffled indices for dataset at /Users/es.py/.cache/huggingface/datasets/wikipedia/20220301.fr/2.0.0/aa542ed919df55cc5d3347f42dd4521d05ca68751f50dbc32bae2a7f1e167559/cache-a0a7d2df10490c15.arrow\n"
     ]
    }
   ],
   "source": [
    "wiki_corpus = wiki_corpus.shuffle(seed=42)"
   ]
  },
  {
   "cell_type": "code",
   "execution_count": 5,
   "metadata": {},
   "outputs": [],
   "source": [
    "sample_wiki = wiki_corpus.shard(100, index=0)"
   ]
  },
  {
   "cell_type": "code",
   "execution_count": 6,
   "metadata": {},
   "outputs": [],
   "source": [
    "sample_doc_dict = sample_wiki[1]"
   ]
  },
  {
   "cell_type": "code",
   "execution_count": 7,
   "metadata": {},
   "outputs": [
    {
     "data": {
      "text/plain": [
       "{'id': '12576878',\n",
       " 'url': 'https://fr.wikipedia.org/wiki/Teinture%20naturelle',\n",
       " 'title': 'Teinture naturelle',\n",
       " 'text': \"Une teinture naturelle est une matière colorante dérivée de plantes ou d'invertébrés. On parle de teinture quand il s'agit de colorer des textiles au moyen de produits solubles dans l'eau ; les minéraux donnent des colorants insolubles appelés pigments qui s'appliquent mal à cet usage.\\n\\nLa plupart des teintures naturelles proviennent de racines, de baies, d'écorce, de feuilles ou de bois de plantes tinctoriales ou bien de champignons ou de lichens.\\n\\nHistoire \\n\\nLe concept de teinture naturelle se développe par opposition aux teintures issues de la chimie organique dans la deuxième moitié du . Il oppose aux produits de l'industrie chimique, les teintures que des artisans peuvent extraire de plantes, de lichens, d'insectes. Auparavant, on ne considérait comme naturelles que les quelques substances utilisables sans transformation, tandis que la plupart des teintures, artificielles ou préparées, avaient subi un important processus d'élaboration. Par ailleurs, les cultivateurs de plantes tinctoriales ont consacré de grands efforts pour leur amélioration, ce qui fait que les variétés utilisées n'étaient pas véritablement « naturelles ». Quoi qu'il en soit, toutes les teintures antérieures à l'industrie chimique sont désormais classées comme teintures naturelles.\\n\\nL'archéologie a trouvé des traces de teinture textile datant du Néolithique. En Chine, la teinture avec des plantes, des écorces et des insectes remonte à plus de . Le processus habituel de la teinture a peu changé avec le temps. Le teinturier prépare la matière colorante par broyage, macération, filtrage, cuisson et autres procédés, avant de la diluer dans une cuve d'eau. Il y ajoute le matériau à colorer, puis chauffe et brasse jusqu'à ce que la couleur soit transférée. Les fibres textiles peuvent être teintes avant le filage (), mais la plupart sont « teintes au fil » ou  « teintes en pièces » après tissage. Les colorants solubles requièrent l'utilisation de produits chimiques appelés mordants pour lier la teinture aux fibres textiles, faute de quoi la couleur s'enfuit dès que le textile est humide, par exemple au contact de la sueur. Les premiers teinturiers utilisaient le tanin des galles de chêne, le sel, l'alun naturel, le vinaigre et l'ammoniac de l'urine. De nombreux mordants, et certains colorants eux-mêmes, produisent de fortes odeurs, et les teintureries à grande échelle sont souvent isolées dans leurs propres quartiers.\\n\\nTout au long de l'Histoire, les gens ont teint leurs textiles à l'aide de matériaux communs et disponibles localement. Les rares colorants qui produisaient des couleurs vives et solides comme les colorants naturels à base d'invertébrés, la pourpre de Tyr et le carmin de kermès, sont devenus très prisés dans le monde antique et médiéval. Des teintures végétales telles que la guède (pastel des teinturiers), l'indigo, le safran et la garance étaient cultivées pour la vente et constituaient des marchandises importantes dans les économies d'Asie et d'Europe. En Asie et en Afrique, des tissus décorés ont été produits à l'aide de techniques de teinture par réserve, nouage ou batik, pour que empêcher que la teinture n'atteigne certaines parties du tissu. Des teintures à base de cochenille et le campêche (Haematoxylum campechianum) ont été apportées en Europe par les flottes espagnoles, et les colorants d'Europe ont été transportés en Amérique par les colons.\\n\\nL'invention de teintures synthétiques à partir du milieu du  a provoqué un long déclin du marché à grande échelle des colorants naturels. L'industrie chimique peut produire les colorants synthétiques en grandes quantités ; ils ont progressivement remplacé les colorants naturels dans l'industrie textile. Certaines matières colorantes naturelles sont toxiques ; certaines ne peuvent plus être fabriquées à cause de la disparition de l'espèce naturelle source ou parce que le procédé d'extraction est excessivement laborieux ; les colorants naturels ne conviennent pas aux fibres synthétiques inventées au . Les teinturiers disposaient d'une douzaine de colorants suffisamment solides ; l'industrie chimique en propose 4000.\\n\\nLes artistes du mouvement  de la fin du  ont promu les couleurs atténuées variabilité des teintures naturelles, qui s'adoucissent avec l'âge mais conservent leurs vraies couleurs, contrairement aux teintures synthétiques anciennes. Ils ont contribué à garantir la préservation des anciennes techniques européennes de teinture et d'impression avec des colorants naturels pour les teinturiers domestiques et artisanaux. Les artisans des cultures traditionnelles du monde entier préservent aussi les techniques de teinture naturelle. Cependant, plusieurs procédés de teinture à base de produits naturels sont devenus difficiles ou impossibles, soit à cause de l'énorme travail d'extraction du colorant, qui n'était viable qu'avec des consommateurs royaux capable de rétribuer cet effort, soit à cause de la disparition des espèces sources.\\n\\nAu début du , le marché des teintures naturelles dans l'industrie de la mode connaît une résurgence. Les consommateurs occidentaux sont de plus en plus préoccupés par l'impact des colorants synthétiques sur la santé et l'environnement dans la fabrication et il existe une demande croissante pour des produits qui utilisent des colorants naturels. L'Union européenne, par exemple, a encouragé les producteurs indonésiens de tissus de batik à passer aux teintures naturelles pour améliorer leur marché d'exportation en Europe.\\n\\nTeintures utilisées dans l'industrie du vêtement \\n\\nLa nature de la fibre détermine le type de teinture pour un tissu :\\n fibres de cellulose : coton, lin, chanvre, ramie, bambou, viscose ;\\n fibres de protéine : laine, angora, mohair, cachemire, soie, cuir, suède.\\n\\nLes fibres cellulosiques nécessitent des colorants réactifs aux fibres, directs ou substantiels et des colorants de cuve, qui sont des colorants solubles incolores, fixés par la lumière et/ou l'oxygène ; les fibres protéiques, des colorants de cuve, acides ou indirects/mordants, qui imposent un liant. Chaque fibre synthétique implique une méthode propre de teinture. Ainsi, le nylon se teint avec des colorants acides, dispersés et pigmentaires, la viscose avec des colorants dispersés. Les types de colorants naturels actuellement utilisés par l'industrie mondiale du vêtement comprennent :\\n\\nOrigines \\n\\nLes couleurs de la gamme des rouges, bruns et oranges sont les premières couleurs attestées dans un certain nombre de sites textiles anciens allant du Néolithique à l'âge du bronze, en passant par le Levant, l'Égypte, la Mésopotamie et l'Europe. Suivent des traces de bleus puis de jaunes, le vert apparaissant un peu plus tard. Les premiers vestiges de teinture textile ont été trouvés dans le grand établissement néolithique de Çatal Höyük, dans le sud de l'Anatolie, où des traces de teintures rouges, peut-être à partir d'ocre (pigments d'oxyde de fer à partir d'argile), ont été découvertes. Les tissus polychromes ou multicolores semblent avoir été développés au  ou  millénaire avant notre ère.\\xa0Dans les pyramides égyptiennes de la sixième dynastie (2345-2180), on a découvert des textiles avec une « chaîne rouge-brun et une trame ocre-jaune ».\\n\\nL'analyse chimique qui permettrait d'identifier définitivement les colorants utilisés dans les textiles anciens a rarement été effectuée. Même lorsqu'un colorant tel que le bleu indigo est détecté, il est impossible de déterminer parmi plusieurs plantes contenant de l'indigo laquelle a été utilisée. Néanmoins, d'après les couleurs des fragments textiles survivants et les traces de colorants réels trouvés dans les sites archéologiques, les rouges, les bleus et les jaunes d'origine végétale étaient d'usage courant à la fin de l'âge du bronze et à l'âge du fer.\\n\\nAu XVIIIe siècle,  a apporté une contribution importante au raffinage du processus de teinture, en particulier en ce qui concerne l'établissement de normes pour la teinture de la laine de mouton et de nombreux autres textiles. Sa contribution à l'amélioration du processus de la teinture, et ses théories sur la couleur ont été très appréciées par le poète, artiste et théoricien de l'art Johann Wolfgang von Goethe.\\n\\nProcédés \\n\\nLe processus essentiel de teinture consiste à tremper le matériau contenant le produit colorant dans l'eau, à ajouter le textile à teindre à la solution obtenue (le bain de teinture) et à faire bouillir doucement la solution pendant une période prolongée, souvent mesurée en jours ou même en semaines, en remuant de temps en temps jusqu'à ce que la couleur soit uniformément transférée aux textiles.\\n\\nCertains colorants, comme l'indigo et les lichens, donnent une bonne couleur lorsqu'ils sont utilisés seuls ; ces colorants sont appelés colorants directs ou colorants de fond. Cependant, la majorité des colorants végétaux nécessitent également l'utilisation d'un mordant, un produit chimique utilisé pour  la couleur dans les fibres textiles. Ces colorants sont appelés colorants adjectifs. En utilisant différents mordants, les teinturiers peuvent souvent obtenir une variété de couleurs et de nuances à partir du même colorant. Les fibres ou le tissu peuvent être prétraités avec des mordants, ou le mordant peut être incorporé dans le bain de teinture. Dans la teinture traditionnelle, les mordants communs sont le vinaigre, le tanin de l'écorce de chêne, le sumac ou les galles du chêne, l'ammoniac de l'urine ventilée, et la liqueur ou la potasse (carbonate de potassium) du bois, obtenue par lixiviation des cendres de bois et évaporation de la solution.\\n\\nLe sel aide à  ou à augmenter la solidité des couleurs, le vinaigre améliore les rouges et les violets, et l'ammoniac dans l'urine fermentée favorise la fermentation des colorants indigo. L'alun naturel (sulfate d'aluminium) est le sel métallique mordant le plus commun, mais l'étain (chlorure d'étain(II)), le cuivre (sulfate de cuivre), le fer (sulfate de fer(II), appelé copperas) et le chrome (dichromate de potassium) sont aussi utilisés.\\xa0 Les mordants de fer  les couleurs, tandis que les mordants d'étain et de chrome  les couleurs. Les mordants de fer contribuent à la détérioration des tissus, appelée . D'autres produits chimiques ou agents de modification peuvent être appliqués après la teinture pour modifier ou renforcer davantage les couleurs.\\n\\nLes textiles peuvent être teints sous forme de fibres brutes (teintes dans la toison ou dans la laine), de fils filés (teints dans les écheveaux ou teints dans le fil) ou après tissage (teints en pièces). Les mordants laissent souvent des résidus dans la fibre de laine, ce qui la rend difficile à filer, de sorte que la laine était généralement teinte après le filage, sous forme de fil ou de tissu tissé.\\xa0 L'indigo, cependant, n'exige aucun mordant, et les fabricants de tissu dans l'Angleterre médiévale ont souvent teint la laine dans la toison avec le pastel de plante indigo et ont alors teint le tissu encore après tissage pour produire des bleus profonds, bruns, rouges, violets, noirs, et fauvettes.\\n\\nDes tissus décorés sont produits en combinant, au tissage, des fils de couleurs différente. En Chine, au Japon, en Inde, dans plusieurs régions de l'Afrique de l'Ouest et de l'Asie du Sud-Est, des tissus de coton et de soie sont imprimés à motifs avec des techniques de réserve à l'amidon où à la cire comme le batik, ou par nouage, comme le shibori de diverses manières pour empêcher la pénétration de la teinture. On utilise aussi l'impression par bois gravé et le pochoir, comme pour le katagami.\\n\\nBeaucoup de produits de teinturerie produisent des odeurs puissantes et désagréables, et la fabrication utilise fréquemment des produits qu'on évite en général par hygiène, comme l'urine. La teinture des fils et des tissus consomme beaucoup d'eau douce et de combustibles et occupe un espace assez vaste, en comptant les espaces aérés nécessaires au séchage des pièces teintes. Les anciens quartiers de teinturiers étaient plutôt placés en périphérie des espaces habités, ou sur des promontoires venteux.\\n\\nRecherches \\nL'industrie chimique est issue, en grande partie, de la recherche vue de la substitution des teintures naturelles par des équivalents synthétiques ou des produits entièrement artificiels. Ces travaux ont débouché sur une théorie des chromophores et des milliers de teintures nouvelles. Dans ces productions, l'industrie s'occupe de substances pures et conçues pour l'usage. Les substances d'origine naturelles sont beaucoup plus complexes. Elles sont impures ; leur mode d'association avec les fibres textiles n'est pas entièrement élucidée. Depuis l'Antiquité, les teinturiers ont, au cours des siècles, empiriquement constitué et transmis les opérations qui allaient, progressivement, se transformer en chimie. Leur explication théorique reste à faire. L'étude des teintures naturelles inclut la reconstitution précise, en laboratoire, des procédés anciens.\\n\\nAnnexes\\n\\nBibliographie \\n\\n  \\n .\\n \\n Bryan, Nonabah Gorman & Young, Stella (2002). Navajo Natives Dyes: Their Preparation and Use. Dover Publications. .\\n\\nLiens externes \\n International Mushroom Dye Institute\\n Cochineal Master's Thesis-History and Uses\\n\\nArticles connexes \\n Dominique Cardon (historienne)\\n Arts & Crafts\\n\\nNotes\"}"
      ]
     },
     "execution_count": 7,
     "metadata": {},
     "output_type": "execute_result"
    }
   ],
   "source": [
    "sample_doc_dict"
   ]
  },
  {
   "cell_type": "code",
   "execution_count": 10,
   "metadata": {},
   "outputs": [],
   "source": [
    "from haystack.schema import Document"
   ]
  },
  {
   "cell_type": "code",
   "execution_count": 11,
   "metadata": {},
   "outputs": [],
   "source": [
    "docs = Document.from_dict(sample_doc_dict, field_map={\"text\": \"content\"})"
   ]
  },
  {
   "cell_type": "markdown",
   "metadata": {},
   "source": [
    "#### Building the Elastic Search Index"
   ]
  },
  {
   "cell_type": "code",
   "execution_count": 12,
   "metadata": {},
   "outputs": [],
   "source": [
    "from haystack.utils import clean_wiki_text, convert_files_to_docs"
   ]
  },
  {
   "cell_type": "code",
   "execution_count": 39,
   "metadata": {},
   "outputs": [],
   "source": [
    "from haystack.errors import HaystackError\n",
    "from haystack.schema import Document\n",
    "from typing import List, Optional, Generator, Set, Union, Callable, Dict\n",
    "from copy import deepcopy\n",
    "from haystack.nodes import PreProcessor\n",
    "import re"
   ]
  },
  {
   "cell_type": "code",
   "execution_count": 14,
   "metadata": {},
   "outputs": [],
   "source": [
    "from gensim.utils import deaccent\n",
    "\n",
    "def remove_accents(document):\n",
    "    input_without_accent = deaccent(document)\n",
    "    return input_without_accent"
   ]
  },
  {
   "cell_type": "code",
   "execution_count": 15,
   "metadata": {},
   "outputs": [],
   "source": [
    "async def convert_wiki_article_to_docs(\n",
    "    item: dict,\n",
    "    clean_func: Optional[Callable] = None,\n",
    "    split_paragraphs: bool = False,\n",
    ") -> List[Document]:\n",
    "    \"\"\"\n",
    "    item\n",
    "\n",
    "    :param items: dict of items\n",
    "    :param clean_func: a custom cleaning function that gets applied to each doc (input: str, output:str)\n",
    "    :param split_paragraphs: split text in paragraphs.\n",
    "    \"\"\"\n",
    "    documents = []\n",
    "    processed = 0\n",
    "    text = item.get(\"text\")\n",
    "    text = remove_accents(text)\n",
    "    if clean_func:\n",
    "        text = clean_func(text)\n",
    "    if split_paragraphs:\n",
    "        for para in text.split(\"\\n\"):\n",
    "            if 200 <= len(para.strip()) <= 2000:\n",
    "                # just pick the paragraph with length between 50 and 1500\n",
    "                processed += 1\n",
    "                doc = Document(content=para, meta={\"title\": item.get(\"title\")}, id=item.get(\"id\"))\n",
    "                documents.append(doc)\n",
    "            else:\n",
    "                continue\n",
    "    else:\n",
    "        processed += 1\n",
    "        doc = Document(content=text, meta={\"title\": item.get(\"title\")}, id=item.get(\"id\"))\n",
    "        documents.append(doc)\n",
    "    \n",
    "    return documents"
   ]
  },
  {
   "cell_type": "code",
   "execution_count": 16,
   "metadata": {},
   "outputs": [],
   "source": [
    "import asyncio"
   ]
  },
  {
   "cell_type": "markdown",
   "metadata": {},
   "source": [
    "#### Saving the Document in the retriever"
   ]
  },
  {
   "cell_type": "code",
   "execution_count": 17,
   "metadata": {},
   "outputs": [],
   "source": [
    "from tqdm import tqdm\n",
    "from tqdm.asyncio import tqdm_asyncio\n",
    "from haystack.document_stores import ElasticsearchDocumentStore\n"
   ]
  },
  {
   "cell_type": "code",
   "execution_count": 137,
   "metadata": {},
   "outputs": [],
   "source": [
    "INDEX_NAME = 'fr-wikipedia'"
   ]
  },
  {
   "cell_type": "code",
   "execution_count": 138,
   "metadata": {},
   "outputs": [],
   "source": [
    "%%script false --no-raise-error\n",
    "document_store = ElasticsearchDocumentStore(index=INDEX_NAME, recreate_index=True, analyzer=\"french\")"
   ]
  },
  {
   "cell_type": "code",
   "execution_count": 76,
   "metadata": {},
   "outputs": [],
   "source": [
    "%%script false --no-raise-error\n",
    "all_docs = []\n",
    "for i in range(0, 100):\n",
    "    shard = wiki_corpus.shard(100, index=i)\n",
    "    with tqdm(total=shard.shape[0]) as pbar:\n",
    "        docs_in_shard = tqdm_asyncio.gather(*[convert_wiki_article_to_docs(item, clean_func=clean_wiki_text, split_paragraphs=True) for item in shard])\n",
    "        all_docs.append(docs_in_shard)\n",
    "    print(\"done with shard \", i)"
   ]
  },
  {
   "cell_type": "code",
   "execution_count": null,
   "metadata": {},
   "outputs": [],
   "source": [
    "from  functools import reduce\n",
    "from operator import iconcat"
   ]
  },
  {
   "cell_type": "code",
   "execution_count": 77,
   "metadata": {},
   "outputs": [],
   "source": [
    "%%script false --no-raise-error\n",
    "with tqdm(total=len(all_docs)) as pbar:\n",
    "     scan_results = await tqdm_asyncio.gather(*all_docs[90:100])"
   ]
  },
  {
   "cell_type": "code",
   "execution_count": 78,
   "metadata": {},
   "outputs": [],
   "source": [
    "%%script false --no-raise-error\n",
    "scan_results = reduce(iconcat, scan_results, [])\n",
    "scan_results = reduce(iconcat, scan_results, [])"
   ]
  },
  {
   "cell_type": "markdown",
   "metadata": {},
   "source": [
    "With our document indexted int the elastic searh we can search , use the piaf dataset which have question with answers without paragraph and leverage them."
   ]
  },
  {
   "cell_type": "code",
   "execution_count": 67,
   "metadata": {},
   "outputs": [],
   "source": [
    "from collections import deque"
   ]
  },
  {
   "cell_type": "code",
   "execution_count": 68,
   "metadata": {},
   "outputs": [],
   "source": [
    "from elasticsearch.helpers import bulk, parallel_bulk, scan\n",
    "def write_documents_parallel(\n",
    "        self,\n",
    "        documents: Union[List[dict], List[Document]],\n",
    "        index: Optional[str] = None,\n",
    "        batch_size: int = 10_000,\n",
    "        duplicate_documents: Optional[str] = None,\n",
    "        headers: Optional[Dict[str, str]] = None,\n",
    "    ):\n",
    "        \"\"\"\n",
    "        Indexes documents for later queries in Elasticsearch./ an update for the index that use parralell bluk\n",
    "\n",
    "        Behaviour if a document with the same ID already exists in ElasticSearch:\n",
    "        a) (Default) Throw Elastic's standard error message for duplicate IDs.\n",
    "        b) If `self.update_existing_documents=True` for DocumentStore: Overwrite existing documents.\n",
    "        (This is only relevant if you pass your own ID when initializing a `Document`.\n",
    "        If don't set custom IDs for your Documents or just pass a list of dictionaries here,\n",
    "        they will automatically get UUIDs assigned. See the `Document` class for details)\n",
    "\n",
    "        :param documents: a list of Python dictionaries or a list of Haystack Document objects.\n",
    "                          For documents as dictionaries, the format is {\"content\": \"<the-actual-text>\"}.\n",
    "                          Optionally: Include meta data via {\"content\": \"<the-actual-text>\",\n",
    "                          \"meta\":{\"name\": \"<some-document-name>, \"author\": \"somebody\", ...}}\n",
    "                          It can be used for filtering and is accessible in the responses of the Finder.\n",
    "                          Advanced: If you are using your own Elasticsearch mapping, the key names in the dictionary\n",
    "                          should be changed to what you have set for self.content_field and self.name_field.\n",
    "        :param index: Elasticsearch index where the documents should be indexed. If not supplied, self.index will be used.\n",
    "        :param batch_size: Number of documents that are passed to Elasticsearch's bulk function at a time.\n",
    "        :param duplicate_documents: Handle duplicates document based on parameter options.\n",
    "                                    Parameter options : ( 'skip','overwrite','fail')\n",
    "                                    skip: Ignore the duplicates documents\n",
    "                                    overwrite: Update any existing documents with the same ID when adding documents.\n",
    "                                    fail: an error is raised if the document ID of the document being added already\n",
    "                                    exists.\n",
    "        :param headers: Custom HTTP headers to pass to elasticsearch client (e.g. {'Authorization': 'Basic YWRtaW46cm9vdA=='})\n",
    "                Check out https://www.elastic.co/guide/en/elasticsearch/reference/current/http-clients.html for more information.\n",
    "        :raises DuplicateDocumentError: Exception trigger on duplicate document\n",
    "        :return: None\n",
    "        \"\"\"\n",
    "\n",
    "        if index and not self.client.indices.exists(index=index, headers=headers):\n",
    "            self._create_document_index(index, headers=headers)\n",
    "\n",
    "        if index is None:\n",
    "            index = self.index\n",
    "        duplicate_documents = duplicate_documents or self.duplicate_documents\n",
    "        assert (\n",
    "            duplicate_documents in self.duplicate_documents_options\n",
    "        ), f\"duplicate_documents parameter must be {', '.join(self.duplicate_documents_options)}\"\n",
    "\n",
    "        field_map = self._create_document_field_map()\n",
    "        document_objects = [Document.from_dict(d, field_map=field_map) if isinstance(d, dict) else d for d in documents]\n",
    "        document_objects = self._handle_duplicate_documents(\n",
    "            documents=document_objects, index=index, duplicate_documents=duplicate_documents, headers=headers\n",
    "        )\n",
    "        documents_to_index = []\n",
    "        for doc in tqdm(document_objects):\n",
    "            _doc = {\n",
    "                \"_op_type\": \"index\" if duplicate_documents == \"overwrite\" else \"create\",\n",
    "                \"_index\": index,\n",
    "                **doc.to_dict(field_map=self._create_document_field_map()),\n",
    "            }  # type: Dict[str, Any]\n",
    "\n",
    "            # cast embedding type as ES cannot deal with np.array\n",
    "            if _doc[self.embedding_field] is not None:\n",
    "                if type(_doc[self.embedding_field]) == np.ndarray:\n",
    "                    _doc[self.embedding_field] = _doc[self.embedding_field].tolist()\n",
    "\n",
    "            # rename id for elastic\n",
    "            _doc[\"_id\"] = str(_doc.pop(\"id\"))\n",
    "\n",
    "            # don't index query score and empty fields\n",
    "            _ = _doc.pop(\"score\", None)\n",
    "            _doc = {k: v for k, v in _doc.items() if v is not None}\n",
    "\n",
    "            # In order to have a flat structure in elastic + similar behaviour to the other DocumentStores,\n",
    "            # we \"unnest\" all value within \"meta\"\n",
    "            if \"meta\" in _doc.keys():\n",
    "                for k, v in _doc[\"meta\"].items():\n",
    "                    _doc[k] = v\n",
    "                _doc.pop(\"meta\")\n",
    "            documents_to_index.append(_doc)\n",
    "\n",
    "            # Pass batch_size number of documents to bulk\n",
    "            if len(documents_to_index) % batch_size == 0:\n",
    "                pb_ = parallel_bulk(self.client, \n",
    "                              documents_to_index, \n",
    "                              chunk_size=10000, \n",
    "                              thread_count=8, \n",
    "                              queue_size=8,\n",
    "                              refresh=self.refresh_type, \n",
    "                              headers=headers)\n",
    "                deque(pb_, maxlen=0)\n",
    "                documents_to_index = []\n",
    "\n",
    "        if documents_to_index:\n",
    "            pb_= parallel_bulk(self.client, \n",
    "                          documents_to_index, \n",
    "                          chunk_size=10000, \n",
    "                          thread_count=8, \n",
    "                          queue_size=8,\n",
    "                          refresh=self.refresh_type, \n",
    "                          headers=headers)\n",
    "            deque(pb_, maxlen=0)"
   ]
  },
  {
   "cell_type": "code",
   "execution_count": 43,
   "metadata": {},
   "outputs": [],
   "source": [
    "document_store.write_documents_parallel = write_documents_parallel"
   ]
  },
  {
   "cell_type": "code",
   "execution_count": 79,
   "metadata": {},
   "outputs": [],
   "source": [
    "%%script false --no-raise-error\n",
    "write_documents_parallel(document_store, scan_results)"
   ]
  },
  {
   "cell_type": "code",
   "execution_count": 81,
   "metadata": {},
   "outputs": [],
   "source": [
    "from haystack.nodes import BM25Retriever"
   ]
  },
  {
   "cell_type": "code",
   "execution_count": 82,
   "metadata": {},
   "outputs": [],
   "source": [
    "bm25_retriever = BM25Retriever(document_store=document_store, all_terms_must_match=False)"
   ]
  },
  {
   "cell_type": "code",
   "execution_count": 83,
   "metadata": {},
   "outputs": [],
   "source": [
    "import pandas as pd"
   ]
  },
  {
   "cell_type": "code",
   "execution_count": 84,
   "metadata": {},
   "outputs": [],
   "source": [
    "from pathlib import Path\n",
    "DATA_PATH = Path.cwd().joinpath(\"data\")\n",
    "assert DATA_PATH.exists(), \"the data path does not exist\""
   ]
  },
  {
   "cell_type": "code",
   "execution_count": 85,
   "metadata": {},
   "outputs": [],
   "source": [
    "piaf_file = DATA_PATH.joinpath(\"corpus\", \"raw\", \"piaf\", \"questoin-reponse.csv\")"
   ]
  },
  {
   "cell_type": "code",
   "execution_count": 86,
   "metadata": {},
   "outputs": [],
   "source": [
    "assert piaf_file.exists(), \"the piaf dataset does not exist\""
   ]
  },
  {
   "cell_type": "markdown",
   "metadata": {},
   "source": [
    "piaf_question = data"
   ]
  },
  {
   "cell_type": "code",
   "execution_count": 87,
   "metadata": {},
   "outputs": [],
   "source": [
    "piaf_df_without_context = pd.read_csv(piaf_file)"
   ]
  },
  {
   "cell_type": "code",
   "execution_count": 88,
   "metadata": {},
   "outputs": [],
   "source": [
    "sample_question_response = piaf_df_without_context.sample(1)\n",
    "question = deaccent(sample_question_response.question.values[0])\n",
    "response = deaccent(sample_question_response.reponse.values[0])\n"
   ]
  },
  {
   "cell_type": "code",
   "execution_count": 89,
   "metadata": {},
   "outputs": [
    {
     "data": {
      "text/plain": [
       "'Quels plats de viandes epicees sont prepares a partir de ces ingredients ?'"
      ]
     },
     "execution_count": 89,
     "metadata": {},
     "output_type": "execute_result"
    }
   ],
   "source": [
    "question"
   ]
  },
  {
   "cell_type": "code",
   "execution_count": 90,
   "metadata": {},
   "outputs": [],
   "source": [
    "def get_positive_context(retriever: BM25Retriever, search_query:str, answer:str, positive_documents: int = 100) -> List[Document]:    \n",
    "        \"\"\"given entitity retrieve the positive context\n",
    "        we will first retrieve the top  100 documents , \n",
    "        - if the answer is in the top 40 document the input of the reader is the top 40 documents\n",
    "        if the top 40 documents does not contain the answer we check whithin the top 41 to 100 document if the anwer is ther and we put it ther.\n",
    "        other wise we discard the sentence\n",
    "\n",
    "        Args:\n",
    "            retriever (BM25Retriever): _description_\n",
    "            n_ctxs (int, optional): _description_. Defaults to 15.\n",
    "            entity (Entity, optional): _description_. Defaults to None.\n",
    "        \"\"\"\n",
    "        list_pos_ctxs = []\n",
    "        retrieved_docs = retriever.retrieve(query=search_query, top_k=positive_documents)\n",
    "        for index, retrieve_doc in enumerate(retrieved_docs[0:40]):\n",
    "            if answer.lower() in retrieve_doc.content.lower():\n",
    "                list_pos_ctxs.append(\n",
    "                    {\"title\": retrieve_doc.meta.get(\"title\"), \"content\": retrieve_doc.content}\n",
    "                )\n",
    "        if len(list_pos_ctxs) == 0:\n",
    "            for index, retrieve_doc in enumerate(retrieved_docs[40:100]):\n",
    "                if answer.lower() in retrieve_doc.content.lower():\n",
    "                    list_pos_ctxs.append(\n",
    "                        {\"title\": retrieve_doc.meta.get(\"title\"), \"content\": retrieve_doc.content}\n",
    "                    )\n",
    "        else:\n",
    "            pass\n",
    "        if len(list_pos_ctxs) == 0:\n",
    "            return []\n",
    "        return list_pos_ctxs"
   ]
  },
  {
   "cell_type": "markdown",
   "metadata": {},
   "source": [
    "#### Use Piaf Dataset to query context"
   ]
  },
  {
   "cell_type": "code",
   "execution_count": 91,
   "metadata": {},
   "outputs": [
    {
     "name": "stderr",
     "output_type": "stream",
     "text": [
      "WARNING - datasets.load -  Using the latest cached version of the module from /Users/es.py/.cache/huggingface/modules/datasets_modules/datasets/piaf/535c60f4155fe1d644c1746e86131963c082f309d0dbb5ba4d606786c7f4a6ae (last modified on Thu Jul 14 08:39:15 2022) since it couldn't be found locally at piaf., or remotely on the Hugging Face Hub.\n",
      "WARNING - datasets.builder -  Reusing dataset piaf (/Users/es.py/.cache/huggingface/datasets/piaf/plain_text/1.0.0/535c60f4155fe1d644c1746e86131963c082f309d0dbb5ba4d606786c7f4a6ae)\n"
     ]
    },
    {
     "data": {
      "application/vnd.jupyter.widget-view+json": {
       "model_id": "470d7ddd9788465f988795d17eca5c3b",
       "version_major": 2,
       "version_minor": 0
      },
      "text/plain": [
       "  0%|          | 0/1 [00:00<?, ?it/s]"
      ]
     },
     "metadata": {},
     "output_type": "display_data"
    }
   ],
   "source": [
    "piaf_dataset = load_dataset(\"piaf\")"
   ]
  },
  {
   "cell_type": "code",
   "execution_count": 186,
   "metadata": {},
   "outputs": [],
   "source": [
    "piaf_dataset = piaf_dataset[\"train\"]"
   ]
  },
  {
   "cell_type": "code",
   "execution_count": 92,
   "metadata": {},
   "outputs": [
    {
     "name": "stderr",
     "output_type": "stream",
     "text": [
      "/Users/es.py/Projects/Personal/unsupervised-open-domain-french-question-answering/.venv/lib/python3.9/site-packages/elasticsearch/connection/base.py:190: ElasticsearchDeprecationWarning: Elasticsearch built-in security features are not enabled. Without authentication, your cluster could be accessible to anyone. See https://www.elastic.co/guide/en/elasticsearch/reference/7.16/security-minimal-setup.html to enable security.\n",
      "  warnings.warn(message, category=ElasticsearchDeprecationWarning)\n",
      "/Users/es.py/Projects/Personal/unsupervised-open-domain-french-question-answering/.venv/lib/python3.9/site-packages/elasticsearch/connection/base.py:190: ElasticsearchDeprecationWarning: Elasticsearch built-in security features are not enabled. Without authentication, your cluster could be accessible to anyone. See https://www.elastic.co/guide/en/elasticsearch/reference/7.16/security-minimal-setup.html to enable security.\n",
      "  warnings.warn(message, category=ElasticsearchDeprecationWarning)\n"
     ]
    }
   ],
   "source": [
    "for index in tqdm(piaf_df_without_context.index):\n",
    "    question = piaf_df_without_context.loc[index].question\n",
    "    response = piaf_df_without_context.loc[index].reponse\n",
    "    question = deaccent(question)\n",
    "    response = deaccent(response)\n",
    "    retrieved_docs = get_positive_context(retriever=bm25_retriever, search_query=question, answer=response, positive_documents=100)\n",
    "    piaf_df_without_context.loc[index, \"positive_context\"] = retrieved_docs"
   ]
  },
  {
   "cell_type": "markdown",
   "metadata": {},
   "source": [
    "By using our wiki corpus we are able to find some question with positive context, we will leverage them to build our qa system"
   ]
  },
  {
   "cell_type": "code",
   "execution_count": 93,
   "metadata": {},
   "outputs": [],
   "source": [
    "piaf_with_context = piaf_df_without_context.loc[piaf_df_without_context.positive_context.apply(lambda x: len(x)) > 0]"
   ]
  },
  {
   "cell_type": "code",
   "execution_count": 94,
   "metadata": {},
   "outputs": [
    {
     "data": {
      "text/plain": [
       "(2459, 3)"
      ]
     },
     "execution_count": 94,
     "metadata": {},
     "output_type": "execute_result"
    }
   ],
   "source": [
    "piaf_with_context.shape"
   ]
  },
  {
   "cell_type": "markdown",
   "metadata": {},
   "source": [
    "with our dataset , we can find that {{piaf_with_context.shape[0]}} have positive context and that will be usefull to fine tune our model."
   ]
  },
  {
   "cell_type": "code",
   "execution_count": 95,
   "metadata": {},
   "outputs": [],
   "source": [
    "piaf_with_context = piaf_with_context.assign(length_positive_context =piaf_with_context[\"positive_context\"].apply(lambda x: len(x)))"
   ]
  },
  {
   "cell_type": "code",
   "execution_count": 117,
   "metadata": {},
   "outputs": [
    {
     "data": {
      "text/html": [
       "<div>\n",
       "<style scoped>\n",
       "    .dataframe tbody tr th:only-of-type {\n",
       "        vertical-align: middle;\n",
       "    }\n",
       "\n",
       "    .dataframe tbody tr th {\n",
       "        vertical-align: top;\n",
       "    }\n",
       "\n",
       "    .dataframe thead th {\n",
       "        text-align: right;\n",
       "    }\n",
       "</style>\n",
       "<table border=\"1\" class=\"dataframe\">\n",
       "  <thead>\n",
       "    <tr style=\"text-align: right;\">\n",
       "      <th></th>\n",
       "      <th>question</th>\n",
       "      <th>reponse</th>\n",
       "      <th>positive_context</th>\n",
       "      <th>length_positive_context</th>\n",
       "    </tr>\n",
       "  </thead>\n",
       "  <tbody>\n",
       "    <tr>\n",
       "      <th>6756</th>\n",
       "      <td>quel mot ne figure pas dans le webster?</td>\n",
       "      <td>A</td>\n",
       "      <td>[{'title': 'They singulier', 'content': 'En , le pronom  au singulier fait s...</td>\n",
       "      <td>40</td>\n",
       "    </tr>\n",
       "    <tr>\n",
       "      <th>2516</th>\n",
       "      <td>Un dirigeant a-t-il séparé sa région de l'empire ?</td>\n",
       "      <td>Le</td>\n",
       "      <td>[{'title': 'Conquêtes mongoles', 'content': 'Durant ces annees, l'empire se ...</td>\n",
       "      <td>39</td>\n",
       "    </tr>\n",
       "    <tr>\n",
       "      <th>6762</th>\n",
       "      <td>quel est le nom court pour République italienne?</td>\n",
       "      <td>Italie</td>\n",
       "      <td>[{'title': 'Constitution de l'Italie', 'content': 'La constitution italienne...</td>\n",
       "      <td>38</td>\n",
       "    </tr>\n",
       "    <tr>\n",
       "      <th>5539</th>\n",
       "      <td>Comment accordait-on le mridang?</td>\n",
       "      <td>on</td>\n",
       "      <td>[{'title': 'Parchemin', 'content': ' tambours : djembe (chevre, antilope, ze...</td>\n",
       "      <td>38</td>\n",
       "    </tr>\n",
       "    <tr>\n",
       "      <th>11413</th>\n",
       "      <td>qui a parachuté des provisions et mitraillé les positions chinoises ?</td>\n",
       "      <td>la</td>\n",
       "      <td>[{'title': 'Pierre Claude', 'content': 'Le , lors d'un combat aerien contre ...</td>\n",
       "      <td>37</td>\n",
       "    </tr>\n",
       "    <tr>\n",
       "      <th>...</th>\n",
       "      <td>...</td>\n",
       "      <td>...</td>\n",
       "      <td>...</td>\n",
       "      <td>...</td>\n",
       "    </tr>\n",
       "    <tr>\n",
       "      <th>5891</th>\n",
       "      <td>Dans quelle matières sont façonnés les bijoux algériens ?</td>\n",
       "      <td>argent</td>\n",
       "      <td>[{'title': 'Bouton de manchette', 'content': 'Il est souvent considere comme...</td>\n",
       "      <td>2</td>\n",
       "    </tr>\n",
       "    <tr>\n",
       "      <th>5918</th>\n",
       "      <td>Combien d'écoles anglaises appartiennent aux 100 meilleures universités en 2...</td>\n",
       "      <td>12</td>\n",
       "      <td>[{'title': 'Flávio Augusto da Silva', 'content': 'Ne et eleve dans la banlie...</td>\n",
       "      <td>2</td>\n",
       "    </tr>\n",
       "    <tr>\n",
       "      <th>5919</th>\n",
       "      <td>Combien d'écoles anglaises appartiennent aux 100 meilleures universités en 2...</td>\n",
       "      <td>12</td>\n",
       "      <td>[{'title': 'Flávio Augusto da Silva', 'content': 'Ne et eleve dans la banlie...</td>\n",
       "      <td>2</td>\n",
       "    </tr>\n",
       "    <tr>\n",
       "      <th>5920</th>\n",
       "      <td>où est classée l'université d'oxford en 2018 ?</td>\n",
       "      <td>première</td>\n",
       "      <td>[{'title': 'Alfred Dürr', 'content': 'Durr etudia la musicologie et la philo...</td>\n",
       "      <td>2</td>\n",
       "    </tr>\n",
       "    <tr>\n",
       "      <th>5923</th>\n",
       "      <td>combien d'écoles anglaises sont dans le top 100 en 2019?</td>\n",
       "      <td>18</td>\n",
       "      <td>[{'title': 'Weingut Riffel', 'content': ' La presse internationale specialis...</td>\n",
       "      <td>2</td>\n",
       "    </tr>\n",
       "  </tbody>\n",
       "</table>\n",
       "<p>1100 rows × 4 columns</p>\n",
       "</div>"
      ],
      "text/plain": [
       "                                                                              question  \\\n",
       "6756                                           quel mot ne figure pas dans le webster?   \n",
       "2516                                Un dirigeant a-t-il séparé sa région de l'empire ?   \n",
       "6762                                  quel est le nom court pour République italienne?   \n",
       "5539                                                  Comment accordait-on le mridang?   \n",
       "11413            qui a parachuté des provisions et mitraillé les positions chinoises ?   \n",
       "...                                                                                ...   \n",
       "5891                         Dans quelle matières sont façonnés les bijoux algériens ?   \n",
       "5918   Combien d'écoles anglaises appartiennent aux 100 meilleures universités en 2...   \n",
       "5919   Combien d'écoles anglaises appartiennent aux 100 meilleures universités en 2...   \n",
       "5920                                    où est classée l'université d'oxford en 2018 ?   \n",
       "5923                          combien d'écoles anglaises sont dans le top 100 en 2019?   \n",
       "\n",
       "        reponse  \\\n",
       "6756          A   \n",
       "2516         Le   \n",
       "6762     Italie   \n",
       "5539         on   \n",
       "11413        la   \n",
       "...         ...   \n",
       "5891     argent   \n",
       "5918         12   \n",
       "5919         12   \n",
       "5920   première   \n",
       "5923         18   \n",
       "\n",
       "                                                                      positive_context  \\\n",
       "6756   [{'title': 'They singulier', 'content': 'En , le pronom  au singulier fait s...   \n",
       "2516   [{'title': 'Conquêtes mongoles', 'content': 'Durant ces annees, l'empire se ...   \n",
       "6762   [{'title': 'Constitution de l'Italie', 'content': 'La constitution italienne...   \n",
       "5539   [{'title': 'Parchemin', 'content': ' tambours : djembe (chevre, antilope, ze...   \n",
       "11413  [{'title': 'Pierre Claude', 'content': 'Le , lors d'un combat aerien contre ...   \n",
       "...                                                                                ...   \n",
       "5891   [{'title': 'Bouton de manchette', 'content': 'Il est souvent considere comme...   \n",
       "5918   [{'title': 'Flávio Augusto da Silva', 'content': 'Ne et eleve dans la banlie...   \n",
       "5919   [{'title': 'Flávio Augusto da Silva', 'content': 'Ne et eleve dans la banlie...   \n",
       "5920   [{'title': 'Alfred Dürr', 'content': 'Durr etudia la musicologie et la philo...   \n",
       "5923   [{'title': 'Weingut Riffel', 'content': ' La presse internationale specialis...   \n",
       "\n",
       "       length_positive_context  \n",
       "6756                        40  \n",
       "2516                        39  \n",
       "6762                        38  \n",
       "5539                        38  \n",
       "11413                       37  \n",
       "...                        ...  \n",
       "5891                         2  \n",
       "5918                         2  \n",
       "5919                         2  \n",
       "5920                         2  \n",
       "5923                         2  \n",
       "\n",
       "[1100 rows x 4 columns]"
      ]
     },
     "execution_count": 117,
     "metadata": {},
     "output_type": "execute_result"
    }
   ],
   "source": [
    "piaf_with_context.loc[piaf_with_context.length_positive_context > 1].sort_values(by=\"length_positive_context\", ascending=False)"
   ]
  },
  {
   "cell_type": "code",
   "execution_count": 190,
   "metadata": {},
   "outputs": [
    {
     "name": "stdout",
     "output_type": "stream",
     "text": [
      "Retriever query: {'size': '30', 'query': {'bool': {'must': [{'multi_match': {'query': 'Combien de personnes travaillent au ministere des sports', 'type': 'most_fields', 'fields': ['content'], 'operator': 'OR'}}]}}}\n"
     ]
    },
    {
     "name": "stderr",
     "output_type": "stream",
     "text": [
      "/Users/es.py/Projects/Personal/unsupervised-open-domain-french-question-answering/.venv/lib/python3.9/site-packages/elasticsearch/connection/base.py:190: ElasticsearchDeprecationWarning: Elasticsearch built-in security features are not enabled. Without authentication, your cluster could be accessible to anyone. See https://www.elastic.co/guide/en/elasticsearch/reference/7.16/security-minimal-setup.html to enable security.\n",
      "  warnings.warn(message, category=ElasticsearchDeprecationWarning)\n"
     ]
    }
   ],
   "source": [
    "retrieved_docs = bm25_retriever.retrieve(query=\n",
    "    deaccent(\"De quelle langue est issue le mot mycelium ?\"), top_k=30)"
   ]
  },
  {
   "cell_type": "code",
   "execution_count": 191,
   "metadata": {},
   "outputs": [
    {
     "data": {
      "text/plain": [
       "[<Document: {'content': \" Memorandum d'accord sur la cooperation dans le domaine du sport entre le ministere de la Jeunesse et des Sports de la Republique d'Azerbaidjan et le ministere de la Culture, des Sports et du Tourisme de la Republique islamique du Pakistan (Departement du sport et du tourisme) le . \", 'content_type': 'text', 'score': 0.8916248110404073, 'meta': {'title': 'Ministère de la Jeunesse et des Sports (Azerbaïdjan)'}, 'embedding': None, 'id': '12511970'}>,\n",
       " <Document: {'content': \" Un assistant parlementaire ou assistante parlementaire, utilise parfois pour designer une personne travaillant dans une institution parlementaire aupres d'un(e) elu(e). La denomination officielle est cependant collaborateur ou collaboratrice parlementaire, on parle aussi parfois d'attache parlementaire pour ceux qui travaillent dans les Ministeres.\", 'content_type': 'text', 'score': 0.891140095656625, 'meta': {'title': 'Assistant'}, 'embedding': None, 'id': '2487015'}>,\n",
       " <Document: {'content': 'En , il devient sous-prefet de Morlaix. Il devient ensuite, a partir de , directeur des sports au ministere des sports, un poste central dans le modele actuel francais (sport pour tous et haut niveau) aupres des federations nationales. Il est nomme le  directeur des sports du Ministere des sports.', 'content_type': 'text', 'score': 0.8857690019944818, 'meta': {'title': 'Gilles Quénéhervé'}, 'embedding': None, 'id': '448463'}>,\n",
       " <Document: {'content': \"Fonde en 1989 apres la Revolution, il est d'abord nomme ministere des Sports, avant d'etre renomme ministere de la Jeunesse et des Sports en . En , il est fusionne au ministere de l'Education avant de redevenir un ministere a part entiere en , mais est fusionne de nouveau avec le ministere de l'Education de 2009 a 2012.\", 'content_type': 'text', 'score': 0.8845078805085108, 'meta': {'title': 'Ministère de la Jeunesse et des Sports (Roumanie)'}, 'embedding': None, 'id': '9389914'}>,\n",
       " <Document: {'content': \"Deux ministres du gouvernement occupent ce ministere : le ministre des Affaires etrangeres et le ministre du Commerce, actuellement Kevin Rudd et Craig Emerson. Il est administre par un secretaire et cinq secretaires adjoints ;  personnes y travaillent, dont 500 diplomates en poste a l'etranger, assistes par  employes et  employes en Australie.\", 'content_type': 'text', 'score': 0.8839370747895813, 'meta': {'title': 'Ministère des Affaires étrangères (Australie)'}, 'embedding': None, 'id': '5051950'}>,\n",
       " <Document: {'content': \"La Proleksis enciklopedija est le resultat de la collaboration entre CARNet et Pro Leksis d.o.o., engagee en , et est soutenue par le Ministere des Sciences, de l'Education et des Sports Croate. La redaction est composee de 9 personnes et son redacteur en chef est Antun Vujic.\", 'content_type': 'text', 'score': 0.8836870673870378, 'meta': {'title': 'Proleksis enciklopedija'}, 'embedding': None, 'id': '5472893'}>,\n",
       " <Document: {'content': \"Certaines sections (notamment section 4) travaillent en lien etroit avec le Conseil general de l'environnement et du developpement durable (CGEDD) relevant du ministere de la Transition ecologique et solidaire et du ministere de la Cohesion des territoires.   \", 'content_type': 'text', 'score': 0.8727027247277325, 'meta': {'title': \"Conseil général de l'alimentation, de l'agriculture et des espaces ruraux\"}, 'embedding': None, 'id': '3892038'}>,\n",
       " <Document: {'content': \"L'article 2 contient de nouvelles dispositions sur le droit maritime. Afin de distinguer les marchands pacifiques des pilleurs, chaque navire de la Rus doit disposer d'une charte du prince de Kiev, stipulant combien de personnes et combien de navires allaient naviguer a Constantinople. Sinon, les navires de la Rus peuvent etre apprehendes par les autorites imperiales.\", 'content_type': 'text', 'score': 0.8723206325838335, 'meta': {'title': 'Traité de Constantinople (945)'}, 'embedding': None, 'id': '12470230'}>,\n",
       " <Document: {'content': 'Le ministere de la Culture et des Sports (en ) est le departement ministeriel du gouvernement de la Republique hellenique responsable de la preservation du patrimoine culturel, des arts et des sports.', 'content_type': 'text', 'score': 0.8663012121212895, 'meta': {'title': 'Ministère de la Culture (Grèce)'}, 'embedding': None, 'id': '11274109'}>,\n",
       " <Document: {'content': ' 2009 : lettre de felicitations du ministere de la Sante et des Sports avec parution au Bulletin officiel de la Jeunesse, des Sports et de la Vie associatives pour « services rendus a la cause de la jeunesse et sports »', 'content_type': 'text', 'score': 0.8661241638435987, 'meta': {'title': 'Guillaume Philippon'}, 'embedding': None, 'id': '1831172'}>,\n",
       " <Document: {'content': \"En 2001, le gouvernement Koizumi I decide d'une grande reforme du secteur public. Une des consequences est la fusion du Ministere de l’Education auquel est rattache l'ISAS et du ministere pour la Technologie dont dependent la NASDA ainsi que le NAL (organisme de recherche aeronautique). Le  le ministere de l'Education, de la Culture, des Sports, des Sciences et de la Technologie (MEXT) qui resulte de cette fusion decide de regrouper les activites de l'ISAS, la NASDA et le Laboratoire national aerospatial du Japon au sein d'une agence unique, l'Agence d'exploration aerospatiale japonaise (JAXA). L'annee de cette reorganisation, la NASDA dispose d'un budget de 1,11 Mds € et emploie  personnes, l'ISAS qui emploie 294 personnes dispose d'un budget de  et le NAL dispose de  et occupe 417 personnes. Ces sommes ne representent pas l'ensemble du budget spatial puisque d'autres ministeres allouent aux agences des budgets spatiaux pour couvrir leurs besoins propres (represente environ 40 % du budget total en 2012).\", 'content_type': 'text', 'score': 0.8641131744556885, 'meta': {'title': 'Agence nationale de développement spatial du Japon'}, 'embedding': None, 'id': '116162'}>,\n",
       " <Document: {'content': \"La Federation malienne de sports pour personnes handicapees, creee en juillet 1994 a pour mission l'insertion sociale des personnes handicapees a travers le sport. Elle est affiliee a la Confederation africaine des sports pour personnes handicapees et au Comite international paralympique. \", 'content_type': 'text', 'score': 0.8638079568191248, 'meta': {'title': 'Fédération malienne de sports pour personnes handicapées'}, 'embedding': None, 'id': '566961'}>,\n",
       " <Document: {'content': \"Le ministere emploie environ 160 personnes, mais le nombre de personnes employees dans l'administration du ministere est superieur a 3000. Le budget du ministere pour 2021 est d'environ 174 millions d'euros.\", 'content_type': 'text', 'score': 0.8636098999899383, 'meta': {'title': 'Ministère de la Justice (Estonie)'}, 'embedding': None, 'id': '14051475'}>,\n",
       " <Document: {'content': ' Cahier des charges “Schema national des veloroutes et voies vertes”, ministere de l’Amenagement du territoire et de l’environnement, ministere de l’Equipement, des transports et du logement, ministere de la Jeunesse et des sports ; secretariat d’Etat au Tourisme -  \"', 'content_type': 'text', 'score': 0.8620116917089804, 'meta': {'title': 'Voie verte'}, 'embedding': None, 'id': '1237978'}>,\n",
       " <Document: {'content': \"En 1994, avec la restauration de la monarchie, l'etablissement devient l'Universite royale d'agriculture. De nos jours, elle est supervisee par le Ministere de l'agriculture, de la foresterie et des pecheries, le Ministere de l'education, de la jeunesse et du sport et le Ministere de l'Economie et des Finances.\", 'content_type': 'text', 'score': 0.8620116917089804, 'meta': {'title': \"Université royale d'agriculture\"}, 'embedding': None, 'id': '9951238'}>,\n",
       " <Document: {'content': \"Parvaz est distribue a travers les reseaux de la plupart des organisations nationales et internationales qui travaillent avec les enfants et dans le domaine de l'education en Afghanistan, y compris le ministere de l'Education.\", 'content_type': 'text', 'score': 0.8613612670182508, 'meta': {'title': 'Aina (ONG)'}, 'embedding': None, 'id': '2520735'}>,\n",
       " <Document: {'content': ' On compte 63190 personnes sur le bourg, dont 13278 foyers agricoles comportant 57695 personnes et 2800 foyers non agricoles pour une population de 5495 personnes. 31730 personnes travaillent aux taches agricoles.', 'content_type': 'text', 'score': 0.8613327684324278, 'meta': {'title': 'Duoba'}, 'embedding': None, 'id': '7379637'}>,\n",
       " <Document: {'content': \"En 2004, il est devenu ministre des Affaires sociales et de l'Emploi, puis ministre du Travail et de la Politique sociale de la Republique des Seychelles, puis a la tete des ministeres de la Sante et des Affaires sociales, du ministere du Developpement communautaire, de la Jeunesse et des Sports et, plus recemment, du ministere des Affaires sociales, du Developpement communautaire et des Sports. En , il a ete nomme ministre d'Etat.\", 'content_type': 'text', 'score': 0.8610053021380654, 'meta': {'title': 'Vincent Mériton'}, 'embedding': None, 'id': '9180806'}>,\n",
       " <Document: {'content': \"C'est le chronometrage des taches dans le temps; cette technique va permettre de mesurer la productivite d'une personne pour une tache donnee, autrement dit combien faut-t-il de temps pour realiser une mission (definir un axe d temps bien precis).\", 'content_type': 'text', 'score': 0.8593616325476054, 'meta': {'title': 'Gestion du temps'}, 'embedding': None, 'id': '6502133'}>,\n",
       " <Document: {'content': \"Le ministere de l'Education nationale, du Prescolaire et des Sports est l'administration marocaine chargee de preparer et mettre en œuvre la politique du gouvernement en matiere d'instruction publique et des sports.\", 'content_type': 'text', 'score': 0.8590103061119346, 'meta': {'title': 'Ministère de l’Éducation nationale, du Préscolaire et des Sports (Maroc)'}, 'embedding': None, 'id': '14039786'}>,\n",
       " <Document: {'content': \" 2016 : 200 salaries sur le site de Lunery : environ 100 personnes travaillent a la fabrication d'appareils de cuisson (centre d'art culinaire de Rosieres), environ  travaillent pour le SAV du groupe Candy-Hoover (GIAS).\", 'content_type': 'text', 'score': 0.8568932201830814, 'meta': {'title': 'Rosières (entreprise)'}, 'embedding': None, 'id': '10557325'}>,\n",
       " <Document: {'content': \"En 1992, Jose Monje Cruz meurt d'un cancer du poumon. On estime a plus de  le nombre de personnes qui ont assiste a son enterrement. En 1993, il recoit la Medaille d'or du merite des beaux-arts du Ministere de l'Education, de la Culture et des Sports espagnol et en novembre 2006, la Poste espagnole lui a consacre un timbre commemoratif.\", 'content_type': 'text', 'score': 0.855820671908385, 'meta': {'title': 'Camarón de la Isla'}, 'embedding': None, 'id': '486018'}>,\n",
       " <Document: {'content': \"Lors de la tournee des Zenith, du  au , la scene est completement reamenagee. Pas moins de 44 personnes (techniciens et musiciens) travaillent sur cette nouvelle tournee ; sur celle de 2012 ils n'etaient que 8 personnes.\", 'content_type': 'text', 'score': 0.854875673739192, 'meta': {'title': 'C2C (groupe)'}, 'embedding': None, 'id': '945883'}>,\n",
       " <Document: {'content': \"Par exemple, supposons qu'un comite de trois personnes doit etre elue parmi une assemblee de huit personnes. La question est de savoir combien de comites differents peuvent etre elus. Puisque l'ordre des personnes dans le comite n'importe pas, cette situation peut se representer par le tirage simultane de trois boules dans une urne en contenant huit. Le nombre de comites possibles est alors :  donnes par :\", 'content_type': 'text', 'score': 0.8537554251526852, 'meta': {'title': \"Problème d'urne\"}, 'embedding': None, 'id': '7018791'}>,\n",
       " <Document: {'content': \"Le secretaire d'Etat au Numerique, a la Culture, aux Medias et aux Sports de l'ombre est un membre du cabinet fantome charge de l'examen du secretaire d'Etat a la Culture, des Medias et du Sport et de son ministere. \", 'content_type': 'text', 'score': 0.8519108906326706, 'meta': {'title': \"Secrétaire d'État au Numérique, à la Culture, aux Médias et aux Sports du cabinet fantôme\"}, 'embedding': None, 'id': '8042581'}>,\n",
       " <Document: {'content': \"Il est le premier psychanalyste americain pratiquant : Sigmund Freud l'a autorise a pratiquer sans avoir subi d'analyse personnelle. Le maitre lui a simplement demande combien de ses patients s'etaient suicides. La reponse — aucun — a suffi.\", 'content_type': 'text', 'score': 0.8511019401068569, 'meta': {'title': 'Nolan D. C. Lewis'}, 'embedding': None, 'id': '10811975'}>,\n",
       " <Document: {'content': \"La superficie cultivee de 2,4983 millions d'hectares, soit 73,8 % de la superficie totale du pays. La population active travaillant dans l'agriculture est passee de 1,4736 million de personnes en 2003 a 1,2354 million de personnes en 2010. Le nombre de personnes salariees dans l'agriculture est passe pour ces memes dates de  a . Ainsi en 2003, 73,5 % de la population rurale salariee travaillent dans l'agriculture, contre plus que 52,1 % en 2010. Au total, 25,5 % de la population active travaille dans l'agriculture en 2010. En 2010, 69,4 % des personnes qui travaillent dans l'agriculture, la chasse et la peche le sont a leur compte.\", 'content_type': 'text', 'score': 0.8484588331667591, 'meta': {'title': 'Agriculture en Moldavie'}, 'embedding': None, 'id': '9240739'}>,\n",
       " <Document: {'content': \"En , l'ancien President americain Jimmy Carter estime qu'Israel possede au moins 150 armes atomiques. En 2014, il corrige son point de vue en affirmant qu'Israel a plus de 300 armes atomiques, mais que personne ne sait exactement combien.\", 'content_type': 'text', 'score': 0.8484001286839861, 'meta': {'title': 'Programme nucléaire israélien'}, 'embedding': None, 'id': '6170940'}>,\n",
       " <Document: {'content': 'Au total, 279 personnes ont ete membres du Senat. Le ministere des Finances comptait au total 169 membres et le ministere de la Justice 128; de plus, 18 personnes ont eu le temps de travailler dans les deux departements. ', 'content_type': 'text', 'score': 0.8476803053600309, 'meta': {'title': 'Liste des sénateurs finlandais'}, 'embedding': None, 'id': '13892276'}>,\n",
       " <Document: {'content': \"La FFForce demarre ses activites le , est reconnue par le Ministere de la Ville, de la Jeunesse et des Sports par decret du  (publication au journal officiel du ). Elle devient membre du Comite National Olympique et Sportif Francais lors de l'Assemblee Generale Ordinaire du  et elle obtient la delegation du Ministere de la Ville, de la Jeunesse et des Sports par arrete du  (publication au journal officiel du ) pour la force athletique et le developpe couche.\", 'content_type': 'text', 'score': 0.8475416288605758, 'meta': {'title': 'Fédération française de force'}, 'embedding': None, 'id': '9708106'}>]"
      ]
     },
     "execution_count": 191,
     "metadata": {},
     "output_type": "execute_result"
    }
   ],
   "source": [
    "retrieved_docs"
   ]
  },
  {
   "cell_type": "code",
   "execution_count": 118,
   "metadata": {},
   "outputs": [],
   "source": [
    "piaf_with_context.to_csv(DATA_PATH.joinpath(\"corpus\", \"raw\", \"piaf\", \"piaf_with_context.csv\"))"
   ]
  },
  {
   "cell_type": "markdown",
   "metadata": {},
   "source": [
    "within our dataset , 740 row have more than one context."
   ]
  },
  {
   "cell_type": "markdown",
   "metadata": {},
   "source": [
    "With our dataset with context, let us pull more question with context for the original piaf dataset with context"
   ]
  },
  {
   "cell_type": "code",
   "execution_count": 119,
   "metadata": {},
   "outputs": [
    {
     "name": "stderr",
     "output_type": "stream",
     "text": [
      "WARNING - datasets.load -  Using the latest cached version of the module from /Users/es.py/.cache/huggingface/modules/datasets_modules/datasets/piaf/535c60f4155fe1d644c1746e86131963c082f309d0dbb5ba4d606786c7f4a6ae (last modified on Thu Jul 14 08:39:15 2022) since it couldn't be found locally at piaf., or remotely on the Hugging Face Hub.\n",
      "WARNING - datasets.builder -  Reusing dataset piaf (/Users/es.py/.cache/huggingface/datasets/piaf/plain_text/1.0.0/535c60f4155fe1d644c1746e86131963c082f309d0dbb5ba4d606786c7f4a6ae)\n"
     ]
    },
    {
     "data": {
      "application/vnd.jupyter.widget-view+json": {
       "model_id": "570b910064604888824cb2990d2a6b94",
       "version_major": 2,
       "version_minor": 0
      },
      "text/plain": [
       "  0%|          | 0/1 [00:00<?, ?it/s]"
      ]
     },
     "metadata": {},
     "output_type": "display_data"
    }
   ],
   "source": [
    "piaf_dataset = load_dataset(\"piaf\")"
   ]
  },
  {
   "cell_type": "code",
   "execution_count": 121,
   "metadata": {},
   "outputs": [],
   "source": [
    "piaf_dataset = piaf_dataset[\"train\"]"
   ]
  },
  {
   "cell_type": "code",
   "execution_count": 129,
   "metadata": {},
   "outputs": [],
   "source": [
    "piaf_df = piaf_dataset.to_pandas()"
   ]
  },
  {
   "cell_type": "code",
   "execution_count": 156,
   "metadata": {},
   "outputs": [
    {
     "data": {
      "text/html": [
       "<div>\n",
       "<style scoped>\n",
       "    .dataframe tbody tr th:only-of-type {\n",
       "        vertical-align: middle;\n",
       "    }\n",
       "\n",
       "    .dataframe tbody tr th {\n",
       "        vertical-align: top;\n",
       "    }\n",
       "\n",
       "    .dataframe thead th {\n",
       "        text-align: right;\n",
       "    }\n",
       "</style>\n",
       "<table border=\"1\" class=\"dataframe\">\n",
       "  <thead>\n",
       "    <tr style=\"text-align: right;\">\n",
       "      <th></th>\n",
       "      <th>id</th>\n",
       "      <th>title</th>\n",
       "      <th>context</th>\n",
       "      <th>question</th>\n",
       "      <th>answers</th>\n",
       "    </tr>\n",
       "  </thead>\n",
       "  <tbody>\n",
       "    <tr>\n",
       "      <th>0</th>\n",
       "      <td>p140295443291664</td>\n",
       "      <td>Sport</td>\n",
       "      <td>Les dépenses des ménages représentent plus de 50 % de ces montants (14,2 mil...</td>\n",
       "      <td>Combien de personnes travaillent au ministère des sports</td>\n",
       "      <td>{'text': ['100 000'], 'answer_start': [472]}</td>\n",
       "    </tr>\n",
       "    <tr>\n",
       "      <th>1</th>\n",
       "      <td>p140295443291520</td>\n",
       "      <td>Sport</td>\n",
       "      <td>Les dépenses des ménages représentent plus de 50 % de ces montants (14,2 mil...</td>\n",
       "      <td>Combien d'employeurs</td>\n",
       "      <td>{'text': ['20 000'], 'answer_start': [597]}</td>\n",
       "    </tr>\n",
       "    <tr>\n",
       "      <th>2</th>\n",
       "      <td>p140295443291376</td>\n",
       "      <td>Sport</td>\n",
       "      <td>Les dépenses des ménages représentent plus de 50 % de ces montants (14,2 mil...</td>\n",
       "      <td>Quel part du budget des ménages</td>\n",
       "      <td>{'text': ['50'], 'answer_start': [46]}</td>\n",
       "    </tr>\n",
       "    <tr>\n",
       "      <th>3</th>\n",
       "      <td>p140295443291088</td>\n",
       "      <td>Sport</td>\n",
       "      <td>Les dépenses des ménages représentent plus de 50 % de ces montants (14,2 mil...</td>\n",
       "      <td>Quel montant en 2003</td>\n",
       "      <td>{'text': ['14,2 milliards'], 'answer_start': [68]}</td>\n",
       "    </tr>\n",
       "    <tr>\n",
       "      <th>4</th>\n",
       "      <td>p140295443290872</td>\n",
       "      <td>Sport</td>\n",
       "      <td>Les dépenses des ménages représentent plus de 50 % de ces montants (14,2 mil...</td>\n",
       "      <td>Quel montant en 2019</td>\n",
       "      <td>{'text': ['12 milliards'], 'answer_start': [102]}</td>\n",
       "    </tr>\n",
       "  </tbody>\n",
       "</table>\n",
       "</div>"
      ],
      "text/plain": [
       "                 id  title  \\\n",
       "0  p140295443291664  Sport   \n",
       "1  p140295443291520  Sport   \n",
       "2  p140295443291376  Sport   \n",
       "3  p140295443291088  Sport   \n",
       "4  p140295443290872  Sport   \n",
       "\n",
       "                                                                           context  \\\n",
       "0  Les dépenses des ménages représentent plus de 50 % de ces montants (14,2 mil...   \n",
       "1  Les dépenses des ménages représentent plus de 50 % de ces montants (14,2 mil...   \n",
       "2  Les dépenses des ménages représentent plus de 50 % de ces montants (14,2 mil...   \n",
       "3  Les dépenses des ménages représentent plus de 50 % de ces montants (14,2 mil...   \n",
       "4  Les dépenses des ménages représentent plus de 50 % de ces montants (14,2 mil...   \n",
       "\n",
       "                                                   question  \\\n",
       "0  Combien de personnes travaillent au ministère des sports   \n",
       "1                                      Combien d'employeurs   \n",
       "2                           Quel part du budget des ménages   \n",
       "3                                      Quel montant en 2003   \n",
       "4                                      Quel montant en 2019   \n",
       "\n",
       "                                              answers  \n",
       "0        {'text': ['100 000'], 'answer_start': [472]}  \n",
       "1         {'text': ['20 000'], 'answer_start': [597]}  \n",
       "2              {'text': ['50'], 'answer_start': [46]}  \n",
       "3  {'text': ['14,2 milliards'], 'answer_start': [68]}  \n",
       "4   {'text': ['12 milliards'], 'answer_start': [102]}  "
      ]
     },
     "execution_count": 156,
     "metadata": {},
     "output_type": "execute_result"
    }
   ],
   "source": [
    "piaf_df.head()"
   ]
  },
  {
   "cell_type": "markdown",
   "metadata": {},
   "source": []
  },
  {
   "cell_type": "markdown",
   "metadata": {},
   "source": [
    "What are we trying to achive with this ?\n",
    "\n",
    "\n",
    "We have question on the piaf dataset with context, for those question we will query elastic search to find out  the additional context. That context will will be consider as additional context to train our model with.\n"
   ]
  },
  {
   "cell_type": "markdown",
   "metadata": {},
   "source": [
    "The algo : \n",
    "\n",
    "- for each question , query the elastic search and keep the top 10 documents context\n",
    "- we will loop and send queries in a batch of 10 questions to elastic search\n",
    "- retrieved the context and and save anything on the disk."
   ]
  },
  {
   "cell_type": "markdown",
   "metadata": {},
   "source": [
    "In the future to improve the quality of our finding we can consider only documents with named entities in the answers. We can check the paragraph , run the NER model on it and then check if the answer is in the named entities."
   ]
  },
  {
   "cell_type": "markdown",
   "metadata": {},
   "source": []
  },
  {
   "cell_type": "code",
   "execution_count": 154,
   "metadata": {},
   "outputs": [
    {
     "name": "stderr",
     "output_type": "stream",
     "text": [
      "/Users/es.py/Projects/Personal/unsupervised-open-domain-french-question-answering/.venv/lib/python3.9/site-packages/elasticsearch/connection/base.py:190: ElasticsearchDeprecationWarning: Elasticsearch built-in security features are not enabled. Without authentication, your cluster could be accessible to anyone. See https://www.elastic.co/guide/en/elasticsearch/reference/7.16/security-minimal-setup.html to enable security.\n",
      "  warnings.warn(message, category=ElasticsearchDeprecationWarning)\n"
     ]
    }
   ],
   "source": [
    "sample_questions = np.vectorize(deaccent)(piaf_df.question.loc[1:5])\n",
    "retrieved_docs = bm25_retriever.retrieve_batch(queries=sample_questions.tolist(), top_k=30)"
   ]
  },
  {
   "cell_type": "code",
   "execution_count": 152,
   "metadata": {},
   "outputs": [
    {
     "data": {
      "text/plain": [
       "array([\"Combien d'employeurs\", 'Quel part du budget des menages',\n",
       "       'Quel montant en 2003', 'Quel montant en 2019',\n",
       "       'En quelle annee Jakob Bohme tombe-t-il malade ?'], dtype='<U47')"
      ]
     },
     "execution_count": 152,
     "metadata": {},
     "output_type": "execute_result"
    }
   ],
   "source": []
  },
  {
   "cell_type": "code",
   "execution_count": 158,
   "metadata": {},
   "outputs": [
    {
     "data": {
      "text/plain": [
       "[<Document: {'content': 'La Classification des fonctions de consommation des menages ( COICOP) est une nomenclature internationale des fonctions de consommation des menages. En France, elle est notamment utilisee pour calculer l\\'indice des prix a la consommation, l\\'enquete \"budget de famille\" ou le systeme de comptabilite nationale.', 'content_type': 'text', 'score': 0.9016003740616048, 'meta': {'title': 'Classification des fonctions de consommation des ménages'}, 'embedding': None, 'id': '7734046'}>,\n",
       " <Document: {'content': \"Le budget de la communaute de communes est compose du budget principal et de huit budgets annexes : dechets menagers, spanc, maison de sante de l'Arconce, office de tourisme, port de plaisance, Barbereche, Zac des Muriers, Ligerval. Ensemble leur montant est de 36 880 930,64 € en fonctionnement 10 836 558,61 € en investissements pour l'annee 2019.\", 'content_type': 'text', 'score': 0.8936375103809415, 'meta': {'title': 'Communauté de communes Le Grand Charolais'}, 'embedding': None, 'id': '10578656'}>,\n",
       " <Document: {'content': \" Dans son projet de budget, l'OB sollicite l'approbation du gouvernement pour le programme « L », en depit des mises en garde du ministre de la Defense qui souhaite menager les divisions au sein du parti social-democrate.\", 'content_type': 'text', 'score': 0.8855677353131537, 'meta': {'title': 'Programme nucléaire militaire de la Suède'}, 'embedding': None, 'id': '7193655'}>,\n",
       " <Document: {'content': \"Le taux de motorisation des menages indique le nombre moyen de voitures a disposition des menages. Cet indicateur ne doit pas etre confondu avec le taux d'equipement des menages en voiture, qui indique la part des menages possedant au moins une voiture.\", 'content_type': 'text', 'score': 0.8692221046339889, 'meta': {'title': 'Taux de motorisation'}, 'embedding': None, 'id': '11163010'}>,\n",
       " <Document: {'content': \"Une usine de traitement mecanique des ordures est en cours d'installation pour un budget de 43 millions d'euros pour traiter  tonnes par an de dechets menagers,  tonnes par an de dechets et gravas encombrants et  tonnes par an de dechets agricoles (fumier solide et liquide).\", 'content_type': 'text', 'score': 0.8638358212858683, 'meta': {'title': 'Magħtab'}, 'embedding': None, 'id': '4319804'}>,\n",
       " <Document: {'content': \"Une tache menagere est une activite pratiquee a domicile pour l’entretien ou le fonctionnement du logement d'un menage : organisation du budget, entretien du mobilier, entretien du linge de maison, faire le lit, preparation des repas, execution de la vaisselle, des courses et achats, etc. Elle releve de l'economie domestique.\", 'content_type': 'text', 'score': 0.8586021819768742, 'meta': {'title': 'Tâche ménagère'}, 'embedding': None, 'id': '2003484'}>,\n",
       " <Document: {'content': 'Le cuisiniste est aussi un concepteur et un dessinateur qui, en fonction des desirs du client (choix du style : design, classique ou traditionnel) et des contraintes (piece existante ou pas, budget predefini par le client, temps imparti et possibilites d’amenagement en meubles et appareils menagers) elabore un plan de la future cuisine.', 'content_type': 'text', 'score': 0.8586021819768742, 'meta': {'title': 'Cuisiniste'}, 'embedding': None, 'id': '39366'}>,\n",
       " <Document: {'content': \"Budget Rent a Car est une entreprise americaine de location de voitures sous la marque Budget. Creee en 1958, elle fait partie d'Avis Budget Group. Son siege social se situe a Chicago (Illinois, Etats-Unis).\", 'content_type': 'text', 'score': 0.8455911563378354, 'meta': {'title': 'Budget Rent a Car'}, 'embedding': None, 'id': '4358215'}>,\n",
       " <Document: {'content': 'Le selamlik faisait egalement partie du menage reserve aux invites (de la racine du mot selam signifiant salutation) semblable aux andronites (cours des hommes) de la Grece antique, ou les invites etaient accueillis par les hommes du menage.', 'content_type': 'text', 'score': 0.8430878573919343, 'meta': {'title': 'Selamlik'}, 'embedding': None, 'id': '12597757'}>,\n",
       " <Document: {'content': \"La macroeconomie keynesienne est fondee sur l'identification de trois grands types d'agents economiques : les menages, les entreprises et les banques. Les banques financent les entreprises par le credit ; les entreprises investissent en elles-memes et generent du profit, qu'elles reversent en partie aux menages. Les menages vendent leur force de travail aux entreprises, et gagnent un salaire. Les agents depensent en vertu de leur propension a consommer, et epargnent la partie de leur revenu qui n'est pas depense (propension a epargner).\", 'content_type': 'text', 'score': 0.8429170606176494, 'meta': {'title': 'Macroéconomie keynésienne'}, 'embedding': None, 'id': '19106'}>,\n",
       " <Document: {'content': \"En ajoutant aux revenus primaires les transferts recus par les menages residents et en retranchant les impots courants sur le revenu et le patrimoine, ainsi que les cotisations sociales versees par les menages, on obtient le revenu disponible brut, part du revenu primaire qui reste a la disposition des menages residents, pour la consommation et l'epargne et un des principaux indicateurs du pouvoir d’achat.\", 'content_type': 'text', 'score': 0.8420662930144721, 'meta': {'title': 'Revenu primaire'}, 'embedding': None, 'id': '1376408'}>,\n",
       " <Document: {'content': \"Le terme ramonet est une francisation orthographique du terme languedocien romounet. Il n'est pas present dans les dictionnaires francais. Il designe, dans une partie du Midi de la France, un regisseur employe a cultiver ou a faire cultiver, soigner les betes, par les valets (boylets) et les journaliers (journolies), la ferme (borio) d'un proprietaire terrien. Sa femme avait la charge de gerer le budget d'une petite enveloppe pour nourrir tout le monde. Elle preparait aussi les repas et tenait le menage. Le couple vivait avec sa famille et le personnel agricole dans un batiment annexe de la propriete appele ramonetage.\", 'content_type': 'text', 'score': 0.8412589401042783, 'meta': {'title': 'Ramonet (ouvrier agricole)'}, 'embedding': None, 'id': '3767081'}>,\n",
       " <Document: {'content': \"Une des consequences de la hausse des prix mondiaux de l'alimentaire est previsible : une instabilite sociale et politique croissante dans les pays aux populations pauvres (l'alimentaire formant deja et de loin le premier poste du budget de ces menages). Des emeutes de la faim ont deja eclate en Haiti et dans plusieurs pays d'Afrique (Senegal, Egypte, Cote d'Ivoire, Cameroun, Burkina Faso…).\", 'content_type': 'text', 'score': 0.8409815849923054, 'meta': {'title': 'Biocarburant'}, 'embedding': None, 'id': '101748'}>,\n",
       " <Document: {'content': \"Au lancement du chantier, le budget previsionnel alloue a la construction de l'Academie du Raja Club Athletic (hors terrain) est estime a  dirhams. La participation des differentes parties prenantes au budget est detaillee dans le tableau ci-dessous:\", 'content_type': 'text', 'score': 0.8286566560307703, 'meta': {'title': 'Académie du Raja Club Athletic'}, 'embedding': None, 'id': '14353728'}>,\n",
       " <Document: {'content': \"L'etude des effets de richesse est particulierement pertinente dans les economies ou les actifs des menages sont fortement financiarises. Ainsi, aux Etats-Unis ou une large part du patrimoine des menages est compose d'actions, l'evolution boursiere conditionne souvent cet effet de richesse. De meme, le developpement exceptionnel des marches financiers dans les annees 1990 explique en grande partie la permanence de la consommation americaine au cours de cette periode.\", 'content_type': 'text', 'score': 0.8283760006857964, 'meta': {'title': 'Effet de richesse'}, 'embedding': None, 'id': '6859700'}>,\n",
       " <Document: {'content': \"Le soap opera est quant a lui un feuilleton quotidien passant a l'heure du midi, avec un budget moindre que celui d'un prime time serial. Les prime time serials sont des feuilletons avec un budget important diffuse en premiere ou deuxieme partie de soiree, hebdomadaires et tournes en partie a l'exterieur avec des acteurs vedettes du petit ecran.\", 'content_type': 'text', 'score': 0.8253039123653774, 'meta': {'title': 'Prime time serial'}, 'embedding': None, 'id': '84436'}>,\n",
       " <Document: {'content': \"Des etudes sur les reponses des menages japonais aux relances budgetaires de l’Etat japonais tendent a montrer une forme de comportement ricardien de la part des menages, qui compriment leur consommation en vue d'une augmentation future des impots due a la levee de dette necessaire pour financer la relance. Les auteurs remarquent que ce comportement ricardien existe, mais d'une maniere bien plus faible, chez les menages americains. Un etude de 2013 par Thomas Grennes et Andris Strazds montre une relation positive entre l'accumulation d'actifs par les menages et la dette publique, ce qui temoignerait d'un comportement accumulateur ricardien.\", 'content_type': 'text', 'score': 0.825098165944386, 'meta': {'title': 'Équivalence ricardienne'}, 'embedding': None, 'id': '1442679'}>,\n",
       " <Document: {'content': \"Ce sont ceux des organismes publics ou prives, dotes de la personnalite morale et assurant une mission de service public. Leurs comptes ne sont pas integres dans la loi de finances car ils disposent de leurs budgets propres. Cependant, ils recoivent des subventions de la part de l'Etat et n'apparaissent pourtant pas au budget.\", 'content_type': 'text', 'score': 0.8245961179186607, 'meta': {'title': \"Principe d'unité budgétaire\"}, 'embedding': None, 'id': '496287'}>,\n",
       " <Document: {'content': 'Meme si le musee ne recoit pas de budget de fonctionnement recurrent de la part des gouvernements canadiens et quebecois et doit compter sur des ententes de financement ponctuelles pour boucler son budget, ce dernier a tout de meme progresse de  en 2009 a  en 2012. Du budget de fonctionnement de  de 2012,  proviennent de subventions ponctuelles des divers paliers de gouvernement et de contribution de partenaires locaux et  sont generes par les activites du musee. ', 'content_type': 'text', 'score': 0.8238836191930026, 'meta': {'title': 'Exploramer'}, 'embedding': None, 'id': '5753715'}>,\n",
       " <Document: {'content': 'La loi de financement de la Securite sociale fixe les previsions de recettes, les objectifs de depenses de la Securite sociale. Ce n’est pas un budget a proprement parler et cela ne fait pas partie du budget de l’Etat. Y figurent en particulier pour 2021 les mesure du Segur de la sante et la creation d’une branche autonomie.', 'content_type': 'text', 'score': 0.8225949127151037, 'meta': {'title': \"Budget de l'État français en 2021\"}, 'embedding': None, 'id': '13534163'}>,\n",
       " <Document: {'content': \"En 2014, Peribus fait partie des cinq budgets du Grand Perigueux. Les transports Peribus representent  du budget total de l'intercommunalite, comprenant  pour son developpement et son fonctionnement, et  pour renouveler le parc des vehicules. Cette somme comprend le reversement des recettes du versement transport percues par l'agglomeration.\", 'content_type': 'text', 'score': 0.8225949127151037, 'meta': {'title': 'Autobus de Périgueux'}, 'embedding': None, 'id': '4345977'}>,\n",
       " <Document: {'content': \"On remedie a cette lacune en prenant en compte dans la retroplanification la survenue d'imprevus par un tampon ; l'imprevoyance ne fait jamais partie d'une bonne planification, qu'elle soit chronologique ou retrochronologique. C'est pourquoi les imprevus doivent etre non seulement inscrits au calendrier mais au budget (en France, dans la production de film aides par le ministere de la Culture, la part de budget obligatoirement allouee aux imprevus est de 7,5%).\", 'content_type': 'text', 'score': 0.8219865978252289, 'meta': {'title': 'Rétroplanification'}, 'embedding': None, 'id': '2342094'}>,\n",
       " <Document: {'content': \"Le budget initial a l'ouverture du theatre etait de quatre millions de shekels, finances par le  et la municipalite de Haifa. Au fil des ans, la part du budget du ministere de la Culture a diminue et a ete reporte sur la municipalite. En , le theatre a annonce sa fermeture a cause des risques resultant du deficit cumule et du non-transfert du budget promis par l'ancien directeur general du ministere de la Culture.\", 'content_type': 'text', 'score': 0.8209719763467249, 'meta': {'title': 'Théâtre Al-Midan'}, 'embedding': None, 'id': '6453596'}>,\n",
       " <Document: {'content': \"Le Bon Gros Geant fait partie de la liste des plus gros echecs commerciaux de 2016 selon The Hollywood Reporter, ne rapportant que 178 millions $ de recettes mondiales, pour un budget de 140 millions $ auquel s'ajoute un budget marketing important non precise.\", 'content_type': 'text', 'score': 0.818650144549176, 'meta': {'title': 'Le Bon Gros Géant (film)'}, 'embedding': None, 'id': '9413842'}>,\n",
       " <Document: {'content': 'En 2010 le budget principal de fonctionnement de la communaute de communes est de  et son budget d’investissement de . Le budget d’exploitation du service des eaux est de  et le budget d’investissement de . Le budget d’exploitation du service d’assainissement est de  et la section d’investissement de .', 'content_type': 'text', 'score': 0.8177989274572025, 'meta': {'title': 'Communauté de communes de Montrésor'}, 'embedding': None, 'id': '1270273'}>,\n",
       " <Document: {'content': \"La part croissante des femmes dans la pauvrete est accentue par l'incidence croissante des menages gynoparentaux et des femmes agees celibataires ou veuves, qui sont l'un des nombreux facteurs identifies de ce phenomene.\", 'content_type': 'text', 'score': 0.817640184653357, 'meta': {'title': 'Féminisation de la pauvreté'}, 'embedding': None, 'id': '6299207'}>,\n",
       " <Document: {'content': \"Il est coauteur (avec James Tobin) du modele Baumol-Tobin, qui decrit la demande de monnaie d'un menage et reprend des intuitions de Maurice Allais. Le menage doit repartir ses actifs entre epargne (peu liquide) et monnaie (liquide) afin d'effectuer ses transactions. Le modele decrit un optimum entre deux desirs : d'une part, l'epargne est profitable et pas l'argent liquide, ce qui pousse le menage a conserver le maximum d'actifs sous forme d'epargne et a faire un grand nombre de petits retraits d'argent ; d'autre part, chaque retrait a un cout (ne serait-ce qu'en temps depense), ce qui le pousse a faire un petit nombre de retraits plus importants.\", 'content_type': 'text', 'score': 0.8163057443446802, 'meta': {'title': 'William Baumol'}, 'embedding': None, 'id': '491829'}>,\n",
       " <Document: {'content': \"En 2014, le budget de la communaute de communes etait de , reparti en 3 millions d'euros pour le budget principal,  pour le budget annexe des ordures menageres,  pour le budget annexe du SPANC et  pour le budget annexe de la zone d'activites.\", 'content_type': 'text', 'score': 0.8159859465030659, 'meta': {'title': 'Communauté de communes des Portes du Morvan'}, 'embedding': None, 'id': '1348989'}>,\n",
       " <Document: {'content': 'La menagerie de Vincennes est une ancienne menagerie royale situee a proximite du chateau de Vincennes, fondee au  par Charles V et qui disparu au debut du  lors de sa reunion avec la menagerie royale de Versailles.', 'content_type': 'text', 'score': 0.8122311832372817, 'meta': {'title': 'Ménagerie de Vincennes'}, 'embedding': None, 'id': '14057213'}>,\n",
       " <Document: {'content': \"Plusieurs economistes remarquent que le programme ne sera veritablement efficace que s'il fait partie d'une reponse plus large des Etats touches, comme le soutien aux menages sur le terrain et des investissements planifies.\", 'content_type': 'text', 'score': 0.811546879364263, 'meta': {'title': 'Pandemic Emergency Financing Facility'}, 'embedding': None, 'id': '13216458'}>]"
      ]
     },
     "execution_count": 158,
     "metadata": {},
     "output_type": "execute_result"
    }
   ],
   "source": [
    "retrieved_docs[1]"
   ]
  },
  {
   "cell_type": "code",
   "execution_count": 241,
   "metadata": {},
   "outputs": [],
   "source": [
    "async def query_batch(retriever, queries, top_k=10):\n",
    "    return retriever.retrieve_batch(queries=queries, top_k=top_k)"
   ]
  },
  {
   "cell_type": "code",
   "execution_count": 242,
   "metadata": {},
   "outputs": [],
   "source": [
    "def decent_vectorize(queries):\n",
    "    return np.vectorize(deaccent)(queries)"
   ]
  },
  {
   "cell_type": "code",
   "execution_count": 243,
   "metadata": {},
   "outputs": [],
   "source": [
    "question_chunk = [decent_vectorize(piaf_df.question.loc[1:5]), decent_vectorize(piaf_df.question.loc[5:10])]"
   ]
  },
  {
   "cell_type": "code",
   "execution_count": 244,
   "metadata": {},
   "outputs": [],
   "source": [
    "async def main():\n",
    "    return await tqdm_asyncio.gather(*[query_batch(bm25_retriever, queries) for queries in question_chunk])"
   ]
  },
  {
   "cell_type": "code",
   "execution_count": 269,
   "metadata": {},
   "outputs": [],
   "source": [
    "def write_to_json(data, path):\n",
    "    with open(path, \"w\") as f:\n",
    "        json.dump(data, f, indent=4, ensure_ascii=False)"
   ]
  },
  {
   "cell_type": "code",
   "execution_count": 246,
   "metadata": {},
   "outputs": [
    {
     "data": {
      "text/plain": [
       "'En quelle annee Jakob Bohme tombe-t-il malade ?'"
      ]
     },
     "execution_count": 246,
     "metadata": {},
     "output_type": "execute_result"
    }
   ],
   "source": [
    "question_chunk[0][-1]"
   ]
  },
  {
   "cell_type": "code",
   "execution_count": 188,
   "metadata": {},
   "outputs": [
    {
     "data": {
      "text/plain": [
       "[<Document: {'content': \"Gregor Richter est le fils du dernier forgeron de l'abbaye de Marienthal. A Breslau, il frequente l'ecole secondaire a partir de 1576 et etudie la theologie a l'universite de Francfort-sur-l’Oder. En 1584, Gregor Richter devient professeur au gymnasium de Gorlitz et en 1587 il devient pasteur a Rauscha pres de Gorlitz. Trois ans plus tard, il retourne a Gorlitz, d'abord comme diacre et a partir de 1595 comme archidiacre. En 1606, il devient Pastor primarius a Gorlitz et en tant que tel est l'un des plus grands opposants theologiques de Jakob Bohme, qui est membre de sa congregation a l'eglise Saints-Pierre-et-Paul de Gorlitz. Apres le premier opuscule de Bohme, Aurora, ecrit en 1612, Richter l'accuse d'heresie. Bohme est brievement arrete par le conseil municipal et interdit d'ecrire, ce qu'il accepte pendant plusieurs annees. Lorsque Bohme meurt un quart d'annee apres Richter, les habitants agites cassent la tombe de Bohme au cimetiere Saint-Nicolas de Gorlitz.\", 'content_type': 'text', 'score': 0.9440520957873079, 'meta': {'title': 'Gregor Richter'}, 'embedding': None, 'id': '13864297'}>,\n",
       " <Document: {'content': '  T.C. von Stockum, Zwischen Jakob Bohme und Johannes Scheffler: Abraham von Franckenberg (1593-1652) und Daniel Czepko von Reigersfeld (1605-1660), Mededelingen der Koninklijke Nederlandse Akademie von Wetenschappen, Amsterdam, 1967.', 'content_type': 'text', 'score': 0.9119987419312323, 'meta': {'title': 'Abraham von Franckenberg'}, 'embedding': None, 'id': '8190183'}>,\n",
       " <Document: {'content': \"Les principales cibles des diagnostics presymptomatiques sont les maladies neurodegeneratives telles que la maladie de Huntington, a la suite de la decouverte du gene responsable de la maladie en 1993. Certaines formes d'Alzheimer, Parkinson ou Creutzfeldt-Jakob ainsi que certaines maladies neuromusculaires peuvent egalement etre diagnostiquees.\", 'content_type': 'text', 'score': 0.8990814953505218, 'meta': {'title': 'Diagnostic présymptomatique'}, 'embedding': None, 'id': '4059829'}>,\n",
       " <Document: {'content': \"En 2008, il est entendu comme temoin, lors du proces de l'affaire de l'hormone de croissance, pour avoir redige en 1980 une recommandation sur le danger de transmission de la maladie de Creutzfeldt-Jakob.\", 'content_type': 'text', 'score': 0.8883318523325504, 'meta': {'title': 'Luc Montagnier'}, 'embedding': None, 'id': '127231'}>,\n",
       " <Document: {'content': 'Adepte enthousiaste des doctrines theosophiques de l’Allemand Jakob Bohme, il se mit a la tete d’une societe d’illumines, pretendit avoir recu des revelations qui lui apprenaient que ses doctrines etaient l’expression de la verite divine, et compta au nombre de ses disciples Jane Leade, sorte de visionnaire dont l’influence devint bientot considerable et qui fut la fondatrice des philadelphes. Pordage devint bientot lui-meme le disciple de cette illuminee.', 'content_type': 'text', 'score': 0.8859607159499218, 'meta': {'title': 'John Pordage'}, 'embedding': None, 'id': '14116699'}>,\n",
       " <Document: {'content': \"Une enquete quantitative de 1993 a examine la relation entre la\\xa0maladie de Creutzfeldt-Jakob et l'expression de Vimentine des cellules gliales cerebelleux mais la recherche n'a pas pu fournir une preuve que les cellules de Fananas necessairement jouent un role important dans l'etiologie de la maladie.\", 'content_type': 'text', 'score': 0.8857372775141571, 'meta': {'title': 'Cellule de Fananas'}, 'embedding': None, 'id': '11027307'}>,\n",
       " <Document: {'content': 'Jakob Heine, ne a Lauterbach le  et mort a Cannstat le , est un orthopediste allemand renomme pour avoir identifie en  1840 le premier cas reconnu de poliomyelite. Cette maladie portera son nom associe a celui de Karl Oskar Medin (maladie de Heine-Medin).', 'content_type': 'text', 'score': 0.8836308069030417, 'meta': {'title': 'Jakob Heine'}, 'embedding': None, 'id': '3698524'}>,\n",
       " <Document: {'content': \"Il reintegre l'Education Nationale en 1965 et il est nomme professeur au lycee de Falaise (Calvados) ou il enseignera l'histoire et la geographie jusqu'a ce qu'il tombe gravement malade en 1973. Il se battra cinq annees contre la maladie avec un grand courage.\", 'content_type': 'text', 'score': 0.8822134426843042, 'meta': {'title': 'André Mazeline'}, 'embedding': None, 'id': '3909173'}>,\n",
       " <Document: {'content': 'Son activite artistique  s’arrete malheureusement vers la fin des annees 90, alors qu’il tombe malade. Selon le chanteur Rabah Oufarhat, un de ses anciens amis, il etait atteint de la maladie d’Alzheimer. Il meurt le  et est enterre dans son village natal.', 'content_type': 'text', 'score': 0.8800140926939835, 'meta': {'title': 'Aït Meslayene'}, 'embedding': None, 'id': '9457993'}>,\n",
       " <Document: {'content': \" Jakob Heine distingue clairement la poliomyelite de la paralysie cerebrale infantile et de l'hemiplegie. Il emet l'hypothese du caractere epidemique de la maladie et suggere la localisation des lesions dans la corne anterieure de la moelle spinale.\", 'content_type': 'text', 'score': 0.8799920623819991, 'meta': {'title': '1840 en santé et médecine'}, 'embedding': None, 'id': '9440147'}>]"
      ]
     },
     "execution_count": 188,
     "metadata": {},
     "output_type": "execute_result"
    }
   ],
   "source": [
    "answers[0][-1]"
   ]
  },
  {
   "cell_type": "code",
   "execution_count": 189,
   "metadata": {},
   "outputs": [
    {
     "data": {
      "text/plain": [
       "{'id': 'p140295443291664',\n",
       " 'title': 'Sport',\n",
       " 'context': \"Les dépenses des ménages représentent plus de 50 % de ces montants (14,2 milliards d'euros en 2003 et 12 milliards d'euros en 2019), contre 7,9 milliards d'euros pour les collectivités locales, 3,2 pour l'État, et 2,2 pour les entreprises. Parmi les dépenses sportives des ménages en 2003, 3,7 milliards sont consacrés aux vêtements de sport et chaussures, 2 aux biens durables, 2,7 aux autres biens et 5,8 aux services. Le Ministère de la Jeunesse et des Sports estime à 100 000 (58 % d'hommes pour 42 % de femmes) le nombre de salariés travaillant pour le secteur sportif en France pour quelque 20 000 employeurs.\",\n",
       " 'question': 'Combien de personnes travaillent au ministère des sports',\n",
       " 'answers': {'text': ['100 000'], 'answer_start': [472]}}"
      ]
     },
     "execution_count": 189,
     "metadata": {},
     "output_type": "execute_result"
    }
   ],
   "source": [
    "piaf_dataset[0]"
   ]
  },
  {
   "cell_type": "code",
   "execution_count": 283,
   "metadata": {},
   "outputs": [],
   "source": [
    "import json"
   ]
  },
  {
   "cell_type": "code",
   "execution_count": 284,
   "metadata": {},
   "outputs": [],
   "source": [
    "async def process_queries_chunk(retriever:BM25Retriever, queries_chunk: pd.DataFrame):\n",
    "    \"\"\"tak a query chunk process it , query the elastic, instance and write the document to the file.\n",
    "\n",
    "    Args:\n",
    "        queries_chunk (pd.DataFrame): _description_\n",
    "    \"\"\"\n",
    "    questions = decent_vectorize(queries_chunk.question)\n",
    "    titles = queries_chunk.title\n",
    "    answers = [answer.get(\"text\")[0] for answer in queries_chunk.answers]\n",
    "    contexts = queries_chunk.context\n",
    "    ids = queries_chunk.id\n",
    "    retrieved_docs = retriever.retrieve_batch(queries=questions, top_k=10)\n",
    "    process_answers(ids=ids, \n",
    "                    questions=questions,\n",
    "                    titles=titles,\n",
    "                    answers=answers,\n",
    "                    contexts=contexts,\n",
    "                    retrieved_docs=retrieved_docs)"
   ]
  },
  {
   "cell_type": "code",
   "execution_count": 285,
   "metadata": {},
   "outputs": [],
   "source": [
    "def process_doc(retrieved_docs):\n",
    "    \"\"\"\n",
    "    convert a list of retrieved document to list of array of list and content\n",
    "    \"\"\"\n",
    "    doc_list = []\n",
    "    for doc in retrieved_docs:\n",
    "        doc_ = {\n",
    "            \"title\": doc.meta.get(\"title\"),\n",
    "            \"content\": doc.content,\n",
    "            }\n",
    "        doc_list.append(doc_)\n",
    "    return doc_list"
   ]
  },
  {
   "cell_type": "code",
   "execution_count": 286,
   "metadata": {},
   "outputs": [],
   "source": [
    "piaf_with_multi_context_path = DATA_PATH.joinpath(\"corpus\", \"french-qa\", \"piaf-with-multi-context\")\n",
    "assert piaf_with_multi_context_path.exists()"
   ]
  },
  {
   "cell_type": "code",
   "execution_count": 287,
   "metadata": {},
   "outputs": [],
   "source": [
    "def process_answers(ids, questions, titles, answers, contexts, retrieved_docs):\n",
    "    \"\"\"process answers and write them to the file.\n",
    "\n",
    "    Args:\n",
    "        questions (_type_): _description_\n",
    "        titles (_type_): _description_\n",
    "        answers (_type_): _description_\n",
    "        contexts (_type_): _description_\n",
    "        retrieved_docs (_type_): _description_\n",
    "    \"\"\"\n",
    "    for id_, question, title, answer, context, retrieved_doc in zip(ids, questions, titles, answers, contexts, retrieved_docs):\n",
    "        contexts = [{\"title\": title, \"content\": context}]\n",
    "        additional_context = process_doc(retrieved_doc)\n",
    "        contexts.extend(additional_context)\n",
    "        instance_json = {\n",
    "            \"question\": question,\n",
    "            \"answer\": answer,\n",
    "            \"contexts\": contexts,\n",
    "            \"id\": id_,\n",
    "        }\n",
    "        path = piaf_with_multi_context_path.joinpath(f\"{id_}.json\")\n",
    "        write_to_json(instance_json, path)\n",
    "\n",
    "    "
   ]
  },
  {
   "cell_type": "code",
   "execution_count": 197,
   "metadata": {},
   "outputs": [
    {
     "data": {
      "text/plain": [
       "PosixPath('/Users/es.py/Projects/Personal/unsupervised-open-domain-french-question-answering/data/corpus/french_qa/piaf-with-multi-context')"
      ]
     },
     "execution_count": 197,
     "metadata": {},
     "output_type": "execute_result"
    }
   ],
   "source": [
    "for  in piaf_df.loc[:10].groupby(np.arange(len(piaf_df))//20):\n",
    "    print(k, g)"
   ]
  },
  {
   "cell_type": "code",
   "execution_count": 212,
   "metadata": {},
   "outputs": [
    {
     "data": {
      "text/plain": [
       "array([0, 0, 0, 0, 0, 1, 1, 1, 1, 1])"
      ]
     },
     "execution_count": 212,
     "metadata": {},
     "output_type": "execute_result"
    }
   ],
   "source": [
    "np.arange(10)//5"
   ]
  },
  {
   "cell_type": "code",
   "execution_count": 217,
   "metadata": {},
   "outputs": [
    {
     "data": {
      "text/plain": [
       "(10, 5)"
      ]
     },
     "execution_count": 217,
     "metadata": {},
     "output_type": "execute_result"
    }
   ],
   "source": [
    "piaf_df.loc[:9].shape"
   ]
  },
  {
   "cell_type": "code",
   "execution_count": 290,
   "metadata": {},
   "outputs": [],
   "source": [
    "async def main():\n",
    "    return await tqdm_asyncio.gather(*[process_queries_chunk(bm25_retriever, queries) for _, queries in piaf_df.groupby(np.arange(len(piaf_df))//5)])"
   ]
  },
  {
   "cell_type": "code",
   "execution_count": 291,
   "metadata": {},
   "outputs": [
    {
     "name": "stderr",
     "output_type": "stream",
     "text": [
      "  0%|          | 0/767 [00:00<?, ?it/s]/Users/es.py/Projects/Personal/unsupervised-open-domain-french-question-answering/.venv/lib/python3.9/site-packages/elasticsearch/connection/base.py:190: ElasticsearchDeprecationWarning: Elasticsearch built-in security features are not enabled. Without authentication, your cluster could be accessible to anyone. See https://www.elastic.co/guide/en/elasticsearch/reference/7.16/security-minimal-setup.html to enable security.\n",
      "  warnings.warn(message, category=ElasticsearchDeprecationWarning)\n",
      "100%|██████████| 767/767 [01:27<00:00,  8.73it/s] \n"
     ]
    },
    {
     "data": {
      "text/plain": [
       "[None,\n",
       " None,\n",
       " None,\n",
       " None,\n",
       " None,\n",
       " None,\n",
       " None,\n",
       " None,\n",
       " None,\n",
       " None,\n",
       " None,\n",
       " None,\n",
       " None,\n",
       " None,\n",
       " None,\n",
       " None,\n",
       " None,\n",
       " None,\n",
       " None,\n",
       " None,\n",
       " None,\n",
       " None,\n",
       " None,\n",
       " None,\n",
       " None,\n",
       " None,\n",
       " None,\n",
       " None,\n",
       " None,\n",
       " None,\n",
       " None,\n",
       " None,\n",
       " None,\n",
       " None,\n",
       " None,\n",
       " None,\n",
       " None,\n",
       " None,\n",
       " None,\n",
       " None,\n",
       " None,\n",
       " None,\n",
       " None,\n",
       " None,\n",
       " None,\n",
       " None,\n",
       " None,\n",
       " None,\n",
       " None,\n",
       " None,\n",
       " None,\n",
       " None,\n",
       " None,\n",
       " None,\n",
       " None,\n",
       " None,\n",
       " None,\n",
       " None,\n",
       " None,\n",
       " None,\n",
       " None,\n",
       " None,\n",
       " None,\n",
       " None,\n",
       " None,\n",
       " None,\n",
       " None,\n",
       " None,\n",
       " None,\n",
       " None,\n",
       " None,\n",
       " None,\n",
       " None,\n",
       " None,\n",
       " None,\n",
       " None,\n",
       " None,\n",
       " None,\n",
       " None,\n",
       " None,\n",
       " None,\n",
       " None,\n",
       " None,\n",
       " None,\n",
       " None,\n",
       " None,\n",
       " None,\n",
       " None,\n",
       " None,\n",
       " None,\n",
       " None,\n",
       " None,\n",
       " None,\n",
       " None,\n",
       " None,\n",
       " None,\n",
       " None,\n",
       " None,\n",
       " None,\n",
       " None,\n",
       " None,\n",
       " None,\n",
       " None,\n",
       " None,\n",
       " None,\n",
       " None,\n",
       " None,\n",
       " None,\n",
       " None,\n",
       " None,\n",
       " None,\n",
       " None,\n",
       " None,\n",
       " None,\n",
       " None,\n",
       " None,\n",
       " None,\n",
       " None,\n",
       " None,\n",
       " None,\n",
       " None,\n",
       " None,\n",
       " None,\n",
       " None,\n",
       " None,\n",
       " None,\n",
       " None,\n",
       " None,\n",
       " None,\n",
       " None,\n",
       " None,\n",
       " None,\n",
       " None,\n",
       " None,\n",
       " None,\n",
       " None,\n",
       " None,\n",
       " None,\n",
       " None,\n",
       " None,\n",
       " None,\n",
       " None,\n",
       " None,\n",
       " None,\n",
       " None,\n",
       " None,\n",
       " None,\n",
       " None,\n",
       " None,\n",
       " None,\n",
       " None,\n",
       " None,\n",
       " None,\n",
       " None,\n",
       " None,\n",
       " None,\n",
       " None,\n",
       " None,\n",
       " None,\n",
       " None,\n",
       " None,\n",
       " None,\n",
       " None,\n",
       " None,\n",
       " None,\n",
       " None,\n",
       " None,\n",
       " None,\n",
       " None,\n",
       " None,\n",
       " None,\n",
       " None,\n",
       " None,\n",
       " None,\n",
       " None,\n",
       " None,\n",
       " None,\n",
       " None,\n",
       " None,\n",
       " None,\n",
       " None,\n",
       " None,\n",
       " None,\n",
       " None,\n",
       " None,\n",
       " None,\n",
       " None,\n",
       " None,\n",
       " None,\n",
       " None,\n",
       " None,\n",
       " None,\n",
       " None,\n",
       " None,\n",
       " None,\n",
       " None,\n",
       " None,\n",
       " None,\n",
       " None,\n",
       " None,\n",
       " None,\n",
       " None,\n",
       " None,\n",
       " None,\n",
       " None,\n",
       " None,\n",
       " None,\n",
       " None,\n",
       " None,\n",
       " None,\n",
       " None,\n",
       " None,\n",
       " None,\n",
       " None,\n",
       " None,\n",
       " None,\n",
       " None,\n",
       " None,\n",
       " None,\n",
       " None,\n",
       " None,\n",
       " None,\n",
       " None,\n",
       " None,\n",
       " None,\n",
       " None,\n",
       " None,\n",
       " None,\n",
       " None,\n",
       " None,\n",
       " None,\n",
       " None,\n",
       " None,\n",
       " None,\n",
       " None,\n",
       " None,\n",
       " None,\n",
       " None,\n",
       " None,\n",
       " None,\n",
       " None,\n",
       " None,\n",
       " None,\n",
       " None,\n",
       " None,\n",
       " None,\n",
       " None,\n",
       " None,\n",
       " None,\n",
       " None,\n",
       " None,\n",
       " None,\n",
       " None,\n",
       " None,\n",
       " None,\n",
       " None,\n",
       " None,\n",
       " None,\n",
       " None,\n",
       " None,\n",
       " None,\n",
       " None,\n",
       " None,\n",
       " None,\n",
       " None,\n",
       " None,\n",
       " None,\n",
       " None,\n",
       " None,\n",
       " None,\n",
       " None,\n",
       " None,\n",
       " None,\n",
       " None,\n",
       " None,\n",
       " None,\n",
       " None,\n",
       " None,\n",
       " None,\n",
       " None,\n",
       " None,\n",
       " None,\n",
       " None,\n",
       " None,\n",
       " None,\n",
       " None,\n",
       " None,\n",
       " None,\n",
       " None,\n",
       " None,\n",
       " None,\n",
       " None,\n",
       " None,\n",
       " None,\n",
       " None,\n",
       " None,\n",
       " None,\n",
       " None,\n",
       " None,\n",
       " None,\n",
       " None,\n",
       " None,\n",
       " None,\n",
       " None,\n",
       " None,\n",
       " None,\n",
       " None,\n",
       " None,\n",
       " None,\n",
       " None,\n",
       " None,\n",
       " None,\n",
       " None,\n",
       " None,\n",
       " None,\n",
       " None,\n",
       " None,\n",
       " None,\n",
       " None,\n",
       " None,\n",
       " None,\n",
       " None,\n",
       " None,\n",
       " None,\n",
       " None,\n",
       " None,\n",
       " None,\n",
       " None,\n",
       " None,\n",
       " None,\n",
       " None,\n",
       " None,\n",
       " None,\n",
       " None,\n",
       " None,\n",
       " None,\n",
       " None,\n",
       " None,\n",
       " None,\n",
       " None,\n",
       " None,\n",
       " None,\n",
       " None,\n",
       " None,\n",
       " None,\n",
       " None,\n",
       " None,\n",
       " None,\n",
       " None,\n",
       " None,\n",
       " None,\n",
       " None,\n",
       " None,\n",
       " None,\n",
       " None,\n",
       " None,\n",
       " None,\n",
       " None,\n",
       " None,\n",
       " None,\n",
       " None,\n",
       " None,\n",
       " None,\n",
       " None,\n",
       " None,\n",
       " None,\n",
       " None,\n",
       " None,\n",
       " None,\n",
       " None,\n",
       " None,\n",
       " None,\n",
       " None,\n",
       " None,\n",
       " None,\n",
       " None,\n",
       " None,\n",
       " None,\n",
       " None,\n",
       " None,\n",
       " None,\n",
       " None,\n",
       " None,\n",
       " None,\n",
       " None,\n",
       " None,\n",
       " None,\n",
       " None,\n",
       " None,\n",
       " None,\n",
       " None,\n",
       " None,\n",
       " None,\n",
       " None,\n",
       " None,\n",
       " None,\n",
       " None,\n",
       " None,\n",
       " None,\n",
       " None,\n",
       " None,\n",
       " None,\n",
       " None,\n",
       " None,\n",
       " None,\n",
       " None,\n",
       " None,\n",
       " None,\n",
       " None,\n",
       " None,\n",
       " None,\n",
       " None,\n",
       " None,\n",
       " None,\n",
       " None,\n",
       " None,\n",
       " None,\n",
       " None,\n",
       " None,\n",
       " None,\n",
       " None,\n",
       " None,\n",
       " None,\n",
       " None,\n",
       " None,\n",
       " None,\n",
       " None,\n",
       " None,\n",
       " None,\n",
       " None,\n",
       " None,\n",
       " None,\n",
       " None,\n",
       " None,\n",
       " None,\n",
       " None,\n",
       " None,\n",
       " None,\n",
       " None,\n",
       " None,\n",
       " None,\n",
       " None,\n",
       " None,\n",
       " None,\n",
       " None,\n",
       " None,\n",
       " None,\n",
       " None,\n",
       " None,\n",
       " None,\n",
       " None,\n",
       " None,\n",
       " None,\n",
       " None,\n",
       " None,\n",
       " None,\n",
       " None,\n",
       " None,\n",
       " None,\n",
       " None,\n",
       " None,\n",
       " None,\n",
       " None,\n",
       " None,\n",
       " None,\n",
       " None,\n",
       " None,\n",
       " None,\n",
       " None,\n",
       " None,\n",
       " None,\n",
       " None,\n",
       " None,\n",
       " None,\n",
       " None,\n",
       " None,\n",
       " None,\n",
       " None,\n",
       " None,\n",
       " None,\n",
       " None,\n",
       " None,\n",
       " None,\n",
       " None,\n",
       " None,\n",
       " None,\n",
       " None,\n",
       " None,\n",
       " None,\n",
       " None,\n",
       " None,\n",
       " None,\n",
       " None,\n",
       " None,\n",
       " None,\n",
       " None,\n",
       " None,\n",
       " None,\n",
       " None,\n",
       " None,\n",
       " None,\n",
       " None,\n",
       " None,\n",
       " None,\n",
       " None,\n",
       " None,\n",
       " None,\n",
       " None,\n",
       " None,\n",
       " None,\n",
       " None,\n",
       " None,\n",
       " None,\n",
       " None,\n",
       " None,\n",
       " None,\n",
       " None,\n",
       " None,\n",
       " None,\n",
       " None,\n",
       " None,\n",
       " None,\n",
       " None,\n",
       " None,\n",
       " None,\n",
       " None,\n",
       " None,\n",
       " None,\n",
       " None,\n",
       " None,\n",
       " None,\n",
       " None,\n",
       " None,\n",
       " None,\n",
       " None,\n",
       " None,\n",
       " None,\n",
       " None,\n",
       " None,\n",
       " None,\n",
       " None,\n",
       " None,\n",
       " None,\n",
       " None,\n",
       " None,\n",
       " None,\n",
       " None,\n",
       " None,\n",
       " None,\n",
       " None,\n",
       " None,\n",
       " None,\n",
       " None,\n",
       " None,\n",
       " None,\n",
       " None,\n",
       " None,\n",
       " None,\n",
       " None,\n",
       " None,\n",
       " None,\n",
       " None,\n",
       " None,\n",
       " None,\n",
       " None,\n",
       " None,\n",
       " None,\n",
       " None,\n",
       " None,\n",
       " None,\n",
       " None,\n",
       " None,\n",
       " None,\n",
       " None,\n",
       " None,\n",
       " None,\n",
       " None,\n",
       " None,\n",
       " None,\n",
       " None,\n",
       " None,\n",
       " None,\n",
       " None,\n",
       " None,\n",
       " None,\n",
       " None,\n",
       " None,\n",
       " None,\n",
       " None,\n",
       " None,\n",
       " None,\n",
       " None,\n",
       " None,\n",
       " None,\n",
       " None,\n",
       " None,\n",
       " None,\n",
       " None,\n",
       " None,\n",
       " None,\n",
       " None,\n",
       " None,\n",
       " None,\n",
       " None,\n",
       " None,\n",
       " None,\n",
       " None,\n",
       " None,\n",
       " None,\n",
       " None,\n",
       " None,\n",
       " None,\n",
       " None,\n",
       " None,\n",
       " None,\n",
       " None,\n",
       " None,\n",
       " None,\n",
       " None,\n",
       " None,\n",
       " None,\n",
       " None,\n",
       " None,\n",
       " None,\n",
       " None,\n",
       " None,\n",
       " None,\n",
       " None,\n",
       " None,\n",
       " None,\n",
       " None,\n",
       " None,\n",
       " None,\n",
       " None,\n",
       " None,\n",
       " None,\n",
       " None,\n",
       " None,\n",
       " None,\n",
       " None,\n",
       " None,\n",
       " None,\n",
       " None,\n",
       " None,\n",
       " None,\n",
       " None,\n",
       " None,\n",
       " None,\n",
       " None,\n",
       " None,\n",
       " None,\n",
       " None,\n",
       " None,\n",
       " None,\n",
       " None,\n",
       " None,\n",
       " None,\n",
       " None,\n",
       " None,\n",
       " None,\n",
       " None,\n",
       " None,\n",
       " None,\n",
       " None,\n",
       " None,\n",
       " None,\n",
       " None,\n",
       " None,\n",
       " None,\n",
       " None,\n",
       " None,\n",
       " None,\n",
       " None,\n",
       " None,\n",
       " None,\n",
       " None,\n",
       " None,\n",
       " None,\n",
       " None,\n",
       " None,\n",
       " None,\n",
       " None,\n",
       " None,\n",
       " None,\n",
       " None,\n",
       " None,\n",
       " None,\n",
       " None,\n",
       " None,\n",
       " None,\n",
       " None,\n",
       " None,\n",
       " None,\n",
       " None,\n",
       " None,\n",
       " None,\n",
       " None,\n",
       " None,\n",
       " None,\n",
       " None,\n",
       " None,\n",
       " None,\n",
       " None,\n",
       " None,\n",
       " None,\n",
       " None,\n",
       " None,\n",
       " None,\n",
       " None,\n",
       " None,\n",
       " None,\n",
       " None,\n",
       " None,\n",
       " None,\n",
       " None,\n",
       " None,\n",
       " None,\n",
       " None,\n",
       " None,\n",
       " None,\n",
       " None,\n",
       " None,\n",
       " None,\n",
       " None,\n",
       " None,\n",
       " None,\n",
       " None,\n",
       " None,\n",
       " None,\n",
       " None,\n",
       " None,\n",
       " None,\n",
       " None,\n",
       " None,\n",
       " None,\n",
       " None,\n",
       " None,\n",
       " None,\n",
       " None,\n",
       " None,\n",
       " None,\n",
       " None,\n",
       " None,\n",
       " None,\n",
       " None,\n",
       " None,\n",
       " None,\n",
       " None,\n",
       " None,\n",
       " None,\n",
       " None,\n",
       " None,\n",
       " None,\n",
       " None,\n",
       " None,\n",
       " None,\n",
       " None,\n",
       " None,\n",
       " None,\n",
       " None,\n",
       " None,\n",
       " None,\n",
       " None,\n",
       " None,\n",
       " None,\n",
       " None,\n",
       " None]"
      ]
     },
     "execution_count": 291,
     "metadata": {},
     "output_type": "execute_result"
    }
   ],
   "source": [
    "await main()"
   ]
  },
  {
   "cell_type": "code",
   "execution_count": 294,
   "metadata": {},
   "outputs": [
    {
     "name": "stdout",
     "output_type": "stream",
     "text": [
      "Retriever query: {'size': '10', 'query': {'bool': {'must': [{'multi_match': {'query': 'De quelle langue est issue le mot mycelium ?', 'type': 'most_fields', 'fields': ['content'], 'operator': 'OR'}}]}}}\n"
     ]
    },
    {
     "data": {
      "text/plain": [
       "[<Document: {'content': 'Un mot savant est un neologisme ou un mot dont l’evolution etymologique a ete freinee par le contexte socio-historique et qui reste de ce fait plus proche de son etymon. Par exemple, « fragile » est un mot savant dont le correspondant populaire est « frele ». Plus generalement, la langue savante (marquee de formations savantes) est la langue scientifique issue du latin ou du grec, opposee a la langue populaire ou vulgaire.', 'content_type': 'text', 'score': 0.9178798627418258, 'meta': {'title': 'Mot savant'}, 'embedding': None, 'id': '9713327'}>,\n",
       " <Document: {'content': \"La croissance du mycelium qui a lieu dans l'espace intercellulaire, est fortement correlee a la croissance de l'hote. Le mycelium colonise les nouvelles feuilles et les nouveaux talles. La transmission par la semence est tres efficace. Dans la graine le mycelium est localise essentiellement dans la couche a aleurone.\", 'content_type': 'text', 'score': 0.8908335557594226, 'meta': {'title': 'Epichloe coenophiala'}, 'embedding': None, 'id': '3303315'}>,\n",
       " <Document: {'content': \"Des mots transparents sont des mots qui, dans deux langues differentes, sont similaires voire identiques a l'ecrit ou a l'oral et qui ont le meme sens. Il peut s'agir de mots qui ont ete empruntes par une des deux langues a l'autre, ou de mots ayant pour origine une langue tierce.\", 'content_type': 'text', 'score': 0.8865517662296667, 'meta': {'title': 'Mot transparent'}, 'embedding': None, 'id': '1044446'}>,\n",
       " <Document: {'content': \"Les myceliums sont formes d'hyphes septes. Les pores simples sont regules par des corps de Woronin. Les myceliums sont en general haploides, le stade dikaryon n'apparaissant qu'immediatement avant la fusion sexuelle.\", 'content_type': 'text', 'score': 0.8825553398817153, 'meta': {'title': 'Pezizomycotina'}, 'embedding': None, 'id': '1656212'}>,\n",
       " <Document: {'content': \"Le site classe les tweets en recherchant dans la banque de donnees des mots et des phrases specifiques a certaines langues minoritaires. L'outil de classement du site ne peut pas identifier la langue d'un tweet a partir d'un mot si ce mot existe dans plusieurs langues. Afin d'eviter le probleme, Scannell n'utilise dans sa banque de donnees que des mots et des expressions qui apparaissent dans une seule langue.\", 'content_type': 'text', 'score': 0.8810495266904791, 'meta': {'title': 'Indigenous Tweets'}, 'embedding': None, 'id': '9219219'}>,\n",
       " <Document: {'content': 'En traitement automatique des langues, un modele de langage est un modele statistique qui modelise la distribution de sequences de mots, plus generalement de sequences de symboles discrets (lettres, phonemes, mots), dans une langue naturelle. Un modele de langage peut par exemple predire le mot suivant une sequence de mots.', 'content_type': 'text', 'score': 0.8734170679353914, 'meta': {'title': 'Modèle de langage'}, 'embedding': None, 'id': '13520981'}>,\n",
       " <Document: {'content': \"L'hinglish est un mot-valise assemble des mots hindi et English (anglais), pour designer le melange de mots de ces deux langues dans une phrase ou une conversation. Cette facon de parler est surtout utilisee dans les centres urbains des Etats indiens ou la langue majoritaire est l'hindi.\", 'content_type': 'text', 'score': 0.8714000922404981, 'meta': {'title': 'Hinglish'}, 'embedding': None, 'id': '3705051'}>,\n",
       " <Document: {'content': 'Les langues et l’ordre des mots peuvent etre rigide ou flexible. L’ordre des mots OVS est plutot rigide. Cependant, l’ordre des mots le plus souvent utilise avec OVS est SOV. Les langues wichita, apalai et macushi en sont le parfait exemple.', 'content_type': 'text', 'score': 0.8714000922404981, 'meta': {'title': 'Langue OVS'}, 'embedding': None, 'id': '492399'}>,\n",
       " <Document: {'content': ' En revanche, ce mot signifierait « douce » ou « sucre » dans les langues indo-europeennes. Le mot latin de « sucre » est saccharum, le mot sanskrit est sarkara et nous avons le mot saccharine en anglais. ', 'content_type': 'text', 'score': 0.8690562914142491, 'meta': {'title': 'Sakari'}, 'embedding': None, 'id': '2966524'}>,\n",
       " <Document: {'content': 'Un pseudo-mot est une chaine de caracteres ressemblant a un mot reel mais n\\'ayant aucun sens. Les pseudo-mots respectent les regles phonologiques ou conventions orthographiques de la langue et sont donc prononcables, comme de vrais mots (par exemple \"cavutre\" ou \"poidure\" en francais). Ils sont parfois, a tort, assimiles aux non-mots, qui sont eux des chaines de caracteres ne respectant pas les regles phonologiques de la langue (par exemple \"dfgvib\").', 'content_type': 'text', 'score': 0.8670229482616838, 'meta': {'title': 'Pseudo-mot'}, 'embedding': None, 'id': '4582755'}>]"
      ]
     },
     "execution_count": 294,
     "metadata": {},
     "output_type": "execute_result"
    }
   ],
   "source": [
    "bm25_retriever.retrieve(query=\n",
    "    deaccent(\"De quelle langue est issue le mot mycelium ?\"), top_k=10)"
   ]
  },
  {
   "cell_type": "code",
   "execution_count": null,
   "metadata": {},
   "outputs": [],
   "source": []
  }
 ],
 "metadata": {
  "kernelspec": {
   "display_name": "Python 3.9.7 ('.venv': poetry)",
   "language": "python",
   "name": "python3"
  },
  "language_info": {
   "codemirror_mode": {
    "name": "ipython",
    "version": 3
   },
   "file_extension": ".py",
   "mimetype": "text/x-python",
   "name": "python",
   "nbconvert_exporter": "python",
   "pygments_lexer": "ipython3",
   "version": "3.9.7"
  },
  "orig_nbformat": 4,
  "vscode": {
   "interpreter": {
    "hash": "6e18561f9b3508842a7e27c31e07753b72154ec003d59bf44fbebcfef9c0c06c"
   }
  }
 },
 "nbformat": 4,
 "nbformat_minor": 2
}
