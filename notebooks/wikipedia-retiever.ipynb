{
 "cells": [
  {
   "cell_type": "markdown",
   "metadata": {},
   "source": [
    "In this notebook we will index the french dump version of the wikipedia dataset, and use with the retrieval for our qa/system"
   ]
  },
  {
   "cell_type": "code",
   "execution_count": 40,
   "metadata": {},
   "outputs": [],
   "source": [
    "import numpy as np\n",
    "from haystack.utils import clean_wiki_text, convert_files_to_docs, fetch_archive_from_http, print_answers"
   ]
  },
  {
   "cell_type": "code",
   "execution_count": 2,
   "metadata": {},
   "outputs": [],
   "source": [
    "from datasets import load_dataset"
   ]
  },
  {
   "cell_type": "code",
   "execution_count": 3,
   "metadata": {},
   "outputs": [
    {
     "name": "stderr",
     "output_type": "stream",
     "text": [
      "WARNING - datasets.load -  Using the latest cached version of the module from /Users/es.py/.cache/huggingface/modules/datasets_modules/datasets/wikipedia/aa542ed919df55cc5d3347f42dd4521d05ca68751f50dbc32bae2a7f1e167559 (last modified on Wed Jul 13 11:01:44 2022) since it couldn't be found locally at wikipedia., or remotely on the Hugging Face Hub.\n",
      "WARNING - datasets.builder -  Reusing dataset wikipedia (/Users/es.py/.cache/huggingface/datasets/wikipedia/20220301.fr/2.0.0/aa542ed919df55cc5d3347f42dd4521d05ca68751f50dbc32bae2a7f1e167559)\n"
     ]
    }
   ],
   "source": [
    "wiki_corpus = load_dataset(\"wikipedia\", \"20220301.fr\", split=\"train\")"
   ]
  },
  {
   "cell_type": "code",
   "execution_count": 4,
   "metadata": {},
   "outputs": [
    {
     "name": "stderr",
     "output_type": "stream",
     "text": [
      "WARNING - datasets.arrow_dataset -  Loading cached shuffled indices for dataset at /Users/es.py/.cache/huggingface/datasets/wikipedia/20220301.fr/2.0.0/aa542ed919df55cc5d3347f42dd4521d05ca68751f50dbc32bae2a7f1e167559/cache-a0a7d2df10490c15.arrow\n"
     ]
    }
   ],
   "source": [
    "wiki_corpus = wiki_corpus.shuffle(seed=42)"
   ]
  },
  {
   "cell_type": "code",
   "execution_count": 5,
   "metadata": {},
   "outputs": [],
   "source": [
    "sample_wiki = wiki_corpus.shard(100, index=0)"
   ]
  },
  {
   "cell_type": "code",
   "execution_count": 6,
   "metadata": {},
   "outputs": [],
   "source": [
    "sample_doc_dict = sample_wiki[1]"
   ]
  },
  {
   "cell_type": "code",
   "execution_count": 7,
   "metadata": {},
   "outputs": [
    {
     "data": {
      "text/plain": [
       "{'id': '12576878',\n",
       " 'url': 'https://fr.wikipedia.org/wiki/Teinture%20naturelle',\n",
       " 'title': 'Teinture naturelle',\n",
       " 'text': \"Une teinture naturelle est une matière colorante dérivée de plantes ou d'invertébrés. On parle de teinture quand il s'agit de colorer des textiles au moyen de produits solubles dans l'eau ; les minéraux donnent des colorants insolubles appelés pigments qui s'appliquent mal à cet usage.\\n\\nLa plupart des teintures naturelles proviennent de racines, de baies, d'écorce, de feuilles ou de bois de plantes tinctoriales ou bien de champignons ou de lichens.\\n\\nHistoire \\n\\nLe concept de teinture naturelle se développe par opposition aux teintures issues de la chimie organique dans la deuxième moitié du . Il oppose aux produits de l'industrie chimique, les teintures que des artisans peuvent extraire de plantes, de lichens, d'insectes. Auparavant, on ne considérait comme naturelles que les quelques substances utilisables sans transformation, tandis que la plupart des teintures, artificielles ou préparées, avaient subi un important processus d'élaboration. Par ailleurs, les cultivateurs de plantes tinctoriales ont consacré de grands efforts pour leur amélioration, ce qui fait que les variétés utilisées n'étaient pas véritablement « naturelles ». Quoi qu'il en soit, toutes les teintures antérieures à l'industrie chimique sont désormais classées comme teintures naturelles.\\n\\nL'archéologie a trouvé des traces de teinture textile datant du Néolithique. En Chine, la teinture avec des plantes, des écorces et des insectes remonte à plus de . Le processus habituel de la teinture a peu changé avec le temps. Le teinturier prépare la matière colorante par broyage, macération, filtrage, cuisson et autres procédés, avant de la diluer dans une cuve d'eau. Il y ajoute le matériau à colorer, puis chauffe et brasse jusqu'à ce que la couleur soit transférée. Les fibres textiles peuvent être teintes avant le filage (), mais la plupart sont « teintes au fil » ou  « teintes en pièces » après tissage. Les colorants solubles requièrent l'utilisation de produits chimiques appelés mordants pour lier la teinture aux fibres textiles, faute de quoi la couleur s'enfuit dès que le textile est humide, par exemple au contact de la sueur. Les premiers teinturiers utilisaient le tanin des galles de chêne, le sel, l'alun naturel, le vinaigre et l'ammoniac de l'urine. De nombreux mordants, et certains colorants eux-mêmes, produisent de fortes odeurs, et les teintureries à grande échelle sont souvent isolées dans leurs propres quartiers.\\n\\nTout au long de l'Histoire, les gens ont teint leurs textiles à l'aide de matériaux communs et disponibles localement. Les rares colorants qui produisaient des couleurs vives et solides comme les colorants naturels à base d'invertébrés, la pourpre de Tyr et le carmin de kermès, sont devenus très prisés dans le monde antique et médiéval. Des teintures végétales telles que la guède (pastel des teinturiers), l'indigo, le safran et la garance étaient cultivées pour la vente et constituaient des marchandises importantes dans les économies d'Asie et d'Europe. En Asie et en Afrique, des tissus décorés ont été produits à l'aide de techniques de teinture par réserve, nouage ou batik, pour que empêcher que la teinture n'atteigne certaines parties du tissu. Des teintures à base de cochenille et le campêche (Haematoxylum campechianum) ont été apportées en Europe par les flottes espagnoles, et les colorants d'Europe ont été transportés en Amérique par les colons.\\n\\nL'invention de teintures synthétiques à partir du milieu du  a provoqué un long déclin du marché à grande échelle des colorants naturels. L'industrie chimique peut produire les colorants synthétiques en grandes quantités ; ils ont progressivement remplacé les colorants naturels dans l'industrie textile. Certaines matières colorantes naturelles sont toxiques ; certaines ne peuvent plus être fabriquées à cause de la disparition de l'espèce naturelle source ou parce que le procédé d'extraction est excessivement laborieux ; les colorants naturels ne conviennent pas aux fibres synthétiques inventées au . Les teinturiers disposaient d'une douzaine de colorants suffisamment solides ; l'industrie chimique en propose 4000.\\n\\nLes artistes du mouvement  de la fin du  ont promu les couleurs atténuées variabilité des teintures naturelles, qui s'adoucissent avec l'âge mais conservent leurs vraies couleurs, contrairement aux teintures synthétiques anciennes. Ils ont contribué à garantir la préservation des anciennes techniques européennes de teinture et d'impression avec des colorants naturels pour les teinturiers domestiques et artisanaux. Les artisans des cultures traditionnelles du monde entier préservent aussi les techniques de teinture naturelle. Cependant, plusieurs procédés de teinture à base de produits naturels sont devenus difficiles ou impossibles, soit à cause de l'énorme travail d'extraction du colorant, qui n'était viable qu'avec des consommateurs royaux capable de rétribuer cet effort, soit à cause de la disparition des espèces sources.\\n\\nAu début du , le marché des teintures naturelles dans l'industrie de la mode connaît une résurgence. Les consommateurs occidentaux sont de plus en plus préoccupés par l'impact des colorants synthétiques sur la santé et l'environnement dans la fabrication et il existe une demande croissante pour des produits qui utilisent des colorants naturels. L'Union européenne, par exemple, a encouragé les producteurs indonésiens de tissus de batik à passer aux teintures naturelles pour améliorer leur marché d'exportation en Europe.\\n\\nTeintures utilisées dans l'industrie du vêtement \\n\\nLa nature de la fibre détermine le type de teinture pour un tissu :\\n fibres de cellulose : coton, lin, chanvre, ramie, bambou, viscose ;\\n fibres de protéine : laine, angora, mohair, cachemire, soie, cuir, suède.\\n\\nLes fibres cellulosiques nécessitent des colorants réactifs aux fibres, directs ou substantiels et des colorants de cuve, qui sont des colorants solubles incolores, fixés par la lumière et/ou l'oxygène ; les fibres protéiques, des colorants de cuve, acides ou indirects/mordants, qui imposent un liant. Chaque fibre synthétique implique une méthode propre de teinture. Ainsi, le nylon se teint avec des colorants acides, dispersés et pigmentaires, la viscose avec des colorants dispersés. Les types de colorants naturels actuellement utilisés par l'industrie mondiale du vêtement comprennent :\\n\\nOrigines \\n\\nLes couleurs de la gamme des rouges, bruns et oranges sont les premières couleurs attestées dans un certain nombre de sites textiles anciens allant du Néolithique à l'âge du bronze, en passant par le Levant, l'Égypte, la Mésopotamie et l'Europe. Suivent des traces de bleus puis de jaunes, le vert apparaissant un peu plus tard. Les premiers vestiges de teinture textile ont été trouvés dans le grand établissement néolithique de Çatal Höyük, dans le sud de l'Anatolie, où des traces de teintures rouges, peut-être à partir d'ocre (pigments d'oxyde de fer à partir d'argile), ont été découvertes. Les tissus polychromes ou multicolores semblent avoir été développés au  ou  millénaire avant notre ère.\\xa0Dans les pyramides égyptiennes de la sixième dynastie (2345-2180), on a découvert des textiles avec une « chaîne rouge-brun et une trame ocre-jaune ».\\n\\nL'analyse chimique qui permettrait d'identifier définitivement les colorants utilisés dans les textiles anciens a rarement été effectuée. Même lorsqu'un colorant tel que le bleu indigo est détecté, il est impossible de déterminer parmi plusieurs plantes contenant de l'indigo laquelle a été utilisée. Néanmoins, d'après les couleurs des fragments textiles survivants et les traces de colorants réels trouvés dans les sites archéologiques, les rouges, les bleus et les jaunes d'origine végétale étaient d'usage courant à la fin de l'âge du bronze et à l'âge du fer.\\n\\nAu XVIIIe siècle,  a apporté une contribution importante au raffinage du processus de teinture, en particulier en ce qui concerne l'établissement de normes pour la teinture de la laine de mouton et de nombreux autres textiles. Sa contribution à l'amélioration du processus de la teinture, et ses théories sur la couleur ont été très appréciées par le poète, artiste et théoricien de l'art Johann Wolfgang von Goethe.\\n\\nProcédés \\n\\nLe processus essentiel de teinture consiste à tremper le matériau contenant le produit colorant dans l'eau, à ajouter le textile à teindre à la solution obtenue (le bain de teinture) et à faire bouillir doucement la solution pendant une période prolongée, souvent mesurée en jours ou même en semaines, en remuant de temps en temps jusqu'à ce que la couleur soit uniformément transférée aux textiles.\\n\\nCertains colorants, comme l'indigo et les lichens, donnent une bonne couleur lorsqu'ils sont utilisés seuls ; ces colorants sont appelés colorants directs ou colorants de fond. Cependant, la majorité des colorants végétaux nécessitent également l'utilisation d'un mordant, un produit chimique utilisé pour  la couleur dans les fibres textiles. Ces colorants sont appelés colorants adjectifs. En utilisant différents mordants, les teinturiers peuvent souvent obtenir une variété de couleurs et de nuances à partir du même colorant. Les fibres ou le tissu peuvent être prétraités avec des mordants, ou le mordant peut être incorporé dans le bain de teinture. Dans la teinture traditionnelle, les mordants communs sont le vinaigre, le tanin de l'écorce de chêne, le sumac ou les galles du chêne, l'ammoniac de l'urine ventilée, et la liqueur ou la potasse (carbonate de potassium) du bois, obtenue par lixiviation des cendres de bois et évaporation de la solution.\\n\\nLe sel aide à  ou à augmenter la solidité des couleurs, le vinaigre améliore les rouges et les violets, et l'ammoniac dans l'urine fermentée favorise la fermentation des colorants indigo. L'alun naturel (sulfate d'aluminium) est le sel métallique mordant le plus commun, mais l'étain (chlorure d'étain(II)), le cuivre (sulfate de cuivre), le fer (sulfate de fer(II), appelé copperas) et le chrome (dichromate de potassium) sont aussi utilisés.\\xa0 Les mordants de fer  les couleurs, tandis que les mordants d'étain et de chrome  les couleurs. Les mordants de fer contribuent à la détérioration des tissus, appelée . D'autres produits chimiques ou agents de modification peuvent être appliqués après la teinture pour modifier ou renforcer davantage les couleurs.\\n\\nLes textiles peuvent être teints sous forme de fibres brutes (teintes dans la toison ou dans la laine), de fils filés (teints dans les écheveaux ou teints dans le fil) ou après tissage (teints en pièces). Les mordants laissent souvent des résidus dans la fibre de laine, ce qui la rend difficile à filer, de sorte que la laine était généralement teinte après le filage, sous forme de fil ou de tissu tissé.\\xa0 L'indigo, cependant, n'exige aucun mordant, et les fabricants de tissu dans l'Angleterre médiévale ont souvent teint la laine dans la toison avec le pastel de plante indigo et ont alors teint le tissu encore après tissage pour produire des bleus profonds, bruns, rouges, violets, noirs, et fauvettes.\\n\\nDes tissus décorés sont produits en combinant, au tissage, des fils de couleurs différente. En Chine, au Japon, en Inde, dans plusieurs régions de l'Afrique de l'Ouest et de l'Asie du Sud-Est, des tissus de coton et de soie sont imprimés à motifs avec des techniques de réserve à l'amidon où à la cire comme le batik, ou par nouage, comme le shibori de diverses manières pour empêcher la pénétration de la teinture. On utilise aussi l'impression par bois gravé et le pochoir, comme pour le katagami.\\n\\nBeaucoup de produits de teinturerie produisent des odeurs puissantes et désagréables, et la fabrication utilise fréquemment des produits qu'on évite en général par hygiène, comme l'urine. La teinture des fils et des tissus consomme beaucoup d'eau douce et de combustibles et occupe un espace assez vaste, en comptant les espaces aérés nécessaires au séchage des pièces teintes. Les anciens quartiers de teinturiers étaient plutôt placés en périphérie des espaces habités, ou sur des promontoires venteux.\\n\\nRecherches \\nL'industrie chimique est issue, en grande partie, de la recherche vue de la substitution des teintures naturelles par des équivalents synthétiques ou des produits entièrement artificiels. Ces travaux ont débouché sur une théorie des chromophores et des milliers de teintures nouvelles. Dans ces productions, l'industrie s'occupe de substances pures et conçues pour l'usage. Les substances d'origine naturelles sont beaucoup plus complexes. Elles sont impures ; leur mode d'association avec les fibres textiles n'est pas entièrement élucidée. Depuis l'Antiquité, les teinturiers ont, au cours des siècles, empiriquement constitué et transmis les opérations qui allaient, progressivement, se transformer en chimie. Leur explication théorique reste à faire. L'étude des teintures naturelles inclut la reconstitution précise, en laboratoire, des procédés anciens.\\n\\nAnnexes\\n\\nBibliographie \\n\\n  \\n .\\n \\n Bryan, Nonabah Gorman & Young, Stella (2002). Navajo Natives Dyes: Their Preparation and Use. Dover Publications. .\\n\\nLiens externes \\n International Mushroom Dye Institute\\n Cochineal Master's Thesis-History and Uses\\n\\nArticles connexes \\n Dominique Cardon (historienne)\\n Arts & Crafts\\n\\nNotes\"}"
      ]
     },
     "execution_count": 7,
     "metadata": {},
     "output_type": "execute_result"
    }
   ],
   "source": [
    "sample_doc_dict"
   ]
  },
  {
   "cell_type": "code",
   "execution_count": 10,
   "metadata": {},
   "outputs": [],
   "source": [
    "from haystack.schema import Document"
   ]
  },
  {
   "cell_type": "code",
   "execution_count": 11,
   "metadata": {},
   "outputs": [],
   "source": [
    "docs = Document.from_dict(sample_doc_dict, field_map={\"text\": \"content\"})"
   ]
  },
  {
   "cell_type": "markdown",
   "metadata": {},
   "source": [
    "#### Building the Elastic Search Index"
   ]
  },
  {
   "cell_type": "code",
   "execution_count": 12,
   "metadata": {},
   "outputs": [],
   "source": [
    "from haystack.utils import clean_wiki_text, convert_files_to_docs"
   ]
  },
  {
   "cell_type": "code",
   "execution_count": 39,
   "metadata": {},
   "outputs": [],
   "source": [
    "from haystack.errors import HaystackError\n",
    "from haystack.schema import Document\n",
    "from typing import List, Optional, Generator, Set, Union, Callable, Dict\n",
    "from copy import deepcopy\n",
    "from haystack.nodes import PreProcessor\n",
    "import re"
   ]
  },
  {
   "cell_type": "code",
   "execution_count": 14,
   "metadata": {},
   "outputs": [],
   "source": [
    "from gensim.utils import deaccent\n",
    "\n",
    "def remove_accents(document):\n",
    "    input_without_accent = deaccent(document)\n",
    "    return input_without_accent"
   ]
  },
  {
   "cell_type": "code",
   "execution_count": 15,
   "metadata": {},
   "outputs": [],
   "source": [
    "async def convert_wiki_article_to_docs(\n",
    "    item: dict,\n",
    "    clean_func: Optional[Callable] = None,\n",
    "    split_paragraphs: bool = False,\n",
    ") -> List[Document]:\n",
    "    \"\"\"\n",
    "    item\n",
    "\n",
    "    :param items: dict of items\n",
    "    :param clean_func: a custom cleaning function that gets applied to each doc (input: str, output:str)\n",
    "    :param split_paragraphs: split text in paragraphs.\n",
    "    \"\"\"\n",
    "    documents = []\n",
    "    processed = 0\n",
    "    text = item.get(\"text\")\n",
    "    text = remove_accents(text)\n",
    "    if clean_func:\n",
    "        text = clean_func(text)\n",
    "    if split_paragraphs:\n",
    "        for para in text.split(\"\\n\"):\n",
    "            if 200 <= len(para.strip()) <= 2000:\n",
    "                # just pick the paragraph with length between 50 and 1500\n",
    "                processed += 1\n",
    "                doc = Document(content=para, meta={\"title\": item.get(\"title\")}, id=item.get(\"id\"))\n",
    "                documents.append(doc)\n",
    "            else:\n",
    "                continue\n",
    "    else:\n",
    "        processed += 1\n",
    "        doc = Document(content=text, meta={\"title\": item.get(\"title\")}, id=item.get(\"id\"))\n",
    "        documents.append(doc)\n",
    "    \n",
    "    return documents"
   ]
  },
  {
   "cell_type": "code",
   "execution_count": 16,
   "metadata": {},
   "outputs": [],
   "source": [
    "import asyncio"
   ]
  },
  {
   "cell_type": "markdown",
   "metadata": {},
   "source": [
    "#### Saving the Document in the retriever"
   ]
  },
  {
   "cell_type": "code",
   "execution_count": 17,
   "metadata": {},
   "outputs": [],
   "source": [
    "from tqdm import tqdm\n",
    "from tqdm.asyncio import tqdm_asyncio\n",
    "from haystack.document_stores import ElasticsearchDocumentStore\n"
   ]
  },
  {
   "cell_type": "code",
   "execution_count": 18,
   "metadata": {},
   "outputs": [
    {
     "name": "stderr",
     "output_type": "stream",
     "text": [
      "/Users/es.py/Projects/Personal/unsupervised-open-domain-french-question-answering/.venv/lib/python3.9/site-packages/elasticsearch/connection/base.py:190: ElasticsearchDeprecationWarning: Elasticsearch built-in security features are not enabled. Without authentication, your cluster could be accessible to anyone. See https://www.elastic.co/guide/en/elasticsearch/reference/7.16/security-minimal-setup.html to enable security.\n",
      "  warnings.warn(message, category=ElasticsearchDeprecationWarning)\n",
      "INFO - haystack.document_stores.elasticsearch -  Index 'fr-wikipedia' deleted.\n",
      "INFO - haystack.document_stores.elasticsearch -  Index 'label' deleted.\n"
     ]
    }
   ],
   "source": [
    "document_store = ElasticsearchDocumentStore(index=\"fr-wikipedia\", recreate_index=True, analyzer=\"french\")"
   ]
  },
  {
   "cell_type": "code",
   "execution_count": 76,
   "metadata": {},
   "outputs": [],
   "source": [
    "%%script false --no-raise-error\n",
    "all_docs = []\n",
    "for i in range(0, 100):\n",
    "    shard = wiki_corpus.shard(100, index=i)\n",
    "    with tqdm(total=shard.shape[0]) as pbar:\n",
    "        docs_in_shard = tqdm_asyncio.gather(*[convert_wiki_article_to_docs(item, clean_func=clean_wiki_text, split_paragraphs=True) for item in shard])\n",
    "        all_docs.append(docs_in_shard)\n",
    "    print(\"done with shard \", i)"
   ]
  },
  {
   "cell_type": "code",
   "execution_count": null,
   "metadata": {},
   "outputs": [],
   "source": [
    "from  functools import reduce\n",
    "from operator import iconcat"
   ]
  },
  {
   "cell_type": "code",
   "execution_count": 77,
   "metadata": {},
   "outputs": [],
   "source": [
    "%%script false --no-raise-error\n",
    "with tqdm(total=len(all_docs)) as pbar:\n",
    "     scan_results = await tqdm_asyncio.gather(*all_docs[90:100])"
   ]
  },
  {
   "cell_type": "code",
   "execution_count": 78,
   "metadata": {},
   "outputs": [],
   "source": [
    "%%script false --no-raise-error\n",
    "scan_results = reduce(iconcat, scan_results, [])\n",
    "scan_results = reduce(iconcat, scan_results, [])"
   ]
  },
  {
   "cell_type": "markdown",
   "metadata": {},
   "source": [
    "With our document indexted int the elastic searh we can search , use the piaf dataset which have question with answers without paragraph and leverage them."
   ]
  },
  {
   "cell_type": "code",
   "execution_count": 67,
   "metadata": {},
   "outputs": [],
   "source": [
    "from collections import deque"
   ]
  },
  {
   "cell_type": "code",
   "execution_count": 68,
   "metadata": {},
   "outputs": [],
   "source": [
    "from elasticsearch.helpers import bulk, parallel_bulk, scan\n",
    "def write_documents_parallel(\n",
    "        self,\n",
    "        documents: Union[List[dict], List[Document]],\n",
    "        index: Optional[str] = None,\n",
    "        batch_size: int = 10_000,\n",
    "        duplicate_documents: Optional[str] = None,\n",
    "        headers: Optional[Dict[str, str]] = None,\n",
    "    ):\n",
    "        \"\"\"\n",
    "        Indexes documents for later queries in Elasticsearch./ an update for the index that use parralell bluk\n",
    "\n",
    "        Behaviour if a document with the same ID already exists in ElasticSearch:\n",
    "        a) (Default) Throw Elastic's standard error message for duplicate IDs.\n",
    "        b) If `self.update_existing_documents=True` for DocumentStore: Overwrite existing documents.\n",
    "        (This is only relevant if you pass your own ID when initializing a `Document`.\n",
    "        If don't set custom IDs for your Documents or just pass a list of dictionaries here,\n",
    "        they will automatically get UUIDs assigned. See the `Document` class for details)\n",
    "\n",
    "        :param documents: a list of Python dictionaries or a list of Haystack Document objects.\n",
    "                          For documents as dictionaries, the format is {\"content\": \"<the-actual-text>\"}.\n",
    "                          Optionally: Include meta data via {\"content\": \"<the-actual-text>\",\n",
    "                          \"meta\":{\"name\": \"<some-document-name>, \"author\": \"somebody\", ...}}\n",
    "                          It can be used for filtering and is accessible in the responses of the Finder.\n",
    "                          Advanced: If you are using your own Elasticsearch mapping, the key names in the dictionary\n",
    "                          should be changed to what you have set for self.content_field and self.name_field.\n",
    "        :param index: Elasticsearch index where the documents should be indexed. If not supplied, self.index will be used.\n",
    "        :param batch_size: Number of documents that are passed to Elasticsearch's bulk function at a time.\n",
    "        :param duplicate_documents: Handle duplicates document based on parameter options.\n",
    "                                    Parameter options : ( 'skip','overwrite','fail')\n",
    "                                    skip: Ignore the duplicates documents\n",
    "                                    overwrite: Update any existing documents with the same ID when adding documents.\n",
    "                                    fail: an error is raised if the document ID of the document being added already\n",
    "                                    exists.\n",
    "        :param headers: Custom HTTP headers to pass to elasticsearch client (e.g. {'Authorization': 'Basic YWRtaW46cm9vdA=='})\n",
    "                Check out https://www.elastic.co/guide/en/elasticsearch/reference/current/http-clients.html for more information.\n",
    "        :raises DuplicateDocumentError: Exception trigger on duplicate document\n",
    "        :return: None\n",
    "        \"\"\"\n",
    "\n",
    "        if index and not self.client.indices.exists(index=index, headers=headers):\n",
    "            self._create_document_index(index, headers=headers)\n",
    "\n",
    "        if index is None:\n",
    "            index = self.index\n",
    "        duplicate_documents = duplicate_documents or self.duplicate_documents\n",
    "        assert (\n",
    "            duplicate_documents in self.duplicate_documents_options\n",
    "        ), f\"duplicate_documents parameter must be {', '.join(self.duplicate_documents_options)}\"\n",
    "\n",
    "        field_map = self._create_document_field_map()\n",
    "        document_objects = [Document.from_dict(d, field_map=field_map) if isinstance(d, dict) else d for d in documents]\n",
    "        document_objects = self._handle_duplicate_documents(\n",
    "            documents=document_objects, index=index, duplicate_documents=duplicate_documents, headers=headers\n",
    "        )\n",
    "        documents_to_index = []\n",
    "        for doc in tqdm(document_objects):\n",
    "            _doc = {\n",
    "                \"_op_type\": \"index\" if duplicate_documents == \"overwrite\" else \"create\",\n",
    "                \"_index\": index,\n",
    "                **doc.to_dict(field_map=self._create_document_field_map()),\n",
    "            }  # type: Dict[str, Any]\n",
    "\n",
    "            # cast embedding type as ES cannot deal with np.array\n",
    "            if _doc[self.embedding_field] is not None:\n",
    "                if type(_doc[self.embedding_field]) == np.ndarray:\n",
    "                    _doc[self.embedding_field] = _doc[self.embedding_field].tolist()\n",
    "\n",
    "            # rename id for elastic\n",
    "            _doc[\"_id\"] = str(_doc.pop(\"id\"))\n",
    "\n",
    "            # don't index query score and empty fields\n",
    "            _ = _doc.pop(\"score\", None)\n",
    "            _doc = {k: v for k, v in _doc.items() if v is not None}\n",
    "\n",
    "            # In order to have a flat structure in elastic + similar behaviour to the other DocumentStores,\n",
    "            # we \"unnest\" all value within \"meta\"\n",
    "            if \"meta\" in _doc.keys():\n",
    "                for k, v in _doc[\"meta\"].items():\n",
    "                    _doc[k] = v\n",
    "                _doc.pop(\"meta\")\n",
    "            documents_to_index.append(_doc)\n",
    "\n",
    "            # Pass batch_size number of documents to bulk\n",
    "            if len(documents_to_index) % batch_size == 0:\n",
    "                pb_ = parallel_bulk(self.client, \n",
    "                              documents_to_index, \n",
    "                              chunk_size=10000, \n",
    "                              thread_count=8, \n",
    "                              queue_size=8,\n",
    "                              refresh=self.refresh_type, \n",
    "                              headers=headers)\n",
    "                deque(pb_, maxlen=0)\n",
    "                documents_to_index = []\n",
    "\n",
    "        if documents_to_index:\n",
    "            pb_= parallel_bulk(self.client, \n",
    "                          documents_to_index, \n",
    "                          chunk_size=10000, \n",
    "                          thread_count=8, \n",
    "                          queue_size=8,\n",
    "                          refresh=self.refresh_type, \n",
    "                          headers=headers)\n",
    "            deque(pb_, maxlen=0)"
   ]
  },
  {
   "cell_type": "code",
   "execution_count": 43,
   "metadata": {},
   "outputs": [],
   "source": [
    "document_store.write_documents_parallel = write_documents_parallel"
   ]
  },
  {
   "cell_type": "code",
   "execution_count": 79,
   "metadata": {},
   "outputs": [],
   "source": [
    "%%script false --no-raise-error\n",
    "write_documents_parallel(document_store, scan_results)"
   ]
  },
  {
   "cell_type": "code",
   "execution_count": 81,
   "metadata": {},
   "outputs": [],
   "source": [
    "from haystack.nodes import BM25Retriever"
   ]
  },
  {
   "cell_type": "code",
   "execution_count": 82,
   "metadata": {},
   "outputs": [],
   "source": [
    "bm25_retriever = BM25Retriever(document_store=document_store, all_terms_must_match=False)"
   ]
  },
  {
   "cell_type": "code",
   "execution_count": 83,
   "metadata": {},
   "outputs": [],
   "source": [
    "import pandas as pd"
   ]
  },
  {
   "cell_type": "code",
   "execution_count": 84,
   "metadata": {},
   "outputs": [],
   "source": [
    "from pathlib import Path\n",
    "DATA_PATH = Path.cwd().joinpath(\"data\")\n",
    "assert DATA_PATH.exists(), \"the data path does not exist\""
   ]
  },
  {
   "cell_type": "code",
   "execution_count": 85,
   "metadata": {},
   "outputs": [],
   "source": [
    "piaf_file = DATA_PATH.joinpath(\"corpus\", \"raw\", \"piaf\", \"questoin-reponse.csv\")"
   ]
  },
  {
   "cell_type": "code",
   "execution_count": 86,
   "metadata": {},
   "outputs": [],
   "source": [
    "assert piaf_file.exists(), \"the piaf dataset does not exist\""
   ]
  },
  {
   "cell_type": "markdown",
   "metadata": {},
   "source": [
    "piaf_question = data"
   ]
  },
  {
   "cell_type": "code",
   "execution_count": 87,
   "metadata": {},
   "outputs": [],
   "source": [
    "piaf_df_without_context = pd.read_csv(piaf_file)"
   ]
  },
  {
   "cell_type": "code",
   "execution_count": 88,
   "metadata": {},
   "outputs": [],
   "source": [
    "sample_question_response = piaf_df_without_context.sample(1)\n",
    "question = deaccent(sample_question_response.question.values[0])\n",
    "response = deaccent(sample_question_response.reponse.values[0])\n"
   ]
  },
  {
   "cell_type": "code",
   "execution_count": 89,
   "metadata": {},
   "outputs": [
    {
     "data": {
      "text/plain": [
       "'Quels plats de viandes epicees sont prepares a partir de ces ingredients ?'"
      ]
     },
     "execution_count": 89,
     "metadata": {},
     "output_type": "execute_result"
    }
   ],
   "source": [
    "question"
   ]
  },
  {
   "cell_type": "code",
   "execution_count": 90,
   "metadata": {},
   "outputs": [],
   "source": [
    "def get_positive_context(retriever: BM25Retriever, search_query:str, answer:str, positive_documents: int = 100) -> List[Document]:    \n",
    "        \"\"\"given entitity retrieve the positive context\n",
    "        we will first retrieve the top  100 documents , \n",
    "        - if the answer is in the top 40 document the input of the reader is the top 40 documents\n",
    "        if the top 40 documents does not contain the answer we check whithin the top 41 to 100 document if the anwer is ther and we put it ther.\n",
    "        other wise we discard the sentence\n",
    "\n",
    "        Args:\n",
    "            retriever (BM25Retriever): _description_\n",
    "            n_ctxs (int, optional): _description_. Defaults to 15.\n",
    "            entity (Entity, optional): _description_. Defaults to None.\n",
    "        \"\"\"\n",
    "        list_pos_ctxs = []\n",
    "        retrieved_docs = retriever.retrieve(query=search_query, top_k=positive_documents)\n",
    "        for index, retrieve_doc in enumerate(retrieved_docs[0:40]):\n",
    "            if answer.lower() in retrieve_doc.content.lower():\n",
    "                list_pos_ctxs.append(\n",
    "                    {\"title\": retrieve_doc.meta.get(\"title\"), \"content\": retrieve_doc.content}\n",
    "                )\n",
    "        if len(list_pos_ctxs) == 0:\n",
    "            for index, retrieve_doc in enumerate(retrieved_docs[40:100]):\n",
    "                if answer.lower() in retrieve_doc.content.lower():\n",
    "                    list_pos_ctxs.append(\n",
    "                        {\"title\": retrieve_doc.meta.get(\"title\"), \"content\": retrieve_doc.content}\n",
    "                    )\n",
    "        else:\n",
    "            pass\n",
    "        if len(list_pos_ctxs) == 0:\n",
    "            return []\n",
    "        return list_pos_ctxs"
   ]
  },
  {
   "cell_type": "markdown",
   "metadata": {},
   "source": [
    "#### Use Piaf Dataset to query context"
   ]
  },
  {
   "cell_type": "code",
   "execution_count": 91,
   "metadata": {},
   "outputs": [
    {
     "name": "stderr",
     "output_type": "stream",
     "text": [
      "WARNING - datasets.load -  Using the latest cached version of the module from /Users/es.py/.cache/huggingface/modules/datasets_modules/datasets/piaf/535c60f4155fe1d644c1746e86131963c082f309d0dbb5ba4d606786c7f4a6ae (last modified on Thu Jul 14 08:39:15 2022) since it couldn't be found locally at piaf., or remotely on the Hugging Face Hub.\n",
      "WARNING - datasets.builder -  Reusing dataset piaf (/Users/es.py/.cache/huggingface/datasets/piaf/plain_text/1.0.0/535c60f4155fe1d644c1746e86131963c082f309d0dbb5ba4d606786c7f4a6ae)\n"
     ]
    },
    {
     "data": {
      "application/vnd.jupyter.widget-view+json": {
       "model_id": "470d7ddd9788465f988795d17eca5c3b",
       "version_major": 2,
       "version_minor": 0
      },
      "text/plain": [
       "  0%|          | 0/1 [00:00<?, ?it/s]"
      ]
     },
     "metadata": {},
     "output_type": "display_data"
    }
   ],
   "source": [
    "piaf_dataset = load_dataset(\"piaf\")"
   ]
  },
  {
   "cell_type": "code",
   "execution_count": 186,
   "metadata": {},
   "outputs": [],
   "source": [
    "piaf_dataset = piaf_dataset[\"train\"]"
   ]
  },
  {
   "cell_type": "code",
   "execution_count": 92,
   "metadata": {},
   "outputs": [
    {
     "name": "stderr",
     "output_type": "stream",
     "text": [
      "/Users/es.py/Projects/Personal/unsupervised-open-domain-french-question-answering/.venv/lib/python3.9/site-packages/elasticsearch/connection/base.py:190: ElasticsearchDeprecationWarning: Elasticsearch built-in security features are not enabled. Without authentication, your cluster could be accessible to anyone. See https://www.elastic.co/guide/en/elasticsearch/reference/7.16/security-minimal-setup.html to enable security.\n",
      "  warnings.warn(message, category=ElasticsearchDeprecationWarning)\n",
      "/Users/es.py/Projects/Personal/unsupervised-open-domain-french-question-answering/.venv/lib/python3.9/site-packages/elasticsearch/connection/base.py:190: ElasticsearchDeprecationWarning: Elasticsearch built-in security features are not enabled. Without authentication, your cluster could be accessible to anyone. See https://www.elastic.co/guide/en/elasticsearch/reference/7.16/security-minimal-setup.html to enable security.\n",
      "  warnings.warn(message, category=ElasticsearchDeprecationWarning)\n"
     ]
    }
   ],
   "source": [
    "for index in tqdm(piaf_df_without_context.index):\n",
    "    question = piaf_df_without_context.loc[index].question\n",
    "    response = piaf_df_without_context.loc[index].reponse\n",
    "    question = deaccent(question)\n",
    "    response = deaccent(response)\n",
    "    retrieved_docs = get_positive_context(retriever=bm25_retriever, search_query=question, answer=response, positive_documents=100)\n",
    "    piaf_df_without_context.loc[index, \"positive_context\"] = retrieved_docs"
   ]
  },
  {
   "cell_type": "markdown",
   "metadata": {},
   "source": [
    "By using our wiki corpus we are able to find some question with positive context, we will leverage them to build our qa system"
   ]
  },
  {
   "cell_type": "code",
   "execution_count": 93,
   "metadata": {},
   "outputs": [],
   "source": [
    "piaf_with_context = piaf_df_without_context.loc[piaf_df_without_context.positive_context.apply(lambda x: len(x)) > 0]"
   ]
  },
  {
   "cell_type": "code",
   "execution_count": 94,
   "metadata": {},
   "outputs": [
    {
     "data": {
      "text/plain": [
       "(2459, 3)"
      ]
     },
     "execution_count": 94,
     "metadata": {},
     "output_type": "execute_result"
    }
   ],
   "source": [
    "piaf_with_context.shape"
   ]
  },
  {
   "cell_type": "markdown",
   "metadata": {},
   "source": [
    "with our dataset , we can find that {{piaf_with_context.shape[0]}} have positive context and that will be usefull to fine tune our model."
   ]
  },
  {
   "cell_type": "code",
   "execution_count": 95,
   "metadata": {},
   "outputs": [],
   "source": [
    "piaf_with_context = piaf_with_context.assign(length_positive_context =piaf_with_context[\"positive_context\"].apply(lambda x: len(x)))"
   ]
  },
  {
   "cell_type": "code",
   "execution_count": 96,
   "metadata": {},
   "outputs": [
    {
     "data": {
      "text/html": [
       "<div>\n",
       "<style scoped>\n",
       "    .dataframe tbody tr th:only-of-type {\n",
       "        vertical-align: middle;\n",
       "    }\n",
       "\n",
       "    .dataframe tbody tr th {\n",
       "        vertical-align: top;\n",
       "    }\n",
       "\n",
       "    .dataframe thead th {\n",
       "        text-align: right;\n",
       "    }\n",
       "</style>\n",
       "<table border=\"1\" class=\"dataframe\">\n",
       "  <thead>\n",
       "    <tr style=\"text-align: right;\">\n",
       "      <th></th>\n",
       "      <th>question</th>\n",
       "      <th>reponse</th>\n",
       "      <th>positive_context</th>\n",
       "      <th>length_positive_context</th>\n",
       "    </tr>\n",
       "  </thead>\n",
       "  <tbody>\n",
       "    <tr>\n",
       "      <th>6</th>\n",
       "      <td>Quel créancier du roi fut supprimé en 1312 ?</td>\n",
       "      <td>l'ordre du Temple</td>\n",
       "      <td>[{'title': 'Commanderie de Bisham', 'content': 'Quand l'ordre du Temple fut ...</td>\n",
       "      <td>2</td>\n",
       "    </tr>\n",
       "    <tr>\n",
       "      <th>7</th>\n",
       "      <td>Quel créancier du roi fut supprimé en 1312 ?</td>\n",
       "      <td>l'ordre du Temple</td>\n",
       "      <td>[{'title': 'Commanderie de Bisham', 'content': 'Quand l'ordre du Temple fut ...</td>\n",
       "      <td>2</td>\n",
       "    </tr>\n",
       "    <tr>\n",
       "      <th>29</th>\n",
       "      <td>Quel roi a poursuivi l'unification du royaume initié par Louis VI ?</td>\n",
       "      <td>Louis VII</td>\n",
       "      <td>[{'title': 'Chennevières-lès-Louvres', 'content': 'L'abbe Suger, ne selon Ch...</td>\n",
       "      <td>2</td>\n",
       "    </tr>\n",
       "    <tr>\n",
       "      <th>89</th>\n",
       "      <td>Combien de gradient de rouge permet la palette de couleurs garanties ?</td>\n",
       "      <td>6</td>\n",
       "      <td>[{'title': 'Truecolor', 'content': 'En mode truecolor la couleur d'un point ...</td>\n",
       "      <td>4</td>\n",
       "    </tr>\n",
       "    <tr>\n",
       "      <th>99</th>\n",
       "      <td>Combien de villages sont situés sur la côte des blancs ?</td>\n",
       "      <td>quatre</td>\n",
       "      <td>[{'title': 'Le Tour (Chamonix-Mont-Blanc)', 'content': 'Le Tour est un villa...</td>\n",
       "      <td>2</td>\n",
       "    </tr>\n",
       "    <tr>\n",
       "      <th>...</th>\n",
       "      <td>...</td>\n",
       "      <td>...</td>\n",
       "      <td>...</td>\n",
       "      <td>...</td>\n",
       "    </tr>\n",
       "    <tr>\n",
       "      <th>11796</th>\n",
       "      <td>Le président tunisien est élu selon quel mode de scrutin ?</td>\n",
       "      <td>suffrage universel</td>\n",
       "      <td>[{'title': 'Président de Sierra Leone', 'content': 'Le president de la repub...</td>\n",
       "      <td>6</td>\n",
       "    </tr>\n",
       "    <tr>\n",
       "      <th>11797</th>\n",
       "      <td>Par qui Valérien fut-il vaincu ?</td>\n",
       "      <td>les Perses</td>\n",
       "      <td>[{'title': 'Cyriadès', 'content': 'En 259-260 dans l'anarchie qui suit la de...</td>\n",
       "      <td>2</td>\n",
       "    </tr>\n",
       "    <tr>\n",
       "      <th>11800</th>\n",
       "      <td>Qui fut le père de Gallien ?</td>\n",
       "      <td>Valérien</td>\n",
       "      <td>[{'title': 'Musée Art et Histoire', 'content': ' Un portrait realiste de l'e...</td>\n",
       "      <td>3</td>\n",
       "    </tr>\n",
       "    <tr>\n",
       "      <th>11801</th>\n",
       "      <td>Qui succède à Valérien ?</td>\n",
       "      <td>Gallien</td>\n",
       "      <td>[{'title': 'Valérien II', 'content': 'Valerien II mourut en ete 258, de rais...</td>\n",
       "      <td>4</td>\n",
       "    </tr>\n",
       "    <tr>\n",
       "      <th>11811</th>\n",
       "      <td>À quelle religion Proust ne souhaite pas être converti ?</td>\n",
       "      <td>au christianisme</td>\n",
       "      <td>[{'title': 'Synode de Szabolcs', 'content': ' Les musulmans (marchands pour ...</td>\n",
       "      <td>4</td>\n",
       "    </tr>\n",
       "  </tbody>\n",
       "</table>\n",
       "<p>1100 rows × 4 columns</p>\n",
       "</div>"
      ],
      "text/plain": [
       "                                                                     question  \\\n",
       "6                                Quel créancier du roi fut supprimé en 1312 ?   \n",
       "7                                Quel créancier du roi fut supprimé en 1312 ?   \n",
       "29        Quel roi a poursuivi l'unification du royaume initié par Louis VI ?   \n",
       "89     Combien de gradient de rouge permet la palette de couleurs garanties ?   \n",
       "99                   Combien de villages sont situés sur la côte des blancs ?   \n",
       "...                                                                       ...   \n",
       "11796              Le président tunisien est élu selon quel mode de scrutin ?   \n",
       "11797                                        Par qui Valérien fut-il vaincu ?   \n",
       "11800                                            Qui fut le père de Gallien ?   \n",
       "11801                                                Qui succède à Valérien ?   \n",
       "11811                À quelle religion Proust ne souhaite pas être converti ?   \n",
       "\n",
       "                  reponse  \\\n",
       "6       l'ordre du Temple   \n",
       "7       l'ordre du Temple   \n",
       "29              Louis VII   \n",
       "89                      6   \n",
       "99                 quatre   \n",
       "...                   ...   \n",
       "11796  suffrage universel   \n",
       "11797          les Perses   \n",
       "11800            Valérien   \n",
       "11801             Gallien   \n",
       "11811    au christianisme   \n",
       "\n",
       "                                                                      positive_context  \\\n",
       "6      [{'title': 'Commanderie de Bisham', 'content': 'Quand l'ordre du Temple fut ...   \n",
       "7      [{'title': 'Commanderie de Bisham', 'content': 'Quand l'ordre du Temple fut ...   \n",
       "29     [{'title': 'Chennevières-lès-Louvres', 'content': 'L'abbe Suger, ne selon Ch...   \n",
       "89     [{'title': 'Truecolor', 'content': 'En mode truecolor la couleur d'un point ...   \n",
       "99     [{'title': 'Le Tour (Chamonix-Mont-Blanc)', 'content': 'Le Tour est un villa...   \n",
       "...                                                                                ...   \n",
       "11796  [{'title': 'Président de Sierra Leone', 'content': 'Le president de la repub...   \n",
       "11797  [{'title': 'Cyriadès', 'content': 'En 259-260 dans l'anarchie qui suit la de...   \n",
       "11800  [{'title': 'Musée Art et Histoire', 'content': ' Un portrait realiste de l'e...   \n",
       "11801  [{'title': 'Valérien II', 'content': 'Valerien II mourut en ete 258, de rais...   \n",
       "11811  [{'title': 'Synode de Szabolcs', 'content': ' Les musulmans (marchands pour ...   \n",
       "\n",
       "       length_positive_context  \n",
       "6                            2  \n",
       "7                            2  \n",
       "29                           2  \n",
       "89                           4  \n",
       "99                           2  \n",
       "...                        ...  \n",
       "11796                        6  \n",
       "11797                        2  \n",
       "11800                        3  \n",
       "11801                        4  \n",
       "11811                        4  \n",
       "\n",
       "[1100 rows x 4 columns]"
      ]
     },
     "execution_count": 96,
     "metadata": {},
     "output_type": "execute_result"
    }
   ],
   "source": [
    "piaf_with_context.loc[piaf_with_context.length_positive_context > 1]"
   ]
  },
  {
   "cell_type": "markdown",
   "metadata": {},
   "source": [
    "within our dataset , 740 row have more than one context."
   ]
  },
  {
   "cell_type": "markdown",
   "metadata": {},
   "source": []
  }
 ],
 "metadata": {
  "kernelspec": {
   "display_name": "Python 3.9.7 ('.venv': poetry)",
   "language": "python",
   "name": "python3"
  },
  "language_info": {
   "codemirror_mode": {
    "name": "ipython",
    "version": 3
   },
   "file_extension": ".py",
   "mimetype": "text/x-python",
   "name": "python",
   "nbconvert_exporter": "python",
   "pygments_lexer": "ipython3",
   "version": "3.9.7"
  },
  "orig_nbformat": 4,
  "vscode": {
   "interpreter": {
    "hash": "6e18561f9b3508842a7e27c31e07753b72154ec003d59bf44fbebcfef9c0c06c"
   }
  }
 },
 "nbformat": 4,
 "nbformat_minor": 2
}
