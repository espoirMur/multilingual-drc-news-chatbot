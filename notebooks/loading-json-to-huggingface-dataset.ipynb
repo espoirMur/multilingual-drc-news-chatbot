{
 "cells": [
  {
   "cell_type": "code",
   "execution_count": null,
   "metadata": {},
   "outputs": [],
   "source": []
  },
  {
   "cell_type": "code",
   "execution_count": 1,
   "metadata": {},
   "outputs": [
    {
     "name": "stderr",
     "output_type": "stream",
     "text": [
      "/Users/es.py/Projects/Personal/multilingual-drc-news-chatbot/.venv/lib/python3.9/site-packages/tqdm/auto.py:22: TqdmWarning: IProgress not found. Please update jupyter and ipywidgets. See https://ipywidgets.readthedocs.io/en/stable/user_install.html\n",
      "  from .autonotebook import tqdm as notebook_tqdm\n"
     ]
    }
   ],
   "source": [
    "from datasets import load_dataset\n",
    "from pathlib import Path\n",
    "from src.data import build_qa_dataset"
   ]
  },
  {
   "cell_type": "code",
   "execution_count": 2,
   "metadata": {},
   "outputs": [
    {
     "name": "stdout",
     "output_type": "stream",
     "text": [
      "the path I am downloadingis  src/data/build_qa_dataset.py\n",
      "the dynamic modules path are  None\n",
      "Downloading and preparing dataset unsupervised_question_answers_config/plain_text to /Users/es.py/.cache/huggingface/datasets/unsupervised_question_answers_config/plain_text/1.0.0/8f34441b266606bb15765f363d24ee153d3051e667040d27c9cabfdbab905197...\n"
     ]
    },
    {
     "name": "stderr",
     "output_type": "stream",
     "text": [
      "                                                                 \r"
     ]
    },
    {
     "name": "stdout",
     "output_type": "stream",
     "text": [
      "Dataset unsupervised_question_answers_config downloaded and prepared to /Users/es.py/.cache/huggingface/datasets/unsupervised_question_answers_config/plain_text/1.0.0/8f34441b266606bb15765f363d24ee153d3051e667040d27c9cabfdbab905197. Subsequent calls will reuse this data.\n"
     ]
    },
    {
     "name": "stderr",
     "output_type": "stream",
     "text": [
      "100%|██████████| 1/1 [00:00<00:00, 292.41it/s]\n"
     ]
    }
   ],
   "source": [
    "qa_dataset = load_dataset(\"src/data/build_qa_dataset.py\")"
   ]
  },
  {
   "cell_type": "code",
   "execution_count": 8,
   "metadata": {},
   "outputs": [],
   "source": [
    "qa_dataset_train = qa_dataset.get(\"train\")"
   ]
  },
  {
   "cell_type": "code",
   "execution_count": 27,
   "metadata": {},
   "outputs": [
    {
     "data": {
      "text/plain": [
       "{'id': 'f49bbebd',\n",
       " 'title': ' ',\n",
       " 'answer': \"{'answer_start': 46, 'text': ' Jean-Michel Sama Lukonde'}\",\n",
       " 'question': 'Au cours de cette réunion, le premier ministre <MASK>  a dépeint tout en déplorant les drames qui ont affecté la Nation à la suite d’accidents mortels et incendies.',\n",
       " 'contexts': {'content': ['Apres son retour d’un voyage prive tres mediatise, le president de la Republique Felix Tshisekedi a preside, le vendredi 18 mars 2022,  la 44 reunion du conseil des ministres. Avec 4 points a l’ordre du jour, plusieurs sujets ont ete abordes pour booster le developpement de la RDC a travers la relance urgente des activites dans quelques domaines prioritaires. La necessite du soutien public pour l’emergence nationale d’une filiere agricole, la redynamisation du transport maritime congolais, la relance du transport fluvial, Numerisation des entreprises du Portefeuille de l’Etat et paiement securise des factures de la SNEL et de la Regideso. Tels sont quelques aspects prioritaires a travers lesquels, le gouvernement de la Republique veut booster le developpement du pays. Au cours de cette reunion, le premier ministre Jean-Michel Sama Lukonde a depeint tout en deplorant les drames qui ont affecte la Nation a la suite d’accidents mortels et incendies. Dans le territoire de Lubudi, Province du Lualaba, des compatriotes ont ete victimes d’un deraillement qui a cause plusieurs pertes en vies humaines.'],\n",
       "  'posted_at': [''],\n",
       "  'title': ['document_0']}}"
      ]
     },
     "execution_count": 27,
     "metadata": {},
     "output_type": "execute_result"
    }
   ],
   "source": [
    "import random\n",
    "random_index = random.randint(0, len(qa_dataset_train))\n",
    "qa_dataset_train[random_index]"
   ]
  },
  {
   "cell_type": "code",
   "execution_count": 38,
   "metadata": {},
   "outputs": [],
   "source": [
    "from transformers import T5ForConditionalGeneration, T5Tokenizer"
   ]
  },
  {
   "cell_type": "code",
   "execution_count": 39,
   "metadata": {},
   "outputs": [
    {
     "name": "stderr",
     "output_type": "stream",
     "text": [
      "Downloading: 100%|██████████| 773k/773k [00:00<00:00, 2.17MB/s]\n",
      "Downloading: 100%|██████████| 31.0/31.0 [00:00<00:00, 8.67kB/s]\n",
      "Downloading: 100%|██████████| 1.74k/1.74k [00:00<00:00, 540kB/s]\n",
      "Downloading: 100%|██████████| 2.08k/2.08k [00:00<00:00, 690kB/s]\n",
      "Downloading: 100%|██████████| 1.21k/1.21k [00:00<00:00, 464kB/s]\n",
      "Downloading: 100%|██████████| 850M/850M [00:23<00:00, 38.4MB/s] \n"
     ]
    }
   ],
   "source": [
    "tokenizer = T5Tokenizer.from_pretrained(\"plguillou/t5-base-fr-sum-cnndm\")\n",
    "model = T5ForConditionalGeneration.from_pretrained(\"plguillou/t5-base-fr-sum-cnndm\")\n"
   ]
  },
  {
   "cell_type": "code",
   "execution_count": null,
   "metadata": {},
   "outputs": [],
   "source": []
  }
 ],
 "metadata": {
  "kernelspec": {
   "display_name": "Python 3.9.7 ('.venv': poetry)",
   "language": "python",
   "name": "python3"
  },
  "language_info": {
   "codemirror_mode": {
    "name": "ipython",
    "version": 3
   },
   "file_extension": ".py",
   "mimetype": "text/x-python",
   "name": "python",
   "nbconvert_exporter": "python",
   "pygments_lexer": "ipython3",
   "version": "3.9.7"
  },
  "orig_nbformat": 4,
  "vscode": {
   "interpreter": {
    "hash": "6e18561f9b3508842a7e27c31e07753b72154ec003d59bf44fbebcfef9c0c06c"
   }
  }
 },
 "nbformat": 4,
 "nbformat_minor": 2
}
