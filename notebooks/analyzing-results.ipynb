{
 "cells": [
  {
   "cell_type": "code",
   "execution_count": 45,
   "metadata": {},
   "outputs": [],
   "source": [
    "import pandas as pd"
   ]
  },
  {
   "cell_type": "code",
   "execution_count": 63,
   "metadata": {},
   "outputs": [],
   "source": [
    "data= pd.read_csv(\"models-predictions-piaf.csv\")"
   ]
  },
  {
   "cell_type": "code",
   "execution_count": 64,
   "metadata": {},
   "outputs": [
    {
     "data": {
      "text/html": [
       "<div>\n",
       "<style scoped>\n",
       "    .dataframe tbody tr th:only-of-type {\n",
       "        vertical-align: middle;\n",
       "    }\n",
       "\n",
       "    .dataframe tbody tr th {\n",
       "        vertical-align: top;\n",
       "    }\n",
       "\n",
       "    .dataframe thead th {\n",
       "        text-align: right;\n",
       "    }\n",
       "</style>\n",
       "<table border=\"1\" class=\"dataframe\">\n",
       "  <thead>\n",
       "    <tr style=\"text-align: right;\">\n",
       "      <th></th>\n",
       "      <th>prediction</th>\n",
       "      <th>goldlabel</th>\n",
       "    </tr>\n",
       "  </thead>\n",
       "  <tbody>\n",
       "    <tr>\n",
       "      <th>0</th>\n",
       "      <td>Ottomans.</td>\n",
       "      <td>Ottomans</td>\n",
       "    </tr>\n",
       "    <tr>\n",
       "      <th>1</th>\n",
       "      <td>187 millions de yens, soit 1,7 million</td>\n",
       "      <td>base fixe de 68 millions de yens</td>\n",
       "    </tr>\n",
       "    <tr>\n",
       "      <th>2</th>\n",
       "      <td>Observé depuis une installation vidéo connecté...</td>\n",
       "      <td>immobilité</td>\n",
       "    </tr>\n",
       "    <tr>\n",
       "      <th>3</th>\n",
       "      <td>quelques heures à quelques mois</td>\n",
       "      <td>quelques jours</td>\n",
       "    </tr>\n",
       "    <tr>\n",
       "      <th>4</th>\n",
       "      <td>Le français est la langue officielle de la pro...</td>\n",
       "      <td>français</td>\n",
       "    </tr>\n",
       "  </tbody>\n",
       "</table>\n",
       "</div>"
      ],
      "text/plain": [
       "                                          prediction  \\\n",
       "0                                          Ottomans.   \n",
       "1             187 millions de yens, soit 1,7 million   \n",
       "2  Observé depuis une installation vidéo connecté...   \n",
       "3                    quelques heures à quelques mois   \n",
       "4  Le français est la langue officielle de la pro...   \n",
       "\n",
       "                          goldlabel  \n",
       "0                          Ottomans  \n",
       "1  base fixe de 68 millions de yens  \n",
       "2                        immobilité  \n",
       "3                    quelques jours  \n",
       "4                          français  "
      ]
     },
     "execution_count": 64,
     "metadata": {},
     "output_type": "execute_result"
    }
   ],
   "source": [
    "data.head()"
   ]
  },
  {
   "cell_type": "code",
   "execution_count": 68,
   "metadata": {},
   "outputs": [
    {
     "data": {
      "text/html": [
       "<div>\n",
       "<style scoped>\n",
       "    .dataframe tbody tr th:only-of-type {\n",
       "        vertical-align: middle;\n",
       "    }\n",
       "\n",
       "    .dataframe tbody tr th {\n",
       "        vertical-align: top;\n",
       "    }\n",
       "\n",
       "    .dataframe thead th {\n",
       "        text-align: right;\n",
       "    }\n",
       "</style>\n",
       "<table border=\"1\" class=\"dataframe\">\n",
       "  <thead>\n",
       "    <tr style=\"text-align: right;\">\n",
       "      <th></th>\n",
       "      <th>prediction</th>\n",
       "      <th>goldlabel</th>\n",
       "      <th>exact_match</th>\n",
       "    </tr>\n",
       "  </thead>\n",
       "  <tbody>\n",
       "    <tr>\n",
       "      <th>0</th>\n",
       "      <td>Ottomans.</td>\n",
       "      <td>Ottomans</td>\n",
       "      <td>0</td>\n",
       "    </tr>\n",
       "    <tr>\n",
       "      <th>1</th>\n",
       "      <td>187 millions de yens, soit 1,7 million</td>\n",
       "      <td>base fixe de 68 millions de yens</td>\n",
       "      <td>0</td>\n",
       "    </tr>\n",
       "    <tr>\n",
       "      <th>2</th>\n",
       "      <td>Observé depuis une installation vidéo connecté...</td>\n",
       "      <td>immobilité</td>\n",
       "      <td>0</td>\n",
       "    </tr>\n",
       "    <tr>\n",
       "      <th>3</th>\n",
       "      <td>quelques heures à quelques mois</td>\n",
       "      <td>quelques jours</td>\n",
       "      <td>0</td>\n",
       "    </tr>\n",
       "    <tr>\n",
       "      <th>4</th>\n",
       "      <td>Le français est la langue officielle de la pro...</td>\n",
       "      <td>français</td>\n",
       "      <td>0</td>\n",
       "    </tr>\n",
       "    <tr>\n",
       "      <th>...</th>\n",
       "      <td>...</td>\n",
       "      <td>...</td>\n",
       "      <td>...</td>\n",
       "    </tr>\n",
       "    <tr>\n",
       "      <th>3829</th>\n",
       "      <td>ur III est caractérisé par des scènes dites</td>\n",
       "      <td>un grand dieu ou d'un roi divin</td>\n",
       "      <td>0</td>\n",
       "    </tr>\n",
       "    <tr>\n",
       "      <th>3831</th>\n",
       "      <td>calice velu est formé de deux sé</td>\n",
       "      <td>15 étamines</td>\n",
       "      <td>0</td>\n",
       "    </tr>\n",
       "    <tr>\n",
       "      <th>3832</th>\n",
       "      <td>Certains imaginent des hommes nageant sous l'</td>\n",
       "      <td>des pourpoints de cuir » ou « scafand</td>\n",
       "      <td>0</td>\n",
       "    </tr>\n",
       "    <tr>\n",
       "      <th>3833</th>\n",
       "      <td>opérateur de métier à tisser dans une fabrique de</td>\n",
       "      <td>apprenti comme opérateur de métier à tisser dans</td>\n",
       "      <td>0</td>\n",
       "    </tr>\n",
       "    <tr>\n",
       "      <th>3834</th>\n",
       "      <td>douze kilomètres au nord-ouest d’Arp</td>\n",
       "      <td>au nord-ouest d’Arpajon</td>\n",
       "      <td>0</td>\n",
       "    </tr>\n",
       "  </tbody>\n",
       "</table>\n",
       "<p>3371 rows × 3 columns</p>\n",
       "</div>"
      ],
      "text/plain": [
       "                                             prediction  \\\n",
       "0                                             Ottomans.   \n",
       "1                187 millions de yens, soit 1,7 million   \n",
       "2     Observé depuis une installation vidéo connecté...   \n",
       "3                       quelques heures à quelques mois   \n",
       "4     Le français est la langue officielle de la pro...   \n",
       "...                                                 ...   \n",
       "3829        ur III est caractérisé par des scènes dites   \n",
       "3831                   calice velu est formé de deux sé   \n",
       "3832      Certains imaginent des hommes nageant sous l'   \n",
       "3833  opérateur de métier à tisser dans une fabrique de   \n",
       "3834               douze kilomètres au nord-ouest d’Arp   \n",
       "\n",
       "                                             goldlabel  exact_match  \n",
       "0                                             Ottomans            0  \n",
       "1                     base fixe de 68 millions de yens            0  \n",
       "2                                           immobilité            0  \n",
       "3                                       quelques jours            0  \n",
       "4                                             français            0  \n",
       "...                                                ...          ...  \n",
       "3829                   un grand dieu ou d'un roi divin            0  \n",
       "3831                                       15 étamines            0  \n",
       "3832             des pourpoints de cuir » ou « scafand            0  \n",
       "3833  apprenti comme opérateur de métier à tisser dans            0  \n",
       "3834                           au nord-ouest d’Arpajon            0  \n",
       "\n",
       "[3371 rows x 3 columns]"
      ]
     },
     "execution_count": 68,
     "metadata": {},
     "output_type": "execute_result"
    }
   ],
   "source": [
    "data.loc[data.exact_match == 0]"
   ]
  },
  {
   "cell_type": "code",
   "execution_count": 51,
   "metadata": {},
   "outputs": [],
   "source": [
    "data = data.dropna()\n",
    "### need to drop na."
   ]
  },
  {
   "cell_type": "code",
   "execution_count": 69,
   "metadata": {},
   "outputs": [],
   "source": [
    "from src.utils.evaluation_utils import compute_f1, compute_exact"
   ]
  },
  {
   "cell_type": "code",
   "execution_count": 53,
   "metadata": {},
   "outputs": [],
   "source": [
    "import numpy as np"
   ]
  },
  {
   "cell_type": "code",
   "execution_count": 54,
   "metadata": {},
   "outputs": [
    {
     "data": {
      "text/plain": [
       "array([['porte du Marché', 'Marché'],\n",
       "       ['une procession vers le canal', 'une procession'],\n",
       "       ['Obsidian Cliffs', \"collines d'Obsidian Cliffs\"],\n",
       "       ...,\n",
       "       ['Les ailes de Pégase', 'Les ailes de Pégase'],\n",
       "       ['toxicomanie', 'La toxicomanie'],\n",
       "       ['Louis XIV', 'octobre 1666']], dtype=object)"
      ]
     },
     "execution_count": 54,
     "metadata": {},
     "output_type": "execute_result"
    }
   ],
   "source": [
    "data.loc[:, [\"prediction\", \"goldlabel\"]].values"
   ]
  },
  {
   "cell_type": "code",
   "execution_count": 55,
   "metadata": {},
   "outputs": [
    {
     "data": {
      "text/plain": [
       "1.0"
      ]
     },
     "execution_count": 55,
     "metadata": {},
     "output_type": "execute_result"
    }
   ],
   "source": [
    "compute_f1(data.prediction.values[-2].lower(), data.goldlabel.values[-2].lower())"
   ]
  },
  {
   "cell_type": "code",
   "execution_count": 70,
   "metadata": {},
   "outputs": [],
   "source": [
    "data[\"f1_score\"]  = np.vectorize(compute_f1)(data.prediction.str.lower(), data.goldlabel.str.lower())\n",
    "data[\"exact_match\"] = np.vectorize(compute_exact)(data.prediction.str.lower(), data.goldlabel.str.lower())"
   ]
  },
  {
   "cell_type": "code",
   "execution_count": 71,
   "metadata": {},
   "outputs": [
    {
     "data": {
      "text/plain": [
       "0    0.828422\n",
       "1    0.171578\n",
       "Name: exact_match, dtype: float64"
      ]
     },
     "execution_count": 71,
     "metadata": {},
     "output_type": "execute_result"
    }
   ],
   "source": [
    "data.exact_match.value_counts(normalize=True)"
   ]
  },
  {
   "cell_type": "code",
   "execution_count": 57,
   "metadata": {},
   "outputs": [],
   "source": [
    "data.f1_score = data.f1_score.round(2)"
   ]
  },
  {
   "cell_type": "code",
   "execution_count": 60,
   "metadata": {},
   "outputs": [],
   "source": [
    "data.loc[data.f1_score == 0].to_csv(\"wrong_predictions.csv\")"
   ]
  },
  {
   "cell_type": "code",
   "execution_count": 72,
   "metadata": {},
   "outputs": [
    {
     "data": {
      "text/plain": [
       "0.36"
      ]
     },
     "execution_count": 72,
     "metadata": {},
     "output_type": "execute_result"
    }
   ],
   "source": [
    "data.f1_score.mean().round(2)"
   ]
  },
  {
   "cell_type": "code",
   "execution_count": 62,
   "metadata": {},
   "outputs": [
    {
     "data": {
      "text/html": [
       "<div>\n",
       "<style scoped>\n",
       "    .dataframe tbody tr th:only-of-type {\n",
       "        vertical-align: middle;\n",
       "    }\n",
       "\n",
       "    .dataframe tbody tr th {\n",
       "        vertical-align: top;\n",
       "    }\n",
       "\n",
       "    .dataframe thead th {\n",
       "        text-align: right;\n",
       "    }\n",
       "</style>\n",
       "<table border=\"1\" class=\"dataframe\">\n",
       "  <thead>\n",
       "    <tr style=\"text-align: right;\">\n",
       "      <th></th>\n",
       "      <th>prediction</th>\n",
       "      <th>goldlabel</th>\n",
       "      <th>exact_match</th>\n",
       "      <th>f1_score</th>\n",
       "    </tr>\n",
       "  </thead>\n",
       "  <tbody>\n",
       "    <tr>\n",
       "      <th>4</th>\n",
       "      <td>la sincérité de ce discours en fait « la plus ...</td>\n",
       "      <td>mal social dans son ensemble</td>\n",
       "      <td>0</td>\n",
       "      <td>0.0</td>\n",
       "    </tr>\n",
       "    <tr>\n",
       "      <th>13</th>\n",
       "      <td>immigrés juifs</td>\n",
       "      <td>Minsk, en Biélorussie</td>\n",
       "      <td>0</td>\n",
       "      <td>0.0</td>\n",
       "    </tr>\n",
       "    <tr>\n",
       "      <th>14</th>\n",
       "      <td>deux</td>\n",
       "      <td>quatre</td>\n",
       "      <td>0</td>\n",
       "      <td>0.0</td>\n",
       "    </tr>\n",
       "    <tr>\n",
       "      <th>16</th>\n",
       "      <td>le diagnostic et la méthode de prise en charge...</td>\n",
       "      <td>Il y a une grande variété dans la reconnaissan...</td>\n",
       "      <td>0</td>\n",
       "      <td>0.0</td>\n",
       "    </tr>\n",
       "    <tr>\n",
       "      <th>19</th>\n",
       "      <td>plus que modestes</td>\n",
       "      <td>trains de seconde classe et hôtels Merc</td>\n",
       "      <td>0</td>\n",
       "      <td>0.0</td>\n",
       "    </tr>\n",
       "    <tr>\n",
       "      <th>...</th>\n",
       "      <td>...</td>\n",
       "      <td>...</td>\n",
       "      <td>...</td>\n",
       "      <td>...</td>\n",
       "    </tr>\n",
       "    <tr>\n",
       "      <th>3173</th>\n",
       "      <td>valoir que la brucellose peut être éradi</td>\n",
       "      <td>vaccination</td>\n",
       "      <td>0</td>\n",
       "      <td>0.0</td>\n",
       "    </tr>\n",
       "    <tr>\n",
       "      <th>3177</th>\n",
       "      <td>BAMcinemaFest</td>\n",
       "      <td>Festival international du film de Rio de Janeiro</td>\n",
       "      <td>0</td>\n",
       "      <td>0.0</td>\n",
       "    </tr>\n",
       "    <tr>\n",
       "      <th>3181</th>\n",
       "      <td>1832</td>\n",
       "      <td>1748</td>\n",
       "      <td>0</td>\n",
       "      <td>0.0</td>\n",
       "    </tr>\n",
       "    <tr>\n",
       "      <th>3184</th>\n",
       "      <td>Hard Times</td>\n",
       "      <td>Nicholas Nickleby</td>\n",
       "      <td>0</td>\n",
       "      <td>0.0</td>\n",
       "    </tr>\n",
       "    <tr>\n",
       "      <th>3187</th>\n",
       "      <td>Louis XIV</td>\n",
       "      <td>octobre 1666</td>\n",
       "      <td>0</td>\n",
       "      <td>0.0</td>\n",
       "    </tr>\n",
       "  </tbody>\n",
       "</table>\n",
       "<p>562 rows × 4 columns</p>\n",
       "</div>"
      ],
      "text/plain": [
       "                                             prediction  \\\n",
       "4     la sincérité de ce discours en fait « la plus ...   \n",
       "13                                       immigrés juifs   \n",
       "14                                                 deux   \n",
       "16    le diagnostic et la méthode de prise en charge...   \n",
       "19                                    plus que modestes   \n",
       "...                                                 ...   \n",
       "3173           valoir que la brucellose peut être éradi   \n",
       "3177                                      BAMcinemaFest   \n",
       "3181                                               1832   \n",
       "3184                                         Hard Times   \n",
       "3187                                          Louis XIV   \n",
       "\n",
       "                                              goldlabel  exact_match  f1_score  \n",
       "4                          mal social dans son ensemble            0       0.0  \n",
       "13                                Minsk, en Biélorussie            0       0.0  \n",
       "14                                               quatre            0       0.0  \n",
       "16    Il y a une grande variété dans la reconnaissan...            0       0.0  \n",
       "19              trains de seconde classe et hôtels Merc            0       0.0  \n",
       "...                                                 ...          ...       ...  \n",
       "3173                                        vaccination            0       0.0  \n",
       "3177   Festival international du film de Rio de Janeiro            0       0.0  \n",
       "3181                                               1748            0       0.0  \n",
       "3184                                  Nicholas Nickleby            0       0.0  \n",
       "3187                                       octobre 1666            0       0.0  \n",
       "\n",
       "[562 rows x 4 columns]"
      ]
     },
     "execution_count": 62,
     "metadata": {},
     "output_type": "execute_result"
    }
   ],
   "source": [
    "data.loc[data.f1_score == 0]"
   ]
  },
  {
   "cell_type": "code",
   "execution_count": null,
   "metadata": {},
   "outputs": [],
   "source": []
  }
 ],
 "metadata": {
  "kernelspec": {
   "display_name": "Python 3.9.7 ('.venv': poetry)",
   "language": "python",
   "name": "python3"
  },
  "language_info": {
   "codemirror_mode": {
    "name": "ipython",
    "version": 3
   },
   "file_extension": ".py",
   "mimetype": "text/x-python",
   "name": "python",
   "nbconvert_exporter": "python",
   "pygments_lexer": "ipython3",
   "version": "3.9.7"
  },
  "orig_nbformat": 4,
  "vscode": {
   "interpreter": {
    "hash": "6e18561f9b3508842a7e27c31e07753b72154ec003d59bf44fbebcfef9c0c06c"
   }
  }
 },
 "nbformat": 4,
 "nbformat_minor": 2
}
