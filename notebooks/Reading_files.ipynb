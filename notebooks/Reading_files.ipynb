{
 "cells": [
  {
   "cell_type": "markdown",
   "id": "ce261c67",
   "metadata": {},
   "source": [
    "In this notebook I will try to read pdf files and extract text from them."
   ]
  },
  {
   "cell_type": "markdown",
   "id": "88bdc383",
   "metadata": {},
   "source": [
    "I have a bunch of pdf files and I would like to extract some text data from them , here is how I will handle that"
   ]
  },
  {
   "cell_type": "code",
   "execution_count": 2,
   "id": "f1a12d91",
   "metadata": {},
   "outputs": [],
   "source": [
    "from pathlib import Path"
   ]
  },
  {
   "cell_type": "code",
   "execution_count": 3,
   "id": "a8099bce",
   "metadata": {},
   "outputs": [],
   "source": [
    "import fitz as pdf_extractor"
   ]
  },
  {
   "cell_type": "code",
   "execution_count": 4,
   "id": "06876d6b",
   "metadata": {},
   "outputs": [],
   "source": [
    "PDF_FILES_PATH = Path.cwd().parent.joinpath('data' , 'raw', 'pdf')"
   ]
  },
  {
   "cell_type": "code",
   "execution_count": 5,
   "id": "d3340437",
   "metadata": {},
   "outputs": [],
   "source": [
    "all_pdf_files =  [x for x in PDF_FILES_PATH.glob('*.pdf') if x.is_file()]"
   ]
  },
  {
   "cell_type": "code",
   "execution_count": 6,
   "id": "902851d9",
   "metadata": {},
   "outputs": [
    {
     "data": {
      "text/plain": [
       "[PosixPath('/Users/es.py/Projects/Personal/multilingual-drc-news-chatbot/data/raw/pdf/Manuel_in_lingala.pdf'),\n",
       " PosixPath('/Users/es.py/Projects/Personal/multilingual-drc-news-chatbot/data/raw/pdf/LOLENGE EKOLO CONGO EZALI KOMILENGELE PE EKANI KOSALELA REDD+ (RPP) Bomoko_ Mosala _ Tombwa - PDF Free Download.pdf'),\n",
       " PosixPath('/Users/es.py/Projects/Personal/multilingual-drc-news-chatbot/data/raw/pdf/Microsoft Research Participation Form ML.pdf'),\n",
       " PosixPath('/Users/es.py/Projects/Personal/multilingual-drc-news-chatbot/data/raw/pdf/CV_a-first-look-pamphlet-Lingala.pdf'),\n",
       " PosixPath('/Users/es.py/Projects/Personal/multilingual-drc-news-chatbot/data/raw/pdf/lingala.pdf'),\n",
       " PosixPath('/Users/es.py/Projects/Personal/multilingual-drc-news-chatbot/data/raw/pdf/fcpa-lingala.pdf'),\n",
       " PosixPath('/Users/es.py/Projects/Personal/multilingual-drc-news-chatbot/data/raw/pdf/Album village assaini Lingala.pdf'),\n",
       " PosixPath('/Users/es.py/Projects/Personal/multilingual-drc-news-chatbot/data/raw/pdf/lingala-faqs-4-8.pdf'),\n",
       " PosixPath('/Users/es.py/Projects/Personal/multilingual-drc-news-chatbot/data/raw/pdf/mul.pdf'),\n",
       " PosixPath('/Users/es.py/Projects/Personal/multilingual-drc-news-chatbot/data/raw/pdf/FORMULAIRE_BILINGUE_FR_LINGALA_FINAL.pdf'),\n",
       " PosixPath('/Users/es.py/Projects/Personal/multilingual-drc-news-chatbot/data/raw/pdf/LIN58-0720M By Faith Moses VGR.pdf')]"
      ]
     },
     "execution_count": 6,
     "metadata": {},
     "output_type": "execute_result"
    }
   ],
   "source": [
    "all_pdf_files"
   ]
  },
  {
   "cell_type": "code",
   "execution_count": 7,
   "id": "b59a5395",
   "metadata": {},
   "outputs": [],
   "source": [
    "manuel_in_lingala_path  = all_pdf_files[0]"
   ]
  },
  {
   "cell_type": "code",
   "execution_count": 29,
   "id": "903f9f4e",
   "metadata": {},
   "outputs": [],
   "source": [
    "def parse_text_from_html(path):\n",
    "    \"\"\"\n",
    "    parse html text from the document passed in parameter\n",
    "    \"\"\"\n",
    "    with pdf_extractor.open(path) as doc:\n",
    "        raw_text = \"\"\n",
    "        for page in doc:\n",
    "            content = page.get_text(\"text\")\n",
    "            raw_text = f\"{raw_text} \\n{content}\"\n",
    "        return raw_text"
   ]
  },
  {
   "cell_type": "code",
   "execution_count": 30,
   "id": "0ab5248a",
   "metadata": {},
   "outputs": [],
   "source": [
    "def write_output(path, content, name):\n",
    "    with open(path.joinpath(name), \"w\") as output_file:\n",
    "        output_file.write(f\"{content}\\n\")"
   ]
  },
  {
   "cell_type": "code",
   "execution_count": 31,
   "id": "43acc569",
   "metadata": {},
   "outputs": [],
   "source": [
    "OUTPUT_PATH = PDF_FILES_PATH.parent.joinpath(\"text_from_pdf\")"
   ]
  },
  {
   "cell_type": "code",
   "execution_count": 32,
   "id": "17160f01",
   "metadata": {},
   "outputs": [],
   "source": [
    "OUTPUT_PATH.mkdir(exist_ok=True)"
   ]
  },
  {
   "cell_type": "code",
   "execution_count": 33,
   "id": "4655ab76",
   "metadata": {},
   "outputs": [
    {
     "data": {
      "text/plain": [
       "'text_from_pdf'"
      ]
     },
     "execution_count": 33,
     "metadata": {},
     "output_type": "execute_result"
    }
   ],
   "source": [
    "OUTPUT_PATH.name"
   ]
  },
  {
   "cell_type": "code",
   "execution_count": 34,
   "id": "00d6f482",
   "metadata": {
    "scrolled": false
   },
   "outputs": [
    {
     "name": "stdout",
     "output_type": "stream",
     "text": [
      "Manuel_in_lingala.txt\n",
      "LOLENGE EKOLO CONGO EZALI KOMILENGELE PE EKANI KOSALELA REDD+ (RPP) Bomoko_ Mosala _ Tombwa - PDF Free Download.txt\n",
      "Microsoft Research Participation Form ML.txt\n",
      "CV_a-first-look-pamphlet-Lingala.txt\n",
      "lingala.txt\n",
      "fcpa-lingala.txt\n",
      "Album village assaini Lingala.txt\n",
      "lingala-faqs-4-8.txt\n",
      "mul.txt\n",
      "FORMULAIRE_BILINGUE_FR_LINGALA_FINAL.txt\n",
      "LIN58-0720M By Faith Moses VGR.txt\n"
     ]
    }
   ],
   "source": [
    "for file in all_pdf_files:\n",
    "    raw_text = parse_text_from_html(file)\n",
    "    file_name = file.name.__str__().replace('pdf', 'txt')\n",
    "    print(file_name)\n",
    "    write_output(OUTPUT_PATH, raw_text, file_name)"
   ]
  },
  {
   "cell_type": "code",
   "execution_count": null,
   "id": "3f7ad53f",
   "metadata": {},
   "outputs": [],
   "source": []
  }
 ],
 "metadata": {
  "kernelspec": {
   "display_name": "nlp-course-venv-v2",
   "language": "python",
   "name": "nlp-course-venv-v2"
  },
  "language_info": {
   "codemirror_mode": {
    "name": "ipython",
    "version": 3
   },
   "file_extension": ".py",
   "mimetype": "text/x-python",
   "name": "python",
   "nbconvert_exporter": "python",
   "pygments_lexer": "ipython3",
   "version": "3.6.5"
  }
 },
 "nbformat": 4,
 "nbformat_minor": 5
}
