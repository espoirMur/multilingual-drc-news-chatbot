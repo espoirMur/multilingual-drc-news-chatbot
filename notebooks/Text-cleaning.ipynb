{
 "cells": [
  {
   "cell_type": "markdown",
   "metadata": {},
   "source": [
    "In the following notetbook , we will perform the text cleaning of the data we got from scrapping."
   ]
  },
  {
   "cell_type": "markdown",
   "metadata": {},
   "source": [
    "#### What is the goal of this:\n",
    "    - the goal is to clean the text and optain a good representative corpora people can use for their NLP tasks."
   ]
  },
  {
   "cell_type": "markdown",
   "metadata": {},
   "source": [
    "#### Why are we doing the cleaning? \n",
    "- Since our data is dirty by nature, we would like to clean it to make it usable by people."
   ]
  },
  {
   "cell_type": "markdown",
   "metadata": {},
   "source": [
    "#### How are we going to perform the cleaning ?\n",
    "the cleaning process will be described as we go."
   ]
  },
  {
   "cell_type": "code",
   "execution_count": 1,
   "metadata": {},
   "outputs": [],
   "source": [
    "from pathlib import Path"
   ]
  },
  {
   "cell_type": "code",
   "execution_count": 2,
   "metadata": {},
   "outputs": [],
   "source": [
    "DATA_PATH = Path().cwd().parent.joinpath(\"data\")"
   ]
  },
  {
   "cell_type": "code",
   "execution_count": 3,
   "metadata": {},
   "outputs": [],
   "source": [
    "RAW_DATA_PATH = DATA_PATH.joinpath(\"raw\")"
   ]
  },
  {
   "cell_type": "code",
   "execution_count": 4,
   "metadata": {},
   "outputs": [],
   "source": [
    "LINGALA_DATA_PATH = RAW_DATA_PATH.joinpath(\"lingala_articles\")"
   ]
  },
  {
   "cell_type": "markdown",
   "metadata": {},
   "source": [
    "Let get all the files in the directory,and see how to clean them."
   ]
  },
  {
   "cell_type": "code",
   "execution_count": 5,
   "metadata": {},
   "outputs": [],
   "source": [
    "files = [x for x in LINGALA_DATA_PATH.glob('**/*') if x.is_file()]"
   ]
  },
  {
   "cell_type": "code",
   "execution_count": 6,
   "metadata": {},
   "outputs": [],
   "source": [
    "def get_file_content(filepath):\n",
    "    \"read the file pass in parameter and return its content as a text file\"\n",
    "    title = filepath.stem.replace(\"-\", \" \")\n",
    "    with open(filepath , 'r') as file:\n",
    "        content = file.read()\n",
    "        return f\"{title} \\n {content}\""
   ]
  },
  {
   "cell_type": "code",
   "execution_count": 7,
   "metadata": {},
   "outputs": [],
   "source": [
    "import random"
   ]
  },
  {
   "cell_type": "code",
   "execution_count": 8,
   "metadata": {},
   "outputs": [],
   "source": [
    "random_number = random.randint(0, len(files))"
   ]
  },
  {
   "cell_type": "code",
   "execution_count": 9,
   "metadata": {},
   "outputs": [
    {
     "data": {
      "text/plain": [
       "79"
      ]
     },
     "execution_count": 9,
     "metadata": {},
     "output_type": "execute_result"
    }
   ],
   "source": [
    "random_number"
   ]
  },
  {
   "cell_type": "code",
   "execution_count": 10,
   "metadata": {
    "scrolled": true
   },
   "outputs": [],
   "source": [
    "random_number = random.randint(0, len(files))"
   ]
  },
  {
   "cell_type": "code",
   "execution_count": 11,
   "metadata": {},
   "outputs": [
    {
     "data": {
      "text/plain": [
       "878"
      ]
     },
     "execution_count": 11,
     "metadata": {},
     "output_type": "execute_result"
    }
   ],
   "source": [
    "random_number"
   ]
  },
  {
   "cell_type": "markdown",
   "metadata": {},
   "source": [
    "As we can see , sometime the content have javascript embedded in it, we need to remove them."
   ]
  },
  {
   "cell_type": "code",
   "execution_count": 12,
   "metadata": {},
   "outputs": [],
   "source": [
    "import re"
   ]
  },
  {
   "cell_type": "code",
   "execution_count": 13,
   "metadata": {},
   "outputs": [],
   "source": [
    "def replace_javascript_between_code(text):\n",
    "    text = text.replace('\\r', ' ').replace('\\n', ' ')\n",
    "    unwanted_text = r\"initInfographics\\((.*?)(\\(document\\));\" # this is supposed to remove all unwanted text from the corpus\n",
    "    return re.sub(unwanted_text,\" \", text)"
   ]
  },
  {
   "cell_type": "code",
   "execution_count": 14,
   "metadata": {
    "scrolled": true
   },
   "outputs": [
    {
     "name": "stdout",
     "output_type": "stream",
     "text": [
      "Jean Jacques Mamba asikolami \n",
      " Député Jean-Jacques Mamba, mobandisi ya pétition oyo ekweyisaki Jean-Marc Kabund na ebonga ya 1er vice-président ya Assemblée nationale, asikolami nsima na kosambisama lelo na Cour ya cassation na bofundami ya député mosusu mpo na kotia nkombo na ye na lokuta kati na mokanda mwango. \n",
      " M. Mamba atelamaki liboso ya bazuzi ata mikolo mibale yambo na yango, Assemblée nationale ekataki ete misala mya bosembo misukisa kolandela ye mpe mibimisa ye mbala moko.\n",
      "Ezalaki lundi na likita liye ba députés bandimaki pétition M. Mamba abandisaki mpe bakweyisaki na ebonga ya 1er vice-président ya suku ya nse ya Parlement, Jean-Marc Kabund, mokambi ya UDPS, na esika ya président Félix Tshisekedi.\n",
      "Député Simon Mpiana ya UNC (Union pour la nation congolaise) afundaki M. Mamba na kolaba ete atiaki nkombo na ye na nkasa ya kosenga bolongwi ya M. Kabund mpe amekolaki mokoloto mwa ye.\n",
      "Ba député 62 nde batiaki manzaka na mokanda mwango.\n",
      "Lundi, ba députés bandimaki pétition yango mpe balongolaki na maponami M. Kanund na ebonga ya 1er vice-président ya Assemblée nationale.\n"
     ]
    }
   ],
   "source": [
    "random_number = random.randint(0, len(files))\n",
    "sample_text = get_file_content(files[random_number])\n",
    "print(sample_text)"
   ]
  },
  {
   "cell_type": "code",
   "execution_count": 15,
   "metadata": {},
   "outputs": [
    {
     "data": {
      "text/plain": [
       "'Jean Jacques Mamba asikolami   Député Jean-Jacques Mamba, mobandisi ya pétition oyo ekweyisaki Jean-Marc Kabund na ebonga ya 1er vice-président ya Assemblée nationale, asikolami nsima na kosambisama lelo na Cour ya cassation na bofundami ya député mosusu mpo na kotia nkombo na ye na lokuta kati na mokanda mwango.   M. Mamba atelamaki liboso ya bazuzi ata mikolo mibale yambo na yango, Assemblée nationale ekataki ete misala mya bosembo misukisa kolandela ye mpe mibimisa ye mbala moko. Ezalaki lundi na likita liye ba députés bandimaki pétition M. Mamba abandisaki mpe bakweyisaki na ebonga ya 1er vice-président ya suku ya nse ya Parlement, Jean-Marc Kabund, mokambi ya UDPS, na esika ya président Félix Tshisekedi. Député Simon Mpiana ya UNC (Union pour la nation congolaise) afundaki M. Mamba na kolaba ete atiaki nkombo na ye na nkasa ya kosenga bolongwi ya M. Kabund mpe amekolaki mokoloto mwa ye. Ba député 62 nde batiaki manzaka na mokanda mwango. Lundi, ba députés bandimaki pétition yango mpe balongolaki na maponami M. Kanund na ebonga ya 1er vice-président ya Assemblée nationale.'"
      ]
     },
     "execution_count": 15,
     "metadata": {},
     "output_type": "execute_result"
    }
   ],
   "source": [
    "cleanned_text = replace_javascript_between_code(sample_text)\n",
    "cleanned_text"
   ]
  },
  {
   "cell_type": "code",
   "execution_count": 16,
   "metadata": {},
   "outputs": [],
   "source": [
    "cleanned_text = replace_javascript_between_code(sample_text)"
   ]
  },
  {
   "cell_type": "code",
   "execution_count": 17,
   "metadata": {},
   "outputs": [
    {
     "data": {
      "text/plain": [
       "'Jean Jacques Mamba asikolami   Député Jean-Jacques Mamba, mobandisi ya pétition oyo ekweyisaki Jean-Marc Kabund na ebonga ya 1er vice-président ya Assemblée nationale, asikolami nsima na kosambisama lelo na Cour ya cassation na bofundami ya député mosusu mpo na kotia nkombo na ye na lokuta kati na mokanda mwango.   M. Mamba atelamaki liboso ya bazuzi ata mikolo mibale yambo na yango, Assemblée nationale ekataki ete misala mya bosembo misukisa kolandela ye mpe mibimisa ye mbala moko. Ezalaki lundi na likita liye ba députés bandimaki pétition M. Mamba abandisaki mpe bakweyisaki na ebonga ya 1er vice-président ya suku ya nse ya Parlement, Jean-Marc Kabund, mokambi ya UDPS, na esika ya président Félix Tshisekedi. Député Simon Mpiana ya UNC (Union pour la nation congolaise) afundaki M. Mamba na kolaba ete atiaki nkombo na ye na nkasa ya kosenga bolongwi ya M. Kabund mpe amekolaki mokoloto mwa ye. Ba député 62 nde batiaki manzaka na mokanda mwango. Lundi, ba députés bandimaki pétition yango mpe balongolaki na maponami M. Kanund na ebonga ya 1er vice-président ya Assemblée nationale.'"
      ]
     },
     "execution_count": 17,
     "metadata": {},
     "output_type": "execute_result"
    }
   ],
   "source": [
    "cleanned_text"
   ]
  },
  {
   "cell_type": "code",
   "execution_count": 18,
   "metadata": {
    "scrolled": true
   },
   "outputs": [],
   "source": [
    "\n",
    "sample_text = get_file_content(files[random_number])\n",
    "cleanned_text = replace_javascript_between_code(sample_text)"
   ]
  },
  {
   "cell_type": "code",
   "execution_count": 19,
   "metadata": {},
   "outputs": [
    {
     "data": {
      "text/plain": [
       "'Jean Jacques Mamba asikolami   Député Jean-Jacques Mamba, mobandisi ya pétition oyo ekweyisaki Jean-Marc Kabund na ebonga ya 1er vice-président ya Assemblée nationale, asikolami nsima na kosambisama lelo na Cour ya cassation na bofundami ya député mosusu mpo na kotia nkombo na ye na lokuta kati na mokanda mwango.   M. Mamba atelamaki liboso ya bazuzi ata mikolo mibale yambo na yango, Assemblée nationale ekataki ete misala mya bosembo misukisa kolandela ye mpe mibimisa ye mbala moko. Ezalaki lundi na likita liye ba députés bandimaki pétition M. Mamba abandisaki mpe bakweyisaki na ebonga ya 1er vice-président ya suku ya nse ya Parlement, Jean-Marc Kabund, mokambi ya UDPS, na esika ya président Félix Tshisekedi. Député Simon Mpiana ya UNC (Union pour la nation congolaise) afundaki M. Mamba na kolaba ete atiaki nkombo na ye na nkasa ya kosenga bolongwi ya M. Kabund mpe amekolaki mokoloto mwa ye. Ba député 62 nde batiaki manzaka na mokanda mwango. Lundi, ba députés bandimaki pétition yango mpe balongolaki na maponami M. Kanund na ebonga ya 1er vice-président ya Assemblée nationale.'"
      ]
     },
     "execution_count": 19,
     "metadata": {},
     "output_type": "execute_result"
    }
   ],
   "source": [
    "cleanned_text"
   ]
  },
  {
   "cell_type": "markdown",
   "metadata": {},
   "source": [
    "### Remove point betwen M. Name"
   ]
  },
  {
   "cell_type": "markdown",
   "metadata": {},
   "source": [
    "Another cleaning step will be removing the wary we are saying **M. Name** and by Mr Name to make sure we are not splitting by that point when we will be splitting the data in sentences "
   ]
  },
  {
   "cell_type": "code",
   "execution_count": 20,
   "metadata": {},
   "outputs": [],
   "source": [
    "def replace_dot_in_title(text):\n",
    "    mrs_regex = r\"M.\\s(\\w+)\"\n",
    "    dr_regex = r\"Dr.\\s(\\w+)\"\n",
    "    content = re.sub(mrs_regex, r\"Mr \\1\", text, 0)\n",
    "    content = re.sub(dr_regex, r\"Dr \\1\", content, 0)\n",
    "    return content"
   ]
  },
  {
   "cell_type": "code",
   "execution_count": 21,
   "metadata": {},
   "outputs": [
    {
     "data": {
      "text/plain": [
       "'Jean Jacques Mamba asikolami   Député Jean-Jacques Mamba, mobandisi ya pétition oyo ekweyisaki Jean-Marc Kabund na ebonga ya 1er vice-président ya Assemblée nationale, asikolami nsima na kosambisama lelo na Cour ya cassation na bofundami ya député mosusu mpo na kotia nkombo na ye na lokuta kati na mokanda mwango.   Mr Mamba atelamaki liboso ya bazuzi ata mikolo mibale yambo na yango, Assemblée nationale ekataki ete misala mya bosembo misukisa kolandela ye mpe mibimisa ye mbala moko. Ezalaki lundi na likita liye ba députés bandimaki pétition Mr Mamba abandisaki mpe bakweyisaki na ebonga ya 1er vice-président ya suku ya nse ya Parlement, Jean-Marc Kabund, mokambi ya UDPS, na esika ya président Félix Tshisekedi. Député Simon Mpiana ya UNC (Union pour la nation congolaise) afundaki Mr Mamba na kolaba ete atiaki nkombo na ye na nkasa ya kosenga bolongwi ya Mr Kabund mpe amekolaki mokoloto mwa ye. Ba député 62 nde batiaki manzaka na mokanda mwango. Lundi, ba députés bandimaki pétition yango mpe balongolaki na maponami Mr Kanund na ebonga ya 1er vice-président ya Assemblée nationale.'"
      ]
     },
     "execution_count": 21,
     "metadata": {},
     "output_type": "execute_result"
    }
   ],
   "source": [
    "replace_dot_in_title(cleanned_text)"
   ]
  },
  {
   "cell_type": "markdown",
   "metadata": {},
   "source": [
    "With the first part of our cleaning done , we can save the text back to files."
   ]
  },
  {
   "cell_type": "markdown",
   "metadata": {},
   "source": [
    "### Sentence Spliting by polygot"
   ]
  },
  {
   "cell_type": "markdown",
   "metadata": {},
   "source": [
    "Let start by checking if polygot can detect the language"
   ]
  },
  {
   "cell_type": "code",
   "execution_count": 22,
   "metadata": {
    "scrolled": true
   },
   "outputs": [],
   "source": [
    "from polyglot.detect import Detector\n",
    "from polyglot.text import Text"
   ]
  },
  {
   "cell_type": "markdown",
   "metadata": {},
   "source": [
    "will get back to this later ."
   ]
  },
  {
   "cell_type": "code",
   "execution_count": 23,
   "metadata": {},
   "outputs": [],
   "source": [
    "cleanned_text = \"\"\"\n",
    "Naomie Katoka akobunda taekwando mpe Marie Branser, molongi ya molongo oyo abotama na tata mpe na mama ya Allemagne nde akobunda mpo Ekolo Congo démocratique na momekano ya Judo. Kasi kino sika misolo mitindami nanu te na balakisi bilongi ya RDC.\n",
    "\"\"\""
   ]
  },
  {
   "cell_type": "code",
   "execution_count": 24,
   "metadata": {},
   "outputs": [
    {
     "name": "stdout",
     "output_type": "stream",
     "text": [
      "name: Lingala     code: ln       confidence:  99.0 read bytes:   748\n"
     ]
    }
   ],
   "source": [
    "detector = Detector(cleanned_text)\n",
    "print(detector.language)"
   ]
  },
  {
   "cell_type": "code",
   "execution_count": 25,
   "metadata": {},
   "outputs": [
    {
     "data": {
      "text/plain": [
       "'ln'"
      ]
     },
     "execution_count": 25,
     "metadata": {},
     "output_type": "execute_result"
    }
   ],
   "source": [
    "detector.language.code"
   ]
  },
  {
   "cell_type": "code",
   "execution_count": 26,
   "metadata": {},
   "outputs": [],
   "source": [
    "text = Text(cleanned_text)"
   ]
  },
  {
   "cell_type": "code",
   "execution_count": null,
   "metadata": {},
   "outputs": [],
   "source": []
  },
  {
   "cell_type": "code",
   "execution_count": 27,
   "metadata": {},
   "outputs": [],
   "source": [
    "sentences = text.sentences"
   ]
  },
  {
   "cell_type": "code",
   "execution_count": 28,
   "metadata": {},
   "outputs": [
    {
     "data": {
      "text/plain": [
       "[Sentence(\"Naomie Katoka akobunda taekwando mpe Marie Branser, molongi ya molongo oyo abotama na tata mpe na mama ya Allemagne nde akobunda mpo Ekolo Congo démocratique na momekano ya Judo.\"),\n",
       " Sentence(\"Kasi kino sika misolo mitindami nanu te na balakisi bilongi ya RDC.\")]"
      ]
     },
     "execution_count": 28,
     "metadata": {},
     "output_type": "execute_result"
    }
   ],
   "source": [
    "sentences"
   ]
  },
  {
   "cell_type": "markdown",
   "metadata": {},
   "source": [
    "With our text cleanned and we are able to find detect the language, let us save it into sentence and see how many sentence we will have at the end."
   ]
  },
  {
   "cell_type": "markdown",
   "metadata": {},
   "source": [
    "We can do better in splitting the corpus.\n",
    "Since line are paragraph ie , they contain long line wiht dot we can split them using the '\\.' sign and build on that."
   ]
  },
  {
   "cell_type": "code",
   "execution_count": 29,
   "metadata": {},
   "outputs": [],
   "source": [
    "import nltk"
   ]
  },
  {
   "cell_type": "code",
   "execution_count": 30,
   "metadata": {},
   "outputs": [
    {
     "data": {
      "text/plain": [
       "[\"Conseil d’Etat etelemisi mokano ya kolongola Jean-Marc Kabund, président intérimaire ya UDPS, na ebonda ya 1er vice-président ya Assemblée nationale mpe linaka lya kotia moto mosusu na esika yango  Bazuzi bapesi ekateli na bango nsima na kinzonzi bakotaki na kolanda bosambisami kati na Mr Kabund na Jeanine Mabunda, Mokambi mwa Assemblée nationale.Bazuzi bandimi ete bosenga ya basambeli ya Mme Mabunda kasi elobi ezali na loboko te.Conseil d’Etat elobi ete makambo manso mateli mpo na kozela mokano mokowuta ya bosambisami ya Cour Consitutionnelle epayi wapi Mr Kabund amemami bokweyisami na ye o’mokolo mwa le 25 mai.Conseil d'Etat esengi kozela ekateli ya Cour ya cassation na bosambisami bwa Jean-Jacques Mamba, mabandisi ya pétition ekweyisaki Mr Kabund.Député Simon Mpiana afundaki député Mamba mpo kotia signature na ye na lokouta mpe moyibi na pétition yango.Cour ya cassation etelemisaki bosambisami ya Mr Mamba kino session ya parlementaire ekosila.Mr Kabund asengaki Conseil d’Etat kotelemisa linaka ya kopona moto mosusu lokola 1er vice-président ya Assemblée nationale.UDPS, lingambo lya président Félix Tshisekedi, epesaki nkombo ya Patricia Nseya mpo na maponami ya 1er vice-président ya suku ya nse ya parlement kasi ekandaki mpe Conseil d’Etat mpo kokata mokano mwango.\"]"
      ]
     },
     "execution_count": 30,
     "metadata": {},
     "output_type": "execute_result"
    }
   ],
   "source": [
    "sample_paragraph = \"Conseil d’Etat etelemisi mokano ya kolongola Jean-Marc Kabund, président intérimaire ya UDPS, na ebonda ya 1er vice-président ya Assemblée nationale mpe linaka lya kotia moto mosusu na esika yango  Bazuzi bapesi ekateli na bango nsima na kinzonzi bakotaki na kolanda bosambisami kati na Mr Kabund na Jeanine Mabunda, Mokambi mwa Assemblée nationale.Bazuzi bandimi ete bosenga ya basambeli ya Mme Mabunda kasi elobi ezali na loboko te.Conseil d’Etat elobi ete makambo manso mateli mpo na kozela mokano mokowuta ya bosambisami ya Cour Consitutionnelle epayi wapi Mr Kabund amemami bokweyisami na ye o’mokolo mwa le 25 mai.Conseil d'Etat esengi kozela ekateli ya Cour ya cassation na bosambisami bwa Jean-Jacques Mamba, mabandisi ya pétition ekweyisaki Mr Kabund.Député Simon Mpiana afundaki député Mamba mpo kotia signature na ye na lokouta mpe moyibi na pétition yango.Cour ya cassation etelemisaki bosambisami ya Mr Mamba kino session ya parlementaire ekosila.Mr Kabund asengaki Conseil d’Etat kotelemisa linaka ya kopona moto mosusu lokola 1er vice-président ya Assemblée nationale.UDPS, lingambo lya président Félix Tshisekedi, epesaki nkombo ya Patricia Nseya mpo na maponami ya 1er vice-président ya suku ya nse ya parlement kasi ekandaki mpe Conseil d’Etat mpo kokata mokano mwango.\"\n",
    "\n",
    "nltk.sent_tokenize(sample_paragraph)"
   ]
  },
  {
   "cell_type": "markdown",
   "metadata": {},
   "source": [
    "we can see that nltk is failing to split ,we can try to use regex to split on a point to see how it will perform "
   ]
  },
  {
   "cell_type": "markdown",
   "metadata": {},
   "source": [
    "This approach is not doing ewll it is splittin the number also , can we do better ?"
   ]
  },
  {
   "cell_type": "code",
   "execution_count": 31,
   "metadata": {
    "scrolled": true
   },
   "outputs": [
    {
     "data": {
      "text/plain": [
       "['Conseil d’Etat etelemisi mokano ya kolongola Jean-Marc Kabund, président intérimaire ya UDPS, na ebonda ya 1er vice-président ya Assemblée nationale mpe linaka lya kotia moto mosusu na esika yango  Bazuzi bapesi ekateli na bango nsima na kinzonzi bakotaki na kolanda bosambisami kati na Mr Kabund na Jeanine Mabunda, Mokambi mwa Assemblée nationale.',\n",
       " 'Bazuzi bandimi ete bosenga ya basambeli ya Mme Mabunda kasi elobi ezali na loboko te.',\n",
       " 'Conseil d’Etat elobi ete makambo manso mateli mpo na kozela mokano mokowuta ya bosambisami ya Cour Consitutionnelle epayi wapi Mr Kabund amemami bokweyisami na ye o’mokolo mwa le 25 mai.',\n",
       " \"Conseil d'Etat esengi kozela ekateli ya Cour ya cassation na bosambisami bwa Jean-Jacques Mamba, mabandisi ya pétition ekweyisaki Mr Kabund.\",\n",
       " 'Député Simon Mpiana afundaki député Mamba mpo kotia signature na ye na lokouta mpe moyibi na pétition yango.',\n",
       " 'Cour ya cassation etelemisaki bosambisami ya Mr Mamba kino session ya parlementaire ekosila.',\n",
       " 'Mr Kabund asengaki Conseil d’Etat kotelemisa linaka ya kopona moto mosusu lokola 1er vice-président ya Assemblée nationale.',\n",
       " 'UDPS, lingambo lya président Félix Tshisekedi, epesaki nkombo ya Patricia Nseya mpo na maponami ya 1er vice-président ya suku ya nse ya parlement kasi ekandaki mpe Conseil d’Etat mpo kokata mokano mwango.']"
      ]
     },
     "execution_count": 31,
     "metadata": {},
     "output_type": "execute_result"
    }
   ],
   "source": [
    "re.findall('.*?[.!\\?]', sample_paragraph)"
   ]
  },
  {
   "cell_type": "markdown",
   "metadata": {},
   "source": [
    "This seems to work and we can continue with it like that for now , more improvement can come after."
   ]
  },
  {
   "cell_type": "code",
   "execution_count": 32,
   "metadata": {},
   "outputs": [
    {
     "data": {
      "text/plain": [
       "['Conseil d’Etat etelemisi bolongolami ya Kabund na linaka ya maponami ya 1er vp ya Ass.']"
      ]
     },
     "execution_count": 32,
     "metadata": {},
     "output_type": "execute_result"
    }
   ],
   "source": [
    "re.findall('.*?[.!\\?]', 'Conseil d’Etat etelemisi bolongolami ya Kabund na linaka ya maponami ya 1er vp ya Ass.')"
   ]
  },
  {
   "cell_type": "markdown",
   "metadata": {},
   "source": [
    "The final pipeline will include running the code to process and save all the data in a big file called lingala news."
   ]
  },
  {
   "cell_type": "code",
   "execution_count": 33,
   "metadata": {},
   "outputs": [],
   "source": [
    "CLEAN_FILE_PATH = DATA_PATH.joinpath(\"processed\", \"news.lingala.ln\")"
   ]
  },
  {
   "cell_type": "code",
   "execution_count": 34,
   "metadata": {},
   "outputs": [
    {
     "data": {
      "text/plain": [
       "'Jean Jacques Mamba asikolami \\n Député Jean-Jacques Mamba, mobandisi ya pétition oyo ekweyisaki Jean-Marc Kabund na ebonga ya 1er vice-président ya Assemblée nationale, asikolami nsima na kosambisama lelo na Cour ya cassation na bofundami ya député mosusu mpo na kotia nkombo na ye na lokuta kati na mokanda mwango. \\n M. Mamba atelamaki liboso ya bazuzi ata mikolo mibale yambo na yango, Assemblée nationale ekataki ete misala mya bosembo misukisa kolandela ye mpe mibimisa ye mbala moko.\\nEzalaki lundi na likita liye ba députés bandimaki pétition M. Mamba abandisaki mpe bakweyisaki na ebonga ya 1er vice-président ya suku ya nse ya Parlement, Jean-Marc Kabund, mokambi ya UDPS, na esika ya président Félix Tshisekedi.\\nDéputé Simon Mpiana ya UNC (Union pour la nation congolaise) afundaki M. Mamba na kolaba ete atiaki nkombo na ye na nkasa ya kosenga bolongwi ya M. Kabund mpe amekolaki mokoloto mwa ye.\\nBa député 62 nde batiaki manzaka na mokanda mwango.\\nLundi, ba députés bandimaki pétition yango mpe balongolaki na maponami M. Kanund na ebonga ya 1er vice-président ya Assemblée nationale.'"
      ]
     },
     "execution_count": 34,
     "metadata": {},
     "output_type": "execute_result"
    }
   ],
   "source": [
    "sample_text"
   ]
  },
  {
   "cell_type": "markdown",
   "metadata": {},
   "source": [
    "### Final Pipeline"
   ]
  },
  {
   "cell_type": "code",
   "execution_count": 35,
   "metadata": {},
   "outputs": [],
   "source": [
    "from polyglot.detect.base import UnknownLanguage"
   ]
  },
  {
   "cell_type": "code",
   "execution_count": 36,
   "metadata": {},
   "outputs": [
    {
     "name": "stderr",
     "output_type": "stream",
     "text": [
      "Detector is not able to detect the language reliably.\n",
      "Detector is not able to detect the language reliably.\n",
      "Detector is not able to detect the language reliably.\n",
      "Detector is not able to detect the language reliably.\n",
      "Detector is not able to detect the language reliably.\n",
      "Detector is not able to detect the language reliably.\n",
      "Detector is not able to detect the language reliably.\n",
      "Detector is not able to detect the language reliably.\n",
      "Detector is not able to detect the language reliably.\n",
      "Detector is not able to detect the language reliably.\n",
      "Detector is not able to detect the language reliably.\n",
      "Detector is not able to detect the language reliably.\n",
      "Detector is not able to detect the language reliably.\n",
      "Detector is not able to detect the language reliably.\n",
      "Detector is not able to detect the language reliably.\n"
     ]
    },
    {
     "name": "stdout",
     "output_type": "stream",
     "text": [
      "Tshisekedi akeyi Dar es Salaam mpo na Sommet ya SADC   Président Félix Tshisekedi akeyi lelo mokolo ya mitano ya mposo na Dar-es-Salaam, engumba mokonzi ya Tanzanie, mpo na bokutani ya bakonzi ya mboka ya SADC, lingomba ya ntombwa ya bikolo ya Ngele na Afrika.   Ezali bongo 39e Sommet ya bakonzi ya bikolo ya SADC eye ekosalama na Dar-es-Salaam, banda le 16 août kino le 18 août 2019. Kolanda présidence ya Congo démocratique (RDC), F. Tshisekedi akolobela mingi bokengi na bokono ya Ebola na monyele ya mboka na ye. Bakonzi ya mboka ebele bakozala kuna : King Nswati III ya Eswatini (Botswana), Thomas Motsohae Thabane na Lesotho, Andy Rajoelina ya Madagascar, Arthur Peter Muthanka ya Malawi, Paramasivum Pillay Viaoory ya Maurice, Filipe Jacinto Nyusi ya Mozambique, Hage Gottfried Geingob ya Namibie, Dany Faure ya Seyschelles, John Pombe Joseph Magufuli ya Tanzanie, Edgar Chagwa Lungu ya Zambie, Emmerson Mnangagwa ya Zimbabwe, Joao Lourenco ya Angola, Mokgweetsi Eric Keabetwe Masisi ya Botswana, Félix Tshisekedi ya RDC, na Azali Assoumani ya Comores.\n"
     ]
    },
    {
     "name": "stderr",
     "output_type": "stream",
     "text": [
      "Detector is not able to detect the language reliably.\n",
      "Detector is not able to detect the language reliably.\n",
      "Detector is not able to detect the language reliably.\n",
      "Detector is not able to detect the language reliably.\n",
      "Detector is not able to detect the language reliably.\n",
      "Detector is not able to detect the language reliably.\n",
      "Detector is not able to detect the language reliably.\n",
      "Detector is not able to detect the language reliably.\n",
      "Detector is not able to detect the language reliably.\n",
      "Detector is not able to detect the language reliably.\n",
      "Detector is not able to detect the language reliably.\n",
      "Detector is not able to detect the language reliably.\n",
      "Detector is not able to detect the language reliably.\n",
      "Detector is not able to detect the language reliably.\n",
      "Detector is not able to detect the language reliably.\n",
      "Detector is not able to detect the language reliably.\n",
      "Detector is not able to detect the language reliably.\n",
      "Detector is not able to detect the language reliably.\n",
      "Detector is not able to detect the language reliably.\n",
      "Detector is not able to detect the language reliably.\n",
      "Detector is not able to detect the language reliably.\n",
      "Detector is not able to detect the language reliably.\n",
      "Detector is not able to detect the language reliably.\n",
      "Detector is not able to detect the language reliably.\n",
      "Detector is not able to detect the language reliably.\n",
      "Detector is not able to detect the language reliably.\n",
      "Detector is not able to detect the language reliably.\n",
      "Detector is not able to detect the language reliably.\n",
      "Detector is not able to detect the language reliably.\n",
      "Detector is not able to detect the language reliably.\n",
      "Detector is not able to detect the language reliably.\n",
      "Detector is not able to detect the language reliably.\n",
      "Detector is not able to detect the language reliably.\n",
      "Detector is not able to detect the language reliably.\n",
      "Detector is not able to detect the language reliably.\n",
      "Detector is not able to detect the language reliably.\n",
      "Detector is not able to detect the language reliably.\n",
      "Detector is not able to detect the language reliably.\n",
      "Detector is not able to detect the language reliably.\n",
      "Detector is not able to detect the language reliably.\n",
      "Detector is not able to detect the language reliably.\n",
      "Detector is not able to detect the language reliably.\n",
      "Detector is not able to detect the language reliably.\n",
      "Detector is not able to detect the language reliably.\n",
      "Detector is not able to detect the language reliably.\n",
      "Detector is not able to detect the language reliably.\n",
      "Detector is not able to detect the language reliably.\n",
      "Detector is not able to detect the language reliably.\n",
      "Detector is not able to detect the language reliably.\n",
      "Detector is not able to detect the language reliably.\n",
      "Detector is not able to detect the language reliably.\n",
      "Detector is not able to detect the language reliably.\n",
      "Detector is not able to detect the language reliably.\n",
      "Detector is not able to detect the language reliably.\n",
      "Detector is not able to detect the language reliably.\n",
      "Detector is not able to detect the language reliably.\n",
      "Detector is not able to detect the language reliably.\n",
      "Detector is not able to detect the language reliably.\n",
      "Detector is not able to detect the language reliably.\n",
      "Detector is not able to detect the language reliably.\n",
      "Detector is not able to detect the language reliably.\n",
      "Detector is not able to detect the language reliably.\n",
      "Detector is not able to detect the language reliably.\n",
      "Detector is not able to detect the language reliably.\n",
      "Detector is not able to detect the language reliably.\n",
      "Detector is not able to detect the language reliably.\n",
      "Detector is not able to detect the language reliably.\n",
      "Detector is not able to detect the language reliably.\n",
      "Detector is not able to detect the language reliably.\n",
      "Detector is not able to detect the language reliably.\n",
      "Detector is not able to detect the language reliably.\n",
      "Detector is not able to detect the language reliably.\n",
      "Detector is not able to detect the language reliably.\n",
      "Detector is not able to detect the language reliably.\n",
      "Detector is not able to detect the language reliably.\n",
      "Detector is not able to detect the language reliably.\n",
      "Detector is not able to detect the language reliably.\n",
      "Detector is not able to detect the language reliably.\n",
      "Detector is not able to detect the language reliably.\n",
      "Detector is not able to detect the language reliably.\n",
      "Detector is not able to detect the language reliably.\n",
      "Detector is not able to detect the language reliably.\n",
      "Detector is not able to detect the language reliably.\n"
     ]
    }
   ],
   "source": [
    "with open(CLEAN_FILE_PATH, \"w\") as output_file:\n",
    "    for file in files:\n",
    "        raw_text = get_file_content(file)\n",
    "        cleanned_text = replace_javascript_between_code(raw_text)\n",
    "        cleanned_text = replace_dot_in_title(cleanned_text)\n",
    "        try:\n",
    "            detector = Detector(cleanned_text)\n",
    "            language = detector.language.code\n",
    "            if language == 'ln':\n",
    "                sentences = Text(cleanned_text).sentences\n",
    "                for sentence in sentences:\n",
    "                    if len(sentence.split(' ')) >= 3:\n",
    "                        output_file.write(f\"{sentence.string}\\n\")\n",
    "        except UnknownLanguage:\n",
    "            print(cleanned_text)"
   ]
  },
  {
   "cell_type": "code",
   "execution_count": null,
   "metadata": {},
   "outputs": [],
   "source": [
    "len(all_sentences)"
   ]
  },
  {
   "cell_type": "code",
   "execution_count": null,
   "metadata": {},
   "outputs": [],
   "source": []
  },
  {
   "cell_type": "code",
   "execution_count": null,
   "metadata": {},
   "outputs": [],
   "source": []
  }
 ],
 "metadata": {
  "kernelspec": {
   "display_name": "nlp-stuff",
   "language": "python",
   "name": "nlp-stuff"
  },
  "language_info": {
   "codemirror_mode": {
    "name": "ipython",
    "version": 3
   },
   "file_extension": ".py",
   "mimetype": "text/x-python",
   "name": "python",
   "nbconvert_exporter": "python",
   "pygments_lexer": "ipython3",
   "version": "3.7.5"
  }
 },
 "nbformat": 4,
 "nbformat_minor": 4
}
