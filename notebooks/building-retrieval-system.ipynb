{
 "cells": [
  {
   "cell_type": "markdown",
   "metadata": {},
   "source": [
    "### Building Question answering system\n",
    "\n",
    "For  this work , we will build our question answering system , we will leverage the [deepset framework]() to build the components of our system.\n",
    "\n",
    "Here are the followign components of our system:\n",
    "-  The index store \n",
    "- The document store \n",
    "- The search pipeline with a Retrieval and a Reader model.\n",
    "\n",
    "We will be leveraging the tutorials provided by deepstack to build our system."
   ]
  },
  {
   "cell_type": "markdown",
   "metadata": {},
   "source": [
    "For this work we will leverage [this  tutorial:](https://github.com/deepset-ai/haystack/blob/master/tutorials/Tutorial6_Better_Retrieval_via_DPR.ipynb) "
   ]
  },
  {
   "cell_type": "markdown",
   "metadata": {},
   "source": [
    "### Building the dense passage retrieval\n",
    "\n",
    "To build the dataset for the dense passage retrieval , we will be using the approach suggested by [this tutorial](https://huggingface.co/etalab-ia/dpr-question_encoder-fr_qa-camembert) which use the cambert model .\n",
    "\n",
    "For each question , we have a single positive context , the paragraph where the answer to the question is located and n hard negavives contexts that are the the top - k canditates taht does not contain the answer, to the question. to retrieve the negative context they will use the bm25 retrieval model.\n",
    "\n",
    "Before training the retrieval model we will have to build the document store and save the document as units of retrieval to the store."
   ]
  },
  {
   "cell_type": "code",
   "execution_count": null,
   "metadata": {},
   "outputs": [],
   "source": []
  },
  {
   "cell_type": "markdown",
   "metadata": {},
   "source": [
    "### Building the dataset"
   ]
  },
  {
   "cell_type": "code",
   "execution_count": 1,
   "metadata": {},
   "outputs": [],
   "source": [
    "import pandas as pd\n",
    "import numpy as np"
   ]
  },
  {
   "cell_type": "code",
   "execution_count": 2,
   "metadata": {},
   "outputs": [],
   "source": [
    "from pathlib import Path\n",
    "DATA_PATH = Path.cwd().joinpath(\"data\")\n",
    "assert DATA_PATH.exists(), \"the data path does not exist\"\n",
    "TEXT_DATA_FOLDER = DATA_PATH.joinpath(\"corpus\", \"drc-news-txt\")\n",
    "assert TEXT_DATA_FOLDER.exists(), \"the text data folder does not exist\""
   ]
  },
  {
   "cell_type": "code",
   "execution_count": 3,
   "metadata": {},
   "outputs": [],
   "source": [
    "data_file_path = DATA_PATH.joinpath(\"corpus\", \"raw\", 'drc-news-raws.csv')"
   ]
  },
  {
   "cell_type": "code",
   "execution_count": 4,
   "metadata": {},
   "outputs": [],
   "source": [
    "data = pd.read_csv(data_file_path, names=[\"content\", \"posted_at\"])"
   ]
  },
  {
   "cell_type": "code",
   "execution_count": 5,
   "metadata": {},
   "outputs": [
    {
     "data": {
      "text/plain": [
       "(140638, 2)"
      ]
     },
     "execution_count": 5,
     "metadata": {},
     "output_type": "execute_result"
    }
   ],
   "source": [
    "data.shape"
   ]
  },
  {
   "cell_type": "code",
   "execution_count": 5,
   "metadata": {},
   "outputs": [
    {
     "data": {
      "text/html": [
       "<div>\n",
       "<style scoped>\n",
       "    .dataframe tbody tr th:only-of-type {\n",
       "        vertical-align: middle;\n",
       "    }\n",
       "\n",
       "    .dataframe tbody tr th {\n",
       "        vertical-align: top;\n",
       "    }\n",
       "\n",
       "    .dataframe thead th {\n",
       "        text-align: right;\n",
       "    }\n",
       "</style>\n",
       "<table border=\"1\" class=\"dataframe\">\n",
       "  <thead>\n",
       "    <tr style=\"text-align: right;\">\n",
       "      <th></th>\n",
       "      <th>content</th>\n",
       "      <th>posted_at</th>\n",
       "    </tr>\n",
       "  </thead>\n",
       "  <tbody>\n",
       "    <tr>\n",
       "      <th>0</th>\n",
       "      <td>Les membres de la Commission tarifaire viennen...</td>\n",
       "      <td>2022-09-05 00:00:00</td>\n",
       "    </tr>\n",
       "    <tr>\n",
       "      <th>1</th>\n",
       "      <td>Les membres de la Commission tarifaire so...</td>\n",
       "      <td>2022-04-05 00:00:00</td>\n",
       "    </tr>\n",
       "    <tr>\n",
       "      <th>2</th>\n",
       "      <td>Vodacom Congo vient de signer un partenariat a...</td>\n",
       "      <td>2022-04-23 00:00:00</td>\n",
       "    </tr>\n",
       "    <tr>\n",
       "      <th>3</th>\n",
       "      <td>Le sélectionneur des Léopards de la RDC, Hectó...</td>\n",
       "      <td>2022-03-05 00:00:00</td>\n",
       "    </tr>\n",
       "    <tr>\n",
       "      <th>4</th>\n",
       "      <td>Le protocole d’accord était déjà signé entre l...</td>\n",
       "      <td>2022-11-05 00:00:00</td>\n",
       "    </tr>\n",
       "  </tbody>\n",
       "</table>\n",
       "</div>"
      ],
      "text/plain": [
       "                                             content            posted_at\n",
       "0  Les membres de la Commission tarifaire viennen...  2022-09-05 00:00:00\n",
       "1       Les membres de la Commission tarifaire so...  2022-04-05 00:00:00\n",
       "2  Vodacom Congo vient de signer un partenariat a...  2022-04-23 00:00:00\n",
       "3  Le sélectionneur des Léopards de la RDC, Hectó...  2022-03-05 00:00:00\n",
       "4  Le protocole d’accord était déjà signé entre l...  2022-11-05 00:00:00"
      ]
     },
     "execution_count": 5,
     "metadata": {},
     "output_type": "execute_result"
    }
   ],
   "source": [
    "data = data.fillna(value=\"\")\n",
    "data.head()"
   ]
  },
  {
   "cell_type": "code",
   "execution_count": 6,
   "metadata": {},
   "outputs": [
    {
     "name": "stderr",
     "output_type": "stream",
     "text": [
      "/Users/es.py/Projects/Personal/multilingual-drc-news-chatbot/.venv/lib/python3.9/site-packages/tqdm/auto.py:22: TqdmWarning: IProgress not found. Please update jupyter and ipywidgets. See https://ipywidgets.readthedocs.io/en/stable/user_install.html\n",
      "  from .autonotebook import tqdm as notebook_tqdm\n",
      "INFO - haystack.modeling.model.optimization -  apex not found, won't use it. See https://nvidia.github.io/apex/\n",
      "ERROR - root -  Failed to import 'magic' (from 'python-magic' and 'python-magic-bin' on Windows). FileTypeClassifier will not perform mimetype detection on extensionless files. Please make sure the necessary OS libraries are installed if you need this functionality.\n",
      "WARNING - haystack -  Object '__file__' is imported through a deprecated path. Please check out the docs for the new import path.\n",
      "WARNING - haystack -  Object '__file__' is imported through a deprecated path. Please check out the docs for the new import path.\n",
      "WARNING - haystack -  Object '__file__' is imported through a deprecated path. Please check out the docs for the new import path.\n",
      "WARNING - haystack -  Object '__file__' is imported through a deprecated path. Please check out the docs for the new import path.\n",
      "WARNING - haystack -  Object '__file__' is imported through a deprecated path. Please check out the docs for the new import path.\n",
      "WARNING - haystack -  Object '__file__' is imported through a deprecated path. Please check out the docs for the new import path.\n",
      "WARNING - haystack -  Object '__file__' is imported through a deprecated path. Please check out the docs for the new import path.\n",
      "WARNING - haystack -  Object '__file__' is imported through a deprecated path. Please check out the docs for the new import path.\n",
      "WARNING - haystack -  Object '__file__' is imported through a deprecated path. Please check out the docs for the new import path.\n",
      "WARNING - haystack -  Object '__file__' is imported through a deprecated path. Please check out the docs for the new import path.\n",
      "WARNING - haystack -  Object '__file__' is imported through a deprecated path. Please check out the docs for the new import path.\n",
      "WARNING - haystack -  Object '__file__' is imported through a deprecated path. Please check out the docs for the new import path.\n",
      "WARNING - haystack -  Object '__file__' is imported through a deprecated path. Please check out the docs for the new import path.\n",
      "WARNING - haystack -  Object '__file__' is imported through a deprecated path. Please check out the docs for the new import path.\n",
      "WARNING - haystack -  Object '__file__' is imported through a deprecated path. Please check out the docs for the new import path.\n",
      "WARNING - haystack -  Object '__file__' is imported through a deprecated path. Please check out the docs for the new import path.\n",
      "WARNING - haystack -  Object '__file__' is imported through a deprecated path. Please check out the docs for the new import path.\n",
      "WARNING - haystack -  Object '__file__' is imported through a deprecated path. Please check out the docs for the new import path.\n",
      "WARNING - haystack -  Object '__file__' is imported through a deprecated path. Please check out the docs for the new import path.\n",
      "WARNING - haystack -  Object '__file__' is imported through a deprecated path. Please check out the docs for the new import path.\n",
      "WARNING - haystack -  Object '__file__' is imported through a deprecated path. Please check out the docs for the new import path.\n",
      "WARNING - haystack -  Object '__file__' is imported through a deprecated path. Please check out the docs for the new import path.\n",
      "WARNING - haystack -  Object '__file__' is imported through a deprecated path. Please check out the docs for the new import path.\n",
      "WARNING - haystack -  Object '__file__' is imported through a deprecated path. Please check out the docs for the new import path.\n",
      "WARNING - haystack -  Object '__file__' is imported through a deprecated path. Please check out the docs for the new import path.\n",
      "WARNING - haystack -  Object '__file__' is imported through a deprecated path. Please check out the docs for the new import path.\n",
      "WARNING - haystack -  Object '__file__' is imported through a deprecated path. Please check out the docs for the new import path.\n",
      "WARNING - haystack -  Object '__file__' is imported through a deprecated path. Please check out the docs for the new import path.\n",
      "WARNING - haystack -  Object '__file__' is imported through a deprecated path. Please check out the docs for the new import path.\n",
      "WARNING - haystack -  Object '__file__' is imported through a deprecated path. Please check out the docs for the new import path.\n",
      "WARNING - haystack -  Object '__file__' is imported through a deprecated path. Please check out the docs for the new import path.\n"
     ]
    }
   ],
   "source": [
    "from haystack.nodes import TextConverter"
   ]
  },
  {
   "cell_type": "code",
   "execution_count": 7,
   "metadata": {},
   "outputs": [],
   "source": [
    "from haystack.schema import Document\n",
    "from secrets import token_hex\n",
    "\n",
    "# @Todo: this is not working now , it was supposed to save the document to dataframe\n",
    "def get_document_from_text(row):\n",
    "    \"\"\"numpy row with the text and the date of the post\n",
    "\n",
    "    Args:\n",
    "        row (_type_): _description_\n",
    "\n",
    "    Returns:\n",
    "        _type_: _description_\n",
    "    \"\"\"\n",
    "    text = row[0].replace(u'\\xa0', u' ')\n",
    "    for paragraph in text.split(\"   \"):\n",
    "        if not paragraph.strip():  # skip empty paragraphs\n",
    "            continue\n",
    "        return Document(content=paragraph, meta={\"posted_at\":row[1] if row[1] else \"\" })"
   ]
  },
  {
   "cell_type": "code",
   "execution_count": 10,
   "metadata": {},
   "outputs": [],
   "source": []
  },
  {
   "cell_type": "code",
   "execution_count": 8,
   "metadata": {},
   "outputs": [],
   "source": [
    "from haystack.nodes import TextConverter, PDFToTextConverter, DocxToTextConverter, PreProcessor\n",
    "from haystack.utils import convert_files_to_docs"
   ]
  },
  {
   "cell_type": "code",
   "execution_count": 9,
   "metadata": {},
   "outputs": [],
   "source": [
    "all_docs = data.sample(1000).apply(get_document_from_text, axis=\"columns\")"
   ]
  },
  {
   "cell_type": "code",
   "execution_count": 14,
   "metadata": {},
   "outputs": [
    {
     "data": {
      "text/plain": [
       "(1000,)"
      ]
     },
     "execution_count": 14,
     "metadata": {},
     "output_type": "execute_result"
    }
   ],
   "source": [
    "all_docs.shape"
   ]
  },
  {
   "cell_type": "code",
   "execution_count": 10,
   "metadata": {},
   "outputs": [],
   "source": [
    "all_docs = all_docs.dropna().to_list()"
   ]
  },
  {
   "cell_type": "code",
   "execution_count": 11,
   "metadata": {},
   "outputs": [],
   "source": [
    "from haystack.errors import HaystackError\n",
    "from haystack.schema import Document\n",
    "from typing import List, Optional, Generator, Set, Union\n",
    "from copy import deepcopy\n",
    "from haystack.nodes import PreProcessor\n",
    "\n",
    "class CustomPreProcessor(PreProcessor):\n",
    "    def __init__(self, custom_preprocessor=None, **kwargs):\n",
    "        super().__init__(**kwargs)\n",
    "        self.custom_preprocessor = custom_preprocessor\n",
    "    def clean(\n",
    "        self,\n",
    "        document: Union[dict, Document],\n",
    "        clean_whitespace: bool,\n",
    "        clean_header_footer: bool,\n",
    "        clean_empty_lines: bool,\n",
    "        remove_substrings: List[str],\n",
    "        id_hash_keys: Optional[List[str]] = None,\n",
    "    ) -> Document:\n",
    "        \"\"\"\n",
    "        \n",
    "        Perform document cleaning on a single document and return a single document. This method will deal with whitespaces, headers, footers\n",
    "        and empty lines. Its exact functionality is defined by the parameters passed into PreProcessor.__init__().\n",
    "        \"\"\"\n",
    "        if id_hash_keys is None:\n",
    "            id_hash_keys = self.id_hash_keys\n",
    "\n",
    "        if isinstance(document, dict):\n",
    "            document = Document.from_dict(document, id_hash_keys=id_hash_keys)\n",
    "\n",
    "        # Mainly needed for type checking\n",
    "        if not isinstance(document, Document):\n",
    "            raise HaystackError(\"Document must not be of type 'dict' but of type 'Document'.\")\n",
    "        text = document.content\n",
    "        text = self.custom_preprocessor(text)\n",
    "        if clean_header_footer:\n",
    "            text = self._find_and_remove_header_footer(\n",
    "                text, n_chars=300, n_first_pages_to_ignore=1, n_last_pages_to_ignore=1\n",
    "            )\n",
    "\n",
    "        if clean_whitespace:\n",
    "            lines = text.splitlines()\n",
    "\n",
    "            cleaned_lines = []\n",
    "            for line in lines:\n",
    "                line = line.strip()\n",
    "                cleaned_lines.append(line)\n",
    "            text = \"\\n\".join(cleaned_lines)\n",
    "\n",
    "        if clean_empty_lines:\n",
    "            text = re.sub(r\"\\n\\n+\", \"\\n\\n\", text)\n",
    "\n",
    "        for substring in remove_substrings:\n",
    "            text = text.replace(substring, \"\")\n",
    "\n",
    "        if text != document.content:\n",
    "            document = deepcopy(document)\n",
    "            document.content = text\n",
    "\n",
    "        return document\n",
    "    \n",
    "    "
   ]
  },
  {
   "cell_type": "code",
   "execution_count": 12,
   "metadata": {},
   "outputs": [],
   "source": [
    "import re\n",
    "from gensim.utils import deaccent\n",
    "from unicodedata import normalize as unicode_normalize"
   ]
  },
  {
   "cell_type": "code",
   "execution_count": 13,
   "metadata": {},
   "outputs": [],
   "source": [
    "def replace_point(document):\n",
    "    \"\"\"replace the point with the wwt.www with space point before tokenizing the document .\n",
    "    TOdos : this may have a a downside when the point is in the middle of a words\n",
    "    Args:\n",
    "        document (_type_): _description_\n",
    "    \"\"\"\n",
    "    result = re.sub(r\"(\\S)\\.(\\S)\", r\"\\1 . \\2\", document)\n",
    "    return result\n",
    "\n",
    "def replace_website_name(document):\n",
    "    \"\"\"sometimes the doucment has the name politico.cd or 7sur7.cd or actualite.cd, we would like to replace them by the \n",
    "    actual name of the website. before proper cleaning\n",
    "\n",
    "    Args:\n",
    "        document (_type_): _description_\n",
    "    \"\"\"\n",
    "    # @TODO : not sure if this will work but , way better replace by the first line of match.\n",
    "    \n",
    "    result = re.sub(r\"7SUR7.CD|politico.cd|actualite.cd|mediacongo.net\", r\"SITE_WEB\", document, flags=re.IGNORECASE)\n",
    "    return result\n",
    "\n",
    "def remove_accents(document):\n",
    "    input_without_accent = deaccent(document)\n",
    "    return input_without_accent\n",
    "\n",
    "def pre_clean_document(document):\n",
    "    \"\"\"pre clean the document by removing the accents and replacing the point with the wwt.www with space point before tokenizing the document .\n",
    "    TOdos : this may have a a downside when the point is in the middle of a words\n",
    "    and any other side of cleaning that we want to do .\n",
    "    Args:\n",
    "        document (_type_): _description_\n",
    "    \"\"\"\n",
    "    result = remove_accents(document)\n",
    "    result =  replace_website_name(result)\n",
    "    result = replace_point(result)\n",
    "    result = re.sub(r\"This post has already been read \\d+ times!\", \"\", result) # remove unwanted text\n",
    "    result = unicode_normalize(\"NFKD\", result)\n",
    "    return result"
   ]
  },
  {
   "cell_type": "code",
   "execution_count": 14,
   "metadata": {},
   "outputs": [],
   "source": [
    "text_doc = \"\"\"\n",
    "Une motion de defiance a ete deposee au cabinet de la presidente de l'Assemblee provinciale du Maniema contre le vice-gouverneur Jean-Pierre Amadi, le mardi 30 mars dernier.16 parmi les 17 deputes provinciaux presents a Kindu, chef-lieu de la province du Maniema, ont appose leurs signatures sur ladite motion depuis le 27 mars 2021.Selon ce document consulte par 7SUR7.CD, Jean-Pierre Amadi Lubenga est reproche de plusieurs griefs dont le « refus d'obtemperer aux instructions de la hierarchie » pendant qu'il etait gouverneur de province a l'interim et le detournement des deniers publics.\n",
    "comme signale a politico.cd sur notre site POLITICO.CD et puis ensuite sur actualite.cd et sur notre site mediacongo.net\n",
    "\"\"\""
   ]
  },
  {
   "cell_type": "code",
   "execution_count": 15,
   "metadata": {},
   "outputs": [
    {
     "data": {
      "text/plain": [
       "\"\\nUne motion de defiance a ete deposee au cabinet de la presidente de l'Assemblee provinciale du Maniema contre le vice-gouverneur Jean-Pierre Amadi, le mardi 30 mars dernier.16 parmi les 17 deputes provinciaux presents a Kindu, chef-lieu de la province du Maniema, ont appose leurs signatures sur ladite motion depuis le 27 mars 2021.Selon ce document consulte par SITE_WEB, Jean-Pierre Amadi Lubenga est reproche de plusieurs griefs dont le « refus d'obtemperer aux instructions de la hierarchie » pendant qu'il etait gouverneur de province a l'interim et le detournement des deniers publics.\\ncomme signale a SITE_WEB sur notre site SITE_WEB et puis ensuite sur SITE_WEB et sur notre site SITE_WEB\\n\""
      ]
     },
     "execution_count": 15,
     "metadata": {},
     "output_type": "execute_result"
    }
   ],
   "source": [
    "replace_website_name(text_doc)"
   ]
  },
  {
   "cell_type": "code",
   "execution_count": 16,
   "metadata": {},
   "outputs": [
    {
     "name": "stderr",
     "output_type": "stream",
     "text": [
      "  0%|          | 0/998 [00:00<?, ?docs/s]WARNING - haystack.nodes.preprocessor.preprocessor -  One or more sentence found with word count higher than the split length.\n",
      "100%|██████████| 998/998 [00:01<00:00, 729.68docs/s]"
     ]
    },
    {
     "name": "stdout",
     "output_type": "stream",
     "text": [
      "n_files_input: 998\n",
      "n_docs_output: 2160\n"
     ]
    },
    {
     "name": "stderr",
     "output_type": "stream",
     "text": [
      "\n"
     ]
    }
   ],
   "source": [
    "preprocessor = CustomPreProcessor(\n",
    "    clean_empty_lines=True,\n",
    "    clean_whitespace=True,\n",
    "    clean_header_footer=False,\n",
    "    split_by=\"word\",\n",
    "    split_length=200,\n",
    "    split_respect_sentence_boundary=True,\n",
    "    language=\"fr\",\n",
    "    custom_preprocessor=pre_clean_document,\n",
    ")\n",
    "\n",
    "\n",
    "docs = preprocessor.process(all_docs)\n",
    "\n",
    "print(f\"n_files_input: {len(all_docs)}\\nn_docs_output: {len(docs)}\")"
   ]
  },
  {
   "cell_type": "code",
   "execution_count": 17,
   "metadata": {},
   "outputs": [
    {
     "data": {
      "text/plain": [
       "<Document: {'content': 'A l\\'occasion de la ceremonie de remise et reprise avec le ministre sortant Emery Okundi, le nouveau ministre des Postes, Telecommunications et nouvelles technologies de l\\'information et de la communication, a promis de defendre l\\'interet de la Republique tout en rappelant que la Republique passe avant les interets individuels . Augustin Kibassa Maliba a dans la foulee rassure qu\\'il ne cedera pas aux chantages. \"Les chantages ne passeront pas, parce que je sais que la Republique passe avant nos individus ( . ..). Je defendrais avec toutes mes forces l\\'interet de la Republique\", a-t-il martele . Je suis conscient du fait que poursuit-il, sur le plan de la legislation, nous devons fournir enormement ( . ..) et au-dela de ca je sais que la legislation reflechit sur une legislation qui va permettre au pays de s\\'adapter au standard international\" . S\\'agissant de la fibre optique, Augustin Kibassa a souligne sa determination a voir le pays etre relie. Mais d\\'apres lui, le probleme se situe au niveau de la formation des cadres de ce secteur. D\\'ou son engagement a \"s\\'appuyer la-dessus afin de s\\'assurer que tous nous allons dans la meme direction\" .', 'content_type': 'text', 'score': None, 'meta': {'posted_at': '', '_split_id': 0}, 'embedding': None, 'id': 'df5dd7d5546da64dff33cf62e212b547'}>"
      ]
     },
     "execution_count": 17,
     "metadata": {},
     "output_type": "execute_result"
    }
   ],
   "source": [
    "docs[0]"
   ]
  },
  {
   "cell_type": "code",
   "execution_count": 18,
   "metadata": {},
   "outputs": [],
   "source": [
    "from haystack.document_stores import ElasticsearchDocumentStore\n",
    "\n"
   ]
  },
  {
   "cell_type": "code",
   "execution_count": 19,
   "metadata": {},
   "outputs": [
    {
     "name": "stderr",
     "output_type": "stream",
     "text": [
      "/Users/es.py/Projects/Personal/multilingual-drc-news-chatbot/.venv/lib/python3.9/site-packages/elasticsearch/connection/base.py:190: ElasticsearchDeprecationWarning: Elasticsearch built-in security features are not enabled. Without authentication, your cluster could be accessible to anyone. See https://www.elastic.co/guide/en/elasticsearch/reference/7.16/security-minimal-setup.html to enable security.\n",
      "  warnings.warn(message, category=ElasticsearchDeprecationWarning)\n",
      "INFO - haystack.document_stores.elasticsearch -  Index 'drc-news' deleted.\n",
      "INFO - haystack.document_stores.elasticsearch -  Index 'label' deleted.\n"
     ]
    }
   ],
   "source": [
    "document_store = ElasticsearchDocumentStore(index=\"drc-news\", recreate_index=True, analyzer=\"french\")"
   ]
  },
  {
   "cell_type": "code",
   "execution_count": 20,
   "metadata": {},
   "outputs": [],
   "source": [
    "document_store.write_documents(docs)"
   ]
  },
  {
   "cell_type": "markdown",
   "metadata": {},
   "source": [
    "### Retrieval\n",
    "\n",
    "With the document store in place , the document store has all the document in it , let build a retriever model that use BM25 to retrieve the document."
   ]
  },
  {
   "cell_type": "code",
   "execution_count": 21,
   "metadata": {},
   "outputs": [],
   "source": [
    "custom_query_template = \"\"\"\n",
    "{\n",
    "  \"query\": {\n",
    "    \"boosting\": {\n",
    "      \"positive\": {\n",
    "        \"match\": {\n",
    "          \"content\": ${query}\n",
    "        }\n",
    "      },\n",
    "      \"negative\": {\n",
    "        \"match\": {\n",
    "          \"content\": ${name_to_not_match}\n",
    "        }\n",
    "      },\n",
    "      \"negative_boost\": 0.5\n",
    "    }\n",
    "  }\n",
    "}\n",
    "\"\"\""
   ]
  },
  {
   "cell_type": "code",
   "execution_count": null,
   "metadata": {},
   "outputs": [],
   "source": []
  },
  {
   "cell_type": "code",
   "execution_count": 22,
   "metadata": {},
   "outputs": [],
   "source": [
    "from haystack.nodes import BM25Retriever"
   ]
  },
  {
   "cell_type": "code",
   "execution_count": 23,
   "metadata": {},
   "outputs": [],
   "source": [
    "bm25_retriever = BM25Retriever(document_store=document_store, all_terms_must_match=True, custom_query=custom_query_template)\n",
    "bm25_retriever_positive = BM25Retriever(document_store=document_store, all_terms_must_match=True)"
   ]
  },
  {
   "cell_type": "code",
   "execution_count": 24,
   "metadata": {},
   "outputs": [],
   "source": [
    "question = \"le president de la Republique democratique du congo?\"\n",
    "answer = \"Felix Tshisekedi\""
   ]
  },
  {
   "cell_type": "code",
   "execution_count": 25,
   "metadata": {},
   "outputs": [],
   "source": [
    "def get_hard_negative_context(\n",
    "    retriever: BM25Retriever, question: str, answer: str, n_ctxs: int = 10\n",
    "):\n",
    "    \"\"\"\n",
    "    given the question and the answer query the Elastic search document store and return the hard negative context to the question\n",
    "    \"\"\"\n",
    "\n",
    "    documents = bm25_retriever.retrieve(query=question, top_k=10, filters={\"name_to_not_match\": answer})\n",
    "    return documents"
   ]
  },
  {
   "cell_type": "code",
   "execution_count": 26,
   "metadata": {},
   "outputs": [
    {
     "data": {
      "text/plain": [
       "[<Document: {'content': 'A Son Excellence Monsieur le President  de la Republique Democratique du Congo, Joseph KABILA KABANGE\\nLa societe Tenke Fungurume Mining (TFM), sa direction et  tous ses employes presentent, a l’occasion du cinquante-troisieme anniversaire  de l’accession de la Republique Democratique du Congo a la souverainete  nationale et internationale, toutes leurs felicitations ainsi que leurs vœux de  bien-etre et de prosperite au pays et a toute la population congolaise. Tenke Fungurume est fiere de  reiterer son soutien indefectible a la revolution de la modernite, pronee par  le Chef de l’Etat, et sa contribution au developpement economique au travers  des projets dans les domaines des infrastructures, de l’eau, de l’emploi, de l’education,  de la sante et de la protection de l’environnement en RDC. Cette Journee de l’Independence commemore pour la  Republique Democratique du Congo une ere de paix, de prosperite et de reussite  socio-economique. Bonne et heureuse fete de l’Independance ! Signe par\\nLa Direction de TFM', 'content_type': 'text', 'score': 0.7371121187632098, 'meta': {'posted_at': '2013-06-30 00:00:00', '_split_id': 0}, 'embedding': None, 'id': 'efd3fd39eff0e57b00dec4f92c47d400'}>,\n",
       " <Document: {'content': \"A l'attention : du President de l’Assemblee Nationale et au President du Senat de la republique democratique du CongoHonorables, Messieurs,Par cette petition, nous demandons la modification de l’article 10 de la constitution de la republique democratique du Congo, pour y introduire le principe de l’irrevocabilite de la nationalite congolaise d’origine . En Effet, l’article 10 de la Constitution de la republique democratique du Congo actuel dit ceci :« Article 10 : La nationalite congolaise est une et exclusive. Elle ne peut etre detenue concurremment avec aucune autre. .. »CHANGEONS donc cette phrase qui ne correspond plus a la realite des congolais du 21eme siecle . Par consequent, nous proposons que l’article 10 soit ainsi modifie :« La nationalite congolaise d’origine est irrevocable »Beaucoup de pays a travers le monde appliquent deja ce principe . Nous desirons que tout congolais ou congolaise puisse garder sa nationalite congolaise d’origine, meme si il ou elle acquiert une autre nationalite supplementaire. Nous voulons que la nationalite congolaise puisse etre detenue concurremment avec d’autres .\", 'content_type': 'text', 'score': 0.7368820882059218, 'meta': {'posted_at': '', '_split_id': 0}, 'embedding': None, 'id': '18215bc1b1dfa00a5969ff6fee2da0b0'}>,\n",
       " <Document: {'content': 'La Mission de l’Organisation des Nations Unies pour la stabilisation en Republique democratique du Congo (MONUSCO) condamne l’arrestation de nombreux militants de partis politiques membres du Rassemblement par les forces securite,  hier a Lubumbashi, dans la province du Haut-Katanga . Les membres du Rassemblement participaient a une reunion privee au siege de l’Union pour la democratie et le progres social (UDPS). Trois vehicules de la Police nationale congolaise (PNC) sont arrives sur les lieux pour les encercler avant de faire appel a une unite commando des Forces armees de la Republique democratique du Congo (FARDC) pour forcer l’entree du lieu de reunion dans lequel les militants s’etaient barricades. Les forces de defense et de securite ont alors arrete de nombreux militants . «  », a declare Maman Sidikou, Representant special du Secretaire general des Nations Unies en Republique democratique du Congo et chef de la MONUSCO. « » . Elle deplore, en outre, les restrictions a la liberte de mouvement imposees a Kyungu wa Kamwanza, president national du parti politique d’opposition Union nationale des federalistes du Congo (UNAFEC) et assigne de fait a residence depuis plusieurs mois . « ».', 'content_type': 'text', 'score': 0.7345780882335274, 'meta': {'posted_at': '2017-10-23 11:22:34', '_split_id': 0}, 'embedding': None, 'id': 'cbcb162dab7c7a7a0ae7329ca8dfb477'}>,\n",
       " <Document: {'content': '\" C\\'etait la premiere fois. J\\'etais honore d\\'avoir eu cette audience avec le Premier Ministre Sama Lukonde depuis la prise des fonctions du nouveau Gouvernement en RDC. Le Premier Ministre Jean-Michel Sama Lukonde s\\'est deja rendu au Japon avec le President de la Republique, en 2019, alors qu\\'il etait encore Directeur general de la Gecamines. J\\'ai bien compris qu\\'il est un fin connaisseur du Japon. Il connait tres bien la culture du Japon. Et maintenant qu\\'il est le Premier Ministre de la Republique democratique du Congo, je suis content de faire sa connaissance\", s\\'est-il rejoui . \" Du fond de mon cœur, un lien qui existe entre nos deux pays, un lien tres fort entre le Japon et la Republique democratique du Congo. Je voudrais rappeler un peu l\\'histoire entre le Japon et la Republique democratique du Congo, surtout dans le domaine de la cooperation economique. Mais aussi notre lien avec la famille imperiale du Japon, a l\\'epoque, entre 1983 et 1984. A l\\'epoque, il etait le Prince heritier du Japon et aujourd\\'hui, empereur emerite, qui a visite la RDC\", a rappele Tetsuro Yano.', 'content_type': 'text', 'score': 0.7330172381673178, 'meta': {'posted_at': '', '_split_id': 0}, 'embedding': None, 'id': 'fc05b1bf2a8b54e93083703183f614b7'}>,\n",
       " <Document: {'content': 'Par contre,  l’Asadho pense que ‘‘le dialogue ne peut etre une solution magique a la conjoncture politique actuelle que  s’il s’inscrit dans le cadre des previsions constitutionnelles tant en ce qui concerne l’organisation de l’election presidentielle dans le delai constitutionnel que pour le respect de la duree du mandat du president de la Republique’’. L’organisation estime que le president Joseph Kabila doit jouer le role d’arbitre impartial de la vie politique en ce moment et surtout lors de prochaines elections, en prenant des meilleures decisions dans l’interet de la population. Face a tout ce qui precede, il se degage que vous etes le personnage clef pour decider de ce que notre pays deviendra demain, insiste le patron de l’Asadho avant de l’interpeller que votre responsabilite dans la consolidation de la paix,  de la stabilite et de la democratie  en Republique Democratique du Congo est plus grande que celle de tout autre congolais en ce moment particulierement difficile.', 'content_type': 'text', 'score': 0.7158068107648803, 'meta': {'posted_at': '', '_split_id': 1}, 'embedding': None, 'id': 'c5918419bc5a9b4f627c6db2cdbb0ed9'}>,\n",
       " <Document: {'content': 'Et comme je ne cesse de le repeter, en effet, aucun developpement ne peut se concevoir, de nos jours, sans un acces a souhait a l’energie . L’energie et l’eau demeurent des secteurs vitaux et prioritaires de la vision de son Excellence Monsieur le President de le Republique et du Programme duGouvernement de la Republique Democratique du Congo. Et cela, il ne faudra jamais le perdre de vue . Je souhaite ainsi plein succes a l’autorite de Regulation du secteur de l’Electricite et a l’Agence Nationale de l’Electrification et des ServicesEnergetiques en milieux urbain et periurbain. Je vous remercie . Kinshasa, le 11 aout 2020Eustache Muhanzi Mubembe', 'content_type': 'text', 'score': 0.7103184732656335, 'meta': {'posted_at': '', '_split_id': 6}, 'embedding': None, 'id': '8e426fca1aa1bdf6e59098024e4886e5'}>,\n",
       " <Document: {'content': \"800, et a se procurer en priorite jusqu'a hauteur de 30% de l'energie des phases suivantes. La Republique Democratique du Congo, quant a elle, s'engage a prelever 2 . 300 MW sur la premiere phase du projet, et jusqu'a 70% de l'energie des phases suivantes et ceux des autre pays . La Republique d'Afrique du Sud, tout comme la Republique Democratique du Congo, pourra prendre une participation de 10 a 15% dans le capital de la societe appelee a developper le projet Grand Inga.\", 'content_type': 'text', 'score': 0.7100577315665286, 'meta': {'posted_at': '', '_split_id': 3}, 'embedding': None, 'id': '93cd592fedeb45d2708e88b81bcb7f83'}>,\n",
       " <Document: {'content': \"Vous avez annonce votre depart. Quelle est la suite que vous envisagez pour votre carriere politique ? Je veux prendre un petit temps de repos. Je veux faire un safari, le tour du Congo. Pour moi, ca serait quelque chose de bien. Je prends un petit repos, le temps de reflechir. Mais je continuerai a servir cette population. Ce n’est pas parce que je quitte la politique que je vais oublier cette population. Cette population m’a beaucoup soutenu. Et aujourd’hui, si le Katanga est une province pilote de la Republique democratique du Congo, ce n’est pas grace a Moise Katumbi, c’est grace a la population katangaise. Ce tour du Congo dont vous parlez, ca pourrait etre une possible campagne ? Non, pas du tout. Le president de la Republique a encore un mandat. Dans le temps, quand je faisais le tour du Congo, pourquoi on ne me soupconnait pas de faire une campagne presidentielle ? Je ferai le tour du Congo, des infrastructures realisees dans notre pays. La beaute de notre pays, ce n’est pas en restant chez moi a la maison que je peux la voir. Cette pause, vous l’envisagez jusqu'a quand ?\", 'content_type': 'text', 'score': 0.708575969878349, 'meta': {'posted_at': '', '_split_id': 3}, 'embedding': None, 'id': 'ef9aa1e1a9e89239215c60887ddb982d'}>,\n",
       " <Document: {'content': 'Le dauphin. Jamais un cetace n’a ete a la fois symbolique et si celebre en Republique democratique du Congo. Tant, apres 17 ans au pouvoir, Joseph Kabila — qui a longuement tenu son public en haleine, s’offrant strategies et pirouettes pour faire etendre la fin constitutionnelle de son mandat — etait au pied du mur. Pour une fois, il n’etait alors plus question de se voiler la face. La pression, dans les rues certes calmes mais imprevisibles, etait a son comble. A l’international, du cote des Etats-Unis ou celui de la France, les marges du president congolais etaient aussi minces que celles d’un certain Marechal Mobutu Sese Seko dans les derniers jours de son regne royal . Arrive enfin la semaine du 8 aout, tout un pays encrasse aux nouvelles. Va-t-il ou non oser? Car si le President jure, dans sa derniere intervention devant la nation le 19 juillet, qu’il respectera bel et bien la Constitution, dans ce Congo habitue aux surprises, on sait tout aussi qu’une promesse aussi ambigue n’en vaut pas detour. Car entre-temps, les signaux inquietent. Dans cette Republique qui doit etre democratique, c’est bel et bien un Joseph Kabila qui regne seul en maitre.', 'content_type': 'text', 'score': 0.7080141914122347, 'meta': {'posted_at': '2018-08-13 08:12:57', '_split_id': 0}, 'embedding': None, 'id': '6aec063b6b415a759310aa074e5bd02a'}>,\n",
       " <Document: {'content': 'D’autres resultats attendus de ces assises, sont de determiner le role des parlementaires en Afrique dans l’attenuation et la prevention di terrorisme, de parler de l’assistance technique et en termes de renforcement des capacites dont ont besoin les parlementaires africains et, in fine, de parler de la necessite de creer un reseau des parlementaires africains specialises sur des questions de terrorisme. Orly-Darel NgiambukuluCOMMUNICATION DE L’HONORABLE PRESIDENT DU SENAT DE LA REPUBLIQUE DEMOCRATIQUE DU CONGO A LA CONFERENCE PARLEMENTAIRE DE HAUT NIVEAU SUR LE THEME « Comprendre la menace terroriste en Afrique : nouveaux defis et mesures necessaires », Doha, Etat du Qatar, du 30 au 31 mars 2022 . Permettez-moi de remercier, au nom de la Republique Democratique du Congo, le peuple de l’Etat du Qatar a travers son Gouvernement pour l’accueil combien chaleureux qu’il a reserve a moi-meme et a ma delegation. Je voudrais aussi, par la meme occasion, feliciter le Bureau des Nations Unies contre le terrorisme, le Conseil de la Choura de l’Etat du Qatar et l’Union parlementaire africaine pour l’excellente organisation des travaux de la Conference parlementaire de haut niveau sur la menace du terrorisme en Afrique .', 'content_type': 'text', 'score': 0.7052793069902431, 'meta': {'posted_at': '2022-01-04 00:00:00', '_split_id': 4}, 'embedding': None, 'id': 'f20c8f86d8745b6c54b65b890cbd6af6'}>]"
      ]
     },
     "execution_count": 26,
     "metadata": {},
     "output_type": "execute_result"
    }
   ],
   "source": [
    "get_hard_negative_context(bm25_retriever, question, answer)"
   ]
  },
  {
   "cell_type": "code",
   "execution_count": null,
   "metadata": {},
   "outputs": [],
   "source": []
  },
  {
   "cell_type": "markdown",
   "metadata": {},
   "source": [
    "Next is to build the dense passage retrieval dataset , for each sentence we will find the name entities and mask them and query the database to find hard negative."
   ]
  },
  {
   "cell_type": "markdown",
   "metadata": {},
   "source": [
    "### Building the Reader Dataset\n",
    "\n",
    "Adding the documents to the retriever store , the next step will be to build the dense passage retrieval dataset.\n",
    "\n",
    "We will consider each paragraph as the answer, and we will generate differents question in the paragraph by masking the name entities which yield to a better score.\n",
    "\n",
    "Once we have a question and the paragraph answer , we will retrieve the negative context with the code we wrote above."
   ]
  },
  {
   "cell_type": "markdown",
   "metadata": {},
   "source": [
    "#### NER on the Text"
   ]
  },
  {
   "cell_type": "code",
   "execution_count": 27,
   "metadata": {},
   "outputs": [],
   "source": [
    "from transformers import AutoTokenizer, AutoModelForTokenClassification\n",
    "\n",
    "\n",
    "# this model is good but it is not classifiying roles exactly., we need to improve that. confusing ministre and ministere\n",
    "tokenizer = AutoTokenizer.from_pretrained(\"Jean-Baptiste/camembert-ner-with-dates\")\n",
    "model = AutoModelForTokenClassification.from_pretrained(\"Jean-Baptiste/camembert-ner-with-dates\")"
   ]
  },
  {
   "cell_type": "code",
   "execution_count": 28,
   "metadata": {},
   "outputs": [],
   "source": [
    "from transformers import pipeline"
   ]
  },
  {
   "cell_type": "code",
   "execution_count": 29,
   "metadata": {},
   "outputs": [],
   "source": [
    "transformer_ner_pipeline = pipeline('ner', model=model, tokenizer=tokenizer, aggregation_strategy=\"simple\")"
   ]
  },
  {
   "cell_type": "code",
   "execution_count": 30,
   "metadata": {},
   "outputs": [],
   "source": [
    "from tqdm import tqdm\n",
    "import json"
   ]
  },
  {
   "cell_type": "code",
   "execution_count": 31,
   "metadata": {},
   "outputs": [],
   "source": [
    "import spacy\n",
    "\n",
    "spacy_pipeline = spacy.load(\"fr_dep_news_trf\")\n",
    "\n"
   ]
  },
  {
   "cell_type": "code",
   "execution_count": 32,
   "metadata": {},
   "outputs": [],
   "source": [
    "\n",
    "random_id = np.random.randint(0, len(docs))\n",
    "sample_document = docs[random_id]"
   ]
  },
  {
   "cell_type": "code",
   "execution_count": 33,
   "metadata": {},
   "outputs": [
    {
     "data": {
      "text/plain": [
       "<Document: {'content': 'A cet effet, il visera a encourager les efforts continentaux et mondiaux pour renforcer la cooperation et l’integration regionales en tant que catalyseur pour la realisation des projets d’hydroelectricite renouvelable et des investissements, de l’innovation et de la mise en œuvre de l’efficacite energetique sur le continent . En effet, une cooperation regionale ciblee peut relever certains des defis et des obstacles a l’exploitation durable des marches de l’energie et des technologies climatiques, en creant les economies d’echelle necessaires et en permettant des progres plus equilibres avec des effets d’entrainement entre les pays. Ayant reconnu l’importance des economies d’echelle dans la production ancree sur des marches bien etablis, les gouvernements africains ont charge l’AUDA-NEPAD, la CUA, la Banque Africaine de Developpement (BAD), la Commission Economique pour l’Afrique (CEA) et les partenaires au developpement d’elaborer conjointement un schema directeur des systemes electriques continentaux, qui aboutira a la creation d’un marche de l’electricite a l’echelle continentale. Un tel marche africain ameliorera davantage la viabilite financiere du projet Grand Inga .', 'content_type': 'text', 'score': None, 'meta': {'posted_at': '', '_split_id': 5}, 'embedding': None, 'id': '231774c182ddebf6ae5638bb17c1987b'}>"
      ]
     },
     "execution_count": 33,
     "metadata": {},
     "output_type": "execute_result"
    }
   ],
   "source": [
    "sample_document"
   ]
  },
  {
   "cell_type": "code",
   "execution_count": 45,
   "metadata": {},
   "outputs": [],
   "source": [
    "from src.data.corpus_builder_utils import DocumentContext, AllCorpusBuilder, Sentence"
   ]
  },
  {
   "cell_type": "code",
   "execution_count": 39,
   "metadata": {},
   "outputs": [
    {
     "name": "stderr",
     "output_type": "stream",
     "text": [
      "/Users/es.py/Projects/Personal/multilingual-drc-news-chatbot/.venv/lib/python3.9/site-packages/torch/autocast_mode.py:162: UserWarning: User provided device_type of 'cuda', but CUDA is not available. Disabling\n",
      "  warnings.warn('User provided device_type of \\'cuda\\', but CUDA is not available. Disabling')\n"
     ]
    }
   ],
   "source": [
    "sample_document_context = DocumentContext(sample_document.content, \n",
    "                                          spacy_pipeline=spacy_pipeline,\n",
    "                                          ner_pipeline=transformer_ner_pipeline,\n",
    "                                          bm25_retriever_positive=bm25_retriever_positive,)"
   ]
  },
  {
   "cell_type": "code",
   "execution_count": 40,
   "metadata": {},
   "outputs": [],
   "source": [
    "sample_document_context.generate_sentences()"
   ]
  },
  {
   "cell_type": "code",
   "execution_count": 41,
   "metadata": {},
   "outputs": [],
   "source": [
    "BASE_QA_PATH = DATA_PATH.joinpath(\"processed\", \"DRC-News-UQA\")\n",
    "assert BASE_QA_PATH.exists()"
   ]
  },
  {
   "cell_type": "code",
   "execution_count": 46,
   "metadata": {},
   "outputs": [],
   "source": [
    "corpus_builder = AllCorpusBuilder(\n",
    "    ner_pipeline=spacy_pipeline,\n",
    "    transformer_pipeline=transformer_ner_pipeline,\n",
    "    retriever=bm25_retriever_positive,\n",
    "    all_docs=all_docs[0:5],\n",
    "    base_folder=BASE_QA_PATH,\n",
    ")"
   ]
  },
  {
   "cell_type": "code",
   "execution_count": 47,
   "metadata": {},
   "outputs": [
    {
     "name": "stderr",
     "output_type": "stream",
     "text": [
      "generating dataset:   0%|          | 0/5 [00:00<?, ?it/s]/Users/es.py/Projects/Personal/multilingual-drc-news-chatbot/.venv/lib/python3.9/site-packages/elasticsearch/connection/base.py:190: ElasticsearchDeprecationWarning: Elasticsearch built-in security features are not enabled. Without authentication, your cluster could be accessible to anyone. See https://www.elastic.co/guide/en/elasticsearch/reference/7.16/security-minimal-setup.html to enable security.\n",
      "  warnings.warn(message, category=ElasticsearchDeprecationWarning)\n",
      "generating dataset: 100%|██████████| 5/5 [00:17<00:00,  3.53s/it]\n"
     ]
    }
   ],
   "source": [
    "corpus_builder.build_corpus()"
   ]
  },
  {
   "cell_type": "code",
   "execution_count": null,
   "metadata": {},
   "outputs": [],
   "source": []
  },
  {
   "cell_type": "markdown",
   "metadata": {},
   "source": [
    "We all the utilities function we can go 2 ways from this: \n",
    "- train a dense passage retriever\n",
    "- train a reader , leveraging our BM25 model and using the paper from the [span selection pretraining.](https://github.com/IBM/span-selection-pretraining/blob/master/sspt/sspt_gen_async.py)"
   ]
  },
  {
   "cell_type": "markdown",
   "metadata": {},
   "source": []
  },
  {
   "cell_type": "markdown",
   "metadata": {},
   "source": [
    "#### Implementation of the Training\n",
    "\n",
    "Retriever details \n",
    "\n",
    "For the retriever we will use the BM25 to retrieve for each question the positive context and the negative context.\n",
    "\n",
    "The postive context are the paragraphs where the asnwer is located and the hard negative context are the context that does not contain the answer.\n",
    "\n",
    "We will use only positive answer to train our model, for the dense passage retrieval fine tunning we will use the positive and negative context."
   ]
  },
  {
   "cell_type": "code",
   "execution_count": null,
   "metadata": {},
   "outputs": [],
   "source": []
  },
  {
   "cell_type": "code",
   "execution_count": null,
   "metadata": {},
   "outputs": [],
   "source": []
  }
 ],
 "metadata": {
  "interpreter": {
   "hash": "5c2668786ae4e4c4fbfa9e5bd2c1f84381eb94ad61006e099ebff41408861387"
  },
  "kernelspec": {
   "display_name": "Python 3.9.7 ('.venv': poetry)",
   "language": "python",
   "name": "python3"
  },
  "language_info": {
   "codemirror_mode": {
    "name": "ipython",
    "version": 3
   },
   "file_extension": ".py",
   "mimetype": "text/x-python",
   "name": "python",
   "nbconvert_exporter": "python",
   "pygments_lexer": "ipython3",
   "version": "3.9.7"
  },
  "orig_nbformat": 4
 },
 "nbformat": 4,
 "nbformat_minor": 2
}
