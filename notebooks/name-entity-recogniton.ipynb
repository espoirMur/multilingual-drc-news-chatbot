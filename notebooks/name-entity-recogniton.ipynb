{
 "cells": [
  {
   "cell_type": "code",
   "execution_count": 1,
   "metadata": {},
   "outputs": [],
   "source": [
    "from config import DATABASE_URL\n",
    "from src.utils.database_connection_utils import get_database_session"
   ]
  },
  {
   "cell_type": "code",
   "execution_count": 2,
   "metadata": {},
   "outputs": [],
   "source": [
    "session, engine = get_database_session(DATABASE_URL)\n"
   ]
  },
  {
   "cell_type": "code",
   "execution_count": 3,
   "metadata": {},
   "outputs": [],
   "source": [
    "sql_query = \"select * from article\""
   ]
  },
  {
   "cell_type": "code",
   "execution_count": 4,
   "metadata": {},
   "outputs": [],
   "source": [
    "import pandas as pd\n",
    "import numpy as np"
   ]
  },
  {
   "cell_type": "code",
   "execution_count": 5,
   "metadata": {},
   "outputs": [],
   "source": [
    "data = None\n",
    "with engine.connect() as connection:\n",
    "    data = pd.read_sql_query(sql=sql_query, con=connection)"
   ]
  },
  {
   "cell_type": "code",
   "execution_count": 6,
   "metadata": {},
   "outputs": [
    {
     "data": {
      "text/plain": [
       "(11218, 9)"
      ]
     },
     "execution_count": 6,
     "metadata": {},
     "output_type": "execute_result"
    }
   ],
   "source": [
    "data.shape"
   ]
  },
  {
   "cell_type": "code",
   "execution_count": 7,
   "metadata": {},
   "outputs": [
    {
     "data": {
      "text/plain": [
       "array(['https://forumdesas.net/', 'https://www.7sur7.cd',\n",
       "       'https://www.politico.cd', 'https://www.actualite.cd',\n",
       "       'https://www.mediacongo.net'], dtype=object)"
      ]
     },
     "execution_count": 7,
     "metadata": {},
     "output_type": "execute_result"
    }
   ],
   "source": [
    "data.website_origin.unique()"
   ]
  },
  {
   "cell_type": "code",
   "execution_count": 8,
   "metadata": {},
   "outputs": [
    {
     "data": {
      "text/html": [
       "<div>\n",
       "<style scoped>\n",
       "    .dataframe tbody tr th:only-of-type {\n",
       "        vertical-align: middle;\n",
       "    }\n",
       "\n",
       "    .dataframe tbody tr th {\n",
       "        vertical-align: top;\n",
       "    }\n",
       "\n",
       "    .dataframe thead th {\n",
       "        text-align: right;\n",
       "    }\n",
       "</style>\n",
       "<table border=\"1\" class=\"dataframe\">\n",
       "  <thead>\n",
       "    <tr style=\"text-align: right;\">\n",
       "      <th></th>\n",
       "      <th>id</th>\n",
       "      <th>title</th>\n",
       "      <th>content</th>\n",
       "      <th>summary</th>\n",
       "      <th>posted_at</th>\n",
       "      <th>website_origin</th>\n",
       "      <th>url</th>\n",
       "      <th>author</th>\n",
       "      <th>saved_at</th>\n",
       "    </tr>\n",
       "  </thead>\n",
       "  <tbody>\n",
       "    <tr>\n",
       "      <th>0</th>\n",
       "      <td>1</td>\n",
       "      <td>La Commission tarifaire propose des mesures d’...</td>\n",
       "      <td>Les membres de la Commission tarifaire viennen...</td>\n",
       "      <td>None</td>\n",
       "      <td>2022-09-05</td>\n",
       "      <td>https://forumdesas.net/</td>\n",
       "      <td>https://www.forumdesas.net/2022/05/la-commissi...</td>\n",
       "      <td>Kléber KUNGU</td>\n",
       "      <td>2022-05-12 16:53:56.464801+00:00</td>\n",
       "    </tr>\n",
       "    <tr>\n",
       "      <th>1</th>\n",
       "      <td>2</td>\n",
       "      <td>La Commission tarifaire pour la mise en oeuvre...</td>\n",
       "      <td>Les membres de la Commission tarifaire so...</td>\n",
       "      <td>None</td>\n",
       "      <td>2022-04-05</td>\n",
       "      <td>https://forumdesas.net/</td>\n",
       "      <td>https://www.forumdesas.net/2022/05/la-commissi...</td>\n",
       "      <td>Kléber KUNGU</td>\n",
       "      <td>2022-05-12 16:53:56.505433+00:00</td>\n",
       "    </tr>\n",
       "    <tr>\n",
       "      <th>2</th>\n",
       "      <td>3</td>\n",
       "      <td>Lancement du 1er Laboratoire de recherche et d...</td>\n",
       "      <td>Vodacom Congo vient de signer un partenariat a...</td>\n",
       "      <td>None</td>\n",
       "      <td>2022-04-23</td>\n",
       "      <td>https://forumdesas.net/</td>\n",
       "      <td>https://www.forumdesas.net/2022/04/lancement-d...</td>\n",
       "      <td>None</td>\n",
       "      <td>2022-05-12 16:53:56.548859+00:00</td>\n",
       "    </tr>\n",
       "    <tr>\n",
       "      <th>3</th>\n",
       "      <td>4</td>\n",
       "      <td>Léopards : Hectór Cúper ce mardi à Kinshasa</td>\n",
       "      <td>Le sélectionneur des Léopards de la RDC, Hectó...</td>\n",
       "      <td>None</td>\n",
       "      <td>2022-03-05</td>\n",
       "      <td>https://forumdesas.net/</td>\n",
       "      <td>https://www.forumdesas.net/2022/05/leopards-he...</td>\n",
       "      <td>Gloire BATOMENE</td>\n",
       "      <td>2022-05-12 16:53:56.561548+00:00</td>\n",
       "    </tr>\n",
       "    <tr>\n",
       "      <th>4</th>\n",
       "      <td>5</td>\n",
       "      <td>» Air Congo  » en voie d’être créée pour s’en...</td>\n",
       "      <td>Le protocole d’accord était déjà signé entre l...</td>\n",
       "      <td>None</td>\n",
       "      <td>2022-11-05</td>\n",
       "      <td>https://forumdesas.net/</td>\n",
       "      <td>https://www.forumdesas.net/2022/05/air-congo-e...</td>\n",
       "      <td>KANDOLO M.</td>\n",
       "      <td>2022-05-12 16:53:56.682724+00:00</td>\n",
       "    </tr>\n",
       "  </tbody>\n",
       "</table>\n",
       "</div>"
      ],
      "text/plain": [
       "   id                                              title  \\\n",
       "0   1  La Commission tarifaire propose des mesures d’...   \n",
       "1   2  La Commission tarifaire pour la mise en oeuvre...   \n",
       "2   3  Lancement du 1er Laboratoire de recherche et d...   \n",
       "3   4        Léopards : Hectór Cúper ce mardi à Kinshasa   \n",
       "4   5   » Air Congo  » en voie d’être créée pour s’en...   \n",
       "\n",
       "                                             content summary  posted_at  \\\n",
       "0  Les membres de la Commission tarifaire viennen...    None 2022-09-05   \n",
       "1       Les membres de la Commission tarifaire so...    None 2022-04-05   \n",
       "2  Vodacom Congo vient de signer un partenariat a...    None 2022-04-23   \n",
       "3  Le sélectionneur des Léopards de la RDC, Hectó...    None 2022-03-05   \n",
       "4  Le protocole d’accord était déjà signé entre l...    None 2022-11-05   \n",
       "\n",
       "            website_origin                                                url  \\\n",
       "0  https://forumdesas.net/  https://www.forumdesas.net/2022/05/la-commissi...   \n",
       "1  https://forumdesas.net/  https://www.forumdesas.net/2022/05/la-commissi...   \n",
       "2  https://forumdesas.net/  https://www.forumdesas.net/2022/04/lancement-d...   \n",
       "3  https://forumdesas.net/  https://www.forumdesas.net/2022/05/leopards-he...   \n",
       "4  https://forumdesas.net/  https://www.forumdesas.net/2022/05/air-congo-e...   \n",
       "\n",
       "            author                         saved_at  \n",
       "0     Kléber KUNGU 2022-05-12 16:53:56.464801+00:00  \n",
       "1     Kléber KUNGU 2022-05-12 16:53:56.505433+00:00  \n",
       "2             None 2022-05-12 16:53:56.548859+00:00  \n",
       "3  Gloire BATOMENE 2022-05-12 16:53:56.561548+00:00  \n",
       "4       KANDOLO M. 2022-05-12 16:53:56.682724+00:00  "
      ]
     },
     "execution_count": 8,
     "metadata": {},
     "output_type": "execute_result"
    }
   ],
   "source": [
    "data.head()"
   ]
  },
  {
   "cell_type": "code",
   "execution_count": 9,
   "metadata": {},
   "outputs": [
    {
     "data": {
      "text/plain": [
       "\"L'État-major, commandement du 3310ième régiment des Forces Armées de la République Démocratique du Congo a, dans un communiqué officiel parvenu à 7SUR7.CD ce vendredi 15 mai 2020, annoncé l'identification des militaires et des officiers gradés qui sont basés dans differents quartiers de la ville commerciale de Butembo (Nord-Kivu).L'armée congolaise demande aux habitants de Butembo de fournir, dans leur environnement immédiat, l'adresse de « tout militaire et officier gradé » résidant à la cité en vue d'une identification par les services spécialisés.« Il est demandé aux chefs des cellules, chefs de quartiers et à la société civile des communes, de bien vouloir recueillir toutes ces informations et de nous les faire parvenir par le canal des bourgmestres des communes pour la centralisation », écrit le lieutenant colonel Ombeni Murengisi, commandant des FARDC-Butembo.Il sied de préciser par ailleurs que plusieurs positions militaires sont déjà installées dans différents quartiers périphériques de Butembo. Ce, en vue de faire face à l'insécurité (phénomène Kasuku, Ndlr) dans la région.\""
      ]
     },
     "execution_count": 9,
     "metadata": {},
     "output_type": "execute_result"
    }
   ],
   "source": [
    "random_index = np.random.randint(0, data.shape[0])\n",
    "sample_doc = data.content[random_index]\n",
    "sample_doc"
   ]
  },
  {
   "cell_type": "markdown",
   "metadata": {},
   "source": [
    "How should I split the text , should I use the sentence or the word level to detect names in this entities?\n",
    "\n",
    "I will try sentence and see how the french NER model from spacy will perform and then I will try more complicated approaches.\n",
    "\n",
    "By the end of this work we should have a pipeline that takes the text and mask the name entities."
   ]
  },
  {
   "cell_type": "markdown",
   "metadata": {},
   "source": []
  },
  {
   "cell_type": "code",
   "execution_count": 31,
   "metadata": {},
   "outputs": [],
   "source": [
    "import re\n",
    "from nltk.tokenize import sent_tokenize\n",
    "from unicodedata import normalize"
   ]
  },
  {
   "cell_type": "code",
   "execution_count": 56,
   "metadata": {},
   "outputs": [],
   "source": [
    "def remove_accents(input_str):\n",
    "    nfkd_form = normalize('NFKD', input_str)\n",
    "    only_ascii = nfkd_form.encode('ASCII', 'ignore').decode(\"utf-8\")\n",
    "    return only_ascii\n",
    "\n",
    "def remplace_apostrophes(input_str):\n",
    "    apostrophes = r\"[\\']\"\n",
    "    text = re.compile(input_str).sub(\"\", text) # remove apostrophes\n",
    "\n",
    "def clean_text(text):\n",
    "    cleaned_text = remove_accents(text)\n",
    "    return str(cleaned_text)"
   ]
  },
  {
   "cell_type": "code",
   "execution_count": 37,
   "metadata": {},
   "outputs": [
    {
     "data": {
      "text/plain": [
       "'Etat-major, commandement du 3310ieme regiment des Forces Armees de la Republique Democratique du Congo a, dans un communique officiel parvenu a 7SUR7.CD ce vendredi 15 mai 2020, annonce identification des militaires et des officiers grades qui sont bases dans differents quartiers de la ville commerciale de Butembo (Nord-Kivu).armee congolaise demande aux habitants de Butembo de fournir, dans leur environnement immediat, adresse de  tout militaire et officier grade  residant a la cite en vue une identification par les services specialises. Il est demande aux chefs des cellules, chefs de quartiers et a la societe civile des communes, de bien vouloir recueillir toutes ces informations et de nous les faire parvenir par le canal des bourgmestres des communes pour la centralisation , ecrit le lieutenant colonel Ombeni Murengisi, commandant des FARDC-Butembo.Il sied de preciser par ailleurs que plusieurs positions militaires sont deja installees dans differents quartiers peripheriques de Butembo. Ce, en vue de faire face a insecurite (phenomene Kasuku, Ndlr) dans la region.'"
      ]
     },
     "execution_count": 37,
     "metadata": {},
     "output_type": "execute_result"
    }
   ],
   "source": [
    "clean_text(sample_doc)"
   ]
  },
  {
   "cell_type": "code",
   "execution_count": 38,
   "metadata": {},
   "outputs": [],
   "source": [
    "tokenized_document = sent_tokenize(clean_text(sample_doc), language=\"french\")"
   ]
  },
  {
   "cell_type": "code",
   "execution_count": 39,
   "metadata": {},
   "outputs": [
    {
     "data": {
      "text/plain": [
       "['Etat-major, commandement du 3310ieme regiment des Forces Armees de la Republique Democratique du Congo a, dans un communique officiel parvenu a 7SUR7.CD ce vendredi 15 mai 2020, annonce identification des militaires et des officiers grades qui sont bases dans differents quartiers de la ville commerciale de Butembo (Nord-Kivu).armee congolaise demande aux habitants de Butembo de fournir, dans leur environnement immediat, adresse de  tout militaire et officier grade  residant a la cite en vue une identification par les services specialises.',\n",
       " 'Il est demande aux chefs des cellules, chefs de quartiers et a la societe civile des communes, de bien vouloir recueillir toutes ces informations et de nous les faire parvenir par le canal des bourgmestres des communes pour la centralisation , ecrit le lieutenant colonel Ombeni Murengisi, commandant des FARDC-Butembo.Il sied de preciser par ailleurs que plusieurs positions militaires sont deja installees dans differents quartiers peripheriques de Butembo.',\n",
       " 'Ce, en vue de faire face a insecurite (phenomene Kasuku, Ndlr) dans la region.']"
      ]
     },
     "execution_count": 39,
     "metadata": {},
     "output_type": "execute_result"
    }
   ],
   "source": [
    "tokenized_document"
   ]
  },
  {
   "cell_type": "markdown",
   "metadata": {},
   "source": []
  },
  {
   "cell_type": "code",
   "execution_count": 40,
   "metadata": {},
   "outputs": [],
   "source": [
    "\n",
    "import spacy"
   ]
  },
  {
   "cell_type": "code",
   "execution_count": 41,
   "metadata": {},
   "outputs": [],
   "source": [
    "nlp = spacy.load(\"fr_core_news_sm\")"
   ]
  },
  {
   "cell_type": "code",
   "execution_count": 42,
   "metadata": {},
   "outputs": [],
   "source": [
    "from spacy import displacy"
   ]
  },
  {
   "cell_type": "code",
   "execution_count": 43,
   "metadata": {},
   "outputs": [],
   "source": [
    "processed_sentence = nlp(tokenized_document[2])\n",
    "processed_document = nlp(clean_text(sample_doc))"
   ]
  },
  {
   "cell_type": "code",
   "execution_count": 44,
   "metadata": {},
   "outputs": [
    {
     "name": "stdout",
     "output_type": "stream",
     "text": [
      "['tok2vec', 'morphologizer', 'parser', 'attribute_ruler', 'lemmatizer', 'ner']\n"
     ]
    }
   ],
   "source": [
    "print(nlp.pipe_names)"
   ]
  },
  {
   "cell_type": "code",
   "execution_count": 45,
   "metadata": {},
   "outputs": [
    {
     "data": {
      "text/plain": [
       "'Etat-major, commandement du 3310ieme regiment des Forces Armees de la Republique Democratique du Congo a, dans un communique officiel parvenu a 7SUR7.CD ce vendredi 15 mai 2020, annonce identification des militaires et des officiers grades qui sont bases dans differents quartiers de la ville commerciale de Butembo (Nord-Kivu).armee congolaise demande aux habitants de Butembo de fournir, dans leur environnement immediat, adresse de  tout militaire et officier grade  residant a la cite en vue une identification par les services specialises.'"
      ]
     },
     "execution_count": 45,
     "metadata": {},
     "output_type": "execute_result"
    }
   ],
   "source": [
    "tokenized_document[0]"
   ]
  },
  {
   "cell_type": "code",
   "execution_count": 46,
   "metadata": {},
   "outputs": [
    {
     "data": {
      "text/html": [
       "<span class=\"tex2jax_ignore\"><div class=\"entities\" style=\"line-height: 2.5; direction: ltr\">Ce, en vue de faire face a insecurite (phenomene \n",
       "<mark class=\"entity\" style=\"background: #ff9561; padding: 0.45em 0.6em; margin: 0 0.25em; line-height: 1; border-radius: 0.35em;\">\n",
       "    Kasuku\n",
       "    <span style=\"font-size: 0.8em; font-weight: bold; line-height: 1; border-radius: 0.35em; vertical-align: middle; margin-left: 0.5rem\">LOC</span>\n",
       "</mark>\n",
       ", \n",
       "<mark class=\"entity\" style=\"background: #ff9561; padding: 0.45em 0.6em; margin: 0 0.25em; line-height: 1; border-radius: 0.35em;\">\n",
       "    Ndlr\n",
       "    <span style=\"font-size: 0.8em; font-weight: bold; line-height: 1; border-radius: 0.35em; vertical-align: middle; margin-left: 0.5rem\">LOC</span>\n",
       "</mark>\n",
       ") dans la region.</div></span>"
      ],
      "text/plain": [
       "<IPython.core.display.HTML object>"
      ]
     },
     "metadata": {},
     "output_type": "display_data"
    }
   ],
   "source": [
    "displacy.render(processed_sentence, style=\"ent\", jupyter=True)"
   ]
  },
  {
   "cell_type": "code",
   "execution_count": 47,
   "metadata": {},
   "outputs": [
    {
     "data": {
      "text/html": [
       "<span class=\"tex2jax_ignore\"><div class=\"entities\" style=\"line-height: 2.5; direction: ltr\">Etat-major, commandement du 3310ieme regiment des \n",
       "<mark class=\"entity\" style=\"background: #ddd; padding: 0.45em 0.6em; margin: 0 0.25em; line-height: 1; border-radius: 0.35em;\">\n",
       "    Forces Armees de la Republique Democratique du Congo\n",
       "    <span style=\"font-size: 0.8em; font-weight: bold; line-height: 1; border-radius: 0.35em; vertical-align: middle; margin-left: 0.5rem\">MISC</span>\n",
       "</mark>\n",
       " a, dans un communique officiel parvenu a 7SUR7.CD ce vendredi 15 mai 2020, annonce identification des militaires et des officiers grades qui sont bases dans differents quartiers de la ville commerciale de \n",
       "<mark class=\"entity\" style=\"background: #ff9561; padding: 0.45em 0.6em; margin: 0 0.25em; line-height: 1; border-radius: 0.35em;\">\n",
       "    Butembo\n",
       "    <span style=\"font-size: 0.8em; font-weight: bold; line-height: 1; border-radius: 0.35em; vertical-align: middle; margin-left: 0.5rem\">LOC</span>\n",
       "</mark>\n",
       " (\n",
       "<mark class=\"entity\" style=\"background: #ff9561; padding: 0.45em 0.6em; margin: 0 0.25em; line-height: 1; border-radius: 0.35em;\">\n",
       "    Nord-Kivu).armee congolaise\n",
       "    <span style=\"font-size: 0.8em; font-weight: bold; line-height: 1; border-radius: 0.35em; vertical-align: middle; margin-left: 0.5rem\">LOC</span>\n",
       "</mark>\n",
       " demande aux habitants de \n",
       "<mark class=\"entity\" style=\"background: #ff9561; padding: 0.45em 0.6em; margin: 0 0.25em; line-height: 1; border-radius: 0.35em;\">\n",
       "    Butembo\n",
       "    <span style=\"font-size: 0.8em; font-weight: bold; line-height: 1; border-radius: 0.35em; vertical-align: middle; margin-left: 0.5rem\">LOC</span>\n",
       "</mark>\n",
       " de fournir, dans leur environnement immediat, adresse de  tout militaire et officier grade  residant a la cite en vue une identification par les services specialises. Il est demande aux chefs des cellules, chefs de quartiers et a la societe civile des communes, de bien vouloir recueillir toutes ces informations et de nous les faire parvenir par le canal des bourgmestres des communes pour la centralisation , ecrit le lieutenant colonel \n",
       "<mark class=\"entity\" style=\"background: #ddd; padding: 0.45em 0.6em; margin: 0 0.25em; line-height: 1; border-radius: 0.35em;\">\n",
       "    Ombeni Murengisi\n",
       "    <span style=\"font-size: 0.8em; font-weight: bold; line-height: 1; border-radius: 0.35em; vertical-align: middle; margin-left: 0.5rem\">PER</span>\n",
       "</mark>\n",
       ", commandant des FARDC-Butembo.Il sied de preciser par ailleurs que plusieurs positions militaires sont deja installees dans differents quartiers peripheriques de \n",
       "<mark class=\"entity\" style=\"background: #ff9561; padding: 0.45em 0.6em; margin: 0 0.25em; line-height: 1; border-radius: 0.35em;\">\n",
       "    Butembo\n",
       "    <span style=\"font-size: 0.8em; font-weight: bold; line-height: 1; border-radius: 0.35em; vertical-align: middle; margin-left: 0.5rem\">LOC</span>\n",
       "</mark>\n",
       ". Ce, en vue de faire face a insecurite (phenomene \n",
       "<mark class=\"entity\" style=\"background: #ff9561; padding: 0.45em 0.6em; margin: 0 0.25em; line-height: 1; border-radius: 0.35em;\">\n",
       "    Kasuku\n",
       "    <span style=\"font-size: 0.8em; font-weight: bold; line-height: 1; border-radius: 0.35em; vertical-align: middle; margin-left: 0.5rem\">LOC</span>\n",
       "</mark>\n",
       ", \n",
       "<mark class=\"entity\" style=\"background: #ff9561; padding: 0.45em 0.6em; margin: 0 0.25em; line-height: 1; border-radius: 0.35em;\">\n",
       "    Ndlr\n",
       "    <span style=\"font-size: 0.8em; font-weight: bold; line-height: 1; border-radius: 0.35em; vertical-align: middle; margin-left: 0.5rem\">LOC</span>\n",
       "</mark>\n",
       ") dans la region.</div></span>"
      ],
      "text/plain": [
       "<IPython.core.display.HTML object>"
      ]
     },
     "metadata": {},
     "output_type": "display_data"
    }
   ],
   "source": [
    "displacy.render(processed_document, style=\"ent\", jupyter=True)"
   ]
  },
  {
   "cell_type": "markdown",
   "metadata": {},
   "source": [
    "The spacy model seems to be do well in detecting names, organization  ,but it can be improve to detec orgainization and more place."
   ]
  },
  {
   "cell_type": "code",
   "execution_count": 23,
   "metadata": {},
   "outputs": [
    {
     "data": {
      "text/plain": [
       "{'meta': {'source': 'BBC News', 'via': 'News API'},\n",
       " '_task_hash': 142354664,\n",
       " 'text': 'ViewRay (VRAY +1.2%) inks an agreement with an affiliate of Fosun International Limited for the direct sale of stock and warrants yielding ~$59.1M in gross proceeds.Specifically, the company will sell',\n",
       " '_input_hash': 1622806810}"
      ]
     },
     "execution_count": 23,
     "metadata": {},
     "output_type": "execute_result"
    }
   ],
   "source": [
    "{\"meta\": \n",
    "    {\"source\": \"BBC News\",\"via\":\"News API\"},\n",
    " \"_task_hash\":142354664,\n",
    " \"text\":\"ViewRay (VRAY +1.2%) inks an agreement with an affiliate of Fosun International Limited for the direct sale of stock and warrants yielding ~$59.1M in gross proceeds.Specifically, the company will sell\",\n",
    " \"_input_hash\":1622806810}"
   ]
  },
  {
   "cell_type": "markdown",
   "metadata": {},
   "source": [
    "Seems like that the spacy model is mislead by accent and `\" `, so let us remove them from the text."
   ]
  },
  {
   "cell_type": "code",
   "execution_count": null,
   "metadata": {},
   "outputs": [],
   "source": []
  },
  {
   "cell_type": "markdown",
   "metadata": {},
   "source": [
    "And improve the spacy annodation , if by saturaday I can'tafind anything I will need to continue with what I have and make it a baseline"
   ]
  },
  {
   "cell_type": "code",
   "execution_count": 48,
   "metadata": {},
   "outputs": [],
   "source": [
    "def tokenize_document(document):\n",
    "    \"\"\"given a document split the document into sentences and return a list of those sentence\n",
    "\n",
    "    Args:\n",
    "        document (_type_): _description_\n",
    "\n",
    "    Returns:\n",
    "        _type_: _description_\n",
    "    \"\"\"\n",
    "    cleaned_document = clean_text(document)\n",
    "    tokenized_document = sent_tokenize(cleaned_document, language=\"french\")\n",
    "    return tokenized_document"
   ]
  },
  {
   "cell_type": "code",
   "execution_count": 49,
   "metadata": {},
   "outputs": [],
   "source": [
    "def generate_sentences(document_serie):\n",
    "    \"\"\"takea serie of documents and return a list of sentences\n",
    "\n",
    "    Args:\n",
    "        document_serie (_type_): _description_\n",
    "\n",
    "    Returns:\n",
    "        _type_: _description_\n",
    "    \"\"\"\n",
    "    for document in document_serie:\n",
    "        sentences = tokenize_document(document)\n",
    "        for sentence in sentences:\n",
    "            yield sentence"
   ]
  },
  {
   "cell_type": "code",
   "execution_count": 50,
   "metadata": {},
   "outputs": [],
   "source": [
    "from secrets import token_hex\n",
    "import json"
   ]
  },
  {
   "cell_type": "code",
   "execution_count": 54,
   "metadata": {},
   "outputs": [],
   "source": [
    "def build_json_document(document_series, output_file_path):\n",
    "    \"\"\"take a series of documents and return a list of json documents\n",
    "\n",
    "    Args:\n",
    "        document_series (_type_): _description_\n",
    "\n",
    "    Returns:\n",
    "        _type_: _description_\n",
    "    \"\"\"\n",
    "    with open(output_file_path, \"w\") as output_file:\n",
    "        for sentence in generate_sentences(document_series):\n",
    "            item = {\"_task_hash\": token_hex(6), \"_input_hash\": token_hex(6),  \"text\": sentence}\n",
    "            output_file.write(json.dumps(item, ensure_ascii=False) + \"\\n\")"
   ]
  },
  {
   "cell_type": "code",
   "execution_count": 52,
   "metadata": {},
   "outputs": [],
   "source": [
    "from pathlib import Path\n",
    "\n"
   ]
  },
  {
   "cell_type": "code",
   "execution_count": 55,
   "metadata": {},
   "outputs": [],
   "source": [
    "corpus_path = Path.cwd().joinpath(\"data\", \"corpus\", \"congo_news.jsonl\")\n",
    "build_json_document(data.content, corpus_path)"
   ]
  },
  {
   "cell_type": "code",
   "execution_count": 30,
   "metadata": {},
   "outputs": [
    {
     "data": {
      "text/plain": [
       "'/Users/es.py/Projects/Personal/multilingual-drc-news-chatbot/data/corpus/congo_news.jsonl'"
      ]
     },
     "execution_count": 30,
     "metadata": {},
     "output_type": "execute_result"
    }
   ],
   "source": [
    "corpus_path.absolute().__str__()"
   ]
  },
  {
   "cell_type": "code",
   "execution_count": null,
   "metadata": {},
   "outputs": [],
   "source": []
  },
  {
   "cell_type": "markdown",
   "metadata": {},
   "source": [
    "###  Setting up Model Tracking Experiments"
   ]
  },
  {
   "cell_type": "code",
   "execution_count": 57,
   "metadata": {},
   "outputs": [
    {
     "name": "stderr",
     "output_type": "stream",
     "text": [
      "2022/05/24 12:00:37 INFO mlflow.tracking.fluent: Experiment with name 'congo-news-ner-experiments' does not exist. Creating a new experiment.\n"
     ]
    },
    {
     "data": {
      "text/plain": [
       "<Experiment: artifact_location='sqllite//:mlflow.db/1', experiment_id='1', lifecycle_stage='active', name='congo-news-ner-experiments', tags={}>"
      ]
     },
     "execution_count": 57,
     "metadata": {},
     "output_type": "execute_result"
    }
   ],
   "source": [
    "import mlflow\n",
    "\n",
    "mlflow.set_tracking_uri(\"sqllite//:mlflow.db\")\n",
    "mlflow.set_experiment(\"congo-news-ner-experiments\")"
   ]
  },
  {
   "cell_type": "code",
   "execution_count": null,
   "metadata": {},
   "outputs": [],
   "source": [
    "with mlflow.run():\n",
    "    mlflow.set_tag(\"corpus\", \"congo_news\")"
   ]
  },
  {
   "cell_type": "markdown",
   "metadata": {},
   "source": []
  }
 ],
 "metadata": {
  "interpreter": {
   "hash": "02a6cbba0f91165ef6b1ab953f4c4c0361c6f2cc813319ac59661fad149918b6"
  },
  "kernelspec": {
   "display_name": "Python 3.7.5 ('deep-learning-nlp-stuff')",
   "language": "python",
   "name": "python3"
  },
  "language_info": {
   "codemirror_mode": {
    "name": "ipython",
    "version": 3
   },
   "file_extension": ".py",
   "mimetype": "text/x-python",
   "name": "python",
   "nbconvert_exporter": "python",
   "pygments_lexer": "ipython3",
   "version": "3.7.5"
  },
  "orig_nbformat": 4
 },
 "nbformat": 4,
 "nbformat_minor": 2
}
