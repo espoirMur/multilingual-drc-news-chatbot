{
 "cells": [
  {
   "cell_type": "code",
   "execution_count": 1,
   "metadata": {},
   "outputs": [],
   "source": [
    "from config import DATABASE_URL\n",
    "from src.utils.database_connection_utils import get_database_session"
   ]
  },
  {
   "cell_type": "code",
   "execution_count": 2,
   "metadata": {},
   "outputs": [],
   "source": [
    "session, engine = get_database_session(DATABASE_URL)\n"
   ]
  },
  {
   "cell_type": "code",
   "execution_count": 3,
   "metadata": {},
   "outputs": [],
   "source": [
    "sql_query = \"select * from article\""
   ]
  },
  {
   "cell_type": "code",
   "execution_count": 4,
   "metadata": {},
   "outputs": [],
   "source": [
    "import pandas as pd\n",
    "import numpy as np"
   ]
  },
  {
   "cell_type": "code",
   "execution_count": 5,
   "metadata": {},
   "outputs": [],
   "source": [
    "data = None\n",
    "with engine.connect() as connection:\n",
    "    data = pd.read_sql_query(sql=sql_query, con=connection)"
   ]
  },
  {
   "cell_type": "code",
   "execution_count": 6,
   "metadata": {},
   "outputs": [
    {
     "data": {
      "text/plain": [
       "(11218, 9)"
      ]
     },
     "execution_count": 6,
     "metadata": {},
     "output_type": "execute_result"
    }
   ],
   "source": [
    "data.shape"
   ]
  },
  {
   "cell_type": "code",
   "execution_count": 7,
   "metadata": {},
   "outputs": [
    {
     "data": {
      "text/plain": [
       "array(['https://forumdesas.net/', 'https://www.7sur7.cd',\n",
       "       'https://www.politico.cd', 'https://www.actualite.cd',\n",
       "       'https://www.mediacongo.net'], dtype=object)"
      ]
     },
     "execution_count": 7,
     "metadata": {},
     "output_type": "execute_result"
    }
   ],
   "source": [
    "data.website_origin.unique()"
   ]
  },
  {
   "cell_type": "code",
   "execution_count": 8,
   "metadata": {},
   "outputs": [
    {
     "data": {
      "text/html": [
       "<div>\n",
       "<style scoped>\n",
       "    .dataframe tbody tr th:only-of-type {\n",
       "        vertical-align: middle;\n",
       "    }\n",
       "\n",
       "    .dataframe tbody tr th {\n",
       "        vertical-align: top;\n",
       "    }\n",
       "\n",
       "    .dataframe thead th {\n",
       "        text-align: right;\n",
       "    }\n",
       "</style>\n",
       "<table border=\"1\" class=\"dataframe\">\n",
       "  <thead>\n",
       "    <tr style=\"text-align: right;\">\n",
       "      <th></th>\n",
       "      <th>id</th>\n",
       "      <th>title</th>\n",
       "      <th>content</th>\n",
       "      <th>sumary</th>\n",
       "      <th>posted_at</th>\n",
       "      <th>website_origin</th>\n",
       "      <th>url</th>\n",
       "      <th>author</th>\n",
       "      <th>saved_at</th>\n",
       "    </tr>\n",
       "  </thead>\n",
       "  <tbody>\n",
       "    <tr>\n",
       "      <th>0</th>\n",
       "      <td>1</td>\n",
       "      <td>La Commission tarifaire propose des mesures d’...</td>\n",
       "      <td>Les membres de la Commission tarifaire viennen...</td>\n",
       "      <td>None</td>\n",
       "      <td>2022-09-05</td>\n",
       "      <td>https://forumdesas.net/</td>\n",
       "      <td>https://www.forumdesas.net/2022/05/la-commissi...</td>\n",
       "      <td>Kléber KUNGU</td>\n",
       "      <td>2022-05-12 16:53:56.464801+00:00</td>\n",
       "    </tr>\n",
       "    <tr>\n",
       "      <th>1</th>\n",
       "      <td>2</td>\n",
       "      <td>La Commission tarifaire pour la mise en oeuvre...</td>\n",
       "      <td>Les membres de la Commission tarifaire so...</td>\n",
       "      <td>None</td>\n",
       "      <td>2022-04-05</td>\n",
       "      <td>https://forumdesas.net/</td>\n",
       "      <td>https://www.forumdesas.net/2022/05/la-commissi...</td>\n",
       "      <td>Kléber KUNGU</td>\n",
       "      <td>2022-05-12 16:53:56.505433+00:00</td>\n",
       "    </tr>\n",
       "    <tr>\n",
       "      <th>2</th>\n",
       "      <td>3</td>\n",
       "      <td>Lancement du 1er Laboratoire de recherche et d...</td>\n",
       "      <td>Vodacom Congo vient de signer un partenariat a...</td>\n",
       "      <td>None</td>\n",
       "      <td>2022-04-23</td>\n",
       "      <td>https://forumdesas.net/</td>\n",
       "      <td>https://www.forumdesas.net/2022/04/lancement-d...</td>\n",
       "      <td>None</td>\n",
       "      <td>2022-05-12 16:53:56.548859+00:00</td>\n",
       "    </tr>\n",
       "    <tr>\n",
       "      <th>3</th>\n",
       "      <td>4</td>\n",
       "      <td>Léopards : Hectór Cúper ce mardi à Kinshasa</td>\n",
       "      <td>Le sélectionneur des Léopards de la RDC, Hectó...</td>\n",
       "      <td>None</td>\n",
       "      <td>2022-03-05</td>\n",
       "      <td>https://forumdesas.net/</td>\n",
       "      <td>https://www.forumdesas.net/2022/05/leopards-he...</td>\n",
       "      <td>Gloire BATOMENE</td>\n",
       "      <td>2022-05-12 16:53:56.561548+00:00</td>\n",
       "    </tr>\n",
       "    <tr>\n",
       "      <th>4</th>\n",
       "      <td>5</td>\n",
       "      <td>» Air Congo  » en voie d’être créée pour s’en...</td>\n",
       "      <td>Le protocole d’accord était déjà signé entre l...</td>\n",
       "      <td>None</td>\n",
       "      <td>2022-11-05</td>\n",
       "      <td>https://forumdesas.net/</td>\n",
       "      <td>https://www.forumdesas.net/2022/05/air-congo-e...</td>\n",
       "      <td>KANDOLO M.</td>\n",
       "      <td>2022-05-12 16:53:56.682724+00:00</td>\n",
       "    </tr>\n",
       "  </tbody>\n",
       "</table>\n",
       "</div>"
      ],
      "text/plain": [
       "   id                                              title  \\\n",
       "0   1  La Commission tarifaire propose des mesures d’...   \n",
       "1   2  La Commission tarifaire pour la mise en oeuvre...   \n",
       "2   3  Lancement du 1er Laboratoire de recherche et d...   \n",
       "3   4        Léopards : Hectór Cúper ce mardi à Kinshasa   \n",
       "4   5   » Air Congo  » en voie d’être créée pour s’en...   \n",
       "\n",
       "                                             content sumary  posted_at  \\\n",
       "0  Les membres de la Commission tarifaire viennen...   None 2022-09-05   \n",
       "1       Les membres de la Commission tarifaire so...   None 2022-04-05   \n",
       "2  Vodacom Congo vient de signer un partenariat a...   None 2022-04-23   \n",
       "3  Le sélectionneur des Léopards de la RDC, Hectó...   None 2022-03-05   \n",
       "4  Le protocole d’accord était déjà signé entre l...   None 2022-11-05   \n",
       "\n",
       "            website_origin                                                url  \\\n",
       "0  https://forumdesas.net/  https://www.forumdesas.net/2022/05/la-commissi...   \n",
       "1  https://forumdesas.net/  https://www.forumdesas.net/2022/05/la-commissi...   \n",
       "2  https://forumdesas.net/  https://www.forumdesas.net/2022/04/lancement-d...   \n",
       "3  https://forumdesas.net/  https://www.forumdesas.net/2022/05/leopards-he...   \n",
       "4  https://forumdesas.net/  https://www.forumdesas.net/2022/05/air-congo-e...   \n",
       "\n",
       "            author                         saved_at  \n",
       "0     Kléber KUNGU 2022-05-12 16:53:56.464801+00:00  \n",
       "1     Kléber KUNGU 2022-05-12 16:53:56.505433+00:00  \n",
       "2             None 2022-05-12 16:53:56.548859+00:00  \n",
       "3  Gloire BATOMENE 2022-05-12 16:53:56.561548+00:00  \n",
       "4       KANDOLO M. 2022-05-12 16:53:56.682724+00:00  "
      ]
     },
     "execution_count": 8,
     "metadata": {},
     "output_type": "execute_result"
    }
   ],
   "source": [
    "data.head()"
   ]
  },
  {
   "cell_type": "code",
   "execution_count": 9,
   "metadata": {},
   "outputs": [
    {
     "name": "stdout",
     "output_type": "stream",
     "text": [
      "Augustin Matata Ponyo peut pousser un ouf de soulagement après le refus, hier, des sénateurs de voter en faveur de la levée de ses immunités. Demarche amorcée par le Procureur général près la Cour constitutionnelle pour l’envoie à la barre afin qu’il s’explique sur le dossier Bukanga Lonzo.49 de ses collègues sénateurs sur les 96 votants ont refusé de le livrer aux poursuites judiciaires, «  s’est réjoui de cette décision «  » sui lui permet de continuer à humer l’air de la liberté. Au total, 46 sénateurs de l’Union sacré de la Nation ont voté pour la levée de ses immunités » contre 49 élus des élus qui ont rejeté cette requete, en dehors du parlemntaire qui a brandi un bulletin nul.Matata Ponyo est accusé par l’Inspection générale des finances (IGF) d’être à la base de la débâcle du projet agroindustriel de Bukanga Lonzo. On lui reproche d’avoir mal géré ce projet salutaire, alors qu’il occupait les fonctions de Premier ministre et chef du Gouvernement.Saisi sur ce dossier par l’IGF, le parquet près la Cour Constitutionelle a sollicité la levée des immunités de Matata Ponyo au Sénat pour lui permettre de mener les poursuites.Le bureau de la chambre haute du Parlement avait confié l’analyse de cette réquisitoire à une commission spéciale qui a présenté son rapport au cours de la plénière d’hier.Plusieurs réactions ont été enregistrées après cette décision du Sénat. Si certains pensent que la chambre haute du Parlement a fait obstruction au travail de la Justice, d’autres par contre estiment que les sénateurs ont suivi « .Intervenant au cours de cette même plénière, après le vote du Sénat contre ce réquisitoire, le sénateur Augustin Matata Ponyo a rendu hommage  Le premier ministre honoraire dit accepter la décision de ses collègues de rejeter la demande de levée de ses immunités, formulée par le Procureur général près la Cour constitutionnelle.« , a-t-il déclaré.« .« « , a indiqué l’ancien premier ministre de la RDC.Il a remercié le bureau du Sénat, dirigé par le professeur Modeste Bahati Lukwebo pour la sagesse et pour avoir pris des dispositions utiles en vue d’une gestion transparente et objective de ce dossier.« « , a conclu Augustin Matata Ponyo.\n"
     ]
    }
   ],
   "source": [
    "random_index = np.random.randint(0, data.shape[0])\n",
    "sample_doc = data.content[random_index]\n",
    "print(sample_doc)"
   ]
  },
  {
   "cell_type": "markdown",
   "metadata": {},
   "source": [
    "How should I split the text , should I use the sentence or the word level to detect names in this entities?\n",
    "\n",
    "I will try sentence and see how the french NER model from spacy will perform and then I will try more complicated approaches.\n",
    "\n",
    "By the end of this work we should have a pipeline that takes the text and mask the name entities."
   ]
  },
  {
   "cell_type": "markdown",
   "metadata": {},
   "source": []
  },
  {
   "cell_type": "markdown",
   "metadata": {},
   "source": []
  },
  {
   "cell_type": "code",
   "execution_count": 12,
   "metadata": {},
   "outputs": [],
   "source": [
    "\n",
    "import spacy"
   ]
  },
  {
   "cell_type": "code",
   "execution_count": 13,
   "metadata": {},
   "outputs": [],
   "source": [
    "nlp = spacy.load(\"fr_core_news_sm\")"
   ]
  },
  {
   "cell_type": "code",
   "execution_count": 14,
   "metadata": {},
   "outputs": [],
   "source": [
    "from spacy import displacy"
   ]
  },
  {
   "cell_type": "code",
   "execution_count": 15,
   "metadata": {},
   "outputs": [],
   "source": [
    "processed_document = nlp(sample_doc)"
   ]
  },
  {
   "cell_type": "code",
   "execution_count": 16,
   "metadata": {},
   "outputs": [
    {
     "name": "stdout",
     "output_type": "stream",
     "text": [
      "['tok2vec', 'morphologizer', 'parser', 'attribute_ruler', 'lemmatizer', 'ner']\n"
     ]
    }
   ],
   "source": [
    "print(nlp.pipe_names)"
   ]
  },
  {
   "cell_type": "code",
   "execution_count": 17,
   "metadata": {},
   "outputs": [
    {
     "data": {
      "text/html": [
       "<span class=\"tex2jax_ignore\"><div class=\"entities\" style=\"line-height: 2.5; direction: ltr\">\n",
       "<mark class=\"entity\" style=\"background: #ddd; padding: 0.45em 0.6em; margin: 0 0.25em; line-height: 1; border-radius: 0.35em;\">\n",
       "    Augustin Matata Ponyo\n",
       "    <span style=\"font-size: 0.8em; font-weight: bold; line-height: 1; border-radius: 0.35em; vertical-align: middle; margin-left: 0.5rem\">PER</span>\n",
       "</mark>\n",
       " peut pousser un ouf de soulagement après le refus, hier, des sénateurs de voter en faveur de la levée de ses immunités. \n",
       "<mark class=\"entity\" style=\"background: #ff9561; padding: 0.45em 0.6em; margin: 0 0.25em; line-height: 1; border-radius: 0.35em;\">\n",
       "    Demarche\n",
       "    <span style=\"font-size: 0.8em; font-weight: bold; line-height: 1; border-radius: 0.35em; vertical-align: middle; margin-left: 0.5rem\">LOC</span>\n",
       "</mark>\n",
       " amorcée par le \n",
       "<mark class=\"entity\" style=\"background: #ff9561; padding: 0.45em 0.6em; margin: 0 0.25em; line-height: 1; border-radius: 0.35em;\">\n",
       "    Procureur\n",
       "    <span style=\"font-size: 0.8em; font-weight: bold; line-height: 1; border-radius: 0.35em; vertical-align: middle; margin-left: 0.5rem\">LOC</span>\n",
       "</mark>\n",
       " général près la \n",
       "<mark class=\"entity\" style=\"background: #ff9561; padding: 0.45em 0.6em; margin: 0 0.25em; line-height: 1; border-radius: 0.35em;\">\n",
       "    Cour\n",
       "    <span style=\"font-size: 0.8em; font-weight: bold; line-height: 1; border-radius: 0.35em; vertical-align: middle; margin-left: 0.5rem\">LOC</span>\n",
       "</mark>\n",
       " constitutionnelle pour \n",
       "<mark class=\"entity\" style=\"background: #ff9561; padding: 0.45em 0.6em; margin: 0 0.25em; line-height: 1; border-radius: 0.35em;\">\n",
       "    l’\n",
       "    <span style=\"font-size: 0.8em; font-weight: bold; line-height: 1; border-radius: 0.35em; vertical-align: middle; margin-left: 0.5rem\">LOC</span>\n",
       "</mark>\n",
       "envoie à la barre afin qu’il s’explique sur le dossier \n",
       "<mark class=\"entity\" style=\"background: #ddd; padding: 0.45em 0.6em; margin: 0 0.25em; line-height: 1; border-radius: 0.35em;\">\n",
       "    Bukanga\n",
       "    <span style=\"font-size: 0.8em; font-weight: bold; line-height: 1; border-radius: 0.35em; vertical-align: middle; margin-left: 0.5rem\">PER</span>\n",
       "</mark>\n",
       " Lonzo.49 de ses collègues sénateurs sur les 96 votants ont refusé de le livrer aux poursuites judiciaires, «  s’est réjoui de cette décision «  » sui lui permet de continuer à humer \n",
       "<mark class=\"entity\" style=\"background: #ddd; padding: 0.45em 0.6em; margin: 0 0.25em; line-height: 1; border-radius: 0.35em;\">\n",
       "    l’air de la liberté\n",
       "    <span style=\"font-size: 0.8em; font-weight: bold; line-height: 1; border-radius: 0.35em; vertical-align: middle; margin-left: 0.5rem\">MISC</span>\n",
       "</mark>\n",
       ". Au total, 46 sénateurs de \n",
       "<mark class=\"entity\" style=\"background: #7aecec; padding: 0.45em 0.6em; margin: 0 0.25em; line-height: 1; border-radius: 0.35em;\">\n",
       "    l’Union sacré de la Nation\n",
       "    <span style=\"font-size: 0.8em; font-weight: bold; line-height: 1; border-radius: 0.35em; vertical-align: middle; margin-left: 0.5rem\">ORG</span>\n",
       "</mark>\n",
       " ont voté pour la levée de ses immunités » contre 49 élus des élus qui ont rejeté cette requete, en dehors du parlemntaire qui a brandi un bulletin nul.\n",
       "<mark class=\"entity\" style=\"background: #ddd; padding: 0.45em 0.6em; margin: 0 0.25em; line-height: 1; border-radius: 0.35em;\">\n",
       "    Matata Ponyo\n",
       "    <span style=\"font-size: 0.8em; font-weight: bold; line-height: 1; border-radius: 0.35em; vertical-align: middle; margin-left: 0.5rem\">PER</span>\n",
       "</mark>\n",
       " est accusé par \n",
       "<mark class=\"entity\" style=\"background: #ddd; padding: 0.45em 0.6em; margin: 0 0.25em; line-height: 1; border-radius: 0.35em;\">\n",
       "    l’Inspection générale des finances\n",
       "    <span style=\"font-size: 0.8em; font-weight: bold; line-height: 1; border-radius: 0.35em; vertical-align: middle; margin-left: 0.5rem\">MISC</span>\n",
       "</mark>\n",
       " (\n",
       "<mark class=\"entity\" style=\"background: #7aecec; padding: 0.45em 0.6em; margin: 0 0.25em; line-height: 1; border-radius: 0.35em;\">\n",
       "    IGF\n",
       "    <span style=\"font-size: 0.8em; font-weight: bold; line-height: 1; border-radius: 0.35em; vertical-align: middle; margin-left: 0.5rem\">ORG</span>\n",
       "</mark>\n",
       ") d’être à la base de la débâcle du projet agroindustriel de \n",
       "<mark class=\"entity\" style=\"background: #ddd; padding: 0.45em 0.6em; margin: 0 0.25em; line-height: 1; border-radius: 0.35em;\">\n",
       "    Bukanga Lonzo\n",
       "    <span style=\"font-size: 0.8em; font-weight: bold; line-height: 1; border-radius: 0.35em; vertical-align: middle; margin-left: 0.5rem\">PER</span>\n",
       "</mark>\n",
       ". On lui reproche d’avoir mal géré ce projet salutaire, alors qu’il occupait les fonctions de \n",
       "<mark class=\"entity\" style=\"background: #ddd; padding: 0.45em 0.6em; margin: 0 0.25em; line-height: 1; border-radius: 0.35em;\">\n",
       "    Premier ministre\n",
       "    <span style=\"font-size: 0.8em; font-weight: bold; line-height: 1; border-radius: 0.35em; vertical-align: middle; margin-left: 0.5rem\">MISC</span>\n",
       "</mark>\n",
       " et chef du \n",
       "<mark class=\"entity\" style=\"background: #ff9561; padding: 0.45em 0.6em; margin: 0 0.25em; line-height: 1; border-radius: 0.35em;\">\n",
       "    Gouvernement\n",
       "    <span style=\"font-size: 0.8em; font-weight: bold; line-height: 1; border-radius: 0.35em; vertical-align: middle; margin-left: 0.5rem\">LOC</span>\n",
       "</mark>\n",
       ".Saisi sur ce dossier par \n",
       "<mark class=\"entity\" style=\"background: #ddd; padding: 0.45em 0.6em; margin: 0 0.25em; line-height: 1; border-radius: 0.35em;\">\n",
       "    l’IGF\n",
       "    <span style=\"font-size: 0.8em; font-weight: bold; line-height: 1; border-radius: 0.35em; vertical-align: middle; margin-left: 0.5rem\">PER</span>\n",
       "</mark>\n",
       ", le parquet près la \n",
       "<mark class=\"entity\" style=\"background: #ff9561; padding: 0.45em 0.6em; margin: 0 0.25em; line-height: 1; border-radius: 0.35em;\">\n",
       "    Cour Constitutionelle\n",
       "    <span style=\"font-size: 0.8em; font-weight: bold; line-height: 1; border-radius: 0.35em; vertical-align: middle; margin-left: 0.5rem\">LOC</span>\n",
       "</mark>\n",
       " a sollicité la levée des immunités de \n",
       "<mark class=\"entity\" style=\"background: #ddd; padding: 0.45em 0.6em; margin: 0 0.25em; line-height: 1; border-radius: 0.35em;\">\n",
       "    Matata Ponyo\n",
       "    <span style=\"font-size: 0.8em; font-weight: bold; line-height: 1; border-radius: 0.35em; vertical-align: middle; margin-left: 0.5rem\">MISC</span>\n",
       "</mark>\n",
       " au \n",
       "<mark class=\"entity\" style=\"background: #7aecec; padding: 0.45em 0.6em; margin: 0 0.25em; line-height: 1; border-radius: 0.35em;\">\n",
       "    Sénat\n",
       "    <span style=\"font-size: 0.8em; font-weight: bold; line-height: 1; border-radius: 0.35em; vertical-align: middle; margin-left: 0.5rem\">ORG</span>\n",
       "</mark>\n",
       " pour lui permettre de mener les poursuites.Le bureau de la chambre haute du \n",
       "<mark class=\"entity\" style=\"background: #7aecec; padding: 0.45em 0.6em; margin: 0 0.25em; line-height: 1; border-radius: 0.35em;\">\n",
       "    Parlement\n",
       "    <span style=\"font-size: 0.8em; font-weight: bold; line-height: 1; border-radius: 0.35em; vertical-align: middle; margin-left: 0.5rem\">ORG</span>\n",
       "</mark>\n",
       " avait confié l’analyse de cette réquisitoire à une commission spéciale qui a présenté son rapport au cours de la plénière d’hier.Plusieurs réactions ont été enregistrées après cette décision du \n",
       "<mark class=\"entity\" style=\"background: #7aecec; padding: 0.45em 0.6em; margin: 0 0.25em; line-height: 1; border-radius: 0.35em;\">\n",
       "    Sénat\n",
       "    <span style=\"font-size: 0.8em; font-weight: bold; line-height: 1; border-radius: 0.35em; vertical-align: middle; margin-left: 0.5rem\">ORG</span>\n",
       "</mark>\n",
       ". Si certains pensent que la chambre haute du \n",
       "<mark class=\"entity\" style=\"background: #7aecec; padding: 0.45em 0.6em; margin: 0 0.25em; line-height: 1; border-radius: 0.35em;\">\n",
       "    Parlement\n",
       "    <span style=\"font-size: 0.8em; font-weight: bold; line-height: 1; border-radius: 0.35em; vertical-align: middle; margin-left: 0.5rem\">ORG</span>\n",
       "</mark>\n",
       " a fait obstruction au travail de la \n",
       "<mark class=\"entity\" style=\"background: #ddd; padding: 0.45em 0.6em; margin: 0 0.25em; line-height: 1; border-radius: 0.35em;\">\n",
       "    Justice\n",
       "    <span style=\"font-size: 0.8em; font-weight: bold; line-height: 1; border-radius: 0.35em; vertical-align: middle; margin-left: 0.5rem\">MISC</span>\n",
       "</mark>\n",
       ", d’autres par contre estiment que les sénateurs ont suivi « .Intervenant au cours de cette même plénière, après le vote du \n",
       "<mark class=\"entity\" style=\"background: #7aecec; padding: 0.45em 0.6em; margin: 0 0.25em; line-height: 1; border-radius: 0.35em;\">\n",
       "    Sénat\n",
       "    <span style=\"font-size: 0.8em; font-weight: bold; line-height: 1; border-radius: 0.35em; vertical-align: middle; margin-left: 0.5rem\">ORG</span>\n",
       "</mark>\n",
       " contre ce réquisitoire, le sénateur \n",
       "<mark class=\"entity\" style=\"background: #ddd; padding: 0.45em 0.6em; margin: 0 0.25em; line-height: 1; border-radius: 0.35em;\">\n",
       "    Augustin Matata Ponyo\n",
       "    <span style=\"font-size: 0.8em; font-weight: bold; line-height: 1; border-radius: 0.35em; vertical-align: middle; margin-left: 0.5rem\">PER</span>\n",
       "</mark>\n",
       " a rendu hommage  Le premier ministre honoraire dit accepter la décision de ses collègues de rejeter la demande de levée de ses immunités, formulée par le \n",
       "<mark class=\"entity\" style=\"background: #ff9561; padding: 0.45em 0.6em; margin: 0 0.25em; line-height: 1; border-radius: 0.35em;\">\n",
       "    Procureur\n",
       "    <span style=\"font-size: 0.8em; font-weight: bold; line-height: 1; border-radius: 0.35em; vertical-align: middle; margin-left: 0.5rem\">LOC</span>\n",
       "</mark>\n",
       " général près la \n",
       "<mark class=\"entity\" style=\"background: #ff9561; padding: 0.45em 0.6em; margin: 0 0.25em; line-height: 1; border-radius: 0.35em;\">\n",
       "    Cour constitutionnelle\n",
       "    <span style=\"font-size: 0.8em; font-weight: bold; line-height: 1; border-radius: 0.35em; vertical-align: middle; margin-left: 0.5rem\">LOC</span>\n",
       "</mark>\n",
       ".« , a-t-il déclaré.« .« « , a indiqué l’ancien premier ministre de la RDC.Il a remercié le bureau du \n",
       "<mark class=\"entity\" style=\"background: #7aecec; padding: 0.45em 0.6em; margin: 0 0.25em; line-height: 1; border-radius: 0.35em;\">\n",
       "    Sénat\n",
       "    <span style=\"font-size: 0.8em; font-weight: bold; line-height: 1; border-radius: 0.35em; vertical-align: middle; margin-left: 0.5rem\">ORG</span>\n",
       "</mark>\n",
       ", dirigé par le professeur \n",
       "<mark class=\"entity\" style=\"background: #ddd; padding: 0.45em 0.6em; margin: 0 0.25em; line-height: 1; border-radius: 0.35em;\">\n",
       "    Modeste Bahati Lukwebo\n",
       "    <span style=\"font-size: 0.8em; font-weight: bold; line-height: 1; border-radius: 0.35em; vertical-align: middle; margin-left: 0.5rem\">PER</span>\n",
       "</mark>\n",
       " pour la sagesse et pour avoir pris des dispositions utiles en vue d’une gestion transparente et objective de ce dossier.« « , a conclu \n",
       "<mark class=\"entity\" style=\"background: #ddd; padding: 0.45em 0.6em; margin: 0 0.25em; line-height: 1; border-radius: 0.35em;\">\n",
       "    Augustin Matata Ponyo\n",
       "    <span style=\"font-size: 0.8em; font-weight: bold; line-height: 1; border-radius: 0.35em; vertical-align: middle; margin-left: 0.5rem\">PER</span>\n",
       "</mark>\n",
       ".</div></span>"
      ],
      "text/plain": [
       "<IPython.core.display.HTML object>"
      ]
     },
     "metadata": {},
     "output_type": "display_data"
    }
   ],
   "source": [
    "displacy.render(processed_document, style=\"ent\", jupyter=True)"
   ]
  },
  {
   "cell_type": "markdown",
   "metadata": {},
   "source": [
    "The spacy model seems to be do well in detecting names, organization  ,but it can be improve to detec orgainization and more place."
   ]
  },
  {
   "cell_type": "code",
   "execution_count": 19,
   "metadata": {},
   "outputs": [],
   "source": [
    "from pathlib import Path\n",
    "cwd = Path.cwd().joinpath(\"tex_file.txt\")"
   ]
  },
  {
   "cell_type": "code",
   "execution_count": 22,
   "metadata": {},
   "outputs": [],
   "source": [
    "with open(cwd, 'w') as file:\n",
    "    file.write(sample_doc)"
   ]
  },
  {
   "cell_type": "markdown",
   "metadata": {},
   "source": [
    "And improve the spacy annodation , if by saturaday I can'tafind anything I will need to continue with what I have and make it a baseline"
   ]
  },
  {
   "cell_type": "code",
   "execution_count": null,
   "metadata": {},
   "outputs": [],
   "source": []
  }
 ],
 "metadata": {
  "interpreter": {
   "hash": "02a6cbba0f91165ef6b1ab953f4c4c0361c6f2cc813319ac59661fad149918b6"
  },
  "kernelspec": {
   "display_name": "Python 3.7.5 ('deep-learning-nlp-stuff')",
   "language": "python",
   "name": "python3"
  },
  "language_info": {
   "codemirror_mode": {
    "name": "ipython",
    "version": 3
   },
   "file_extension": ".py",
   "mimetype": "text/x-python",
   "name": "python",
   "nbconvert_exporter": "python",
   "pygments_lexer": "ipython3",
   "version": "3.7.5"
  },
  "orig_nbformat": 4
 },
 "nbformat": 4,
 "nbformat_minor": 2
}
