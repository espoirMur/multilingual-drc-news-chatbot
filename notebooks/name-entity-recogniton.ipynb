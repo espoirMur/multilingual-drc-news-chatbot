{
 "cells": [
  {
   "cell_type": "code",
   "execution_count": 1,
   "metadata": {},
   "outputs": [],
   "source": [
    "from config import DATABASE_URL\n",
    "from src.utils.database_connection_utils import get_database_session"
   ]
  },
  {
   "cell_type": "code",
   "execution_count": 2,
   "metadata": {},
   "outputs": [],
   "source": [
    "session, engine = get_database_session(DATABASE_URL)\n"
   ]
  },
  {
   "cell_type": "code",
   "execution_count": 3,
   "metadata": {},
   "outputs": [],
   "source": [
    "sql_query = \"select * from article\""
   ]
  },
  {
   "cell_type": "code",
   "execution_count": 4,
   "metadata": {},
   "outputs": [],
   "source": [
    "import pandas as pd\n",
    "import numpy as np"
   ]
  },
  {
   "cell_type": "code",
   "execution_count": 5,
   "metadata": {},
   "outputs": [],
   "source": [
    "data = None\n",
    "with engine.connect() as connection:\n",
    "    data = pd.read_sql_query(sql=sql_query, con=connection)"
   ]
  },
  {
   "cell_type": "code",
   "execution_count": 6,
   "metadata": {},
   "outputs": [
    {
     "data": {
      "text/plain": [
       "(11218, 9)"
      ]
     },
     "execution_count": 6,
     "metadata": {},
     "output_type": "execute_result"
    }
   ],
   "source": [
    "data.shape"
   ]
  },
  {
   "cell_type": "code",
   "execution_count": 7,
   "metadata": {},
   "outputs": [
    {
     "data": {
      "text/plain": [
       "array(['https://forumdesas.net/', 'https://www.7sur7.cd',\n",
       "       'https://www.politico.cd', 'https://www.actualite.cd',\n",
       "       'https://www.mediacongo.net'], dtype=object)"
      ]
     },
     "execution_count": 7,
     "metadata": {},
     "output_type": "execute_result"
    }
   ],
   "source": [
    "data.website_origin.unique()"
   ]
  },
  {
   "cell_type": "code",
   "execution_count": 8,
   "metadata": {},
   "outputs": [
    {
     "data": {
      "text/html": [
       "<div>\n",
       "<style scoped>\n",
       "    .dataframe tbody tr th:only-of-type {\n",
       "        vertical-align: middle;\n",
       "    }\n",
       "\n",
       "    .dataframe tbody tr th {\n",
       "        vertical-align: top;\n",
       "    }\n",
       "\n",
       "    .dataframe thead th {\n",
       "        text-align: right;\n",
       "    }\n",
       "</style>\n",
       "<table border=\"1\" class=\"dataframe\">\n",
       "  <thead>\n",
       "    <tr style=\"text-align: right;\">\n",
       "      <th></th>\n",
       "      <th>id</th>\n",
       "      <th>title</th>\n",
       "      <th>content</th>\n",
       "      <th>sumary</th>\n",
       "      <th>posted_at</th>\n",
       "      <th>website_origin</th>\n",
       "      <th>url</th>\n",
       "      <th>author</th>\n",
       "      <th>saved_at</th>\n",
       "    </tr>\n",
       "  </thead>\n",
       "  <tbody>\n",
       "    <tr>\n",
       "      <th>0</th>\n",
       "      <td>1</td>\n",
       "      <td>La Commission tarifaire propose des mesures d’...</td>\n",
       "      <td>Les membres de la Commission tarifaire viennen...</td>\n",
       "      <td>None</td>\n",
       "      <td>2022-09-05</td>\n",
       "      <td>https://forumdesas.net/</td>\n",
       "      <td>https://www.forumdesas.net/2022/05/la-commissi...</td>\n",
       "      <td>Kléber KUNGU</td>\n",
       "      <td>2022-05-12 16:53:56.464801+00:00</td>\n",
       "    </tr>\n",
       "    <tr>\n",
       "      <th>1</th>\n",
       "      <td>2</td>\n",
       "      <td>La Commission tarifaire pour la mise en oeuvre...</td>\n",
       "      <td>Les membres de la Commission tarifaire so...</td>\n",
       "      <td>None</td>\n",
       "      <td>2022-04-05</td>\n",
       "      <td>https://forumdesas.net/</td>\n",
       "      <td>https://www.forumdesas.net/2022/05/la-commissi...</td>\n",
       "      <td>Kléber KUNGU</td>\n",
       "      <td>2022-05-12 16:53:56.505433+00:00</td>\n",
       "    </tr>\n",
       "    <tr>\n",
       "      <th>2</th>\n",
       "      <td>3</td>\n",
       "      <td>Lancement du 1er Laboratoire de recherche et d...</td>\n",
       "      <td>Vodacom Congo vient de signer un partenariat a...</td>\n",
       "      <td>None</td>\n",
       "      <td>2022-04-23</td>\n",
       "      <td>https://forumdesas.net/</td>\n",
       "      <td>https://www.forumdesas.net/2022/04/lancement-d...</td>\n",
       "      <td>None</td>\n",
       "      <td>2022-05-12 16:53:56.548859+00:00</td>\n",
       "    </tr>\n",
       "    <tr>\n",
       "      <th>3</th>\n",
       "      <td>4</td>\n",
       "      <td>Léopards : Hectór Cúper ce mardi à Kinshasa</td>\n",
       "      <td>Le sélectionneur des Léopards de la RDC, Hectó...</td>\n",
       "      <td>None</td>\n",
       "      <td>2022-03-05</td>\n",
       "      <td>https://forumdesas.net/</td>\n",
       "      <td>https://www.forumdesas.net/2022/05/leopards-he...</td>\n",
       "      <td>Gloire BATOMENE</td>\n",
       "      <td>2022-05-12 16:53:56.561548+00:00</td>\n",
       "    </tr>\n",
       "    <tr>\n",
       "      <th>4</th>\n",
       "      <td>5</td>\n",
       "      <td>» Air Congo  » en voie d’être créée pour s’en...</td>\n",
       "      <td>Le protocole d’accord était déjà signé entre l...</td>\n",
       "      <td>None</td>\n",
       "      <td>2022-11-05</td>\n",
       "      <td>https://forumdesas.net/</td>\n",
       "      <td>https://www.forumdesas.net/2022/05/air-congo-e...</td>\n",
       "      <td>KANDOLO M.</td>\n",
       "      <td>2022-05-12 16:53:56.682724+00:00</td>\n",
       "    </tr>\n",
       "  </tbody>\n",
       "</table>\n",
       "</div>"
      ],
      "text/plain": [
       "   id                                              title  \\\n",
       "0   1  La Commission tarifaire propose des mesures d’...   \n",
       "1   2  La Commission tarifaire pour la mise en oeuvre...   \n",
       "2   3  Lancement du 1er Laboratoire de recherche et d...   \n",
       "3   4        Léopards : Hectór Cúper ce mardi à Kinshasa   \n",
       "4   5   » Air Congo  » en voie d’être créée pour s’en...   \n",
       "\n",
       "                                             content sumary  posted_at  \\\n",
       "0  Les membres de la Commission tarifaire viennen...   None 2022-09-05   \n",
       "1       Les membres de la Commission tarifaire so...   None 2022-04-05   \n",
       "2  Vodacom Congo vient de signer un partenariat a...   None 2022-04-23   \n",
       "3  Le sélectionneur des Léopards de la RDC, Hectó...   None 2022-03-05   \n",
       "4  Le protocole d’accord était déjà signé entre l...   None 2022-11-05   \n",
       "\n",
       "            website_origin                                                url  \\\n",
       "0  https://forumdesas.net/  https://www.forumdesas.net/2022/05/la-commissi...   \n",
       "1  https://forumdesas.net/  https://www.forumdesas.net/2022/05/la-commissi...   \n",
       "2  https://forumdesas.net/  https://www.forumdesas.net/2022/04/lancement-d...   \n",
       "3  https://forumdesas.net/  https://www.forumdesas.net/2022/05/leopards-he...   \n",
       "4  https://forumdesas.net/  https://www.forumdesas.net/2022/05/air-congo-e...   \n",
       "\n",
       "            author                         saved_at  \n",
       "0     Kléber KUNGU 2022-05-12 16:53:56.464801+00:00  \n",
       "1     Kléber KUNGU 2022-05-12 16:53:56.505433+00:00  \n",
       "2             None 2022-05-12 16:53:56.548859+00:00  \n",
       "3  Gloire BATOMENE 2022-05-12 16:53:56.561548+00:00  \n",
       "4       KANDOLO M. 2022-05-12 16:53:56.682724+00:00  "
      ]
     },
     "execution_count": 8,
     "metadata": {},
     "output_type": "execute_result"
    }
   ],
   "source": [
    "data.head()"
   ]
  },
  {
   "cell_type": "code",
   "execution_count": 44,
   "metadata": {},
   "outputs": [
    {
     "data": {
      "text/plain": [
       "'La Haute Cour Militaire a rejeté en bloc la requête sollicitant une enquête supplémentaire, introduite par la partie civile à l’audience d‘hier lundi 27 juillet 2015 à la Prison Centrale de Makala. Dans ce document lu séance tenante par la greffière, la partie civile exige la comparution de l’ancien Inspecteur général de la Police Nationale Congolaise, le général John Numbi, considéré par plusieurs ONG de défense des droits de l’homme comme le commanditaire de l’assassinat de Floribert Chebeya, ancien Directeur de la Voix des Sans Voix.La partie civile a réitéré également sa demande relative à la mise en place d’une Commission rogatoire chargée d’aller entendre le major Paul Milambwe à Dakar, où il se trouve à la disposition de la justice sénégalaise.Enfin, la partie civile a exigé, sur base de l’arrêt de la Haute Cour du mois d’octobre 2012, la descente d’une mission d’enquête dans la ferme de John Numbi pour vérifier si les restes du corps du chauffeur de Chebeya, feu Fidèle Bazana, présumé y avoir été enterré, s’y trouvent encore.          Pendant le débat ouvert par la Haute Cour Militaire  sur cette requête, la partie civile a soutenu que l’instruction n’était pas en état pour passer aux plaidoiries. Le Bâtonnier Joseph Mukendi a insisté sur la nécessité de la tenue d’un procès équitable, qui respecte les instruments juridiques internationaux.          Maitre Mukendi a rappelé le combat de la partie civile qui reste celui de la recherche de la vérité, afin que les vrais coupables répondent de leurs forfaits.          Dans le même ordre d’idées, Maître Bondo a fait remarquer que le témoignage du chauffeur du prévenu Mukalay, les relevés téléphoniques de Vodacom et les aveux de Paul Milambwe sont des preuves irréfutables qui requièrent la comparution du général John Numbi. Il a, une fois de plus, plaidé pour une mission d’enquête chargée de vérifier les allégations de Milambwe relayées par Thierry Michel dans son film, selon lesquelles le chauffeur de Floribert Chebeya, Fidèle Bazana, serait enterré dans la ferme de John Numbi, à Maluku, dans la banlieue Est de Kinshasa.Cet avocat de la partie civile est revenu aussi sur l’exigence de la mise en place d’une commission rogatoire chargée d’auditionner Paul Milambwe à Dakar. Pour Richard Bondo, les aveux de ce prévenu sont déterminants pour la manifestation de la vérité.          Appelé à donner son avis, le ministère public a estimé que la Haute Cour était suffisamment édifiée pour entamer la phase des plaidoiries.          D’après l’organe de la loi, la requête de la partie civile est une manoeuvre dilatoire, destinée à faire traîner inutilement le procès.          Le ministère public a trouvé inopportune la  mise en place d’une commission rogatoire, d’autant plus que la Haute Cour, au 1er degré, avait ordonné la disjonction des poursuites.La défense et la partie civilement responsable   ont emboité le pas au ministère public pour récuser la même requête.Après ce débat houleux, la haute cour a, dans son arrêt avant dire droit, rejeté la demande d’une instruction supplémentaire sollicitée par la partie civile.          S’estimant suffisamment éclairée, cette haute juridiction militaire a fixé la prochaine audience au jeudi 30 juillet 2015  pour les plaidoiries.ERIC WEMBA'"
      ]
     },
     "execution_count": 44,
     "metadata": {},
     "output_type": "execute_result"
    }
   ],
   "source": [
    "random_index = np.random.randint(0, data.shape[0])\n",
    "sample_doc = data.content[random_index]\n",
    "sample_doc"
   ]
  },
  {
   "cell_type": "markdown",
   "metadata": {},
   "source": [
    "How should I split the text , should I use the sentence or the word level to detect names in this entities?\n",
    "\n",
    "I will try sentence and see how the french NER model from spacy will perform and then I will try more complicated approaches.\n",
    "\n",
    "By the end of this work we should have a pipeline that takes the text and mask the name entities."
   ]
  },
  {
   "cell_type": "markdown",
   "metadata": {},
   "source": []
  },
  {
   "cell_type": "code",
   "execution_count": 45,
   "metadata": {},
   "outputs": [],
   "source": [
    "from nltk.tokenize import sent_tokenize\n",
    "from unicodedata import normalize"
   ]
  },
  {
   "cell_type": "code",
   "execution_count": 26,
   "metadata": {},
   "outputs": [],
   "source": []
  },
  {
   "cell_type": "code",
   "execution_count": 46,
   "metadata": {},
   "outputs": [],
   "source": [
    "tokenized_document = sent_tokenize(normalize(\"NFKD\", sample_doc), language=\"french\")"
   ]
  },
  {
   "cell_type": "code",
   "execution_count": 47,
   "metadata": {},
   "outputs": [
    {
     "data": {
      "text/plain": [
       "['La Haute Cour Militaire a rejeté en bloc la requête sollicitant une enquête supplémentaire, introduite par la partie civile à l’audience d‘hier lundi 27 juillet 2015 à la Prison Centrale de Makala.',\n",
       " 'Dans ce document lu séance tenante par la greffière, la partie civile exige la comparution de l’ancien Inspecteur général de la Police Nationale Congolaise, le général John Numbi, considéré par plusieurs ONG de défense des droits de l’homme comme le commanditaire de l’assassinat de Floribert Chebeya, ancien Directeur de la Voix des Sans Voix.La partie civile a réitéré également sa demande relative à la mise en place d’une Commission rogatoire chargée d’aller entendre le major Paul Milambwe à Dakar, où il se trouve à la disposition de la justice sénégalaise.Enfin, la partie civile a exigé, sur base de l’arrêt de la Haute Cour du mois d’octobre 2012, la descente d’une mission d’enquête dans la ferme de John Numbi pour vérifier si les restes du corps du chauffeur de Chebeya, feu Fidèle Bazana, présumé y avoir été enterré, s’y trouvent encore.',\n",
       " 'Pendant le débat ouvert par la Haute Cour Militaire  sur cette requête, la partie civile a soutenu que l’instruction n’était pas en état pour passer aux plaidoiries.',\n",
       " 'Le Bâtonnier Joseph Mukendi a insisté sur la nécessité de la tenue d’un procès équitable, qui respecte les instruments juridiques internationaux.',\n",
       " 'Maitre Mukendi a rappelé le combat de la partie civile qui reste celui de la recherche de la vérité, afin que les vrais coupables répondent de leurs forfaits.',\n",
       " 'Dans le même ordre d’idées, Maître Bondo a fait remarquer que le témoignage du chauffeur du prévenu Mukalay, les relevés téléphoniques de Vodacom et les aveux de Paul Milambwe sont des preuves irréfutables qui requièrent la comparution du général John Numbi.',\n",
       " 'Il a, une fois de plus, plaidé pour une mission d’enquête chargée de vérifier les allégations de Milambwe relayées par Thierry Michel dans son film, selon lesquelles le chauffeur de Floribert Chebeya, Fidèle Bazana, serait enterré dans la ferme de John Numbi, à Maluku, dans la banlieue Est de Kinshasa.Cet avocat de la partie civile est revenu aussi sur l’exigence de la mise en place d’une commission rogatoire chargée d’auditionner Paul Milambwe à Dakar.',\n",
       " 'Pour Richard Bondo, les aveux de ce prévenu sont déterminants pour la manifestation de la vérité.',\n",
       " 'Appelé à donner son avis, le ministère public a estimé que la Haute Cour était suffisamment édifiée pour entamer la phase des plaidoiries.',\n",
       " 'D’après l’organe de la loi, la requête de la partie civile est une manoeuvre dilatoire, destinée à faire traîner inutilement le procès.',\n",
       " 'Le ministère public a trouvé inopportune la  mise en place d’une commission rogatoire, d’autant plus que la Haute Cour, au 1er degré, avait ordonné la disjonction des poursuites.La défense et la partie civilement responsable   ont emboité le pas au ministère public pour récuser la même requête.Après ce débat houleux, la haute cour a, dans son arrêt avant dire droit, rejeté la demande d’une instruction supplémentaire sollicitée par la partie civile.',\n",
       " 'S’estimant suffisamment éclairée, cette haute juridiction militaire a fixé la prochaine audience au jeudi 30 juillet 2015  pour les plaidoiries.ERIC WEMBA']"
      ]
     },
     "execution_count": 47,
     "metadata": {},
     "output_type": "execute_result"
    }
   ],
   "source": [
    "tokenized_document"
   ]
  },
  {
   "cell_type": "markdown",
   "metadata": {},
   "source": []
  },
  {
   "cell_type": "code",
   "execution_count": 48,
   "metadata": {},
   "outputs": [],
   "source": [
    "\n",
    "import spacy"
   ]
  },
  {
   "cell_type": "code",
   "execution_count": 49,
   "metadata": {},
   "outputs": [],
   "source": [
    "nlp = spacy.load(\"fr_core_news_sm\")"
   ]
  },
  {
   "cell_type": "code",
   "execution_count": 50,
   "metadata": {},
   "outputs": [],
   "source": [
    "from spacy import displacy"
   ]
  },
  {
   "cell_type": "code",
   "execution_count": 51,
   "metadata": {},
   "outputs": [],
   "source": [
    "processed_sentence = nlp(tokenized_document[1])\n",
    "processed_document = nlp(sample_doc)"
   ]
  },
  {
   "cell_type": "code",
   "execution_count": 35,
   "metadata": {},
   "outputs": [
    {
     "name": "stdout",
     "output_type": "stream",
     "text": [
      "['tok2vec', 'morphologizer', 'parser', 'attribute_ruler', 'lemmatizer', 'ner']\n"
     ]
    }
   ],
   "source": [
    "print(nlp.pipe_names)"
   ]
  },
  {
   "cell_type": "code",
   "execution_count": 37,
   "metadata": {},
   "outputs": [
    {
     "data": {
      "text/plain": [
       "'Les jeunes entrepreneurs sélectionnés par le Projet d’appui au développement des micro, petites et moyennes entreprises (PADMPME), dans le cadre du concours des plans d’affaires (COPA), ont reçu l’information sur le processus et la procédure de décaissement de leur subvention, au cours d’une session d’information organisée à leur intention hier jeudi 13 janvier à Kinshasa.'"
      ]
     },
     "execution_count": 37,
     "metadata": {},
     "output_type": "execute_result"
    }
   ],
   "source": [
    "tokenized_document[0]"
   ]
  },
  {
   "cell_type": "code",
   "execution_count": 53,
   "metadata": {},
   "outputs": [
    {
     "data": {
      "text/html": [
       "<span class=\"tex2jax_ignore\"><div class=\"entities\" style=\"line-height: 2.5; direction: ltr\">Dans ce document lu séance tenante par la \n",
       "<mark class=\"entity\" style=\"background: #ff9561; padding: 0.45em 0.6em; margin: 0 0.25em; line-height: 1; border-radius: 0.35em;\">\n",
       "    greffière\n",
       "    <span style=\"font-size: 0.8em; font-weight: bold; line-height: 1; border-radius: 0.35em; vertical-align: middle; margin-left: 0.5rem\">LOC</span>\n",
       "</mark>\n",
       ", la partie civile exige la comparution de l’ancien \n",
       "<mark class=\"entity\" style=\"background: #ddd; padding: 0.45em 0.6em; margin: 0 0.25em; line-height: 1; border-radius: 0.35em;\">\n",
       "    Inspecteur général de la\n",
       "    <span style=\"font-size: 0.8em; font-weight: bold; line-height: 1; border-radius: 0.35em; vertical-align: middle; margin-left: 0.5rem\">MISC</span>\n",
       "</mark>\n",
       " \n",
       "<mark class=\"entity\" style=\"background: #7aecec; padding: 0.45em 0.6em; margin: 0 0.25em; line-height: 1; border-radius: 0.35em;\">\n",
       "    Police Nationale\n",
       "    <span style=\"font-size: 0.8em; font-weight: bold; line-height: 1; border-radius: 0.35em; vertical-align: middle; margin-left: 0.5rem\">ORG</span>\n",
       "</mark>\n",
       " Congolaise, le général \n",
       "<mark class=\"entity\" style=\"background: #ddd; padding: 0.45em 0.6em; margin: 0 0.25em; line-height: 1; border-radius: 0.35em;\">\n",
       "    John Numbi\n",
       "    <span style=\"font-size: 0.8em; font-weight: bold; line-height: 1; border-radius: 0.35em; vertical-align: middle; margin-left: 0.5rem\">PER</span>\n",
       "</mark>\n",
       ", considéré par plusieurs ONG de défense des droits de \n",
       "<mark class=\"entity\" style=\"background: #ddd; padding: 0.45em 0.6em; margin: 0 0.25em; line-height: 1; border-radius: 0.35em;\">\n",
       "    l’homme\n",
       "    <span style=\"font-size: 0.8em; font-weight: bold; line-height: 1; border-radius: 0.35em; vertical-align: middle; margin-left: 0.5rem\">MISC</span>\n",
       "</mark>\n",
       " comme le commanditaire de l’assassinat de \n",
       "<mark class=\"entity\" style=\"background: #ddd; padding: 0.45em 0.6em; margin: 0 0.25em; line-height: 1; border-radius: 0.35em;\">\n",
       "    Floribert Chebeya\n",
       "    <span style=\"font-size: 0.8em; font-weight: bold; line-height: 1; border-radius: 0.35em; vertical-align: middle; margin-left: 0.5rem\">PER</span>\n",
       "</mark>\n",
       ", ancien \n",
       "<mark class=\"entity\" style=\"background: #ddd; padding: 0.45em 0.6em; margin: 0 0.25em; line-height: 1; border-radius: 0.35em;\">\n",
       "    Directeur de la Voix des Sans Voix\n",
       "    <span style=\"font-size: 0.8em; font-weight: bold; line-height: 1; border-radius: 0.35em; vertical-align: middle; margin-left: 0.5rem\">MISC</span>\n",
       "</mark>\n",
       ".La partie civile a \n",
       "<mark class=\"entity\" style=\"background: #ff9561; padding: 0.45em 0.6em; margin: 0 0.25em; line-height: 1; border-radius: 0.35em;\">\n",
       "    réitéré\n",
       "    <span style=\"font-size: 0.8em; font-weight: bold; line-height: 1; border-radius: 0.35em; vertical-align: middle; margin-left: 0.5rem\">LOC</span>\n",
       "</mark>\n",
       " également sa demande relative \n",
       "<mark class=\"entity\" style=\"background: #ddd; padding: 0.45em 0.6em; margin: 0 0.25em; line-height: 1; border-radius: 0.35em;\">\n",
       "    à\n",
       "    <span style=\"font-size: 0.8em; font-weight: bold; line-height: 1; border-radius: 0.35em; vertical-align: middle; margin-left: 0.5rem\">PER</span>\n",
       "</mark>\n",
       " la mise en place d’une \n",
       "<mark class=\"entity\" style=\"background: #7aecec; padding: 0.45em 0.6em; margin: 0 0.25em; line-height: 1; border-radius: 0.35em;\">\n",
       "    Commission rogatoire chargée\n",
       "    <span style=\"font-size: 0.8em; font-weight: bold; line-height: 1; border-radius: 0.35em; vertical-align: middle; margin-left: 0.5rem\">ORG</span>\n",
       "</mark>\n",
       " d’aller entendre le major \n",
       "<mark class=\"entity\" style=\"background: #ddd; padding: 0.45em 0.6em; margin: 0 0.25em; line-height: 1; border-radius: 0.35em;\">\n",
       "    Paul Milambwe à Dakar\n",
       "    <span style=\"font-size: 0.8em; font-weight: bold; line-height: 1; border-radius: 0.35em; vertical-align: middle; margin-left: 0.5rem\">PER</span>\n",
       "</mark>\n",
       ", où il se trouve \n",
       "<mark class=\"entity\" style=\"background: #ff9561; padding: 0.45em 0.6em; margin: 0 0.25em; line-height: 1; border-radius: 0.35em;\">\n",
       "    à\n",
       "    <span style=\"font-size: 0.8em; font-weight: bold; line-height: 1; border-radius: 0.35em; vertical-align: middle; margin-left: 0.5rem\">LOC</span>\n",
       "</mark>\n",
       " la disposition de la justice sénégalaise.Enfin, la partie civile a \n",
       "<mark class=\"entity\" style=\"background: #7aecec; padding: 0.45em 0.6em; margin: 0 0.25em; line-height: 1; border-radius: 0.35em;\">\n",
       "    exigé\n",
       "    <span style=\"font-size: 0.8em; font-weight: bold; line-height: 1; border-radius: 0.35em; vertical-align: middle; margin-left: 0.5rem\">ORG</span>\n",
       "</mark>\n",
       ", sur base de \n",
       "<mark class=\"entity\" style=\"background: #ff9561; padding: 0.45em 0.6em; margin: 0 0.25em; line-height: 1; border-radius: 0.35em;\">\n",
       "    l’\n",
       "    <span style=\"font-size: 0.8em; font-weight: bold; line-height: 1; border-radius: 0.35em; vertical-align: middle; margin-left: 0.5rem\">LOC</span>\n",
       "</mark>\n",
       "arrêt de la \n",
       "<mark class=\"entity\" style=\"background: #ff9561; padding: 0.45em 0.6em; margin: 0 0.25em; line-height: 1; border-radius: 0.35em;\">\n",
       "    Haute Cour\n",
       "    <span style=\"font-size: 0.8em; font-weight: bold; line-height: 1; border-radius: 0.35em; vertical-align: middle; margin-left: 0.5rem\">LOC</span>\n",
       "</mark>\n",
       " du mois d’octobre 2012, la descente d’une mission d’enquête dans la ferme de \n",
       "<mark class=\"entity\" style=\"background: #ddd; padding: 0.45em 0.6em; margin: 0 0.25em; line-height: 1; border-radius: 0.35em;\">\n",
       "    John Numbi\n",
       "    <span style=\"font-size: 0.8em; font-weight: bold; line-height: 1; border-radius: 0.35em; vertical-align: middle; margin-left: 0.5rem\">PER</span>\n",
       "</mark>\n",
       " pour vérifier si les restes du corps du chauffeur de \n",
       "<mark class=\"entity\" style=\"background: #ff9561; padding: 0.45em 0.6em; margin: 0 0.25em; line-height: 1; border-radius: 0.35em;\">\n",
       "    Chebeya\n",
       "    <span style=\"font-size: 0.8em; font-weight: bold; line-height: 1; border-radius: 0.35em; vertical-align: middle; margin-left: 0.5rem\">LOC</span>\n",
       "</mark>\n",
       ", feu \n",
       "<mark class=\"entity\" style=\"background: #ddd; padding: 0.45em 0.6em; margin: 0 0.25em; line-height: 1; border-radius: 0.35em;\">\n",
       "    Fidèle Bazana\n",
       "    <span style=\"font-size: 0.8em; font-weight: bold; line-height: 1; border-radius: 0.35em; vertical-align: middle; margin-left: 0.5rem\">PER</span>\n",
       "</mark>\n",
       ", \n",
       "<mark class=\"entity\" style=\"background: #7aecec; padding: 0.45em 0.6em; margin: 0 0.25em; line-height: 1; border-radius: 0.35em;\">\n",
       "    présumé\n",
       "    <span style=\"font-size: 0.8em; font-weight: bold; line-height: 1; border-radius: 0.35em; vertical-align: middle; margin-left: 0.5rem\">ORG</span>\n",
       "</mark>\n",
       " y avoir été enterré, s’y trouvent encore.</div></span>"
      ],
      "text/plain": [
       "<IPython.core.display.HTML object>"
      ]
     },
     "metadata": {},
     "output_type": "display_data"
    }
   ],
   "source": [
    "displacy.render(processed_sentence, style=\"ent\", jupyter=True)"
   ]
  },
  {
   "cell_type": "code",
   "execution_count": 54,
   "metadata": {},
   "outputs": [
    {
     "data": {
      "text/html": [
       "<span class=\"tex2jax_ignore\"><div class=\"entities\" style=\"line-height: 2.5; direction: ltr\">\n",
       "<mark class=\"entity\" style=\"background: #ddd; padding: 0.45em 0.6em; margin: 0 0.25em; line-height: 1; border-radius: 0.35em;\">\n",
       "    La Haute Cour Militaire\n",
       "    <span style=\"font-size: 0.8em; font-weight: bold; line-height: 1; border-radius: 0.35em; vertical-align: middle; margin-left: 0.5rem\">MISC</span>\n",
       "</mark>\n",
       " a rejeté en bloc la requête sollicitant une enquête supplémentaire, introduite par la partie civile à \n",
       "<mark class=\"entity\" style=\"background: #ff9561; padding: 0.45em 0.6em; margin: 0 0.25em; line-height: 1; border-radius: 0.35em;\">\n",
       "    l’\n",
       "    <span style=\"font-size: 0.8em; font-weight: bold; line-height: 1; border-radius: 0.35em; vertical-align: middle; margin-left: 0.5rem\">LOC</span>\n",
       "</mark>\n",
       "audience d‘hier lundi 27 juillet 2015 à la \n",
       "<mark class=\"entity\" style=\"background: #ff9561; padding: 0.45em 0.6em; margin: 0 0.25em; line-height: 1; border-radius: 0.35em;\">\n",
       "    Prison Centrale de Makala\n",
       "    <span style=\"font-size: 0.8em; font-weight: bold; line-height: 1; border-radius: 0.35em; vertical-align: middle; margin-left: 0.5rem\">LOC</span>\n",
       "</mark>\n",
       ". Dans ce document lu séance tenante par la greffière, la partie civile exige la comparution de l’ancien \n",
       "<mark class=\"entity\" style=\"background: #ff9561; padding: 0.45em 0.6em; margin: 0 0.25em; line-height: 1; border-radius: 0.35em;\">\n",
       "    Inspecteur général de la\n",
       "    <span style=\"font-size: 0.8em; font-weight: bold; line-height: 1; border-radius: 0.35em; vertical-align: middle; margin-left: 0.5rem\">LOC</span>\n",
       "</mark>\n",
       " \n",
       "<mark class=\"entity\" style=\"background: #7aecec; padding: 0.45em 0.6em; margin: 0 0.25em; line-height: 1; border-radius: 0.35em;\">\n",
       "    Police Nationale Congolaise\n",
       "    <span style=\"font-size: 0.8em; font-weight: bold; line-height: 1; border-radius: 0.35em; vertical-align: middle; margin-left: 0.5rem\">ORG</span>\n",
       "</mark>\n",
       ", le général \n",
       "<mark class=\"entity\" style=\"background: #ddd; padding: 0.45em 0.6em; margin: 0 0.25em; line-height: 1; border-radius: 0.35em;\">\n",
       "    John Numbi\n",
       "    <span style=\"font-size: 0.8em; font-weight: bold; line-height: 1; border-radius: 0.35em; vertical-align: middle; margin-left: 0.5rem\">PER</span>\n",
       "</mark>\n",
       ", considéré par plusieurs ONG de défense des droits de \n",
       "<mark class=\"entity\" style=\"background: #ddd; padding: 0.45em 0.6em; margin: 0 0.25em; line-height: 1; border-radius: 0.35em;\">\n",
       "    l’homme\n",
       "    <span style=\"font-size: 0.8em; font-weight: bold; line-height: 1; border-radius: 0.35em; vertical-align: middle; margin-left: 0.5rem\">MISC</span>\n",
       "</mark>\n",
       " comme le commanditaire de l’assassinat de \n",
       "<mark class=\"entity\" style=\"background: #ddd; padding: 0.45em 0.6em; margin: 0 0.25em; line-height: 1; border-radius: 0.35em;\">\n",
       "    Floribert Chebeya\n",
       "    <span style=\"font-size: 0.8em; font-weight: bold; line-height: 1; border-radius: 0.35em; vertical-align: middle; margin-left: 0.5rem\">PER</span>\n",
       "</mark>\n",
       ", ancien \n",
       "<mark class=\"entity\" style=\"background: #ddd; padding: 0.45em 0.6em; margin: 0 0.25em; line-height: 1; border-radius: 0.35em;\">\n",
       "    Directeur de la Voix des Sans Voix\n",
       "    <span style=\"font-size: 0.8em; font-weight: bold; line-height: 1; border-radius: 0.35em; vertical-align: middle; margin-left: 0.5rem\">MISC</span>\n",
       "</mark>\n",
       ".La partie civile a réitéré également sa demande relative à la mise en place d’une \n",
       "<mark class=\"entity\" style=\"background: #7aecec; padding: 0.45em 0.6em; margin: 0 0.25em; line-height: 1; border-radius: 0.35em;\">\n",
       "    Commission rogatoire\n",
       "    <span style=\"font-size: 0.8em; font-weight: bold; line-height: 1; border-radius: 0.35em; vertical-align: middle; margin-left: 0.5rem\">ORG</span>\n",
       "</mark>\n",
       " chargée d’aller entendre le major \n",
       "<mark class=\"entity\" style=\"background: #ddd; padding: 0.45em 0.6em; margin: 0 0.25em; line-height: 1; border-radius: 0.35em;\">\n",
       "    Paul Milambwe\n",
       "    <span style=\"font-size: 0.8em; font-weight: bold; line-height: 1; border-radius: 0.35em; vertical-align: middle; margin-left: 0.5rem\">PER</span>\n",
       "</mark>\n",
       " à \n",
       "<mark class=\"entity\" style=\"background: #ff9561; padding: 0.45em 0.6em; margin: 0 0.25em; line-height: 1; border-radius: 0.35em;\">\n",
       "    Dakar\n",
       "    <span style=\"font-size: 0.8em; font-weight: bold; line-height: 1; border-radius: 0.35em; vertical-align: middle; margin-left: 0.5rem\">LOC</span>\n",
       "</mark>\n",
       ", où il se trouve à la disposition de la justice sénégalaise.Enfin, la partie civile a exigé, sur base de \n",
       "<mark class=\"entity\" style=\"background: #ff9561; padding: 0.45em 0.6em; margin: 0 0.25em; line-height: 1; border-radius: 0.35em;\">\n",
       "    l’\n",
       "    <span style=\"font-size: 0.8em; font-weight: bold; line-height: 1; border-radius: 0.35em; vertical-align: middle; margin-left: 0.5rem\">LOC</span>\n",
       "</mark>\n",
       "arrêt de la \n",
       "<mark class=\"entity\" style=\"background: #ff9561; padding: 0.45em 0.6em; margin: 0 0.25em; line-height: 1; border-radius: 0.35em;\">\n",
       "    Haute Cour\n",
       "    <span style=\"font-size: 0.8em; font-weight: bold; line-height: 1; border-radius: 0.35em; vertical-align: middle; margin-left: 0.5rem\">LOC</span>\n",
       "</mark>\n",
       " du mois d’octobre 2012, la descente d’une mission d’enquête dans la ferme de \n",
       "<mark class=\"entity\" style=\"background: #ddd; padding: 0.45em 0.6em; margin: 0 0.25em; line-height: 1; border-radius: 0.35em;\">\n",
       "    John Numbi\n",
       "    <span style=\"font-size: 0.8em; font-weight: bold; line-height: 1; border-radius: 0.35em; vertical-align: middle; margin-left: 0.5rem\">PER</span>\n",
       "</mark>\n",
       " pour vérifier si les restes du corps du chauffeur de \n",
       "<mark class=\"entity\" style=\"background: #ff9561; padding: 0.45em 0.6em; margin: 0 0.25em; line-height: 1; border-radius: 0.35em;\">\n",
       "    Chebeya\n",
       "    <span style=\"font-size: 0.8em; font-weight: bold; line-height: 1; border-radius: 0.35em; vertical-align: middle; margin-left: 0.5rem\">LOC</span>\n",
       "</mark>\n",
       ", feu \n",
       "<mark class=\"entity\" style=\"background: #ddd; padding: 0.45em 0.6em; margin: 0 0.25em; line-height: 1; border-radius: 0.35em;\">\n",
       "    Fidèle Bazana\n",
       "    <span style=\"font-size: 0.8em; font-weight: bold; line-height: 1; border-radius: 0.35em; vertical-align: middle; margin-left: 0.5rem\">PER</span>\n",
       "</mark>\n",
       ", présumé y avoir été enterré, s’y trouvent encore.          Pendant le débat ouvert par la \n",
       "<mark class=\"entity\" style=\"background: #ff9561; padding: 0.45em 0.6em; margin: 0 0.25em; line-height: 1; border-radius: 0.35em;\">\n",
       "    Haute Cour Militaire\n",
       "    <span style=\"font-size: 0.8em; font-weight: bold; line-height: 1; border-radius: 0.35em; vertical-align: middle; margin-left: 0.5rem\">LOC</span>\n",
       "</mark>\n",
       "  sur cette requête, la partie civile a soutenu que l’instruction \n",
       "<mark class=\"entity\" style=\"background: #ddd; padding: 0.45em 0.6em; margin: 0 0.25em; line-height: 1; border-radius: 0.35em;\">\n",
       "    n’\n",
       "    <span style=\"font-size: 0.8em; font-weight: bold; line-height: 1; border-radius: 0.35em; vertical-align: middle; margin-left: 0.5rem\">PER</span>\n",
       "</mark>\n",
       "était pas en état pour passer aux plaidoiries. \n",
       "<mark class=\"entity\" style=\"background: #ddd; padding: 0.45em 0.6em; margin: 0 0.25em; line-height: 1; border-radius: 0.35em;\">\n",
       "    Le Bâtonnier Joseph Mukendi\n",
       "    <span style=\"font-size: 0.8em; font-weight: bold; line-height: 1; border-radius: 0.35em; vertical-align: middle; margin-left: 0.5rem\">MISC</span>\n",
       "</mark>\n",
       " a insisté sur la nécessité de la tenue d’un procès équitable, qui respecte les instruments juridiques internationaux.          Maitre Mukendi a rappelé le combat de la partie civile qui reste celui de la recherche de la vérité, afin que les vrais coupables répondent de leurs forfaits.          Dans le même ordre d’idées, \n",
       "<mark class=\"entity\" style=\"background: #ddd; padding: 0.45em 0.6em; margin: 0 0.25em; line-height: 1; border-radius: 0.35em;\">\n",
       "    Maître Bondo\n",
       "    <span style=\"font-size: 0.8em; font-weight: bold; line-height: 1; border-radius: 0.35em; vertical-align: middle; margin-left: 0.5rem\">PER</span>\n",
       "</mark>\n",
       " a fait remarquer que le témoignage du chauffeur du prévenu Mukalay, les relevés téléphoniques de \n",
       "<mark class=\"entity\" style=\"background: #7aecec; padding: 0.45em 0.6em; margin: 0 0.25em; line-height: 1; border-radius: 0.35em;\">\n",
       "    Vodacom\n",
       "    <span style=\"font-size: 0.8em; font-weight: bold; line-height: 1; border-radius: 0.35em; vertical-align: middle; margin-left: 0.5rem\">ORG</span>\n",
       "</mark>\n",
       " et les aveux de \n",
       "<mark class=\"entity\" style=\"background: #ddd; padding: 0.45em 0.6em; margin: 0 0.25em; line-height: 1; border-radius: 0.35em;\">\n",
       "    Paul Milambwe\n",
       "    <span style=\"font-size: 0.8em; font-weight: bold; line-height: 1; border-radius: 0.35em; vertical-align: middle; margin-left: 0.5rem\">PER</span>\n",
       "</mark>\n",
       " sont des preuves irréfutables qui requièrent la comparution du général \n",
       "<mark class=\"entity\" style=\"background: #ddd; padding: 0.45em 0.6em; margin: 0 0.25em; line-height: 1; border-radius: 0.35em;\">\n",
       "    John Numbi\n",
       "    <span style=\"font-size: 0.8em; font-weight: bold; line-height: 1; border-radius: 0.35em; vertical-align: middle; margin-left: 0.5rem\">PER</span>\n",
       "</mark>\n",
       ". Il a, une fois de plus, plaidé pour une mission d’enquête chargée de vérifier les allégations de \n",
       "<mark class=\"entity\" style=\"background: #ff9561; padding: 0.45em 0.6em; margin: 0 0.25em; line-height: 1; border-radius: 0.35em;\">\n",
       "    Milambwe\n",
       "    <span style=\"font-size: 0.8em; font-weight: bold; line-height: 1; border-radius: 0.35em; vertical-align: middle; margin-left: 0.5rem\">LOC</span>\n",
       "</mark>\n",
       " relayées par \n",
       "<mark class=\"entity\" style=\"background: #ddd; padding: 0.45em 0.6em; margin: 0 0.25em; line-height: 1; border-radius: 0.35em;\">\n",
       "    Thierry Michel\n",
       "    <span style=\"font-size: 0.8em; font-weight: bold; line-height: 1; border-radius: 0.35em; vertical-align: middle; margin-left: 0.5rem\">PER</span>\n",
       "</mark>\n",
       " dans son film, selon lesquelles le chauffeur de \n",
       "<mark class=\"entity\" style=\"background: #ddd; padding: 0.45em 0.6em; margin: 0 0.25em; line-height: 1; border-radius: 0.35em;\">\n",
       "    Floribert Chebeya\n",
       "    <span style=\"font-size: 0.8em; font-weight: bold; line-height: 1; border-radius: 0.35em; vertical-align: middle; margin-left: 0.5rem\">PER</span>\n",
       "</mark>\n",
       ", \n",
       "<mark class=\"entity\" style=\"background: #ddd; padding: 0.45em 0.6em; margin: 0 0.25em; line-height: 1; border-radius: 0.35em;\">\n",
       "    Fidèle Bazana\n",
       "    <span style=\"font-size: 0.8em; font-weight: bold; line-height: 1; border-radius: 0.35em; vertical-align: middle; margin-left: 0.5rem\">PER</span>\n",
       "</mark>\n",
       ", serait enterré dans la ferme de \n",
       "<mark class=\"entity\" style=\"background: #ddd; padding: 0.45em 0.6em; margin: 0 0.25em; line-height: 1; border-radius: 0.35em;\">\n",
       "    John Numbi\n",
       "    <span style=\"font-size: 0.8em; font-weight: bold; line-height: 1; border-radius: 0.35em; vertical-align: middle; margin-left: 0.5rem\">PER</span>\n",
       "</mark>\n",
       ", à \n",
       "<mark class=\"entity\" style=\"background: #ff9561; padding: 0.45em 0.6em; margin: 0 0.25em; line-height: 1; border-radius: 0.35em;\">\n",
       "    Maluku\n",
       "    <span style=\"font-size: 0.8em; font-weight: bold; line-height: 1; border-radius: 0.35em; vertical-align: middle; margin-left: 0.5rem\">LOC</span>\n",
       "</mark>\n",
       ", dans la banlieue \n",
       "<mark class=\"entity\" style=\"background: #ff9561; padding: 0.45em 0.6em; margin: 0 0.25em; line-height: 1; border-radius: 0.35em;\">\n",
       "    Est de Kinshasa\n",
       "    <span style=\"font-size: 0.8em; font-weight: bold; line-height: 1; border-radius: 0.35em; vertical-align: middle; margin-left: 0.5rem\">LOC</span>\n",
       "</mark>\n",
       ".Cet avocat de la partie civile est revenu aussi sur \n",
       "<mark class=\"entity\" style=\"background: #ff9561; padding: 0.45em 0.6em; margin: 0 0.25em; line-height: 1; border-radius: 0.35em;\">\n",
       "    l’\n",
       "    <span style=\"font-size: 0.8em; font-weight: bold; line-height: 1; border-radius: 0.35em; vertical-align: middle; margin-left: 0.5rem\">LOC</span>\n",
       "</mark>\n",
       "exigence de la mise en place d’une commission rogatoire chargée d’auditionner \n",
       "<mark class=\"entity\" style=\"background: #ddd; padding: 0.45em 0.6em; margin: 0 0.25em; line-height: 1; border-radius: 0.35em;\">\n",
       "    Paul Milambwe\n",
       "    <span style=\"font-size: 0.8em; font-weight: bold; line-height: 1; border-radius: 0.35em; vertical-align: middle; margin-left: 0.5rem\">PER</span>\n",
       "</mark>\n",
       " à \n",
       "<mark class=\"entity\" style=\"background: #ff9561; padding: 0.45em 0.6em; margin: 0 0.25em; line-height: 1; border-radius: 0.35em;\">\n",
       "    Dakar\n",
       "    <span style=\"font-size: 0.8em; font-weight: bold; line-height: 1; border-radius: 0.35em; vertical-align: middle; margin-left: 0.5rem\">LOC</span>\n",
       "</mark>\n",
       ". Pour \n",
       "<mark class=\"entity\" style=\"background: #ddd; padding: 0.45em 0.6em; margin: 0 0.25em; line-height: 1; border-radius: 0.35em;\">\n",
       "    Richard Bondo\n",
       "    <span style=\"font-size: 0.8em; font-weight: bold; line-height: 1; border-radius: 0.35em; vertical-align: middle; margin-left: 0.5rem\">PER</span>\n",
       "</mark>\n",
       ", les aveux de ce prévenu sont déterminants pour la manifestation de la vérité.          Appelé à donner son avis, le ministère public a estimé que la \n",
       "<mark class=\"entity\" style=\"background: #ff9561; padding: 0.45em 0.6em; margin: 0 0.25em; line-height: 1; border-radius: 0.35em;\">\n",
       "    Haute Cour\n",
       "    <span style=\"font-size: 0.8em; font-weight: bold; line-height: 1; border-radius: 0.35em; vertical-align: middle; margin-left: 0.5rem\">LOC</span>\n",
       "</mark>\n",
       " était suffisamment édifiée pour entamer la phase des plaidoiries.          D’après \n",
       "<mark class=\"entity\" style=\"background: #ddd; padding: 0.45em 0.6em; margin: 0 0.25em; line-height: 1; border-radius: 0.35em;\">\n",
       "    l’organe\n",
       "    <span style=\"font-size: 0.8em; font-weight: bold; line-height: 1; border-radius: 0.35em; vertical-align: middle; margin-left: 0.5rem\">MISC</span>\n",
       "</mark>\n",
       " de la loi, la requête de la partie civile est une manoeuvre dilatoire, destinée à faire traîner inutilement le procès.          Le ministère public a trouvé inopportune la  mise en place d’une commission rogatoire, d’autant plus que la \n",
       "<mark class=\"entity\" style=\"background: #ff9561; padding: 0.45em 0.6em; margin: 0 0.25em; line-height: 1; border-radius: 0.35em;\">\n",
       "    Haute Cour\n",
       "    <span style=\"font-size: 0.8em; font-weight: bold; line-height: 1; border-radius: 0.35em; vertical-align: middle; margin-left: 0.5rem\">LOC</span>\n",
       "</mark>\n",
       ", au 1er degré, avait ordonné la disjonction des poursuites.La défense et la partie civilement responsable   ont emboité le pas au ministère public pour récuser la même requête.Après ce débat houleux, la haute cour a, dans son arrêt avant dire droit, rejeté la demande d’une instruction supplémentaire sollicitée par la partie civile.          S’estimant suffisamment éclairée, cette haute juridiction militaire a fixé la prochaine audience au jeudi 30 juillet 2015  pour les plaidoiries.ERIC WEMBA</div></span>"
      ],
      "text/plain": [
       "<IPython.core.display.HTML object>"
      ]
     },
     "metadata": {},
     "output_type": "display_data"
    }
   ],
   "source": [
    "displacy.render(processed_document, style=\"ent\", jupyter=True)"
   ]
  },
  {
   "cell_type": "markdown",
   "metadata": {},
   "source": [
    "The spacy model seems to be do well in detecting names, organization  ,but it can be improve to detec orgainization and more place."
   ]
  },
  {
   "cell_type": "code",
   "execution_count": 19,
   "metadata": {},
   "outputs": [],
   "source": [
    "{\"meta\": \n",
    "    {\"source\": \"BBC News\",\"via\":\"News API\"},\n",
    " \"_task_hash\":142354664,\n",
    " \"text\":\"ViewRay (VRAY +1.2%) inks an agreement with an affiliate of Fosun International Limited for the direct sale of stock and warrants yielding ~$59.1M in gross proceeds.Specifically, the company will sell\",\n",
    " \"_input_hash\":1622806810}"
   ]
  },
  {
   "cell_type": "code",
   "execution_count": 22,
   "metadata": {},
   "outputs": [],
   "source": []
  },
  {
   "cell_type": "markdown",
   "metadata": {},
   "source": [
    "And improve the spacy annodation , if by saturaday I can'tafind anything I will need to continue with what I have and make it a baseline"
   ]
  },
  {
   "cell_type": "code",
   "execution_count": 59,
   "metadata": {},
   "outputs": [],
   "source": [
    "def tokenize_document(document):\n",
    "    \"\"\"given a document split the document into sentences and return a list of those sentence\n",
    "\n",
    "    Args:\n",
    "        document (_type_): _description_\n",
    "\n",
    "    Returns:\n",
    "        _type_: _description_\n",
    "    \"\"\"\n",
    "    cleaned_document = normalize(\"NFKD\", document)\n",
    "    tokenized_document = sent_tokenize(cleaned_document, language=\"french\")\n",
    "    return tokenized_document"
   ]
  },
  {
   "cell_type": "code",
   "execution_count": 60,
   "metadata": {},
   "outputs": [],
   "source": [
    "def generate_sentences(document_serie):\n",
    "    \"\"\"takea serie of documents and return a list of sentences\n",
    "\n",
    "    Args:\n",
    "        document_serie (_type_): _description_\n",
    "\n",
    "    Returns:\n",
    "        _type_: _description_\n",
    "    \"\"\"\n",
    "    for document in document_serie:\n",
    "        sentences = tokenize_document(document)\n",
    "        for sentence in sentences:\n",
    "            yield sentence"
   ]
  },
  {
   "cell_type": "code",
   "execution_count": 71,
   "metadata": {},
   "outputs": [],
   "source": [
    "from secrets import token_hex\n",
    "import json"
   ]
  },
  {
   "cell_type": "code",
   "execution_count": 74,
   "metadata": {},
   "outputs": [],
   "source": [
    "def build_json_document(document_series, output_file_path):\n",
    "    \"\"\"take a series of documents and return a list of json documents\n",
    "\n",
    "    Args:\n",
    "        document_series (_type_): _description_\n",
    "\n",
    "    Returns:\n",
    "        _type_: _description_\n",
    "    \"\"\"\n",
    "    with open(output_file_path, \"w\") as output_file:\n",
    "        for sentence in generate_sentences(document_series):\n",
    "            item = {\"_task_hash\": token_hex(6), \"_input_hash\": token_hex(6),  \"text\": sentence}\n",
    "            output_file.write(json.dumps(item, ensure_ascii=False) + \"\\n\")"
   ]
  },
  {
   "cell_type": "code",
   "execution_count": 68,
   "metadata": {},
   "outputs": [],
   "source": [
    "from pathlib import Path\n",
    "\n"
   ]
  },
  {
   "cell_type": "code",
   "execution_count": 75,
   "metadata": {},
   "outputs": [],
   "source": [
    "corpus_path = Path.cwd().joinpath(\"data\", \"corpus\", \"congo_news.jsonl\")\n",
    "build_json_document(data.content, corpus_path)"
   ]
  },
  {
   "cell_type": "code",
   "execution_count": null,
   "metadata": {},
   "outputs": [],
   "source": []
  }
 ],
 "metadata": {
  "interpreter": {
   "hash": "02a6cbba0f91165ef6b1ab953f4c4c0361c6f2cc813319ac59661fad149918b6"
  },
  "kernelspec": {
   "display_name": "Python 3.7.5 ('deep-learning-nlp-stuff')",
   "language": "python",
   "name": "python3"
  },
  "language_info": {
   "codemirror_mode": {
    "name": "ipython",
    "version": 3
   },
   "file_extension": ".py",
   "mimetype": "text/x-python",
   "name": "python",
   "nbconvert_exporter": "python",
   "pygments_lexer": "ipython3",
   "version": "3.7.5"
  },
  "orig_nbformat": 4
 },
 "nbformat": 4,
 "nbformat_minor": 2
}
