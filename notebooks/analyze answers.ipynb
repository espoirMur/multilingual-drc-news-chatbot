{
 "cells": [
  {
   "cell_type": "code",
   "execution_count": 62,
   "metadata": {},
   "outputs": [],
   "source": [
    "from src.utils.evaluation_utils import compute_f1, compute_exact\n",
    "from gensim.utils import deaccent"
   ]
  },
  {
   "cell_type": "code",
   "execution_count": 63,
   "metadata": {},
   "outputs": [],
   "source": [
    "import seaborn as sns\n",
    "import matplotlib.pyplot as plt"
   ]
  },
  {
   "cell_type": "code",
   "execution_count": 64,
   "metadata": {},
   "outputs": [],
   "source": [
    "import pandas as pd\n",
    "import numpy as np"
   ]
  },
  {
   "cell_type": "code",
   "execution_count": 65,
   "metadata": {},
   "outputs": [],
   "source": [
    "from pathlib import Path"
   ]
  },
  {
   "cell_type": "code",
   "execution_count": 66,
   "metadata": {},
   "outputs": [],
   "source": [
    "current_working_directory = Path.cwd().parent"
   ]
  },
  {
   "cell_type": "code",
   "execution_count": 67,
   "metadata": {},
   "outputs": [],
   "source": [
    "results_path = current_working_directory.joinpath(\"results\")"
   ]
  },
  {
   "cell_type": "code",
   "execution_count": 68,
   "metadata": {},
   "outputs": [],
   "source": [
    "validation_results_path = results_path.joinpath(\"four-paragraph-train-fquad+piaf_valid.csv\")\n",
    "test_results_path = results_path.joinpath(\"four-paragraph-train-fquad+piaf_test_piaf-additional-with-from-wikipedia-bm25.csv\")"
   ]
  },
  {
   "cell_type": "code",
   "execution_count": 163,
   "metadata": {},
   "outputs": [],
   "source": [
    "data = pd.read_csv(test_results_path).dropna()"
   ]
  },
  {
   "cell_type": "code",
   "execution_count": 164,
   "metadata": {},
   "outputs": [],
   "source": [
    "data[\"f1\"] = np.vectorize(compute_f1)(data.prediction, data.goldlabel)\n",
    "data[\"exact\"] = np.vectorize(compute_exact)(data.prediction, data.goldlabel)"
   ]
  },
  {
   "cell_type": "code",
   "execution_count": 165,
   "metadata": {},
   "outputs": [
    {
     "data": {
      "text/html": [
       "<div>\n",
       "<style scoped>\n",
       "    .dataframe tbody tr th:only-of-type {\n",
       "        vertical-align: middle;\n",
       "    }\n",
       "\n",
       "    .dataframe tbody tr th {\n",
       "        vertical-align: top;\n",
       "    }\n",
       "\n",
       "    .dataframe thead th {\n",
       "        text-align: right;\n",
       "    }\n",
       "</style>\n",
       "<table border=\"1\" class=\"dataframe\">\n",
       "  <thead>\n",
       "    <tr style=\"text-align: right;\">\n",
       "      <th></th>\n",
       "      <th>prediction</th>\n",
       "      <th>goldlabel</th>\n",
       "      <th>questions</th>\n",
       "      <th>passages_len</th>\n",
       "      <th>f1</th>\n",
       "      <th>exact</th>\n",
       "    </tr>\n",
       "  </thead>\n",
       "  <tbody>\n",
       "    <tr>\n",
       "      <th>0</th>\n",
       "      <td>une limite</td>\n",
       "      <td>une limite</td>\n",
       "      <td>question: Qu’est ce que le pomérium d’après An...</td>\n",
       "      <td>1</td>\n",
       "      <td>1.0</td>\n",
       "      <td>1</td>\n",
       "    </tr>\n",
       "    <tr>\n",
       "      <th>1</th>\n",
       "      <td>un ingenieur autrichien</td>\n",
       "      <td>un ingénieur autrichien</td>\n",
       "      <td>question: Qui est Anselm Franz &lt;/s&gt;</td>\n",
       "      <td>1</td>\n",
       "      <td>1.0</td>\n",
       "      <td>1</td>\n",
       "    </tr>\n",
       "    <tr>\n",
       "      <th>2</th>\n",
       "      <td>la bataille de Kurukshetra</td>\n",
       "      <td>bataille de Kurukshetra</td>\n",
       "      <td>question: A quoi mène les revendications au tr...</td>\n",
       "      <td>4</td>\n",
       "      <td>1.0</td>\n",
       "      <td>1</td>\n",
       "    </tr>\n",
       "    <tr>\n",
       "      <th>3</th>\n",
       "      <td>la route des Moluques</td>\n",
       "      <td>sud du continent américain</td>\n",
       "      <td>question: quel chemin maritime a emprunté Mage...</td>\n",
       "      <td>4</td>\n",
       "      <td>0.0</td>\n",
       "      <td>0</td>\n",
       "    </tr>\n",
       "    <tr>\n",
       "      <th>4</th>\n",
       "      <td>le Conseil constitutionnel</td>\n",
       "      <td>Conseil constitutionnel</td>\n",
       "      <td>question: qui peut censurer une loi ? &lt;/s&gt;</td>\n",
       "      <td>4</td>\n",
       "      <td>1.0</td>\n",
       "      <td>1</td>\n",
       "    </tr>\n",
       "  </tbody>\n",
       "</table>\n",
       "</div>"
      ],
      "text/plain": [
       "                   prediction                   goldlabel  \\\n",
       "0                  une limite                  une limite   \n",
       "1     un ingenieur autrichien     un ingénieur autrichien   \n",
       "2  la bataille de Kurukshetra     bataille de Kurukshetra   \n",
       "3       la route des Moluques  sud du continent américain   \n",
       "4  le Conseil constitutionnel     Conseil constitutionnel   \n",
       "\n",
       "                                           questions  passages_len   f1  exact  \n",
       "0  question: Qu’est ce que le pomérium d’après An...             1  1.0      1  \n",
       "1                question: Qui est Anselm Franz </s>             1  1.0      1  \n",
       "2  question: A quoi mène les revendications au tr...             4  1.0      1  \n",
       "3  question: quel chemin maritime a emprunté Mage...             4  0.0      0  \n",
       "4         question: qui peut censurer une loi ? </s>             4  1.0      1  "
      ]
     },
     "execution_count": 165,
     "metadata": {},
     "output_type": "execute_result"
    }
   ],
   "source": [
    "data.head()"
   ]
  },
  {
   "cell_type": "code",
   "execution_count": 167,
   "metadata": {},
   "outputs": [
    {
     "data": {
      "text/plain": [
       "57.79"
      ]
     },
     "execution_count": 167,
     "metadata": {},
     "output_type": "execute_result"
    }
   ],
   "source": [
    "(data.f1.mean()*100).round(2)"
   ]
  },
  {
   "cell_type": "code",
   "execution_count": 122,
   "metadata": {},
   "outputs": [
    {
     "data": {
      "text/html": [
       "<div>\n",
       "<style scoped>\n",
       "    .dataframe tbody tr th:only-of-type {\n",
       "        vertical-align: middle;\n",
       "    }\n",
       "\n",
       "    .dataframe tbody tr th {\n",
       "        vertical-align: top;\n",
       "    }\n",
       "\n",
       "    .dataframe thead th {\n",
       "        text-align: right;\n",
       "    }\n",
       "</style>\n",
       "<table border=\"1\" class=\"dataframe\">\n",
       "  <thead>\n",
       "    <tr style=\"text-align: right;\">\n",
       "      <th></th>\n",
       "      <th>prediction</th>\n",
       "      <th>goldlabel</th>\n",
       "      <th>questions</th>\n",
       "      <th>passages_len</th>\n",
       "      <th>f1</th>\n",
       "      <th>exact</th>\n",
       "    </tr>\n",
       "  </thead>\n",
       "  <tbody>\n",
       "    <tr>\n",
       "      <th>19</th>\n",
       "      <td>Congrès américain</td>\n",
       "      <td>Ulysses Grant</td>\n",
       "      <td>question: Quel personnalité officialisa la pro...</td>\n",
       "      <td>4</td>\n",
       "      <td>0.0</td>\n",
       "      <td>0</td>\n",
       "    </tr>\n",
       "    <tr>\n",
       "      <th>65</th>\n",
       "      <td>chevaux de trait légers</td>\n",
       "      <td>mareyeur Boulonnais</td>\n",
       "      <td>question: Quelle race autre que le cob est fav...</td>\n",
       "      <td>4</td>\n",
       "      <td>0.0</td>\n",
       "      <td>0</td>\n",
       "    </tr>\n",
       "    <tr>\n",
       "      <th>76</th>\n",
       "      <td>reproduction des esclaves</td>\n",
       "      <td>d’acheter un esclave</td>\n",
       "      <td>question: Qu'est ce qui est plus rentable que ...</td>\n",
       "      <td>4</td>\n",
       "      <td>0.0</td>\n",
       "      <td>0</td>\n",
       "    </tr>\n",
       "    <tr>\n",
       "      <th>81</th>\n",
       "      <td>anxiété et la dépression</td>\n",
       "      <td>Sont observés également une tendance à l'auto</td>\n",
       "      <td>question: Quels sont les autres problèmes émot...</td>\n",
       "      <td>4</td>\n",
       "      <td>0.0</td>\n",
       "      <td>0</td>\n",
       "    </tr>\n",
       "    <tr>\n",
       "      <th>82</th>\n",
       "      <td>une iconographie très riche</td>\n",
       "      <td>viennent puiser l’inspiration</td>\n",
       "      <td>question: Que cherche les poètes dans Pégase ?...</td>\n",
       "      <td>4</td>\n",
       "      <td>0.0</td>\n",
       "      <td>0</td>\n",
       "    </tr>\n",
       "    <tr>\n",
       "      <th>...</th>\n",
       "      <td>...</td>\n",
       "      <td>...</td>\n",
       "      <td>...</td>\n",
       "      <td>...</td>\n",
       "      <td>...</td>\n",
       "      <td>...</td>\n",
       "    </tr>\n",
       "    <tr>\n",
       "      <th>3171</th>\n",
       "      <td>Du fait de ces limitations</td>\n",
       "      <td>Peu diplomates et peu persuas</td>\n",
       "      <td>question: Pourquoi les Asperger éprouvent des ...</td>\n",
       "      <td>4</td>\n",
       "      <td>0.0</td>\n",
       "      <td>0</td>\n",
       "    </tr>\n",
       "    <tr>\n",
       "      <th>3173</th>\n",
       "      <td>la plus complète définition qu'ait jamais donn...</td>\n",
       "      <td>mal social dans son ensemble</td>\n",
       "      <td>question: Que décrit le discours de Dickens d'...</td>\n",
       "      <td>4</td>\n",
       "      <td>0.0</td>\n",
       "      <td>0</td>\n",
       "    </tr>\n",
       "    <tr>\n",
       "      <th>3180</th>\n",
       "      <td>cette méthode se révélant a priori non-viable</td>\n",
       "      <td>vaccination</td>\n",
       "      <td>question: Quelle méthode propose l'APHIS pour ...</td>\n",
       "      <td>4</td>\n",
       "      <td>0.0</td>\n",
       "      <td>0</td>\n",
       "    </tr>\n",
       "    <tr>\n",
       "      <th>3183</th>\n",
       "      <td>K.DINGIR</td>\n",
       "      <td>Shar-kali-sharri</td>\n",
       "      <td>question: Quel est le nom du roi de l'empire d...</td>\n",
       "      <td>4</td>\n",
       "      <td>0.0</td>\n",
       "      <td>0</td>\n",
       "    </tr>\n",
       "    <tr>\n",
       "      <th>3184</th>\n",
       "      <td>l'écluse de Prades</td>\n",
       "      <td>gauche</td>\n",
       "      <td>question: Sur quelle rive est située la prise ...</td>\n",
       "      <td>4</td>\n",
       "      <td>0.0</td>\n",
       "      <td>0</td>\n",
       "    </tr>\n",
       "  </tbody>\n",
       "</table>\n",
       "<p>453 rows × 6 columns</p>\n",
       "</div>"
      ],
      "text/plain": [
       "                                             prediction  \\\n",
       "19                                    Congrès américain   \n",
       "65                              chevaux de trait légers   \n",
       "76                            reproduction des esclaves   \n",
       "81                             anxiété et la dépression   \n",
       "82                          une iconographie très riche   \n",
       "...                                                 ...   \n",
       "3171                         Du fait de ces limitations   \n",
       "3173  la plus complète définition qu'ait jamais donn...   \n",
       "3180      cette méthode se révélant a priori non-viable   \n",
       "3183                                           K.DINGIR   \n",
       "3184                                 l'écluse de Prades   \n",
       "\n",
       "                                          goldlabel  \\\n",
       "19                                    Ulysses Grant   \n",
       "65                              mareyeur Boulonnais   \n",
       "76                             d’acheter un esclave   \n",
       "81    Sont observés également une tendance à l'auto   \n",
       "82                    viennent puiser l’inspiration   \n",
       "...                                             ...   \n",
       "3171                  Peu diplomates et peu persuas   \n",
       "3173                   mal social dans son ensemble   \n",
       "3180                                    vaccination   \n",
       "3183                               Shar-kali-sharri   \n",
       "3184                                         gauche   \n",
       "\n",
       "                                              questions  passages_len   f1  \\\n",
       "19    question: Quel personnalité officialisa la pro...             4  0.0   \n",
       "65    question: Quelle race autre que le cob est fav...             4  0.0   \n",
       "76    question: Qu'est ce qui est plus rentable que ...             4  0.0   \n",
       "81    question: Quels sont les autres problèmes émot...             4  0.0   \n",
       "82    question: Que cherche les poètes dans Pégase ?...             4  0.0   \n",
       "...                                                 ...           ...  ...   \n",
       "3171  question: Pourquoi les Asperger éprouvent des ...             4  0.0   \n",
       "3173  question: Que décrit le discours de Dickens d'...             4  0.0   \n",
       "3180  question: Quelle méthode propose l'APHIS pour ...             4  0.0   \n",
       "3183  question: Quel est le nom du roi de l'empire d...             4  0.0   \n",
       "3184  question: Sur quelle rive est située la prise ...             4  0.0   \n",
       "\n",
       "      exact  \n",
       "19        0  \n",
       "65        0  \n",
       "76        0  \n",
       "81        0  \n",
       "82        0  \n",
       "...     ...  \n",
       "3171      0  \n",
       "3173      0  \n",
       "3180      0  \n",
       "3183      0  \n",
       "3184      0  \n",
       "\n",
       "[453 rows x 6 columns]"
      ]
     },
     "execution_count": 122,
     "metadata": {},
     "output_type": "execute_result"
    }
   ],
   "source": [
    "data.loc[data.f1 ==0]"
   ]
  },
  {
   "cell_type": "code",
   "execution_count": 123,
   "metadata": {},
   "outputs": [],
   "source": [
    "data.questions = data.questions.str.replace(\"question:\", \"\").str.replace(\"</s>\", \"\")"
   ]
  },
  {
   "cell_type": "code",
   "execution_count": 124,
   "metadata": {},
   "outputs": [],
   "source": [
    "import re"
   ]
  },
  {
   "cell_type": "code",
   "execution_count": 125,
   "metadata": {},
   "outputs": [],
   "source": [
    "def get_question_type(question):\n",
    "    \"\"\"\n",
    "    Process the question and get the type from it \n",
    "    \"\"\"\n",
    "    question = deaccent(question)\n",
    "    question = question.lower()\n",
    "    question = re.sub(r'\\b(en|sur|de|a|par)\\b', '', question)\n",
    "    question = re.sub(r'\\b(quels|quelle|quelles)\\b', 'quel', question)\n",
    "    question = question.strip()\n",
    "    question_type = question.split(\" \")[0]\n",
    "    return question_type"
   ]
  },
  {
   "cell_type": "code",
   "execution_count": 126,
   "metadata": {},
   "outputs": [
    {
     "data": {
      "text/plain": [
       "'qui'"
      ]
     },
     "execution_count": 126,
     "metadata": {},
     "output_type": "execute_result"
    }
   ],
   "source": [
    "get_question_type(\"de qui vient cette voiture\")"
   ]
  },
  {
   "cell_type": "code",
   "execution_count": 127,
   "metadata": {},
   "outputs": [
    {
     "data": {
      "text/plain": [
       "'comment'"
      ]
     },
     "execution_count": 127,
     "metadata": {},
     "output_type": "execute_result"
    }
   ],
   "source": [
    "get_question_type(\"comment tu t'appele\")"
   ]
  },
  {
   "cell_type": "code",
   "execution_count": 128,
   "metadata": {},
   "outputs": [],
   "source": [
    "data[\"question_type\"] = data.questions.apply(get_question_type)\n",
    "data[\"number_words\"] = data.goldlabel.str.split(\" \").apply(lambda x: len(x))\n",
    "data[\"answer_length\"] = data.goldlabel.str.len()"
   ]
  },
  {
   "cell_type": "code",
   "execution_count": 129,
   "metadata": {},
   "outputs": [],
   "source": [
    "question_prepositions = [\"combien\",\"quand\", \"qui\", \"quel\", \"que\", \"pourquoi\", \"comment\"]"
   ]
  },
  {
   "cell_type": "code",
   "execution_count": 130,
   "metadata": {},
   "outputs": [
    {
     "data": {
      "text/plain": [
       "quel        1029\n",
       "qui          444\n",
       "que          251\n",
       "quand        201\n",
       "combien      171\n",
       "comment      168\n",
       "pourquoi      63\n",
       "Name: question_type, dtype: int64"
      ]
     },
     "execution_count": 130,
     "metadata": {},
     "output_type": "execute_result"
    }
   ],
   "source": [
    "data[\"question_type\"].value_counts().loc[question_prepositions].sort_values(ascending=False)"
   ]
  },
  {
   "cell_type": "code",
   "execution_count": 131,
   "metadata": {},
   "outputs": [],
   "source": [
    "question_type_count = data[\"question_type\"].value_counts()"
   ]
  },
  {
   "cell_type": "code",
   "execution_count": 132,
   "metadata": {},
   "outputs": [
    {
     "data": {
      "text/plain": [
       "dict_keys(['quel', 'qui', 'que', 'quand', 'combien', 'comment', 'quoi', 'ou', 'dans', \"qu'est-ce\", 'pourquoi', \"qu'est\", 'pour', 'avec', 'selon', \"d'ou\", 'partir', 'depuis', 'lors'])"
      ]
     },
     "execution_count": 132,
     "metadata": {},
     "output_type": "execute_result"
    }
   ],
   "source": [
    "question_type_count.loc[question_type_count.values >=10].to_dict().keys()"
   ]
  },
  {
   "cell_type": "code",
   "execution_count": 133,
   "metadata": {},
   "outputs": [],
   "source": [
    "data['question_type'] = np.where(data['question_type'].isin(question_type_count.loc[question_type_count.values >=10].to_dict().keys()), data['question_type'], 'Other')"
   ]
  },
  {
   "cell_type": "code",
   "execution_count": 134,
   "metadata": {},
   "outputs": [],
   "source": [
    "data_group_question = data.groupby('question_type').agg({'f1': 'mean', 'exact': 'mean', \"prediction\": \"count\", \"answer_length\": \"mean\", \"number_words\": \"mean\"}).rename({\"prediction\": \"count\"}, axis=1)"
   ]
  },
  {
   "cell_type": "code",
   "execution_count": 138,
   "metadata": {},
   "outputs": [],
   "source": [
    "data_group_question = data_group_question.loc[data_group_question[\"count\"] >=60]\\\n",
    ".sort_values(by=['f1', 'answer_length'], ascending=False)"
   ]
  },
  {
   "cell_type": "code",
   "execution_count": 139,
   "metadata": {},
   "outputs": [],
   "source": [
    "data_group_question = data_group_question.reset_index()"
   ]
  },
  {
   "cell_type": "code",
   "execution_count": 140,
   "metadata": {},
   "outputs": [
    {
     "data": {
      "text/html": [
       "<div>\n",
       "<style scoped>\n",
       "    .dataframe tbody tr th:only-of-type {\n",
       "        vertical-align: middle;\n",
       "    }\n",
       "\n",
       "    .dataframe tbody tr th {\n",
       "        vertical-align: top;\n",
       "    }\n",
       "\n",
       "    .dataframe thead th {\n",
       "        text-align: right;\n",
       "    }\n",
       "</style>\n",
       "<table border=\"1\" class=\"dataframe\">\n",
       "  <thead>\n",
       "    <tr style=\"text-align: right;\">\n",
       "      <th></th>\n",
       "      <th>index</th>\n",
       "      <th>question_type</th>\n",
       "      <th>f1</th>\n",
       "      <th>exact</th>\n",
       "      <th>count</th>\n",
       "      <th>answer_length</th>\n",
       "      <th>number_words</th>\n",
       "    </tr>\n",
       "  </thead>\n",
       "  <tbody>\n",
       "    <tr>\n",
       "      <th>0</th>\n",
       "      <td>0</td>\n",
       "      <td>qui</td>\n",
       "      <td>0.850829</td>\n",
       "      <td>0.756757</td>\n",
       "      <td>444</td>\n",
       "      <td>15.979730</td>\n",
       "      <td>2.484234</td>\n",
       "    </tr>\n",
       "    <tr>\n",
       "      <th>1</th>\n",
       "      <td>1</td>\n",
       "      <td>quand</td>\n",
       "      <td>0.838506</td>\n",
       "      <td>0.681592</td>\n",
       "      <td>201</td>\n",
       "      <td>12.726368</td>\n",
       "      <td>2.691542</td>\n",
       "    </tr>\n",
       "    <tr>\n",
       "      <th>2</th>\n",
       "      <td>2</td>\n",
       "      <td>combien</td>\n",
       "      <td>0.802581</td>\n",
       "      <td>0.643275</td>\n",
       "      <td>171</td>\n",
       "      <td>9.929825</td>\n",
       "      <td>2.064327</td>\n",
       "    </tr>\n",
       "    <tr>\n",
       "      <th>3</th>\n",
       "      <td>3</td>\n",
       "      <td>ou</td>\n",
       "      <td>0.749424</td>\n",
       "      <td>0.503704</td>\n",
       "      <td>135</td>\n",
       "      <td>19.807407</td>\n",
       "      <td>3.451852</td>\n",
       "    </tr>\n",
       "    <tr>\n",
       "      <th>4</th>\n",
       "      <td>4</td>\n",
       "      <td>comment</td>\n",
       "      <td>0.747463</td>\n",
       "      <td>0.547619</td>\n",
       "      <td>168</td>\n",
       "      <td>21.922619</td>\n",
       "      <td>3.547619</td>\n",
       "    </tr>\n",
       "    <tr>\n",
       "      <th>5</th>\n",
       "      <td>5</td>\n",
       "      <td>Other</td>\n",
       "      <td>0.742692</td>\n",
       "      <td>0.539773</td>\n",
       "      <td>176</td>\n",
       "      <td>24.909091</td>\n",
       "      <td>4.153409</td>\n",
       "    </tr>\n",
       "    <tr>\n",
       "      <th>6</th>\n",
       "      <td>6</td>\n",
       "      <td>quel</td>\n",
       "      <td>0.740658</td>\n",
       "      <td>0.573372</td>\n",
       "      <td>1029</td>\n",
       "      <td>19.840622</td>\n",
       "      <td>3.265306</td>\n",
       "    </tr>\n",
       "    <tr>\n",
       "      <th>7</th>\n",
       "      <td>7</td>\n",
       "      <td>dans</td>\n",
       "      <td>0.736208</td>\n",
       "      <td>0.479675</td>\n",
       "      <td>123</td>\n",
       "      <td>20.292683</td>\n",
       "      <td>3.390244</td>\n",
       "    </tr>\n",
       "    <tr>\n",
       "      <th>8</th>\n",
       "      <td>8</td>\n",
       "      <td>qu'est-ce</td>\n",
       "      <td>0.724847</td>\n",
       "      <td>0.568182</td>\n",
       "      <td>88</td>\n",
       "      <td>30.227273</td>\n",
       "      <td>4.965909</td>\n",
       "    </tr>\n",
       "    <tr>\n",
       "      <th>9</th>\n",
       "      <td>9</td>\n",
       "      <td>que</td>\n",
       "      <td>0.712482</td>\n",
       "      <td>0.529880</td>\n",
       "      <td>251</td>\n",
       "      <td>32.286853</td>\n",
       "      <td>5.310757</td>\n",
       "    </tr>\n",
       "    <tr>\n",
       "      <th>10</th>\n",
       "      <td>10</td>\n",
       "      <td>quoi</td>\n",
       "      <td>0.706247</td>\n",
       "      <td>0.471429</td>\n",
       "      <td>140</td>\n",
       "      <td>28.250000</td>\n",
       "      <td>4.578571</td>\n",
       "    </tr>\n",
       "    <tr>\n",
       "      <th>11</th>\n",
       "      <td>12</td>\n",
       "      <td>pourquoi</td>\n",
       "      <td>0.681338</td>\n",
       "      <td>0.365079</td>\n",
       "      <td>63</td>\n",
       "      <td>38.412698</td>\n",
       "      <td>6.555556</td>\n",
       "    </tr>\n",
       "  </tbody>\n",
       "</table>\n",
       "</div>"
      ],
      "text/plain": [
       "    index question_type        f1     exact  count  answer_length  \\\n",
       "0       0           qui  0.850829  0.756757    444      15.979730   \n",
       "1       1         quand  0.838506  0.681592    201      12.726368   \n",
       "2       2       combien  0.802581  0.643275    171       9.929825   \n",
       "3       3            ou  0.749424  0.503704    135      19.807407   \n",
       "4       4       comment  0.747463  0.547619    168      21.922619   \n",
       "5       5         Other  0.742692  0.539773    176      24.909091   \n",
       "6       6          quel  0.740658  0.573372   1029      19.840622   \n",
       "7       7          dans  0.736208  0.479675    123      20.292683   \n",
       "8       8     qu'est-ce  0.724847  0.568182     88      30.227273   \n",
       "9       9           que  0.712482  0.529880    251      32.286853   \n",
       "10     10          quoi  0.706247  0.471429    140      28.250000   \n",
       "11     12      pourquoi  0.681338  0.365079     63      38.412698   \n",
       "\n",
       "    number_words  \n",
       "0       2.484234  \n",
       "1       2.691542  \n",
       "2       2.064327  \n",
       "3       3.451852  \n",
       "4       3.547619  \n",
       "5       4.153409  \n",
       "6       3.265306  \n",
       "7       3.390244  \n",
       "8       4.965909  \n",
       "9       5.310757  \n",
       "10      4.578571  \n",
       "11      6.555556  "
      ]
     },
     "execution_count": 140,
     "metadata": {},
     "output_type": "execute_result"
    }
   ],
   "source": [
    "data_group_question"
   ]
  },
  {
   "cell_type": "code",
   "execution_count": 141,
   "metadata": {},
   "outputs": [],
   "source": [
    "data_group_question = data_group_question.rename({\"f1\": \"f1-score\", \"exact\": \"Exact Match\"}, axis=\"columns\")"
   ]
  },
  {
   "cell_type": "code",
   "execution_count": 142,
   "metadata": {},
   "outputs": [],
   "source": [
    "data_question_group_melt = data_group_question.melt(id_vars=\"question_type\", value_vars=[\"f1-score\", \"Exact Match\"])"
   ]
  },
  {
   "cell_type": "code",
   "execution_count": 143,
   "metadata": {},
   "outputs": [],
   "source": [
    "data_question_group_melt.value = data_question_group_melt.value * 100"
   ]
  },
  {
   "cell_type": "code",
   "execution_count": 144,
   "metadata": {},
   "outputs": [
    {
     "data": {
      "image/png": "[encoded data removed]",
      "text/plain": [
       "<Figure size 1080x720 with 1 Axes>"
      ]
     },
     "metadata": {
      "needs_background": "light"
     },
     "output_type": "display_data"
    }
   ],
   "source": [
    "fig, ax1 = plt.subplots(figsize=(15, 10))\n",
    "sns.barplot(x='question_type', y='value', hue='variable', data=data_question_group_melt, ax=ax1)\n",
    "ax1.yaxis.set_major_formatter(matplotlib.ticker.FuncFormatter(lambda x, p: numerize.numerize(x)))\n",
    "sns.despine(fig)"
   ]
  },
  {
   "cell_type": "code",
   "execution_count": null,
   "metadata": {},
   "outputs": [],
   "source": []
  },
  {
   "cell_type": "code",
   "execution_count": null,
   "metadata": {
    "scrolled": true
   },
   "outputs": [],
   "source": [
    "print(data_group_question.to_latex(float_format=\"{:0.2f}\".format))"
   ]
  },
  {
   "cell_type": "code",
   "execution_count": null,
   "metadata": {},
   "outputs": [],
   "source": [
    "data.head()"
   ]
  },
  {
   "cell_type": "code",
   "execution_count": null,
   "metadata": {},
   "outputs": [],
   "source": [
    "data_group_by_answer_length = data.groupby(\"number_words\")\\\n",
    ".agg({\"f1\": 'mean', \"exact\": \"mean\", \"goldlabel\": \"count\"})\\\n",
    ".query(\"goldlabel > 1\").reset_index()"
   ]
  },
  {
   "cell_type": "code",
   "execution_count": null,
   "metadata": {},
   "outputs": [],
   "source": [
    "data_group_by_answer_length"
   ]
  },
  {
   "cell_type": "code",
   "execution_count": null,
   "metadata": {
    "scrolled": false
   },
   "outputs": [],
   "source": [
    "data_group_by_answer_length.plot(x=\"number_words\", y=[\"f1\", \"exact\"])\n",
    "plt.show()"
   ]
  },
  {
   "cell_type": "code",
   "execution_count": null,
   "metadata": {},
   "outputs": [],
   "source": [
    "data.loc[data.question_type == \"que\"]"
   ]
  },
  {
   "cell_type": "code",
   "execution_count": null,
   "metadata": {},
   "outputs": [],
   "source": [
    "data.groupby('number_words')\\\n",
    "        .agg({'f1': 'mean', \n",
    "              'exact': 'mean', \n",
    "              \"prediction\": \"count\"}).rename({\"prediction\": \"count\"}, axis=1)"
   ]
  },
  {
   "cell_type": "code",
   "execution_count": null,
   "metadata": {},
   "outputs": [],
   "source": [
    "data.head()"
   ]
  },
  {
   "cell_type": "code",
   "execution_count": null,
   "metadata": {},
   "outputs": [],
   "source": [
    "data.loc[data.f1 == 0].to_csv(results_path.joinpath(\"four-paragraph-incorect-results-validation.csv\"))"
   ]
  },
  {
   "cell_type": "markdown",
   "metadata": {},
   "source": [
    "### Experiments analysis"
   ]
  },
  {
   "cell_type": "code",
   "execution_count": null,
   "metadata": {},
   "outputs": [],
   "source": [
    "experiments = pd.read_csv(current_working_directory.joinpath(\"experiments-results.csv\"),\n",
    "                          usecols=[\"f1_score\", \"exact_matches\", \"Name\", \"Start Time\"])"
   ]
  },
  {
   "cell_type": "code",
   "execution_count": null,
   "metadata": {},
   "outputs": [],
   "source": [
    "experiments = experiments.sort_values(\"Start Time\", ascending=False).dropna(subset=[\"Name\", \"exact_matches\"])"
   ]
  },
  {
   "cell_type": "code",
   "execution_count": null,
   "metadata": {},
   "outputs": [],
   "source": [
    "import re"
   ]
  },
  {
   "cell_type": "code",
   "execution_count": null,
   "metadata": {},
   "outputs": [],
   "source": [
    "experiments"
   ]
  },
  {
   "cell_type": "code",
   "execution_count": null,
   "metadata": {},
   "outputs": [],
   "source": [
    "good_experiments = experiments[experiments.Name.str.lower().str.contains(\"paragraph-train-fquad\")]"
   ]
  },
  {
   "cell_type": "code",
   "execution_count": null,
   "metadata": {},
   "outputs": [],
   "source": [
    "good_experiments[\"number_context\"] = good_experiments.Name.str.split(\"-\", expand=True)[0]"
   ]
  },
  {
   "cell_type": "code",
   "execution_count": null,
   "metadata": {},
   "outputs": [],
   "source": [
    "good_experiments.Name.str.split(\"_\", expand=True)[1].fillna(\"train\")"
   ]
  },
  {
   "cell_type": "code",
   "execution_count": null,
   "metadata": {},
   "outputs": [],
   "source": [
    "good_experiments[\"subset\"] = good_experiments.Name.str.split(\"_\", expand=True)[1].fillna(\"val\")"
   ]
  },
  {
   "cell_type": "code",
   "execution_count": null,
   "metadata": {},
   "outputs": [],
   "source": [
    "good_experiments.f1_score = good_experiments.f1_score.round(2)\n",
    "good_experiments.exact_matches = good_experiments.exact_matches.round(2)"
   ]
  },
  {
   "cell_type": "code",
   "execution_count": null,
   "metadata": {},
   "outputs": [],
   "source": [
    "good_experiments.sort_values(by='f1_score', ascending=False)"
   ]
  },
  {
   "cell_type": "code",
   "execution_count": 35,
   "metadata": {},
   "outputs": [],
   "source": [
    "import seaborn as sns\n",
    "import matplotlib.pyplot as plt"
   ]
  },
  {
   "cell_type": "code",
   "execution_count": null,
   "metadata": {},
   "outputs": [],
   "source": [
    "plt.figure(figsize=(10, 6))\n",
    "sns.barplot(x=\"number_context\", hue=\"subset\", y=\"exact_matches\", data=good_experiments)\n",
    "plt.show()"
   ]
  },
  {
   "cell_type": "code",
   "execution_count": null,
   "metadata": {},
   "outputs": [],
   "source": [
    "good_experiments_table = good_experiments.pivot(index='number_context', columns='subset', values=['f1_score', 'exact_matches'])"
   ]
  },
  {
   "cell_type": "code",
   "execution_count": null,
   "metadata": {},
   "outputs": [],
   "source": [
    "print(good_experiments_table.to_latex())"
   ]
  },
  {
   "cell_type": "code",
   "execution_count": null,
   "metadata": {},
   "outputs": [],
   "source": [
    "good_experiments_table.columns"
   ]
  },
  {
   "cell_type": "code",
   "execution_count": null,
   "metadata": {},
   "outputs": [],
   "source": [
    "dataset_length = {\"fquad\" : {\"train\": 20731, \"validation\": 3188, \"test\": 2189 },\n",
    "                   \"piaf\": {\"base\": 3835, \"additional_without_answers\": 11812}}"
   ]
  },
  {
   "cell_type": "code",
   "execution_count": 36,
   "metadata": {},
   "outputs": [
    {
     "data": {
      "image/png": "[encoded data removed]",
      "text/plain": [
       "<Figure size 432x288 with 1 Axes>"
      ]
     },
     "metadata": {
      "needs_background": "light"
     },
     "output_type": "display_data"
    }
   ],
   "source": [
    "import matplotlib\n",
    "import matplotlib.pyplot as plt\n",
    "import numpy as np\n",
    "\n",
    "labels = ['G1', 'G2', 'G3', 'G4']\n",
    "labels2 = ['F1', 'F2'] \n",
    "male = [1, 3, 10, 20]\n",
    "female = [2, 7]\n",
    "female_2 = [3, 11]\n",
    "\n",
    "x_male = np.arange(len(male))\n",
    "x_female = np.arange(len(female))\n",
    "\n",
    "offset_male = np.zeros(len(male))\n",
    "offset_female = np.zeros(len(female))\n",
    "\n",
    "shorter = min(len(x_male), len(x_female))\n",
    "\n",
    "width = 0.25  # the width of the bars\n",
    "\n",
    "offset_male[:shorter] = width/2\n",
    "offset_female[:shorter] = width/2\n",
    "\n",
    "fig, ax = plt.subplots()\n",
    "rects1 = ax.bar(x_male - offset_male, male, width, label='male')\n",
    "rects2 = ax.bar(x_female + offset_female, female, width, label='other')\n",
    "rects3 = ax.bar(x_female + 3 * offset_female, female_2, width, label='female')\n",
    "\n",
    "# Add some text for labels, title and custom x-axis tick labels, etc.\n",
    "ax.set_xticks(x_male)\n",
    "ax.set_xticklabels(labels)\n",
    "ax.legend()\n",
    "\n",
    "fig.tight_layout()\n",
    "plt.show()"
   ]
  },
  {
   "cell_type": "code",
   "execution_count": 27,
   "metadata": {},
   "outputs": [
    {
     "data": {
      "text/html": [
       "<div>\n",
       "<style scoped>\n",
       "    .dataframe tbody tr th:only-of-type {\n",
       "        vertical-align: middle;\n",
       "    }\n",
       "\n",
       "    .dataframe tbody tr th {\n",
       "        vertical-align: top;\n",
       "    }\n",
       "\n",
       "    .dataframe thead th {\n",
       "        text-align: right;\n",
       "    }\n",
       "</style>\n",
       "<table border=\"1\" class=\"dataframe\">\n",
       "  <thead>\n",
       "    <tr style=\"text-align: right;\">\n",
       "      <th></th>\n",
       "      <th>Our Dataset</th>\n",
       "      <th>Squad Open</th>\n",
       "    </tr>\n",
       "    <tr>\n",
       "      <th>Dataset</th>\n",
       "      <th></th>\n",
       "      <th></th>\n",
       "    </tr>\n",
       "  </thead>\n",
       "  <tbody>\n",
       "    <tr>\n",
       "      <th>train</th>\n",
       "      <td>21116.0</td>\n",
       "      <td>50000.0</td>\n",
       "    </tr>\n",
       "    <tr>\n",
       "      <th>validation</th>\n",
       "      <td>3188.0</td>\n",
       "      <td>5000.0</td>\n",
       "    </tr>\n",
       "    <tr>\n",
       "      <th>test</th>\n",
       "      <td>5565.0</td>\n",
       "      <td>5000.0</td>\n",
       "    </tr>\n",
       "  </tbody>\n",
       "</table>\n",
       "</div>"
      ],
      "text/plain": [
       "            Our Dataset  Squad Open\n",
       "Dataset                            \n",
       "train           21116.0     50000.0\n",
       "validation       3188.0      5000.0\n",
       "test             5565.0      5000.0"
      ]
     },
     "execution_count": 27,
     "metadata": {},
     "output_type": "execute_result"
    }
   ],
   "source": [
    "ourdataset_size = [20731 + 385, 3188, 5565]\n",
    "squad_dataset = [50000, 50000*10/100, 50000 * 10/100]\n",
    "split = [\"train\", \"validation\", \"test\"]\n",
    "\n",
    "data = pd.DataFrame([ourdataset_size, squad_dataset])\n",
    "data = data.T\n",
    "data.columns = [\"Our Dataset\", \"Squad Open\"]\n",
    "data.index = split\n",
    "data.index.name = \"Dataset\"\n",
    "data"
   ]
  },
  {
   "cell_type": "code",
   "execution_count": 28,
   "metadata": {},
   "outputs": [],
   "source": [
    "data = data.T.reset_index().melt(id_vars=\"index\")"
   ]
  },
  {
   "cell_type": "code",
   "execution_count": 29,
   "metadata": {},
   "outputs": [],
   "source": [
    "data = data.rename({\"index\": \"Datasets\", \"Dataset\": \"split\", \"value\": \"number of questions\"}, axis=\"columns\")"
   ]
  },
  {
   "cell_type": "code",
   "execution_count": 30,
   "metadata": {},
   "outputs": [
    {
     "data": {
      "text/html": [
       "<div>\n",
       "<style scoped>\n",
       "    .dataframe tbody tr th:only-of-type {\n",
       "        vertical-align: middle;\n",
       "    }\n",
       "\n",
       "    .dataframe tbody tr th {\n",
       "        vertical-align: top;\n",
       "    }\n",
       "\n",
       "    .dataframe thead th {\n",
       "        text-align: right;\n",
       "    }\n",
       "</style>\n",
       "<table border=\"1\" class=\"dataframe\">\n",
       "  <thead>\n",
       "    <tr style=\"text-align: right;\">\n",
       "      <th></th>\n",
       "      <th>Datasets</th>\n",
       "      <th>split</th>\n",
       "      <th>number of questions</th>\n",
       "    </tr>\n",
       "  </thead>\n",
       "  <tbody>\n",
       "    <tr>\n",
       "      <th>0</th>\n",
       "      <td>Our Dataset</td>\n",
       "      <td>train</td>\n",
       "      <td>21116.0</td>\n",
       "    </tr>\n",
       "    <tr>\n",
       "      <th>1</th>\n",
       "      <td>Squad Open</td>\n",
       "      <td>train</td>\n",
       "      <td>50000.0</td>\n",
       "    </tr>\n",
       "    <tr>\n",
       "      <th>2</th>\n",
       "      <td>Our Dataset</td>\n",
       "      <td>validation</td>\n",
       "      <td>3188.0</td>\n",
       "    </tr>\n",
       "    <tr>\n",
       "      <th>3</th>\n",
       "      <td>Squad Open</td>\n",
       "      <td>validation</td>\n",
       "      <td>5000.0</td>\n",
       "    </tr>\n",
       "    <tr>\n",
       "      <th>4</th>\n",
       "      <td>Our Dataset</td>\n",
       "      <td>test</td>\n",
       "      <td>5565.0</td>\n",
       "    </tr>\n",
       "    <tr>\n",
       "      <th>5</th>\n",
       "      <td>Squad Open</td>\n",
       "      <td>test</td>\n",
       "      <td>5000.0</td>\n",
       "    </tr>\n",
       "  </tbody>\n",
       "</table>\n",
       "</div>"
      ],
      "text/plain": [
       "      Datasets       split  number of questions\n",
       "0  Our Dataset       train              21116.0\n",
       "1   Squad Open       train              50000.0\n",
       "2  Our Dataset  validation               3188.0\n",
       "3   Squad Open  validation               5000.0\n",
       "4  Our Dataset        test               5565.0\n",
       "5   Squad Open        test               5000.0"
      ]
     },
     "execution_count": 30,
     "metadata": {},
     "output_type": "execute_result"
    }
   ],
   "source": [
    "data"
   ]
  },
  {
   "cell_type": "code",
   "execution_count": 33,
   "metadata": {},
   "outputs": [],
   "source": [
    "from numerize import numerize"
   ]
  },
  {
   "cell_type": "code",
   "execution_count": 37,
   "metadata": {},
   "outputs": [
    {
     "data": {
      "image/png": "[encoded data removed]",
      "text/plain": [
       "<Figure size 720x720 with 1 Axes>"
      ]
     },
     "metadata": {
      "needs_background": "light"
     },
     "output_type": "display_data"
    }
   ],
   "source": [
    "fig, ax1 = plt.subplots(figsize=(10, 10))\n",
    "sns.barplot(x='Datasets', y='number of questions', hue='split', data=data, ax=ax1)\n",
    "ax1.yaxis.set_major_formatter(matplotlib.ticker.FuncFormatter(lambda x, p: numerize.numerize(x)))\n",
    "sns.despine(fig)"
   ]
  },
  {
   "cell_type": "code",
   "execution_count": null,
   "metadata": {},
   "outputs": [],
   "source": [
    "ourdataset_size = [20731 + 385, 3188, 5565]\n",
    "squad_dataset = [50000, 50000*10/100, 50000 * 10/100]\n",
    "split = [\"train\", \"validation\", \"test\"]"
   ]
  },
  {
   "cell_type": "code",
   "execution_count": 158,
   "metadata": {},
   "outputs": [
    {
     "data": {
      "image/png": "[encoded data removed]",
      "text/plain": [
       "<Figure size 432x432 with 1 Axes>"
      ]
     },
     "metadata": {
      "needs_background": "light"
     },
     "output_type": "display_data"
    }
   ],
   "source": [
    "fquad = [20731, 3188, 0]\n",
    "piaf = [3835, 0, 5565]\n",
    "\n",
    "\n",
    "df = pd.DataFrame({'FQuad' : fquad, 'PIAF' : piaf}, index=[\"Train\", \"Validation\", \"Test\"])\n",
    "ax = df.plot.bar(stacked=True);\n",
    "\n",
    "ax.figure.set_size_inches(6,6)\n",
    "\n",
    "ax.legend(loc='upper right')\n",
    "ax.tick_params(axis='x', labelrotation=0)"
   ]
  },
  {
   "cell_type": "code",
   "execution_count": 148,
   "metadata": {},
   "outputs": [
    {
     "data": {
      "text/html": [
       "<div>\n",
       "<style scoped>\n",
       "    .dataframe tbody tr th:only-of-type {\n",
       "        vertical-align: middle;\n",
       "    }\n",
       "\n",
       "    .dataframe tbody tr th {\n",
       "        vertical-align: top;\n",
       "    }\n",
       "\n",
       "    .dataframe thead th {\n",
       "        text-align: right;\n",
       "    }\n",
       "</style>\n",
       "<table border=\"1\" class=\"dataframe\">\n",
       "  <thead>\n",
       "    <tr style=\"text-align: right;\">\n",
       "      <th></th>\n",
       "      <th>a</th>\n",
       "      <th>b</th>\n",
       "      <th>c</th>\n",
       "    </tr>\n",
       "  </thead>\n",
       "  <tbody>\n",
       "    <tr>\n",
       "      <th>0</th>\n",
       "      <td>3</td>\n",
       "      <td>3</td>\n",
       "      <td>3</td>\n",
       "    </tr>\n",
       "    <tr>\n",
       "      <th>1</th>\n",
       "      <td>5</td>\n",
       "      <td>4</td>\n",
       "      <td>5</td>\n",
       "    </tr>\n",
       "    <tr>\n",
       "      <th>2</th>\n",
       "      <td>4</td>\n",
       "      <td>5</td>\n",
       "      <td>4</td>\n",
       "    </tr>\n",
       "    <tr>\n",
       "      <th>3</th>\n",
       "      <td>2</td>\n",
       "      <td>2</td>\n",
       "      <td>6</td>\n",
       "    </tr>\n",
       "    <tr>\n",
       "      <th>4</th>\n",
       "      <td>1</td>\n",
       "      <td>1</td>\n",
       "      <td>1</td>\n",
       "    </tr>\n",
       "  </tbody>\n",
       "</table>\n",
       "</div>"
      ],
      "text/plain": [
       "   a  b  c\n",
       "0  3  3  3\n",
       "1  5  4  5\n",
       "2  4  5  4\n",
       "3  2  2  6\n",
       "4  1  1  1"
      ]
     },
     "execution_count": 148,
     "metadata": {},
     "output_type": "execute_result"
    }
   ],
   "source": [
    "df"
   ]
  },
  {
   "cell_type": "markdown",
   "metadata": {},
   "source": [
    "Positive\n",
    "\n",
    "{\n",
    "    \"question\": \"Qui est la voix française régulière de Harrison Ford ?\",\n",
    "    \"answer\": \"Richard Darbois\",\n",
    "    \"contexts\": [\n",
    "        {\n",
    "            \"title\": \"harrison-ford\",\n",
    "            \"content\": \"En version française, Richard Darbois est la voix régulière d'Harrison Ford depuis Blade Runner en 1982. Il l'a ensuite doublé notamment dans Indiana Jones et la Dernière Croisade et sa suite, Le Fugitif, Présumé Innocent, Ennemis rapprochés ainsi que dans Le Réveil de la Force (le premier film de la troisième trilogie de Star Wars,). Auparavant, Francis Lax, a été la première voix la plus fréquente d'Harrison Ford dans quelques-uns de ses premiers grands rôles (notamment celui de Han Solo dans la première trilogie de Star Wars composée de La Guerre des étoiles, L'Empire contre-attaque et Le Retour du Jedi ainsi que pour le deuxième volet d’Indiana Jones et le Temple maudit). Occasionnellement, Claude Giraud l'a aussi doublé à trois reprises (Guerre et Passion, Indiana Jones et les Aventuriers de l'Arche perdue et pour la série Les Aventures du jeune Indiana Jones,) et Yves-Marie Maurin est sa voix pour le rôle de Bob Falfa lors de la duologie American Graffiti et sa suite. À titre exceptionnel, il a aussi été doublé par Mario Santini pour la série télévisée Kung Fu, Daniel Gall pour le premier doublage du film Conversation secrète, Jean Roche pour le téléfilm The Possessed, François Leccia dans L'ouragan vient de Navarone, Bernard Woringer dans la première version du film Apocalypse Now, Michel Creton dans Le Rabbin au Far West et Jean Barney dans Mosquito Coast.\"\n",
    "        },\n",
    "        {\n",
    "            \"title\": \"Les Aventures du jeune Indiana Jones\",\n",
    "            \"content\": \"Curieusement dans la version francaise, Harrison Ford est a nouveau double par Claude Giraud (apres Les Aventuriers de l'arche perdue) et non par Richard Darbois, ce dernier etant pourtant devenu la voix reguliere de l'acteur americain. Par ailleurs dans cette serie, Ford y apparait avec une barbe imposante du fait qu'il l'avait laissee pousser pour les biens du film qu'il s'appretait a tourner, Le Fugitif.\"\n",
    "        },\n",
    "        {\n",
    "            \"title\": \"Indiana Jones et le Temple maudit\",\n",
    "            \"content\": \" Dans la version francaise, Harrison Ford est double par le comedien Francis Lax. Ce dernier devient ainsi la seconde voix d'Indiana Jones (apres avoir ete celle de Han Solo dans la saga Star Wars) succedant a Claude Giraud (dans Les Aventuriers de l'arche perdue) puis precedant Richard Darbois qui doublera les deux films suivants (La Derniere Croisade et Le Royaume du crane de cristal).\"\n",
    "        },\n",
    "        {\n",
    "            \"title\": \"Francis Lax\",\n",
    "            \"content\": \"Francis Lax a double Harrison Ford dans la premiere trilogie Star Wars (episode IV a VI) entre 1977 et 1983 puis dans Indiana Jones et le Temple maudit en 1984. Il fut en quelque sorte la premiere voix reguliere de celui-ci, bien avant Richard Darbois (a partir de 1989). En 1997, lorsque l'episode IV de Star Wars est ressorti en Edition speciale avec notamment une nouvelle scene dans laquelle Han Solo negocie avec Jabba le Hutt, Lax refit des essais sur Harrison Ford mais, sa voix ayant vieilli avec les annees, il fut remplace par Gabriel Le Doze pour le doublage de la scene. Tout comme Lax, Gabriel Le Doze a double le personnage de Lex Luthor, interprete par Kevin Spacey dans Superman Returns (2006).\"\n",
    "        },\n",
    "        {\n",
    "            \"title\": \"Harrison Ford\",\n",
    "            \"content\": \"En version francaise, Richard Darbois est la voix reguliere d'Harrison Ford depuis  en 1982. Il le double notamment dans Indiana Jones et la Derniere Croisade et sa suite, Le Fugitif, Presume Innocent, Ennemis rapproches ainsi que dans Le Reveil de la Force et L'Ascension de Skywalker (troisieme trilogie de Star Wars). Auparavant, Francis Lax a ete la premiere voix la plus frequente d'Harrison Ford dans quelques-uns de ses premiers grands roles (notamment celui de Han Solo dans la premiere trilogie de Star Wars composee de La Guerre des etoiles, L'Empire contre-attaque et Le Retour du Jedi ainsi que pour le deuxieme volet d’Indiana Jones et le Temple maudit). Occasionnellement, Claude Giraud l'a aussi double a trois reprises (Guerre et Passion, Indiana Jones et les Aventuriers de l'Arche perdue et pour la serie Les Aventures du jeune Indiana Jones) et Yves-Marie Maurin est sa voix pour le role de Bob Falfa lors de la duologie  et sa suite. A titre exceptionnel, il a aussi ete double par Mario Santini pour la serie televisee Kung Fu, Daniel Gall pour le premier doublage du film Conversation secrete, Jean Roche pour le telefilm , Francois Leccia dans L'ouragan vient de Navarone, Bernard Woringer dans la premiere version du film , Michel Creton dans Le Rabbin au Far West et Jean Barney dans .\"\n",
    "        },\n",
    "        {\n",
    "            \"title\": \"Indiana Jones et le Royaume du crâne de cristal\",\n",
    "            \"content\": \" Dans la version francaise-quebecoise, Richard Darbois, lui-meme originaire du Quebec, devait initialement doubler Harrison Ford. C'est finalement Alain Zouvi qui a ete choisi. Ce choix a ete longuement conteste au Quebec, les fans et Steven Spielberg lui-meme tenant a ce que ce soit Richard Darbois qui le double pour assurer une continuite dans les films.\"\n",
    "        }\n",
    "    ],\n",
    "    \"id\": \"49c5087f-c159-443b-8ded-b08818bbfc6d\"\n",
    "}\n",
    "\n",
    "\n"
   ]
  },
  {
   "cell_type": "code",
   "execution_count": null,
   "metadata": {},
   "outputs": [],
   "source": []
  },
  {
   "cell_type": "code",
   "execution_count": null,
   "metadata": {},
   "outputs": [],
   "source": [
    "Synonyms\n",
    "prediction,goldlabel\n",
    "éclair,la luminosité et la splendeur, Que signifie pipa- ?\n",
    "120,pyrotechnie,chimie appliquée aux arts militaires et, Qu'enseigne Monsieur Chevreuse ? ,4,0.0,0,Other,6,39\n",
    "l’hippogriffe,un monstre marin, Que combat Roger pour délivrer angélique ?\n",
    "\n",
    "\n",
    "Wrong opposite\n",
    "rouge,vert, De quel couleur est l'ange musicien jouant de la vièle ?\n",
    "grec,hébreu, De quelle langue provient le nom Babel ?\n",
    "n'a pas encore piloté de voiture de la saison,dans le cadre d'essais privés destinés à, Pourquoi Nuvolari est-il invité à conduire pour Alfa Romeo en 1924 ?\n",
    "afin de ne pas « tuer l'action,\"pouvoir recruter, sans frais pour un film à petit budget,\", pourquoi Amalric décide-t-il d'inviter gratuitement les gens à assister aux scènes de spectacle pour le tournage de son film ?\n",
    "\n",
    "\n",
    "\n",
    "\n"
   ]
  },
  {
   "cell_type": "code",
   "execution_count": 1,
   "metadata": {},
   "outputs": [
    {
     "name": "stderr",
     "output_type": "stream",
     "text": [
      "WARNING - haystack -  Object '__file__' is imported through a deprecated path. Please check out the docs for the new import path.\n",
      "WARNING - haystack -  Object '__file__' is imported through a deprecated path. Please check out the docs for the new import path.\n",
      "WARNING - haystack -  Object '__file__' is imported through a deprecated path. Please check out the docs for the new import path.\n",
      "WARNING - haystack -  Object '__file__' is imported through a deprecated path. Please check out the docs for the new import path.\n",
      "WARNING - haystack -  Object '__file__' is imported through a deprecated path. Please check out the docs for the new import path.\n",
      "WARNING - haystack -  Object '__file__' is imported through a deprecated path. Please check out the docs for the new import path.\n",
      "WARNING - haystack -  Object '__file__' is imported through a deprecated path. Please check out the docs for the new import path.\n",
      "WARNING - haystack -  Object '__file__' is imported through a deprecated path. Please check out the docs for the new import path.\n",
      "WARNING - haystack -  Object '__file__' is imported through a deprecated path. Please check out the docs for the new import path.\n",
      "WARNING - haystack -  Object '__file__' is imported through a deprecated path. Please check out the docs for the new import path.\n",
      "WARNING - haystack -  Object '__file__' is imported through a deprecated path. Please check out the docs for the new import path.\n",
      "WARNING - haystack -  Object '__file__' is imported through a deprecated path. Please check out the docs for the new import path.\n",
      "WARNING - haystack -  Object '__file__' is imported through a deprecated path. Please check out the docs for the new import path.\n",
      "WARNING - haystack -  Object '__file__' is imported through a deprecated path. Please check out the docs for the new import path.\n",
      "WARNING - haystack -  Object '__file__' is imported through a deprecated path. Please check out the docs for the new import path.\n",
      "WARNING - haystack -  Object '__file__' is imported through a deprecated path. Please check out the docs for the new import path.\n",
      "WARNING - haystack -  Object '__file__' is imported through a deprecated path. Please check out the docs for the new import path.\n",
      "WARNING - haystack -  Object '__file__' is imported through a deprecated path. Please check out the docs for the new import path.\n",
      "WARNING - haystack -  Object '__file__' is imported through a deprecated path. Please check out the docs for the new import path.\n",
      "WARNING - haystack -  Object '__file__' is imported through a deprecated path. Please check out the docs for the new import path.\n",
      "WARNING - haystack -  Object '__file__' is imported through a deprecated path. Please check out the docs for the new import path.\n",
      "WARNING - haystack -  Object '__file__' is imported through a deprecated path. Please check out the docs for the new import path.\n",
      "WARNING - haystack -  Object '__file__' is imported through a deprecated path. Please check out the docs for the new import path.\n",
      "WARNING - haystack -  Object '__file__' is imported through a deprecated path. Please check out the docs for the new import path.\n",
      "WARNING - haystack -  Object '__file__' is imported through a deprecated path. Please check out the docs for the new import path.\n",
      "WARNING - haystack -  Object '__file__' is imported through a deprecated path. Please check out the docs for the new import path.\n",
      "WARNING - haystack -  Object '__file__' is imported through a deprecated path. Please check out the docs for the new import path.\n",
      "WARNING - haystack -  Object '__file__' is imported through a deprecated path. Please check out the docs for the new import path.\n",
      "WARNING - haystack -  Object '__file__' is imported through a deprecated path. Please check out the docs for the new import path.\n",
      "WARNING - haystack -  Object '__file__' is imported through a deprecated path. Please check out the docs for the new import path.\n",
      "WARNING - haystack -  Object '__file__' is imported through a deprecated path. Please check out the docs for the new import path.\n"
     ]
    }
   ],
   "source": [
    "from haystack.nodes import BM25Retriever"
   ]
  },
  {
   "cell_type": "code",
   "execution_count": 2,
   "metadata": {},
   "outputs": [],
   "source": [
    "from tqdm import tqdm\n",
    "from tqdm.asyncio import tqdm_asyncio\n",
    "from haystack.document_stores import ElasticsearchDocumentStore"
   ]
  },
  {
   "cell_type": "code",
   "execution_count": 3,
   "metadata": {},
   "outputs": [],
   "source": [
    "INDEX_NAME = 'fr-wikipedia'"
   ]
  },
  {
   "cell_type": "code",
   "execution_count": 4,
   "metadata": {},
   "outputs": [
    {
     "name": "stderr",
     "output_type": "stream",
     "text": [
      "/Users/es.py/Projects/Personal/unsupervised-open-domain-french-question-answering/.venv/lib/python3.9/site-packages/elasticsearch/connection/base.py:190: ElasticsearchDeprecationWarning: Elasticsearch built-in security features are not enabled. Without authentication, your cluster could be accessible to anyone. See https://www.elastic.co/guide/en/elasticsearch/reference/7.16/security-minimal-setup.html to enable security.\n",
      "  warnings.warn(message, category=ElasticsearchDeprecationWarning)\n"
     ]
    }
   ],
   "source": [
    "\n",
    "document_store = ElasticsearchDocumentStore(index=INDEX_NAME, recreate_index=False, analyzer=\"french\")"
   ]
  },
  {
   "cell_type": "code",
   "execution_count": 5,
   "metadata": {},
   "outputs": [],
   "source": [
    "bm25_retriever = BM25Retriever(document_store=document_store, all_terms_must_match=False)"
   ]
  },
  {
   "cell_type": "code",
   "execution_count": 15,
   "metadata": {},
   "outputs": [],
   "source": [
    "from gensim.utils import deaccent"
   ]
  },
  {
   "cell_type": "code",
   "execution_count": 30,
   "metadata": {},
   "outputs": [
    {
     "name": "stdout",
     "output_type": "stream",
     "text": [
      "Retriever query: {'size': '100', 'query': {'bool': {'must': [{'multi_match': {'query': \"De quel couleur est l'ange musicien jouant de la vièle\", 'type': 'most_fields', 'fields': ['content'], 'operator': 'OR'}}]}}}\n"
     ]
    },
    {
     "name": "stderr",
     "output_type": "stream",
     "text": [
      "/Users/es.py/Projects/Personal/unsupervised-open-domain-french-question-answering/.venv/lib/python3.9/site-packages/elasticsearch/connection/base.py:190: ElasticsearchDeprecationWarning: Elasticsearch built-in security features are not enabled. Without authentication, your cluster could be accessible to anyone. See https://www.elastic.co/guide/en/elasticsearch/reference/7.16/security-minimal-setup.html to enable security.\n",
      "  warnings.warn(message, category=ElasticsearchDeprecationWarning)\n"
     ]
    }
   ],
   "source": [
    "paragraphs = bm25_retriever.retrieve(query=\"De quel couleur est l'ange musicien jouant de la vièle\", top_k=100)"
   ]
  },
  {
   "cell_type": "code",
   "execution_count": 31,
   "metadata": {},
   "outputs": [
    {
     "name": "stdout",
     "output_type": "stream",
     "text": [
      "0\n",
      "==*==*==*==*==*==*==*==*==*==*\n",
      "Les titres modernes des œuvres correspondent a leur description. Ils sont etablis dans l'ensemble de la litterature scientifique en Ange musicien en rouge jouant du luth et Ange musicien en vert jouant de la viele. Neanmoins, concernant ce dernier tableau, la plupart des historiens de l'art specialises en peinture identifient incorrectement l'instrument joue par l'ange avec une viele alors qu'il joue de la . Bien qu'il devrait etre Ange musicien en vert jouant de la lira da braccio, c'est donc un titre qui s'est impose de facon impropre, aussi bien en francais qu'en anglais.\n",
      "1\n",
      "==*==*==*==*==*==*==*==*==*==*\n",
      "A cette occasion le retable est demonte et restructure, comme le montrent les marques de sciage des deux panneaux des Anges musiciens indiquant que leurs dimensions ont ete modifiees. De meme les couleurs du fond ont-elles subi de profonds changements : lAnge musicien en vert jouant de la viele presentait un arriere-plan ou le vert dominait et un paysage aux couleurs vertes et bleues, tandis que lAnge musicien en rouge jouant du luth proposait une niche de couleur rougeatre imitant certainement la pierre. Or, les fonds ont ete repeints en gris, dans le but probable d'uniformiser les couleurs.\n",
      "2\n",
      "==*==*==*==*==*==*==*==*==*==*\n",
      "Les deux tableaux sont dates entre 1495 et 1499. Le premier s'intitule Ange musicien en vert jouant de la viele ; il est depuis longtemps attribue au peintre italien de la Renaissance Giovanni Ambrogio de Predis, mais la recherche recente montre qu'il pourrait plutot etre du a Francesco Napoletano, l'un des eleves de Leonard de Vinci. Le second, nomme Ange musicien en rouge jouant du luth, est generalement attribue a Ambrogio de Predis. L'influence de Leonard de Vinci est patente dans le traitement de ces sujets classiques.\n",
      "4\n",
      "==*==*==*==*==*==*==*==*==*==*\n",
      "Des analyses conduites en 1974 et confirmees par une etude recente a l'aide de la reflectographie par infrarouge montrent que les panneaux ont subi une profonde modification des couleurs du fond : lAnge musicien en vert jouant de la viele presentait en arriere-plan une baie dont l'encadrement etait vert et ouvrait sur un paysage aux couleurs vertes et bleues ; quant a lAnge musicien en rouge jouant du luth, l'arriere-plan formait une niche de couleur rougeatre imitant certainement la pierre. Or, les œuvres ont subi un repeint en gris sans doute destine a uniformiser les couleurs. D'apres l'hypothese de Rachel Billinge, Luke Syson et Marika Spring, comme les panneaux surplombaient celui de La Vierge aux rochers, l’eclat de leurs teintes ne pouvait detonner avec lui ; en revanche, une fois deplaces de part et d’autre, se revelait un contraste si flagrant qu’un repeint dans des couleurs neutres s’imposait.\n",
      "6\n",
      "==*==*==*==*==*==*==*==*==*==*\n",
      "En 1576, la chapelle de l'Immaculee Conception etant detruite, le retable est deplace dans l'eglise pour etre installe plus durablement dans une autre chapelle, qui prend des lors le nom de l'« Immaculee Conception ». A cette occasion, il se peut qu'il soit restructure pour adopter la forme usuellement decrite depuis par les historiens de l'art. Neanmoins ce besoin de restructuration demeure largement conjecturel puisque l'hypothese d'un schema structurel du retable different avant 1576 demeure tres minoritaire chez les chercheurs. De plus, le listage des demandes faites dans le contrat emploie bien le terme « lateraux » : . Quoi qu'il en soit, un temoignage de 1671 decrit le retable avec le panneau de La Vierge aux rochers encadre par les panneaux des Anges musiciens : le panneau de gauche est lAnge musicien en vert jouant de la viele et celui de droite lAnge musicien en rouge jouant du luth.\n",
      "23\n",
      "==*==*==*==*==*==*==*==*==*==*\n",
      "De 1725 a 1731, l'eglise fut decoree de marbre de deux couleurs, le vert et le blanc, donnant l'impression d'etoffes precieuses tendues sur les parois et le sol. Les voutes sont decorees de fresques de Louis Dorigny, dans le chœur Les Anges musiciens en gloire, datant de 1720; et de Francesco Fontebasso Abraham adorant les trois anges et la Vision de Saint Jean l'Evangeliste au plafond de la nef, de 1734.\n",
      "30\n",
      "==*==*==*==*==*==*==*==*==*==*\n",
      "Des feuillets de partitions sont presentes dans les natures mortes (surtout baroques), dans la peinture de genre, dans les peintures de vanites, ou a sujet mythologique ou religieux. Sainte Cecile, protectrice de la musique, est souvent representee en jouant un instrument et un ange reste a ses cotes, pour soutenir la partition ouverte. Des notations musicales apparaissent en gravures, des , parfois avec des sujets ridicules et satiriques ; ou bien gravees avec des reproductions de peintures celebres, ou des portraits de musiciens ou de chanteurs. L'utilisation de la partition est etendue a la peinture sur ceramique et aux figurines de musiciens en porcelaine.\n",
      "37\n",
      "==*==*==*==*==*==*==*==*==*==*\n",
      "Les deux tableaux sont portes sur un support identique : des panneaux de peuplier. Tous deux utilisent le meme medium : de la peinture a l'huile de noix. Leurs dimensions, tres proches, sont de  pour l’Ange musicien en vert et de  pour l’Ange musicien en rouge.\n",
      "44\n",
      "==*==*==*==*==*==*==*==*==*==*\n",
      "Avec ses douves reliees a un etang de , et son parc, il beneficie de multiples protections au titre des monuments historiques : classement en 1946 pour la porte d'entree, les poternes, les facades et toitures ; classement en 1950 pour la chapelle (dediee a saint Jean l’Evangeliste et a saint Etienne) dont la voute est recouverte de peintures representant un concert d'anges musiciens. Les instruments qui y sont representes sont la harpe, le psalterion, le luth, l'orgue, la viele a crochet, le triangle, la flute a bec et la flute a une main, la cornemuse, la chalemie, les trompettes et les buisines ; inscription en 2002 du reste du chateau.\n",
      "49\n",
      "==*==*==*==*==*==*==*==*==*==*\n",
      "Le violon a integre sans changement organologique la musique orientale depuis le , mais sa technique et sa position de jeu ont evolue : on le tient en effet a la verticale sur le genou et les melismes y sont frequents. Il s'adapte parfaitement aux contraintes microtonales.Irak : le violon appele keman remplace a volonte la viele djoza au sein des ensembles executant les maqams de la musique arabe savante.Iran : le violon est tres apprecie ici et il remplace a volonte la viele kamanche dans les ensembles jouant la musique iranienne savante. Il est sans doute a l'origine de l'ajout d'une quatrieme corde au kamanche d'ailleurs. Il existe une grande ecole de violon, et les compositeurs n'hesitent pas a ecrire des concertos selon tel ou tel dastgah pour lui.Israel : a la suite de l'immigration massive des juifs ashkenazes, nombre de musiciens talentueux des pays de l'Est se sont retrouves dans ce pays ou le violon accompagne desormais les danses folkloriques.Turquie : le violon a ete integre a la musique savante turque et celle des derviches tourneurs (avec la viole d'amour) sous le nom de keman ; il remplace a souhait la viele kemence dans l'interpretation des makams. Les Tziganes l'utilisent aussi dans la musique populaire.\n",
      "69\n",
      "==*==*==*==*==*==*==*==*==*==*\n",
      "Le jeudi  est revelee la decouverte d'une fresque qui daterait du , a l'occasion de travaux de renovation. Selon les premiers sondages effectues, la fresque de couleur rouge et ocre s’etale sur une surface de 300 m2. Les Monuments historiques evoquent une « decouverte exceptionnelle d’envergure nationale ». Cette fresque, representant des anges musiciens, a ete mise au jour sur la voute interieure de cette eglise, derriere un crepi qui a ete retire.\n",
      "73\n",
      "==*==*==*==*==*==*==*==*==*==*\n",
      "La ronde de ces douze anges doit correspondre aux douze heures du jour et aux douze mois de l'annee, suivant les preches de Savonarole ; comme les couleurs des trois anges du toit invoquant les trois Vertus theologales :  blanc pour la Foi, rouge pour la Charite et vert pour l'Esperance ; comme ceux du bas qui portent les memes couleurs en anges sauvant les humains des limbes, et ainsi que les demons chasses.\n",
      "89\n",
      "==*==*==*==*==*==*==*==*==*==*\n",
      "Le ca hue est une ancienne forme de musique de chambre aristocratique liee au divertissement au centre du pays. Le dan hue ou nhac hue en est la musique, datant du . Il est interprete par une chanteuse accompagnee d'un ensemble de trois ou cinq instruments a cordes (luths, cithare et vieles : Ngu Tuyet : les cinq parfaits) jouant sur les modes bac et nam.\n"
     ]
    }
   ],
   "source": [
    "for index, paragraph in enumerate(paragraphs):\n",
    "    if deaccent(\"vert\") in paragraph.content:\n",
    "        print(index)\n",
    "        print(10 * \"==*\")\n",
    "        print(paragraph.content)"
   ]
  },
  {
   "cell_type": "code",
   "execution_count": 32,
   "metadata": {},
   "outputs": [
    {
     "data": {
      "text/plain": [
       "\" La dalle funeraire a effigies gravees du chanoine Rigaud d'Aurillac, mort en 1347. L'œuvre, en pierre de liais, est enrichie de marbre (tete aux traits effaces). Coiffe de l'aumusse, les pieds reposant sur un epagneul, symbole de fidelite, le defunt est represente dans une architecture du gothique rayonnant, entoure de deux anges thuriferaires et de dix anges musiciens jouant de la trompette, de la cornemuse, du tambour, de la viele ou encore de l'orgue portatif.\""
      ]
     },
     "execution_count": 32,
     "metadata": {},
     "output_type": "execute_result"
    }
   ],
   "source": [
    "paragraphs[3].content"
   ]
  },
  {
   "cell_type": "code",
   "execution_count": 34,
   "metadata": {},
   "outputs": [],
   "source": [
    "import pandas as pd"
   ]
  },
  {
   "cell_type": "code",
   "execution_count": 86,
   "metadata": {},
   "outputs": [],
   "source": [
    "sample_data = pd.read_clipboard()"
   ]
  },
  {
   "cell_type": "code",
   "execution_count": 87,
   "metadata": {},
   "outputs": [
    {
     "data": {
      "text/html": [
       "<div>\n",
       "<style scoped>\n",
       "    .dataframe tbody tr th:only-of-type {\n",
       "        vertical-align: middle;\n",
       "    }\n",
       "\n",
       "    .dataframe tbody tr th {\n",
       "        vertical-align: top;\n",
       "    }\n",
       "\n",
       "    .dataframe thead th {\n",
       "        text-align: right;\n",
       "    }\n",
       "</style>\n",
       "<table border=\"1\" class=\"dataframe\">\n",
       "  <thead>\n",
       "    <tr style=\"text-align: right;\">\n",
       "      <th></th>\n",
       "      <th>Question</th>\n",
       "      <th>Top four contexts</th>\n",
       "      <th>Gold Answer</th>\n",
       "      <th>Predicted Answer</th>\n",
       "    </tr>\n",
       "  </thead>\n",
       "  <tbody>\n",
       "    <tr>\n",
       "      <th>0</th>\n",
       "      <td>De quelle langue provient le nom Babel ?</td>\n",
       "      <td>Le nom du poisson renvoie au recit biblique de la Tour de Babel, qui decrit ...</td>\n",
       "      <td>Hebreu</td>\n",
       "      <td>Grec</td>\n",
       "    </tr>\n",
       "    <tr>\n",
       "      <th>1</th>\n",
       "      <td>NaN</td>\n",
       "      <td>Comme  WordNet, BabelNet regroupe les mots de differentes langues par groupe...</td>\n",
       "      <td>NaN</td>\n",
       "      <td>NaN</td>\n",
       "    </tr>\n",
       "    <tr>\n",
       "      <th>2</th>\n",
       "      <td>NaN</td>\n",
       "      <td>Yu, Xiuying. \"Review of De l’un au multiple : Traductions du chinois vers l...</td>\n",
       "      <td>NaN</td>\n",
       "      <td>NaN</td>\n",
       "    </tr>\n",
       "    <tr>\n",
       "      <th>3</th>\n",
       "      <td>NaN</td>\n",
       "      <td>D'autre part, le nom meme de Babel, nom hebreu de Babylone, fut tire de l'ak...</td>\n",
       "      <td>NaN</td>\n",
       "      <td>NaN</td>\n",
       "    </tr>\n",
       "    <tr>\n",
       "      <th>4</th>\n",
       "      <td>Que combat Roger pour délivrer angélique?</td>\n",
       "      <td>Le Roland furieux, decrit comme une œuvre majeure inscrite dans la continuit...</td>\n",
       "      <td>un monstre marin</td>\n",
       "      <td>l’hippogriffe</td>\n",
       "    </tr>\n",
       "  </tbody>\n",
       "</table>\n",
       "</div>"
      ],
      "text/plain": [
       "                                    Question  \\\n",
       "0   De quelle langue provient le nom Babel ?   \n",
       "1                                        NaN   \n",
       "2                                        NaN   \n",
       "3                                        NaN   \n",
       "4  Que combat Roger pour délivrer angélique?   \n",
       "\n",
       "                                                                 Top four contexts  \\\n",
       "0  Le nom du poisson renvoie au recit biblique de la Tour de Babel, qui decrit ...   \n",
       "1  Comme  WordNet, BabelNet regroupe les mots de differentes langues par groupe...   \n",
       "2   Yu, Xiuying. \"Review of De l’un au multiple : Traductions du chinois vers l...   \n",
       "3  D'autre part, le nom meme de Babel, nom hebreu de Babylone, fut tire de l'ak...   \n",
       "4  Le Roland furieux, decrit comme une œuvre majeure inscrite dans la continuit...   \n",
       "\n",
       "        Gold Answer Predicted Answer  \n",
       "0            Hebreu             Grec  \n",
       "1               NaN              NaN  \n",
       "2               NaN              NaN  \n",
       "3               NaN              NaN  \n",
       "4  un monstre marin    l’hippogriffe  "
      ]
     },
     "execution_count": 87,
     "metadata": {},
     "output_type": "execute_result"
    }
   ],
   "source": [
    "sample_data.head()"
   ]
  },
  {
   "cell_type": "code",
   "execution_count": 88,
   "metadata": {},
   "outputs": [],
   "source": [
    "sample_data[\"gold_without_na\"] = sample_data[\"Gold Answer\"].fillna(method=\"ffill\")"
   ]
  },
  {
   "cell_type": "code",
   "execution_count": 89,
   "metadata": {},
   "outputs": [
    {
     "data": {
      "text/html": [
       "<div>\n",
       "<style scoped>\n",
       "    .dataframe tbody tr th:only-of-type {\n",
       "        vertical-align: middle;\n",
       "    }\n",
       "\n",
       "    .dataframe tbody tr th {\n",
       "        vertical-align: top;\n",
       "    }\n",
       "\n",
       "    .dataframe thead th {\n",
       "        text-align: right;\n",
       "    }\n",
       "</style>\n",
       "<table border=\"1\" class=\"dataframe\">\n",
       "  <thead>\n",
       "    <tr style=\"text-align: right;\">\n",
       "      <th></th>\n",
       "      <th>Question</th>\n",
       "      <th>Top four contexts</th>\n",
       "      <th>Gold Answer</th>\n",
       "      <th>Predicted Answer</th>\n",
       "      <th>gold_without_na</th>\n",
       "    </tr>\n",
       "  </thead>\n",
       "  <tbody>\n",
       "    <tr>\n",
       "      <th>0</th>\n",
       "      <td>De quelle langue provient le nom Babel ?</td>\n",
       "      <td>Le nom du poisson renvoie au recit biblique de la Tour de Babel, qui decrit ...</td>\n",
       "      <td>Hebreu</td>\n",
       "      <td>Grec</td>\n",
       "      <td>Hebreu</td>\n",
       "    </tr>\n",
       "    <tr>\n",
       "      <th>1</th>\n",
       "      <td>NaN</td>\n",
       "      <td>Comme  WordNet, BabelNet regroupe les mots de differentes langues par groupe...</td>\n",
       "      <td>NaN</td>\n",
       "      <td>NaN</td>\n",
       "      <td>Hebreu</td>\n",
       "    </tr>\n",
       "    <tr>\n",
       "      <th>2</th>\n",
       "      <td>NaN</td>\n",
       "      <td>Yu, Xiuying. \"Review of De l’un au multiple : Traductions du chinois vers l...</td>\n",
       "      <td>NaN</td>\n",
       "      <td>NaN</td>\n",
       "      <td>Hebreu</td>\n",
       "    </tr>\n",
       "    <tr>\n",
       "      <th>3</th>\n",
       "      <td>NaN</td>\n",
       "      <td>D'autre part, le nom meme de Babel, nom hebreu de Babylone, fut tire de l'ak...</td>\n",
       "      <td>NaN</td>\n",
       "      <td>NaN</td>\n",
       "      <td>Hebreu</td>\n",
       "    </tr>\n",
       "    <tr>\n",
       "      <th>4</th>\n",
       "      <td>Que combat Roger pour délivrer angélique?</td>\n",
       "      <td>Le Roland furieux, decrit comme une œuvre majeure inscrite dans la continuit...</td>\n",
       "      <td>un monstre marin</td>\n",
       "      <td>l’hippogriffe</td>\n",
       "      <td>un monstre marin</td>\n",
       "    </tr>\n",
       "    <tr>\n",
       "      <th>5</th>\n",
       "      <td>NaN</td>\n",
       "      <td>Angelique Collet doit delivrer la reine Angelique Limoges retenue prisonnier...</td>\n",
       "      <td>NaN</td>\n",
       "      <td>NaN</td>\n",
       "      <td>un monstre marin</td>\n",
       "    </tr>\n",
       "    <tr>\n",
       "      <th>6</th>\n",
       "      <td>NaN</td>\n",
       "      <td>L'historien des religions Salomon Reinach affirme que Pegase n'a jamais serv...</td>\n",
       "      <td>NaN</td>\n",
       "      <td>NaN</td>\n",
       "      <td>un monstre marin</td>\n",
       "    </tr>\n",
       "    <tr>\n",
       "      <th>7</th>\n",
       "      <td>NaN</td>\n",
       "      <td>Il existe toutefois des interpretations du mythe de Pegase, posterieures aux...</td>\n",
       "      <td>NaN</td>\n",
       "      <td>NaN</td>\n",
       "      <td>un monstre marin</td>\n",
       "    </tr>\n",
       "    <tr>\n",
       "      <th>8</th>\n",
       "      <td>De quel couleur est l'ange musicien jouant de la vièle</td>\n",
       "      <td>Les titres modernes des œuvres correspondent a leur description. Ils sont et...</td>\n",
       "      <td>vert</td>\n",
       "      <td>Rouge</td>\n",
       "      <td>vert</td>\n",
       "    </tr>\n",
       "    <tr>\n",
       "      <th>9</th>\n",
       "      <td>NaN</td>\n",
       "      <td>A cette occasion le retable est demonte et restructure, comme le montrent le...</td>\n",
       "      <td>NaN</td>\n",
       "      <td>NaN</td>\n",
       "      <td>vert</td>\n",
       "    </tr>\n",
       "    <tr>\n",
       "      <th>10</th>\n",
       "      <td>NaN</td>\n",
       "      <td>Les deux tableaux sont dates entre 1495 et 1499. Le premier s'intitule Ange ...</td>\n",
       "      <td>NaN</td>\n",
       "      <td>NaN</td>\n",
       "      <td>vert</td>\n",
       "    </tr>\n",
       "    <tr>\n",
       "      <th>11</th>\n",
       "      <td>NaN</td>\n",
       "      <td>La dalle funeraire a effigies gravees du chanoine Rigaud d'Aurillac, mort en...</td>\n",
       "      <td>NaN</td>\n",
       "      <td>NaN</td>\n",
       "      <td>vert</td>\n",
       "    </tr>\n",
       "    <tr>\n",
       "      <th>12</th>\n",
       "      <td>De quelle société Hal B. Wallis fait-il parti ?</td>\n",
       "      <td>Dans les années 1940, Casablanca était une ville paisible sur l'Atlantique j...</td>\n",
       "      <td>Warner Bros</td>\n",
       "      <td>Warner Bros</td>\n",
       "      <td>Warner Bros</td>\n",
       "    </tr>\n",
       "    <tr>\n",
       "      <th>13</th>\n",
       "      <td>NaN</td>\n",
       "      <td>Les cadres de la Warner, soumis au Code Hays, envisagerent pour de bon de su...</td>\n",
       "      <td>NaN</td>\n",
       "      <td>NaN</td>\n",
       "      <td>Warner Bros</td>\n",
       "    </tr>\n",
       "    <tr>\n",
       "      <th>14</th>\n",
       "      <td>NaN</td>\n",
       "      <td>En 1948, Harold Hecht, ancien choregraphe et desormais agent artistique de L...</td>\n",
       "      <td>NaN</td>\n",
       "      <td>NaN</td>\n",
       "      <td>Warner Bros</td>\n",
       "    </tr>\n",
       "    <tr>\n",
       "      <th>15</th>\n",
       "      <td>NaN</td>\n",
       "      <td>La Warner Bros. engage  pour ecrire une premiere version du scenario mais Ha...</td>\n",
       "      <td>NaN</td>\n",
       "      <td>NaN</td>\n",
       "      <td>Warner Bros</td>\n",
       "    </tr>\n",
       "    <tr>\n",
       "      <th>16</th>\n",
       "      <td>Le combientième canal à bief de partage de France est le canal de Briare ?</td>\n",
       "      <td>En 1642 a été inauguré le canal de Briare, premier canal à bief de partage c...</td>\n",
       "      <td>premier</td>\n",
       "      <td>premier</td>\n",
       "      <td>premier</td>\n",
       "    </tr>\n",
       "    <tr>\n",
       "      <th>17</th>\n",
       "      <td>NaN</td>\n",
       "      <td>Le canal de Briare permet a la navigation de relier les fleuves de Loire et ...</td>\n",
       "      <td>NaN</td>\n",
       "      <td>NaN</td>\n",
       "      <td>premier</td>\n",
       "    </tr>\n",
       "    <tr>\n",
       "      <th>18</th>\n",
       "      <td>NaN</td>\n",
       "      <td>Le canal de Briare permet a la navigation de relier les fleuves de Loire et ...</td>\n",
       "      <td>NaN</td>\n",
       "      <td>NaN</td>\n",
       "      <td>premier</td>\n",
       "    </tr>\n",
       "    <tr>\n",
       "      <th>19</th>\n",
       "      <td>NaN</td>\n",
       "      <td>Mis en service en 1642, le canal de Briare est un des plus anciens canaux de...</td>\n",
       "      <td>NaN</td>\n",
       "      <td>NaN</td>\n",
       "      <td>premier</td>\n",
       "    </tr>\n",
       "    <tr>\n",
       "      <th>20</th>\n",
       "      <td>Quel est le travail de Jack Ryan ?</td>\n",
       "      <td>En 1989, il se voit proposer le rôle de Jack Ryan pour jouer dans À la pours...</td>\n",
       "      <td>analyste de la CIA</td>\n",
       "      <td>analyste de la CIA</td>\n",
       "      <td>analyste de la CIA</td>\n",
       "    </tr>\n",
       "    <tr>\n",
       "      <th>21</th>\n",
       "      <td>NaN</td>\n",
       "      <td>Du cote americain, Jack Ryan, un analyste de la CIA qui connait Ramius, en a...</td>\n",
       "      <td>NaN</td>\n",
       "      <td>NaN</td>\n",
       "      <td>analyste de la CIA</td>\n",
       "    </tr>\n",
       "    <tr>\n",
       "      <th>22</th>\n",
       "      <td>NaN</td>\n",
       "      <td>Un ancien analyste de la CIA, Jack Ryan, est desormais professeur a l'Ecole ...</td>\n",
       "      <td>NaN</td>\n",
       "      <td>NaN</td>\n",
       "      <td>analyste de la CIA</td>\n",
       "    </tr>\n",
       "    <tr>\n",
       "      <th>23</th>\n",
       "      <td>NaN</td>\n",
       "      <td>Et en tant qu'acteur : il revient aux series televisees pour preter ses trai...</td>\n",
       "      <td>NaN</td>\n",
       "      <td>NaN</td>\n",
       "      <td>analyste de la CIA</td>\n",
       "    </tr>\n",
       "  </tbody>\n",
       "</table>\n",
       "</div>"
      ],
      "text/plain": [
       "                                                                      Question  \\\n",
       "0                                     De quelle langue provient le nom Babel ?   \n",
       "1                                                                          NaN   \n",
       "2                                                                          NaN   \n",
       "3                                                                          NaN   \n",
       "4                                    Que combat Roger pour délivrer angélique?   \n",
       "5                                                                          NaN   \n",
       "6                                                                          NaN   \n",
       "7                                                                          NaN   \n",
       "8                       De quel couleur est l'ange musicien jouant de la vièle   \n",
       "9                                                                          NaN   \n",
       "10                                                                         NaN   \n",
       "11                                                                         NaN   \n",
       "12                             De quelle société Hal B. Wallis fait-il parti ?   \n",
       "13                                                                         NaN   \n",
       "14                                                                         NaN   \n",
       "15                                                                         NaN   \n",
       "16  Le combientième canal à bief de partage de France est le canal de Briare ?   \n",
       "17                                                                         NaN   \n",
       "18                                                                         NaN   \n",
       "19                                                                         NaN   \n",
       "20                                          Quel est le travail de Jack Ryan ?   \n",
       "21                                                                         NaN   \n",
       "22                                                                         NaN   \n",
       "23                                                                         NaN   \n",
       "\n",
       "                                                                  Top four contexts  \\\n",
       "0   Le nom du poisson renvoie au recit biblique de la Tour de Babel, qui decrit ...   \n",
       "1   Comme  WordNet, BabelNet regroupe les mots de differentes langues par groupe...   \n",
       "2    Yu, Xiuying. \"Review of De l’un au multiple : Traductions du chinois vers l...   \n",
       "3   D'autre part, le nom meme de Babel, nom hebreu de Babylone, fut tire de l'ak...   \n",
       "4   Le Roland furieux, decrit comme une œuvre majeure inscrite dans la continuit...   \n",
       "5   Angelique Collet doit delivrer la reine Angelique Limoges retenue prisonnier...   \n",
       "6   L'historien des religions Salomon Reinach affirme que Pegase n'a jamais serv...   \n",
       "7   Il existe toutefois des interpretations du mythe de Pegase, posterieures aux...   \n",
       "8   Les titres modernes des œuvres correspondent a leur description. Ils sont et...   \n",
       "9   A cette occasion le retable est demonte et restructure, comme le montrent le...   \n",
       "10  Les deux tableaux sont dates entre 1495 et 1499. Le premier s'intitule Ange ...   \n",
       "11  La dalle funeraire a effigies gravees du chanoine Rigaud d'Aurillac, mort en...   \n",
       "12  Dans les années 1940, Casablanca était une ville paisible sur l'Atlantique j...   \n",
       "13  Les cadres de la Warner, soumis au Code Hays, envisagerent pour de bon de su...   \n",
       "14  En 1948, Harold Hecht, ancien choregraphe et desormais agent artistique de L...   \n",
       "15  La Warner Bros. engage  pour ecrire une premiere version du scenario mais Ha...   \n",
       "16  En 1642 a été inauguré le canal de Briare, premier canal à bief de partage c...   \n",
       "17  Le canal de Briare permet a la navigation de relier les fleuves de Loire et ...   \n",
       "18  Le canal de Briare permet a la navigation de relier les fleuves de Loire et ...   \n",
       "19  Mis en service en 1642, le canal de Briare est un des plus anciens canaux de...   \n",
       "20  En 1989, il se voit proposer le rôle de Jack Ryan pour jouer dans À la pours...   \n",
       "21  Du cote americain, Jack Ryan, un analyste de la CIA qui connait Ramius, en a...   \n",
       "22  Un ancien analyste de la CIA, Jack Ryan, est desormais professeur a l'Ecole ...   \n",
       "23  Et en tant qu'acteur : il revient aux series televisees pour preter ses trai...   \n",
       "\n",
       "           Gold Answer    Predicted Answer     gold_without_na  \n",
       "0               Hebreu                Grec              Hebreu  \n",
       "1                  NaN                 NaN              Hebreu  \n",
       "2                  NaN                 NaN              Hebreu  \n",
       "3                  NaN                 NaN              Hebreu  \n",
       "4     un monstre marin       l’hippogriffe    un monstre marin  \n",
       "5                  NaN                 NaN    un monstre marin  \n",
       "6                  NaN                 NaN    un monstre marin  \n",
       "7                  NaN                 NaN    un monstre marin  \n",
       "8                 vert               Rouge                vert  \n",
       "9                  NaN                 NaN                vert  \n",
       "10                 NaN                 NaN                vert  \n",
       "11                 NaN                 NaN                vert  \n",
       "12         Warner Bros         Warner Bros         Warner Bros  \n",
       "13                 NaN                 NaN         Warner Bros  \n",
       "14                 NaN                 NaN         Warner Bros  \n",
       "15                 NaN                 NaN         Warner Bros  \n",
       "16             premier             premier             premier  \n",
       "17                 NaN                 NaN             premier  \n",
       "18                 NaN                 NaN             premier  \n",
       "19                 NaN                 NaN             premier  \n",
       "20  analyste de la CIA  analyste de la CIA  analyste de la CIA  \n",
       "21                 NaN                 NaN  analyste de la CIA  \n",
       "22                 NaN                 NaN  analyste de la CIA  \n",
       "23                 NaN                 NaN  analyste de la CIA  "
      ]
     },
     "execution_count": 89,
     "metadata": {},
     "output_type": "execute_result"
    }
   ],
   "source": [
    "sample_data"
   ]
  },
  {
   "cell_type": "code",
   "execution_count": 90,
   "metadata": {},
   "outputs": [],
   "source": [
    "sample_data[\"Gold Answer_bf\"]  = sample_data[\"gold_without_na\"].apply(lambda x : (f\"\\textbf{{{x.lower()}}}\"))"
   ]
  },
  {
   "cell_type": "code",
   "execution_count": 91,
   "metadata": {},
   "outputs": [],
   "source": [
    "sample_data['Top four contexts'] = sample_data.apply(lambda x : x['Top four contexts'].replace(x['gold_without_na'].lower(), x[\"Gold Answer_bf\"]), 1)"
   ]
  },
  {
   "cell_type": "code",
   "execution_count": 93,
   "metadata": {},
   "outputs": [],
   "source": [
    "sample_data_cleaned = sample_data.loc[:, [\"Question\", \"Top four contexts\", \"Gold Answer\", \"Predicted Answer\"]]"
   ]
  },
  {
   "cell_type": "code",
   "execution_count": 100,
   "metadata": {},
   "outputs": [],
   "source": [
    "with open('mytable.tex', 'w') as tf:\n",
    "    tf.write(sample_data_cleaned.fillna(\"\").style.to_latex())"
   ]
  },
  {
   "cell_type": "code",
   "execution_count": 79,
   "metadata": {},
   "outputs": [
    {
     "data": {
      "text/html": [
       "<div>\n",
       "<style scoped>\n",
       "    .dataframe tbody tr th:only-of-type {\n",
       "        vertical-align: middle;\n",
       "    }\n",
       "\n",
       "    .dataframe tbody tr th {\n",
       "        vertical-align: top;\n",
       "    }\n",
       "\n",
       "    .dataframe thead th {\n",
       "        text-align: right;\n",
       "    }\n",
       "</style>\n",
       "<table border=\"1\" class=\"dataframe\">\n",
       "  <thead>\n",
       "    <tr style=\"text-align: right;\">\n",
       "      <th></th>\n",
       "      <th></th>\n",
       "      <th>Top four contexts</th>\n",
       "      <th>Predicted Answer</th>\n",
       "      <th>Gold Answer_bf</th>\n",
       "      <th>new</th>\n",
       "    </tr>\n",
       "    <tr>\n",
       "      <th>Question</th>\n",
       "      <th>Gold Answer</th>\n",
       "      <th></th>\n",
       "      <th></th>\n",
       "      <th></th>\n",
       "      <th></th>\n",
       "    </tr>\n",
       "  </thead>\n",
       "  <tbody>\n",
       "    <tr>\n",
       "      <th rowspan=\"4\" valign=\"top\">De quelle langue provient le nom Babel ?</th>\n",
       "      <th>Hebreu</th>\n",
       "      <td>Le nom du poisson renvoie au recit biblique de la Tour de Babel, qui decrit ...</td>\n",
       "      <td>Grec</td>\n",
       "      <td>\\textbf{hebreu}</td>\n",
       "      <td>Le nom du poisson renvoie au recit biblique de la Tour de Babel, qui decrit ...</td>\n",
       "    </tr>\n",
       "    <tr>\n",
       "      <th>Hebreu</th>\n",
       "      <td>Comme  WordNet, BabelNet regroupe les mots de differentes langues par groupe...</td>\n",
       "      <td>Grec</td>\n",
       "      <td>\\textbf{hebreu}</td>\n",
       "      <td>Comme  WordNet, BabelNet regroupe les mots de differentes langues par groupe...</td>\n",
       "    </tr>\n",
       "    <tr>\n",
       "      <th>Hebreu</th>\n",
       "      <td>Yu, Xiuying. \"Review of De l’un au multiple : Traductions du chinois vers l...</td>\n",
       "      <td>Grec</td>\n",
       "      <td>\\textbf{hebreu}</td>\n",
       "      <td>Yu, Xiuying. \"Review of De l’un au multiple : Traductions du chinois vers l...</td>\n",
       "    </tr>\n",
       "    <tr>\n",
       "      <th>Hebreu</th>\n",
       "      <td>D'autre part, le nom meme de Babel, nom \\textbf{hebreu} de Babylone, fut tir...</td>\n",
       "      <td>Grec</td>\n",
       "      <td>\\textbf{hebreu}</td>\n",
       "      <td>D'autre part, le nom meme de Babel, nom \\textbf{hebreu} de Babylone, fut tir...</td>\n",
       "    </tr>\n",
       "    <tr>\n",
       "      <th rowspan=\"4\" valign=\"top\">Que combat Roger pour délivrer angélique?</th>\n",
       "      <th>un monstre marin</th>\n",
       "      <td>Le Roland furieux, decrit comme une œuvre majeure inscrite dans la continuit...</td>\n",
       "      <td>l’hippogriffe</td>\n",
       "      <td>\\textbf{un monstre marin}</td>\n",
       "      <td>Le Roland furieux, decrit comme une œuvre majeure inscrite dans la continuit...</td>\n",
       "    </tr>\n",
       "    <tr>\n",
       "      <th>un monstre marin</th>\n",
       "      <td>Angelique Collet doit delivrer la reine Angelique Limoges retenue prisonnier...</td>\n",
       "      <td>l’hippogriffe</td>\n",
       "      <td>\\textbf{un monstre marin}</td>\n",
       "      <td>Angelique Collet doit delivrer la reine Angelique Limoges retenue prisonnier...</td>\n",
       "    </tr>\n",
       "    <tr>\n",
       "      <th>un monstre marin</th>\n",
       "      <td>L'historien des religions Salomon Reinach affirme que Pegase n'a jamais serv...</td>\n",
       "      <td>l’hippogriffe</td>\n",
       "      <td>\\textbf{un monstre marin}</td>\n",
       "      <td>L'historien des religions Salomon Reinach affirme que Pegase n'a jamais serv...</td>\n",
       "    </tr>\n",
       "    <tr>\n",
       "      <th>un monstre marin</th>\n",
       "      <td>Il existe toutefois des interpretations du mythe de Pegase, posterieures aux...</td>\n",
       "      <td>l’hippogriffe</td>\n",
       "      <td>\\textbf{un monstre marin}</td>\n",
       "      <td>Il existe toutefois des interpretations du mythe de Pegase, posterieures aux...</td>\n",
       "    </tr>\n",
       "    <tr>\n",
       "      <th rowspan=\"4\" valign=\"top\">De quel couleur est l'ange musicien jouant de la vièle</th>\n",
       "      <th>vert</th>\n",
       "      <td>Les titres modernes des œuvres correspondent a leur description. Ils sont et...</td>\n",
       "      <td>Rouge</td>\n",
       "      <td>\\textbf{vert}</td>\n",
       "      <td>Les titres modernes des œuvres correspondent a leur description. Ils sont et...</td>\n",
       "    </tr>\n",
       "    <tr>\n",
       "      <th>vert</th>\n",
       "      <td>A cette occasion le retable est demonte et restructure, comme le montrent le...</td>\n",
       "      <td>Rouge</td>\n",
       "      <td>\\textbf{vert}</td>\n",
       "      <td>A cette occasion le retable est demonte et restructure, comme le montrent le...</td>\n",
       "    </tr>\n",
       "    <tr>\n",
       "      <th>vert</th>\n",
       "      <td>Les deux tableaux sont dates entre 1495 et 1499. Le premier s'intitule Ange ...</td>\n",
       "      <td>Rouge</td>\n",
       "      <td>\\textbf{vert}</td>\n",
       "      <td>Les deux tableaux sont dates entre 1495 et 1499. Le premier s'intitule Ange ...</td>\n",
       "    </tr>\n",
       "    <tr>\n",
       "      <th>vert</th>\n",
       "      <td>La dalle funeraire a effigies gravees du chanoine Rigaud d'Aurillac, mort en...</td>\n",
       "      <td>Rouge</td>\n",
       "      <td>\\textbf{vert}</td>\n",
       "      <td>La dalle funeraire a effigies gravees du chanoine Rigaud d'Aurillac, mort en...</td>\n",
       "    </tr>\n",
       "    <tr>\n",
       "      <th rowspan=\"4\" valign=\"top\">De quelle société Hal B. Wallis fait-il parti ?</th>\n",
       "      <th>Warner Bros</th>\n",
       "      <td>Dans les années 1940, Casablanca était une ville paisible sur l'Atlantique j...</td>\n",
       "      <td>Warner Bros</td>\n",
       "      <td>\\textbf{warner bros}</td>\n",
       "      <td>Dans les années 1940, Casablanca était une ville paisible sur l'Atlantique j...</td>\n",
       "    </tr>\n",
       "    <tr>\n",
       "      <th>Warner Bros</th>\n",
       "      <td>Les cadres de la Warner, soumis au Code Hays, envisagerent pour de bon de su...</td>\n",
       "      <td>Warner Bros</td>\n",
       "      <td>\\textbf{warner bros}</td>\n",
       "      <td>Les cadres de la Warner, soumis au Code Hays, envisagerent pour de bon de su...</td>\n",
       "    </tr>\n",
       "    <tr>\n",
       "      <th>Warner Bros</th>\n",
       "      <td>En 1948, Harold Hecht, ancien choregraphe et desormais agent artistique de L...</td>\n",
       "      <td>Warner Bros</td>\n",
       "      <td>\\textbf{warner bros}</td>\n",
       "      <td>En 1948, Harold Hecht, ancien choregraphe et desormais agent artistique de L...</td>\n",
       "    </tr>\n",
       "    <tr>\n",
       "      <th>Warner Bros</th>\n",
       "      <td>La Warner Bros. engage  pour ecrire une premiere version du scenario mais Ha...</td>\n",
       "      <td>Warner Bros</td>\n",
       "      <td>\\textbf{warner bros}</td>\n",
       "      <td>La Warner Bros. engage  pour ecrire une premiere version du scenario mais Ha...</td>\n",
       "    </tr>\n",
       "    <tr>\n",
       "      <th rowspan=\"4\" valign=\"top\">Le combientième canal à bief de partage de France est le canal de Briare ?</th>\n",
       "      <th>premier</th>\n",
       "      <td>En 1642 a été inauguré le canal de Briare, \\textbf{premier} canal à bief de ...</td>\n",
       "      <td>premier</td>\n",
       "      <td>\\textbf{premier}</td>\n",
       "      <td>En 1642 a été inauguré le canal de Briare, \\textbf{premier} canal à bief de ...</td>\n",
       "    </tr>\n",
       "    <tr>\n",
       "      <th>premier</th>\n",
       "      <td>Le canal de Briare permet a la navigation de relier les fleuves de Loire et ...</td>\n",
       "      <td>premier</td>\n",
       "      <td>\\textbf{premier}</td>\n",
       "      <td>Le canal de Briare permet a la navigation de relier les fleuves de Loire et ...</td>\n",
       "    </tr>\n",
       "    <tr>\n",
       "      <th>premier</th>\n",
       "      <td>Le canal de Briare permet a la navigation de relier les fleuves de Loire et ...</td>\n",
       "      <td>premier</td>\n",
       "      <td>\\textbf{premier}</td>\n",
       "      <td>Le canal de Briare permet a la navigation de relier les fleuves de Loire et ...</td>\n",
       "    </tr>\n",
       "    <tr>\n",
       "      <th>premier</th>\n",
       "      <td>Mis en service en 1642, le canal de Briare est un des plus anciens canaux de...</td>\n",
       "      <td>premier</td>\n",
       "      <td>\\textbf{premier}</td>\n",
       "      <td>Mis en service en 1642, le canal de Briare est un des plus anciens canaux de...</td>\n",
       "    </tr>\n",
       "    <tr>\n",
       "      <th rowspan=\"4\" valign=\"top\">Quel est le travail de Jack Ryan ?</th>\n",
       "      <th>analyste de la CIA</th>\n",
       "      <td>En 1989, il se voit proposer le rôle de Jack Ryan pour jouer dans À la pours...</td>\n",
       "      <td>analyste de la CIA</td>\n",
       "      <td>\\textbf{analyste de la cia}</td>\n",
       "      <td>En 1989, il se voit proposer le rôle de Jack Ryan pour jouer dans À la pours...</td>\n",
       "    </tr>\n",
       "    <tr>\n",
       "      <th>analyste de la CIA</th>\n",
       "      <td>Du cote americain, Jack Ryan, un analyste de la CIA qui connait Ramius, en a...</td>\n",
       "      <td>analyste de la CIA</td>\n",
       "      <td>\\textbf{analyste de la cia}</td>\n",
       "      <td>Du cote americain, Jack Ryan, un analyste de la CIA qui connait Ramius, en a...</td>\n",
       "    </tr>\n",
       "    <tr>\n",
       "      <th>analyste de la CIA</th>\n",
       "      <td>Un ancien analyste de la CIA, Jack Ryan, est desormais professeur a l'Ecole ...</td>\n",
       "      <td>analyste de la CIA</td>\n",
       "      <td>\\textbf{analyste de la cia}</td>\n",
       "      <td>Un ancien analyste de la CIA, Jack Ryan, est desormais professeur a l'Ecole ...</td>\n",
       "    </tr>\n",
       "    <tr>\n",
       "      <th>analyste de la CIA</th>\n",
       "      <td>Et en tant qu'acteur : il revient aux series televisees pour preter ses trai...</td>\n",
       "      <td>analyste de la CIA</td>\n",
       "      <td>\\textbf{analyste de la cia}</td>\n",
       "      <td>Et en tant qu'acteur : il revient aux series televisees pour preter ses trai...</td>\n",
       "    </tr>\n",
       "  </tbody>\n",
       "</table>\n",
       "</div>"
      ],
      "text/plain": [
       "                                                                                                                                                             Top four contexts  \\\n",
       "Question                                                                   Gold Answer                                                                                           \n",
       "De quelle langue provient le nom Babel ?                                   Hebreu              Le nom du poisson renvoie au recit biblique de la Tour de Babel, qui decrit ...   \n",
       "                                                                           Hebreu              Comme  WordNet, BabelNet regroupe les mots de differentes langues par groupe...   \n",
       "                                                                           Hebreu               Yu, Xiuying. \"Review of De l’un au multiple : Traductions du chinois vers l...   \n",
       "                                                                           Hebreu              D'autre part, le nom meme de Babel, nom \\textbf{hebreu} de Babylone, fut tir...   \n",
       "Que combat Roger pour délivrer angélique?                                  un monstre marin    Le Roland furieux, decrit comme une œuvre majeure inscrite dans la continuit...   \n",
       "                                                                           un monstre marin    Angelique Collet doit delivrer la reine Angelique Limoges retenue prisonnier...   \n",
       "                                                                           un monstre marin    L'historien des religions Salomon Reinach affirme que Pegase n'a jamais serv...   \n",
       "                                                                           un monstre marin    Il existe toutefois des interpretations du mythe de Pegase, posterieures aux...   \n",
       "De quel couleur est l'ange musicien jouant de la vièle                     vert                Les titres modernes des œuvres correspondent a leur description. Ils sont et...   \n",
       "                                                                           vert                A cette occasion le retable est demonte et restructure, comme le montrent le...   \n",
       "                                                                           vert                Les deux tableaux sont dates entre 1495 et 1499. Le premier s'intitule Ange ...   \n",
       "                                                                           vert                La dalle funeraire a effigies gravees du chanoine Rigaud d'Aurillac, mort en...   \n",
       "De quelle société Hal B. Wallis fait-il parti ?                            Warner Bros         Dans les années 1940, Casablanca était une ville paisible sur l'Atlantique j...   \n",
       "                                                                           Warner Bros         Les cadres de la Warner, soumis au Code Hays, envisagerent pour de bon de su...   \n",
       "                                                                           Warner Bros         En 1948, Harold Hecht, ancien choregraphe et desormais agent artistique de L...   \n",
       "                                                                           Warner Bros         La Warner Bros. engage  pour ecrire une premiere version du scenario mais Ha...   \n",
       "Le combientième canal à bief de partage de France est le canal de Briare ? premier             En 1642 a été inauguré le canal de Briare, \\textbf{premier} canal à bief de ...   \n",
       "                                                                           premier             Le canal de Briare permet a la navigation de relier les fleuves de Loire et ...   \n",
       "                                                                           premier             Le canal de Briare permet a la navigation de relier les fleuves de Loire et ...   \n",
       "                                                                           premier             Mis en service en 1642, le canal de Briare est un des plus anciens canaux de...   \n",
       "Quel est le travail de Jack Ryan ?                                         analyste de la CIA  En 1989, il se voit proposer le rôle de Jack Ryan pour jouer dans À la pours...   \n",
       "                                                                           analyste de la CIA  Du cote americain, Jack Ryan, un analyste de la CIA qui connait Ramius, en a...   \n",
       "                                                                           analyste de la CIA  Un ancien analyste de la CIA, Jack Ryan, est desormais professeur a l'Ecole ...   \n",
       "                                                                           analyste de la CIA  Et en tant qu'acteur : il revient aux series televisees pour preter ses trai...   \n",
       "\n",
       "                                                                                                 Predicted Answer  \\\n",
       "Question                                                                   Gold Answer                              \n",
       "De quelle langue provient le nom Babel ?                                   Hebreu                            Grec   \n",
       "                                                                           Hebreu                            Grec   \n",
       "                                                                           Hebreu                            Grec   \n",
       "                                                                           Hebreu                            Grec   \n",
       "Que combat Roger pour délivrer angélique?                                  un monstre marin         l’hippogriffe   \n",
       "                                                                           un monstre marin         l’hippogriffe   \n",
       "                                                                           un monstre marin         l’hippogriffe   \n",
       "                                                                           un monstre marin         l’hippogriffe   \n",
       "De quel couleur est l'ange musicien jouant de la vièle                     vert                             Rouge   \n",
       "                                                                           vert                             Rouge   \n",
       "                                                                           vert                             Rouge   \n",
       "                                                                           vert                             Rouge   \n",
       "De quelle société Hal B. Wallis fait-il parti ?                            Warner Bros                Warner Bros   \n",
       "                                                                           Warner Bros                Warner Bros   \n",
       "                                                                           Warner Bros                Warner Bros   \n",
       "                                                                           Warner Bros                Warner Bros   \n",
       "Le combientième canal à bief de partage de France est le canal de Briare ? premier                        premier   \n",
       "                                                                           premier                        premier   \n",
       "                                                                           premier                        premier   \n",
       "                                                                           premier                        premier   \n",
       "Quel est le travail de Jack Ryan ?                                         analyste de la CIA  analyste de la CIA   \n",
       "                                                                           analyste de la CIA  analyste de la CIA   \n",
       "                                                                           analyste de la CIA  analyste de la CIA   \n",
       "                                                                           analyste de la CIA  analyste de la CIA   \n",
       "\n",
       "                                                                                                            Gold Answer_bf  \\\n",
       "Question                                                                   Gold Answer                                       \n",
       "De quelle langue provient le nom Babel ?                                   Hebreu                          \\textbf{hebreu}   \n",
       "                                                                           Hebreu                          \\textbf{hebreu}   \n",
       "                                                                           Hebreu                          \\textbf{hebreu}   \n",
       "                                                                           Hebreu                          \\textbf{hebreu}   \n",
       "Que combat Roger pour délivrer angélique?                                  un monstre marin      \\textbf{un monstre marin}   \n",
       "                                                                           un monstre marin      \\textbf{un monstre marin}   \n",
       "                                                                           un monstre marin      \\textbf{un monstre marin}   \n",
       "                                                                           un monstre marin      \\textbf{un monstre marin}   \n",
       "De quel couleur est l'ange musicien jouant de la vièle                     vert                              \\textbf{vert}   \n",
       "                                                                           vert                              \\textbf{vert}   \n",
       "                                                                           vert                              \\textbf{vert}   \n",
       "                                                                           vert                              \\textbf{vert}   \n",
       "De quelle société Hal B. Wallis fait-il parti ?                            Warner Bros                \\textbf{warner bros}   \n",
       "                                                                           Warner Bros                \\textbf{warner bros}   \n",
       "                                                                           Warner Bros                \\textbf{warner bros}   \n",
       "                                                                           Warner Bros                \\textbf{warner bros}   \n",
       "Le combientième canal à bief de partage de France est le canal de Briare ? premier                        \\textbf{premier}   \n",
       "                                                                           premier                        \\textbf{premier}   \n",
       "                                                                           premier                        \\textbf{premier}   \n",
       "                                                                           premier                        \\textbf{premier}   \n",
       "Quel est le travail de Jack Ryan ?                                         analyste de la CIA  \\textbf{analyste de la cia}   \n",
       "                                                                           analyste de la CIA  \\textbf{analyste de la cia}   \n",
       "                                                                           analyste de la CIA  \\textbf{analyste de la cia}   \n",
       "                                                                           analyste de la CIA  \\textbf{analyste de la cia}   \n",
       "\n",
       "                                                                                                                                                                           new  \n",
       "Question                                                                   Gold Answer                                                                                          \n",
       "De quelle langue provient le nom Babel ?                                   Hebreu              Le nom du poisson renvoie au recit biblique de la Tour de Babel, qui decrit ...  \n",
       "                                                                           Hebreu              Comme  WordNet, BabelNet regroupe les mots de differentes langues par groupe...  \n",
       "                                                                           Hebreu               Yu, Xiuying. \"Review of De l’un au multiple : Traductions du chinois vers l...  \n",
       "                                                                           Hebreu              D'autre part, le nom meme de Babel, nom \\textbf{hebreu} de Babylone, fut tir...  \n",
       "Que combat Roger pour délivrer angélique?                                  un monstre marin    Le Roland furieux, decrit comme une œuvre majeure inscrite dans la continuit...  \n",
       "                                                                           un monstre marin    Angelique Collet doit delivrer la reine Angelique Limoges retenue prisonnier...  \n",
       "                                                                           un monstre marin    L'historien des religions Salomon Reinach affirme que Pegase n'a jamais serv...  \n",
       "                                                                           un monstre marin    Il existe toutefois des interpretations du mythe de Pegase, posterieures aux...  \n",
       "De quel couleur est l'ange musicien jouant de la vièle                     vert                Les titres modernes des œuvres correspondent a leur description. Ils sont et...  \n",
       "                                                                           vert                A cette occasion le retable est demonte et restructure, comme le montrent le...  \n",
       "                                                                           vert                Les deux tableaux sont dates entre 1495 et 1499. Le premier s'intitule Ange ...  \n",
       "                                                                           vert                La dalle funeraire a effigies gravees du chanoine Rigaud d'Aurillac, mort en...  \n",
       "De quelle société Hal B. Wallis fait-il parti ?                            Warner Bros         Dans les années 1940, Casablanca était une ville paisible sur l'Atlantique j...  \n",
       "                                                                           Warner Bros         Les cadres de la Warner, soumis au Code Hays, envisagerent pour de bon de su...  \n",
       "                                                                           Warner Bros         En 1948, Harold Hecht, ancien choregraphe et desormais agent artistique de L...  \n",
       "                                                                           Warner Bros         La Warner Bros. engage  pour ecrire une premiere version du scenario mais Ha...  \n",
       "Le combientième canal à bief de partage de France est le canal de Briare ? premier             En 1642 a été inauguré le canal de Briare, \\textbf{premier} canal à bief de ...  \n",
       "                                                                           premier             Le canal de Briare permet a la navigation de relier les fleuves de Loire et ...  \n",
       "                                                                           premier             Le canal de Briare permet a la navigation de relier les fleuves de Loire et ...  \n",
       "                                                                           premier             Mis en service en 1642, le canal de Briare est un des plus anciens canaux de...  \n",
       "Quel est le travail de Jack Ryan ?                                         analyste de la CIA  En 1989, il se voit proposer le rôle de Jack Ryan pour jouer dans À la pours...  \n",
       "                                                                           analyste de la CIA  Du cote americain, Jack Ryan, un analyste de la CIA qui connait Ramius, en a...  \n",
       "                                                                           analyste de la CIA  Un ancien analyste de la CIA, Jack Ryan, est desormais professeur a l'Ecole ...  \n",
       "                                                                           analyste de la CIA  Et en tant qu'acteur : il revient aux series televisees pour preter ses trai...  "
      ]
     },
     "execution_count": 79,
     "metadata": {},
     "output_type": "execute_result"
    }
   ],
   "source": [
    "sample_data.set_index([\"Question\", \"Gold Answer\"])"
   ]
  },
  {
   "cell_type": "code",
   "execution_count": null,
   "metadata": {},
   "outputs": [],
   "source": []
  }
 ],
 "metadata": {
  "kernelspec": {
   "display_name": "Python 3.9.7 ('.venv': poetry)",
   "language": "python",
   "name": "python3"
  },
  "language_info": {
   "codemirror_mode": {
    "name": "ipython",
    "version": 3
   },
   "file_extension": ".py",
   "mimetype": "text/x-python",
   "name": "python",
   "nbconvert_exporter": "python",
   "pygments_lexer": "ipython3",
   "version": "3.9.7"
  },
  "toc": {
   "base_numbering": 1,
   "nav_menu": {},
   "number_sections": true,
   "sideBar": true,
   "skip_h1_title": false,
   "title_cell": "Table of Contents",
   "title_sidebar": "Contents",
   "toc_cell": false,
   "toc_position": {},
   "toc_section_display": true,
   "toc_window_display": true
  },
  "vscode": {
   "interpreter": {
    "hash": "6e18561f9b3508842a7e27c31e07753b72154ec003d59bf44fbebcfef9c0c06c"
   }
  }
 },
 "nbformat": 4,
 "nbformat_minor": 2
}
