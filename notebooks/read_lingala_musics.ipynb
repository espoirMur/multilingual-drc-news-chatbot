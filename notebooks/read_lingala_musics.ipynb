{
 "cells": [
  {
   "cell_type": "code",
   "execution_count": 1,
   "id": "e880b36a",
   "metadata": {},
   "outputs": [],
   "source": [
    "import pandas as pd"
   ]
  },
  {
   "cell_type": "code",
   "execution_count": 4,
   "id": "041f3bd0",
   "metadata": {},
   "outputs": [],
   "source": [
    "lingala_songs = pd.read_csv(\"https://raw.githubusercontent.com/espoirMur/songs_lyrics_webscrap/master/data/all_data.csv\", sep=\"|\")"
   ]
  },
  {
   "cell_type": "code",
   "execution_count": 7,
   "id": "5f084f4c",
   "metadata": {},
   "outputs": [],
   "source": [
    "from pathlib import Path"
   ]
  },
  {
   "cell_type": "code",
   "execution_count": 14,
   "id": "4e03e162",
   "metadata": {},
   "outputs": [
    {
     "data": {
      "text/plain": [
       "PosixPath('/Users/es.py/Projects/Personal/multilingual-drc-news-chatbot/data/processed')"
      ]
     },
     "execution_count": 14,
     "metadata": {},
     "output_type": "execute_result"
    }
   ],
   "source": [
    "Path.cwd().parent.joinpath('data', 'processed')"
   ]
  },
  {
   "cell_type": "code",
   "execution_count": 15,
   "id": "d0ec9f1d",
   "metadata": {},
   "outputs": [],
   "source": [
    "output_path = Path.cwd().parent.joinpath('data', 'processed')"
   ]
  },
  {
   "cell_type": "code",
   "execution_count": 19,
   "id": "a091032e",
   "metadata": {},
   "outputs": [],
   "source": [
    "lingala_songs.lingala.to_csv(output_path.joinpath('songs_lingala.txt'), index=False, header=False)"
   ]
  },
  {
   "cell_type": "markdown",
   "id": "2d1e8830",
   "metadata": {},
   "source": [
    "remove names at the begining of a lyrics script"
   ]
  },
  {
   "cell_type": "code",
   "execution_count": 23,
   "id": "ac54bc42",
   "metadata": {},
   "outputs": [],
   "source": [
    "lingala_songs.lingala = lingala_songs.lingala.str.replace('\"', '').str.replace(r'^\"{0,}\\w+\\s{0,}:', \"\")"
   ]
  },
  {
   "cell_type": "code",
   "execution_count": 24,
   "id": "dd6effb8",
   "metadata": {},
   "outputs": [],
   "source": [
    "lingala_songs.lingala.to_csv(output_path.joinpath('songs_lingala.txt'), index=False, header=False)"
   ]
  },
  {
   "cell_type": "code",
   "execution_count": null,
   "id": "7e3f9ffc",
   "metadata": {},
   "outputs": [],
   "source": []
  }
 ],
 "metadata": {
  "kernelspec": {
   "display_name": "nlp-course-venv-v2",
   "language": "python",
   "name": "nlp-course-venv-v2"
  },
  "language_info": {
   "codemirror_mode": {
    "name": "ipython",
    "version": 3
   },
   "file_extension": ".py",
   "mimetype": "text/x-python",
   "name": "python",
   "nbconvert_exporter": "python",
   "pygments_lexer": "ipython3",
   "version": "3.6.5"
  }
 },
 "nbformat": 4,
 "nbformat_minor": 5
}
